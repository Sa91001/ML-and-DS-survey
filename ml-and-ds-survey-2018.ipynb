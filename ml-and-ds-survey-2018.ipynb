{
 "cells": [
  {
   "cell_type": "code",
   "execution_count": 1,
   "metadata": {
    "_kg_hide-input": true,
    "_uuid": "f4fb0428ac78663eaef31314ba766722b25a1208",
    "execution": {
     "iopub.execute_input": "2022-12-14T05:26:53.032884Z",
     "iopub.status.busy": "2022-12-14T05:26:53.032215Z",
     "iopub.status.idle": "2022-12-14T05:26:56.172838Z",
     "shell.execute_reply": "2022-12-14T05:26:56.171602Z",
     "shell.execute_reply.started": "2022-12-14T05:26:53.032833Z"
    }
   },
   "outputs": [
    {
     "data": {
      "text/html": [
       "<script type=\"text/javascript\">window.PlotlyConfig = {MathJaxConfig: 'local'};</script><script type=\"text/javascript\">if (window.MathJax) {MathJax.Hub.Config({SVG: {font: \"STIX-Web\"}});}</script><script>requirejs.config({paths: { 'plotly': ['https://cdn.plot.ly/plotly-latest.min']},});if(!window._Plotly) {require(['plotly'],function(plotly) {window._Plotly=plotly;});}</script>"
      ],
      "text/vnd.plotly.v1+html": [
       "<script type=\"text/javascript\">window.PlotlyConfig = {MathJaxConfig: 'local'};</script><script type=\"text/javascript\">if (window.MathJax) {MathJax.Hub.Config({SVG: {font: \"STIX-Web\"}});}</script><script>requirejs.config({paths: { 'plotly': ['https://cdn.plot.ly/plotly-latest.min']},});if(!window._Plotly) {require(['plotly'],function(plotly) {window._Plotly=plotly;});}</script>"
      ]
     },
     "metadata": {},
     "output_type": "display_data"
    }
   ],
   "source": [
    "import pandas as pd\n",
    "import numpy as np\n",
    "import sys\n",
    "import os\n",
    "import matplotlib.pyplot as plt\n",
    "import seaborn as sns\n",
    "import plotly.graph_objs as go\n",
    "import plotly.figure_factory as ff\n",
    "from plotly import tools\n",
    "from plotly.offline import download_plotlyjs, init_notebook_mode, plot, iplot\n",
    "init_notebook_mode(connected=True)"
   ]
  },
  {
   "cell_type": "code",
   "execution_count": 2,
   "metadata": {
    "_kg_hide-input": true,
    "_uuid": "9bf182004d39797ba24eebd3b3bc1aa9a51b7ac5",
    "execution": {
     "iopub.execute_input": "2022-12-14T05:27:31.129937Z",
     "iopub.status.busy": "2022-12-14T05:27:31.129360Z",
     "iopub.status.idle": "2022-12-14T05:27:31.148370Z",
     "shell.execute_reply": "2022-12-14T05:27:31.146089Z",
     "shell.execute_reply.started": "2022-12-14T05:27:31.129875Z"
    }
   },
   "outputs": [
    {
     "data": {
      "text/plain": [
       "['SurveySchema.csv', 'freeFormResponses.csv', 'multipleChoiceResponses.csv']"
      ]
     },
     "execution_count": 2,
     "metadata": {},
     "output_type": "execute_result"
    }
   ],
   "source": [
    "os.listdir(\"../input\")"
   ]
  },
  {
   "cell_type": "code",
   "execution_count": 3,
   "metadata": {
    "_kg_hide-input": true,
    "_uuid": "2c07a35853b231c690e40094b9c9c9afd0aebba6",
    "execution": {
     "iopub.execute_input": "2022-12-14T05:28:49.297462Z",
     "iopub.status.busy": "2022-12-14T05:28:49.297117Z",
     "iopub.status.idle": "2022-12-14T05:28:51.162732Z",
     "shell.execute_reply": "2022-12-14T05:28:51.161752Z",
     "shell.execute_reply.started": "2022-12-14T05:28:49.297398Z"
    }
   },
   "outputs": [],
   "source": [
    "multiple_df = pd.read_csv('../input/multipleChoiceResponses.csv', low_memory=False)\n",
    "free_df = pd.read_csv('../input/freeFormResponses.csv', low_memory=False)\n",
    "schema_df = pd.read_csv('../input/SurveySchema.csv', low_memory=False)"
   ]
  },
  {
   "cell_type": "code",
   "execution_count": 4,
   "metadata": {
    "_kg_hide-input": true,
    "_uuid": "d959698d807e8aaa85ec044ecb9ceb8a81487914",
    "execution": {
     "iopub.execute_input": "2022-12-14T05:28:54.531183Z",
     "iopub.status.busy": "2022-12-14T05:28:54.530824Z",
     "iopub.status.idle": "2022-12-14T05:28:54.537587Z",
     "shell.execute_reply": "2022-12-14T05:28:54.536514Z",
     "shell.execute_reply.started": "2022-12-14T05:28:54.531122Z"
    }
   },
   "outputs": [
    {
     "name": "stdout",
     "output_type": "stream",
     "text": [
      "Multiple choice response - rows: 23860 columns: 395\n",
      "Free form response - rows: 23860 columns: 35\n",
      "Survey schema - rows: 12 columns: 52\n"
     ]
    }
   ],
   "source": [
    "print(\"Multiple choice response - rows: {} columns: {}\".format(multiple_df.shape[0], multiple_df.shape[1]))\n",
    "print(\"Free form response - rows: {} columns: {}\".format(free_df.shape[0], free_df.shape[1]))\n",
    "print(\"Survey schema - rows: {} columns: {}\".format(schema_df.shape[0], schema_df.shape[1]))"
   ]
  },
  {
   "cell_type": "code",
   "execution_count": 5,
   "metadata": {
    "_kg_hide-input": true,
    "_uuid": "f01bec57ee4ef6d52a9460a7fb93e744bb8f877c",
    "execution": {
     "iopub.execute_input": "2022-12-14T05:28:58.254023Z",
     "iopub.status.busy": "2022-12-14T05:28:58.253657Z",
     "iopub.status.idle": "2022-12-14T05:28:58.434679Z",
     "shell.execute_reply": "2022-12-14T05:28:58.433501Z",
     "shell.execute_reply.started": "2022-12-14T05:28:58.253948Z"
    }
   },
   "outputs": [
    {
     "data": {
      "text/html": [
       "<div>\n",
       "<style scoped>\n",
       "    .dataframe tbody tr th:only-of-type {\n",
       "        vertical-align: middle;\n",
       "    }\n",
       "\n",
       "    .dataframe tbody tr th {\n",
       "        vertical-align: top;\n",
       "    }\n",
       "\n",
       "    .dataframe thead th {\n",
       "        text-align: right;\n",
       "    }\n",
       "</style>\n",
       "<table border=\"1\" class=\"dataframe\">\n",
       "  <thead>\n",
       "    <tr style=\"text-align: right;\">\n",
       "      <th></th>\n",
       "      <th>Time from Start to Finish (seconds)</th>\n",
       "      <th>Q1</th>\n",
       "      <th>Q1_OTHER_TEXT</th>\n",
       "      <th>Q2</th>\n",
       "      <th>Q3</th>\n",
       "      <th>Q4</th>\n",
       "      <th>Q5</th>\n",
       "      <th>Q6</th>\n",
       "      <th>Q6_OTHER_TEXT</th>\n",
       "      <th>Q7</th>\n",
       "      <th>Q7_OTHER_TEXT</th>\n",
       "      <th>Q8</th>\n",
       "      <th>Q9</th>\n",
       "      <th>Q10</th>\n",
       "      <th>Q11_Part_1</th>\n",
       "      <th>Q11_Part_2</th>\n",
       "      <th>Q11_Part_3</th>\n",
       "      <th>Q11_Part_4</th>\n",
       "      <th>Q11_Part_5</th>\n",
       "      <th>Q11_Part_6</th>\n",
       "      <th>Q11_Part_7</th>\n",
       "      <th>Q11_OTHER_TEXT</th>\n",
       "      <th>Q12_MULTIPLE_CHOICE</th>\n",
       "      <th>Q12_Part_1_TEXT</th>\n",
       "      <th>Q12_Part_2_TEXT</th>\n",
       "      <th>Q12_Part_3_TEXT</th>\n",
       "      <th>Q12_Part_4_TEXT</th>\n",
       "      <th>Q12_Part_5_TEXT</th>\n",
       "      <th>Q12_OTHER_TEXT</th>\n",
       "      <th>Q13_Part_1</th>\n",
       "      <th>Q13_Part_2</th>\n",
       "      <th>Q13_Part_3</th>\n",
       "      <th>Q13_Part_4</th>\n",
       "      <th>Q13_Part_5</th>\n",
       "      <th>Q13_Part_6</th>\n",
       "      <th>Q13_Part_7</th>\n",
       "      <th>Q13_Part_8</th>\n",
       "      <th>Q13_Part_9</th>\n",
       "      <th>Q13_Part_10</th>\n",
       "      <th>Q13_Part_11</th>\n",
       "      <th>...</th>\n",
       "      <th>Q46</th>\n",
       "      <th>Q47_Part_1</th>\n",
       "      <th>Q47_Part_2</th>\n",
       "      <th>Q47_Part_3</th>\n",
       "      <th>Q47_Part_4</th>\n",
       "      <th>Q47_Part_5</th>\n",
       "      <th>Q47_Part_6</th>\n",
       "      <th>Q47_Part_7</th>\n",
       "      <th>Q47_Part_8</th>\n",
       "      <th>Q47_Part_9</th>\n",
       "      <th>Q47_Part_10</th>\n",
       "      <th>Q47_Part_11</th>\n",
       "      <th>Q47_Part_12</th>\n",
       "      <th>Q47_Part_13</th>\n",
       "      <th>Q47_Part_14</th>\n",
       "      <th>Q47_Part_15</th>\n",
       "      <th>Q47_Part_16</th>\n",
       "      <th>Q48</th>\n",
       "      <th>Q49_Part_1</th>\n",
       "      <th>Q49_Part_2</th>\n",
       "      <th>Q49_Part_3</th>\n",
       "      <th>Q49_Part_4</th>\n",
       "      <th>Q49_Part_5</th>\n",
       "      <th>Q49_Part_6</th>\n",
       "      <th>Q49_Part_7</th>\n",
       "      <th>Q49_Part_8</th>\n",
       "      <th>Q49_Part_9</th>\n",
       "      <th>Q49_Part_10</th>\n",
       "      <th>Q49_Part_11</th>\n",
       "      <th>Q49_Part_12</th>\n",
       "      <th>Q49_OTHER_TEXT</th>\n",
       "      <th>Q50_Part_1</th>\n",
       "      <th>Q50_Part_2</th>\n",
       "      <th>Q50_Part_3</th>\n",
       "      <th>Q50_Part_4</th>\n",
       "      <th>Q50_Part_5</th>\n",
       "      <th>Q50_Part_6</th>\n",
       "      <th>Q50_Part_7</th>\n",
       "      <th>Q50_Part_8</th>\n",
       "      <th>Q50_OTHER_TEXT</th>\n",
       "    </tr>\n",
       "  </thead>\n",
       "  <tbody>\n",
       "    <tr>\n",
       "      <th>0</th>\n",
       "      <td>Duration (in seconds)</td>\n",
       "      <td>What is your gender? - Selected Choice</td>\n",
       "      <td>What is your gender? - Prefer to self-describe...</td>\n",
       "      <td>What is your age (# years)?</td>\n",
       "      <td>In which country do you currently reside?</td>\n",
       "      <td>What is the highest level of formal education ...</td>\n",
       "      <td>Which best describes your undergraduate major?...</td>\n",
       "      <td>Select the title most similar to your current ...</td>\n",
       "      <td>Select the title most similar to your current ...</td>\n",
       "      <td>In what industry is your current employer/cont...</td>\n",
       "      <td>In what industry is your current employer/cont...</td>\n",
       "      <td>How many years of experience do you have in yo...</td>\n",
       "      <td>What is your current yearly compensation (appr...</td>\n",
       "      <td>Does your current employer incorporate machine...</td>\n",
       "      <td>Select any activities that make up an importan...</td>\n",
       "      <td>Select any activities that make up an importan...</td>\n",
       "      <td>Select any activities that make up an importan...</td>\n",
       "      <td>Select any activities that make up an importan...</td>\n",
       "      <td>Select any activities that make up an importan...</td>\n",
       "      <td>Select any activities that make up an importan...</td>\n",
       "      <td>Select any activities that make up an importan...</td>\n",
       "      <td>Select any activities that make up an importan...</td>\n",
       "      <td>What is the primary tool that you use at work ...</td>\n",
       "      <td>What is the primary tool that you use at work ...</td>\n",
       "      <td>What is the primary tool that you use at work ...</td>\n",
       "      <td>What is the primary tool that you use at work ...</td>\n",
       "      <td>What is the primary tool that you use at work ...</td>\n",
       "      <td>What is the primary tool that you use at work ...</td>\n",
       "      <td>What is the primary tool that you use at work ...</td>\n",
       "      <td>Which of the following integrated development ...</td>\n",
       "      <td>Which of the following integrated development ...</td>\n",
       "      <td>Which of the following integrated development ...</td>\n",
       "      <td>Which of the following integrated development ...</td>\n",
       "      <td>Which of the following integrated development ...</td>\n",
       "      <td>Which of the following integrated development ...</td>\n",
       "      <td>Which of the following integrated development ...</td>\n",
       "      <td>Which of the following integrated development ...</td>\n",
       "      <td>Which of the following integrated development ...</td>\n",
       "      <td>Which of the following integrated development ...</td>\n",
       "      <td>Which of the following integrated development ...</td>\n",
       "      <td>...</td>\n",
       "      <td>Approximately what percent of your data projec...</td>\n",
       "      <td>What methods do you prefer for explaining and/...</td>\n",
       "      <td>What methods do you prefer for explaining and/...</td>\n",
       "      <td>What methods do you prefer for explaining and/...</td>\n",
       "      <td>What methods do you prefer for explaining and/...</td>\n",
       "      <td>What methods do you prefer for explaining and/...</td>\n",
       "      <td>What methods do you prefer for explaining and/...</td>\n",
       "      <td>What methods do you prefer for explaining and/...</td>\n",
       "      <td>What methods do you prefer for explaining and/...</td>\n",
       "      <td>What methods do you prefer for explaining and/...</td>\n",
       "      <td>What methods do you prefer for explaining and/...</td>\n",
       "      <td>What methods do you prefer for explaining and/...</td>\n",
       "      <td>What methods do you prefer for explaining and/...</td>\n",
       "      <td>What methods do you prefer for explaining and/...</td>\n",
       "      <td>What methods do you prefer for explaining and/...</td>\n",
       "      <td>What methods do you prefer for explaining and/...</td>\n",
       "      <td>What methods do you prefer for explaining and/...</td>\n",
       "      <td>Do you consider ML models to be \"black boxes\" ...</td>\n",
       "      <td>What tools and methods do you use to make your...</td>\n",
       "      <td>What tools and methods do you use to make your...</td>\n",
       "      <td>What tools and methods do you use to make your...</td>\n",
       "      <td>What tools and methods do you use to make your...</td>\n",
       "      <td>What tools and methods do you use to make your...</td>\n",
       "      <td>What tools and methods do you use to make your...</td>\n",
       "      <td>What tools and methods do you use to make your...</td>\n",
       "      <td>What tools and methods do you use to make your...</td>\n",
       "      <td>What tools and methods do you use to make your...</td>\n",
       "      <td>What tools and methods do you use to make your...</td>\n",
       "      <td>What tools and methods do you use to make your...</td>\n",
       "      <td>What tools and methods do you use to make your...</td>\n",
       "      <td>What tools and methods do you use to make your...</td>\n",
       "      <td>What barriers prevent you from making your wor...</td>\n",
       "      <td>What barriers prevent you from making your wor...</td>\n",
       "      <td>What barriers prevent you from making your wor...</td>\n",
       "      <td>What barriers prevent you from making your wor...</td>\n",
       "      <td>What barriers prevent you from making your wor...</td>\n",
       "      <td>What barriers prevent you from making your wor...</td>\n",
       "      <td>What barriers prevent you from making your wor...</td>\n",
       "      <td>What barriers prevent you from making your wor...</td>\n",
       "      <td>What barriers prevent you from making your wor...</td>\n",
       "    </tr>\n",
       "    <tr>\n",
       "      <th>1</th>\n",
       "      <td>710</td>\n",
       "      <td>Female</td>\n",
       "      <td>-1</td>\n",
       "      <td>45-49</td>\n",
       "      <td>United States of America</td>\n",
       "      <td>Doctoral degree</td>\n",
       "      <td>Other</td>\n",
       "      <td>Consultant</td>\n",
       "      <td>-1</td>\n",
       "      <td>Other</td>\n",
       "      <td>0</td>\n",
       "      <td>NaN</td>\n",
       "      <td>NaN</td>\n",
       "      <td>I do not know</td>\n",
       "      <td>Analyze and understand data to influence produ...</td>\n",
       "      <td>Build and/or run a machine learning service th...</td>\n",
       "      <td>Build and/or run the data infrastructure that ...</td>\n",
       "      <td>NaN</td>\n",
       "      <td>Do research that advances the state of the art...</td>\n",
       "      <td>NaN</td>\n",
       "      <td>NaN</td>\n",
       "      <td>-1</td>\n",
       "      <td>Cloud-based data software &amp; APIs (AWS, GCP, Az...</td>\n",
       "      <td>-1</td>\n",
       "      <td>-1</td>\n",
       "      <td>-1</td>\n",
       "      <td>-1</td>\n",
       "      <td>0</td>\n",
       "      <td>-1</td>\n",
       "      <td>Jupyter/IPython</td>\n",
       "      <td>NaN</td>\n",
       "      <td>NaN</td>\n",
       "      <td>NaN</td>\n",
       "      <td>NaN</td>\n",
       "      <td>NaN</td>\n",
       "      <td>NaN</td>\n",
       "      <td>NaN</td>\n",
       "      <td>NaN</td>\n",
       "      <td>NaN</td>\n",
       "      <td>NaN</td>\n",
       "      <td>...</td>\n",
       "      <td>NaN</td>\n",
       "      <td>NaN</td>\n",
       "      <td>NaN</td>\n",
       "      <td>NaN</td>\n",
       "      <td>NaN</td>\n",
       "      <td>NaN</td>\n",
       "      <td>NaN</td>\n",
       "      <td>NaN</td>\n",
       "      <td>NaN</td>\n",
       "      <td>NaN</td>\n",
       "      <td>NaN</td>\n",
       "      <td>NaN</td>\n",
       "      <td>NaN</td>\n",
       "      <td>NaN</td>\n",
       "      <td>NaN</td>\n",
       "      <td>NaN</td>\n",
       "      <td>NaN</td>\n",
       "      <td>NaN</td>\n",
       "      <td>NaN</td>\n",
       "      <td>NaN</td>\n",
       "      <td>NaN</td>\n",
       "      <td>NaN</td>\n",
       "      <td>NaN</td>\n",
       "      <td>NaN</td>\n",
       "      <td>NaN</td>\n",
       "      <td>NaN</td>\n",
       "      <td>NaN</td>\n",
       "      <td>NaN</td>\n",
       "      <td>NaN</td>\n",
       "      <td>NaN</td>\n",
       "      <td>-1</td>\n",
       "      <td>NaN</td>\n",
       "      <td>NaN</td>\n",
       "      <td>NaN</td>\n",
       "      <td>NaN</td>\n",
       "      <td>NaN</td>\n",
       "      <td>NaN</td>\n",
       "      <td>NaN</td>\n",
       "      <td>NaN</td>\n",
       "      <td>-1</td>\n",
       "    </tr>\n",
       "    <tr>\n",
       "      <th>2</th>\n",
       "      <td>434</td>\n",
       "      <td>Male</td>\n",
       "      <td>-1</td>\n",
       "      <td>30-34</td>\n",
       "      <td>Indonesia</td>\n",
       "      <td>Bachelor’s degree</td>\n",
       "      <td>Engineering (non-computer focused)</td>\n",
       "      <td>Other</td>\n",
       "      <td>0</td>\n",
       "      <td>Manufacturing/Fabrication</td>\n",
       "      <td>-1</td>\n",
       "      <td>5-10</td>\n",
       "      <td>10-20,000</td>\n",
       "      <td>No (we do not use ML methods)</td>\n",
       "      <td>NaN</td>\n",
       "      <td>NaN</td>\n",
       "      <td>NaN</td>\n",
       "      <td>NaN</td>\n",
       "      <td>NaN</td>\n",
       "      <td>None of these activities are an important part...</td>\n",
       "      <td>NaN</td>\n",
       "      <td>-1</td>\n",
       "      <td>Basic statistical software (Microsoft Excel, G...</td>\n",
       "      <td>1</td>\n",
       "      <td>-1</td>\n",
       "      <td>-1</td>\n",
       "      <td>-1</td>\n",
       "      <td>-1</td>\n",
       "      <td>-1</td>\n",
       "      <td>NaN</td>\n",
       "      <td>NaN</td>\n",
       "      <td>NaN</td>\n",
       "      <td>NaN</td>\n",
       "      <td>NaN</td>\n",
       "      <td>NaN</td>\n",
       "      <td>NaN</td>\n",
       "      <td>NaN</td>\n",
       "      <td>NaN</td>\n",
       "      <td>NaN</td>\n",
       "      <td>NaN</td>\n",
       "      <td>...</td>\n",
       "      <td>NaN</td>\n",
       "      <td>NaN</td>\n",
       "      <td>NaN</td>\n",
       "      <td>NaN</td>\n",
       "      <td>NaN</td>\n",
       "      <td>NaN</td>\n",
       "      <td>NaN</td>\n",
       "      <td>NaN</td>\n",
       "      <td>NaN</td>\n",
       "      <td>NaN</td>\n",
       "      <td>NaN</td>\n",
       "      <td>NaN</td>\n",
       "      <td>NaN</td>\n",
       "      <td>NaN</td>\n",
       "      <td>NaN</td>\n",
       "      <td>NaN</td>\n",
       "      <td>NaN</td>\n",
       "      <td>NaN</td>\n",
       "      <td>NaN</td>\n",
       "      <td>NaN</td>\n",
       "      <td>NaN</td>\n",
       "      <td>NaN</td>\n",
       "      <td>NaN</td>\n",
       "      <td>NaN</td>\n",
       "      <td>NaN</td>\n",
       "      <td>NaN</td>\n",
       "      <td>NaN</td>\n",
       "      <td>NaN</td>\n",
       "      <td>NaN</td>\n",
       "      <td>NaN</td>\n",
       "      <td>-1</td>\n",
       "      <td>NaN</td>\n",
       "      <td>NaN</td>\n",
       "      <td>NaN</td>\n",
       "      <td>NaN</td>\n",
       "      <td>NaN</td>\n",
       "      <td>NaN</td>\n",
       "      <td>NaN</td>\n",
       "      <td>NaN</td>\n",
       "      <td>-1</td>\n",
       "    </tr>\n",
       "  </tbody>\n",
       "</table>\n",
       "</div>"
      ],
      "text/plain": [
       "  Time from Start to Finish (seconds)                        ...                                                             Q50_OTHER_TEXT\n",
       "0               Duration (in seconds)                        ...                          What barriers prevent you from making your wor...\n",
       "1                                 710                        ...                                                                         -1\n",
       "2                                 434                        ...                                                                         -1\n",
       "\n",
       "[3 rows x 395 columns]"
      ]
     },
     "execution_count": 5,
     "metadata": {},
     "output_type": "execute_result"
    }
   ],
   "source": [
    "multiple_df.head(3)"
   ]
  },
  {
   "cell_type": "code",
   "execution_count": 6,
   "metadata": {
    "_uuid": "085099eaafdcd402474f35c9751b42a96dbd4253",
    "execution": {
     "iopub.execute_input": "2022-12-14T05:29:00.858073Z",
     "iopub.status.busy": "2022-12-14T05:29:00.857267Z",
     "iopub.status.idle": "2022-12-14T05:29:00.937777Z",
     "shell.execute_reply": "2022-12-14T05:29:00.935723Z",
     "shell.execute_reply.started": "2022-12-14T05:29:00.857586Z"
    }
   },
   "outputs": [
    {
     "data": {
      "text/html": [
       "<div>\n",
       "<style scoped>\n",
       "    .dataframe tbody tr th:only-of-type {\n",
       "        vertical-align: middle;\n",
       "    }\n",
       "\n",
       "    .dataframe tbody tr th {\n",
       "        vertical-align: top;\n",
       "    }\n",
       "\n",
       "    .dataframe thead th {\n",
       "        text-align: right;\n",
       "    }\n",
       "</style>\n",
       "<table border=\"1\" class=\"dataframe\">\n",
       "  <thead>\n",
       "    <tr style=\"text-align: right;\">\n",
       "      <th></th>\n",
       "      <th>Q11_OTHER_TEXT</th>\n",
       "      <th>Q12_OTHER_TEXT</th>\n",
       "      <th>Q12_Part_1_TEXT</th>\n",
       "      <th>Q12_Part_2_TEXT</th>\n",
       "      <th>Q12_Part_3_TEXT</th>\n",
       "      <th>Q12_Part_4_TEXT</th>\n",
       "      <th>Q12_Part_5_TEXT</th>\n",
       "      <th>Q13_OTHER_TEXT</th>\n",
       "      <th>Q14_OTHER_TEXT</th>\n",
       "      <th>Q15_OTHER_TEXT</th>\n",
       "      <th>Q16_OTHER_TEXT</th>\n",
       "      <th>Q17_OTHER_TEXT</th>\n",
       "      <th>Q18_OTHER_TEXT</th>\n",
       "      <th>Q19_OTHER_TEXT</th>\n",
       "      <th>Q1_OTHER_TEXT</th>\n",
       "      <th>Q20_OTHER_TEXT</th>\n",
       "      <th>Q21_OTHER_TEXT</th>\n",
       "      <th>Q22_OTHER_TEXT</th>\n",
       "      <th>Q27_OTHER_TEXT</th>\n",
       "      <th>Q28_OTHER_TEXT</th>\n",
       "      <th>Q29_OTHER_TEXT</th>\n",
       "      <th>Q30_OTHER_TEXT</th>\n",
       "      <th>Q31_OTHER_TEXT</th>\n",
       "      <th>Q32_OTHER</th>\n",
       "      <th>Q33_OTHER_TEXT</th>\n",
       "      <th>Q34_OTHER_TEXT</th>\n",
       "      <th>Q35_OTHER_TEXT</th>\n",
       "      <th>Q36_OTHER_TEXT</th>\n",
       "      <th>Q37_OTHER_TEXT</th>\n",
       "      <th>Q38_OTHER_TEXT</th>\n",
       "      <th>Q42_OTHER_TEXT</th>\n",
       "      <th>Q49_OTHER_TEXT</th>\n",
       "      <th>Q50_OTHER_TEXT</th>\n",
       "      <th>Q6_OTHER_TEXT</th>\n",
       "      <th>Q7_OTHER_TEXT</th>\n",
       "    </tr>\n",
       "  </thead>\n",
       "  <tbody>\n",
       "    <tr>\n",
       "      <th>0</th>\n",
       "      <td>Select any activities that make up an importan...</td>\n",
       "      <td>What is the primary tool that you use at work ...</td>\n",
       "      <td>What is the primary tool that you use at work ...</td>\n",
       "      <td>What is the primary tool that you use at work ...</td>\n",
       "      <td>What is the primary tool that you use at work ...</td>\n",
       "      <td>What is the primary tool that you use at work ...</td>\n",
       "      <td>What is the primary tool that you use at work ...</td>\n",
       "      <td>Which of the following integrated development ...</td>\n",
       "      <td>Which of the following hosted notebooks have y...</td>\n",
       "      <td>Which of the following cloud computing service...</td>\n",
       "      <td>What programming languages do you use on a reg...</td>\n",
       "      <td>What specific programming language do you use ...</td>\n",
       "      <td>What programming language would you recommend ...</td>\n",
       "      <td>What machine learning frameworks have you used...</td>\n",
       "      <td>What is your gender? - Prefer to self-describe...</td>\n",
       "      <td>Of the choices that you selected in the previo...</td>\n",
       "      <td>What data visualization libraries or tools hav...</td>\n",
       "      <td>Of the choices that you selected in the previo...</td>\n",
       "      <td>Which of the following cloud computing product...</td>\n",
       "      <td>Which of the following machine learning produc...</td>\n",
       "      <td>Which of the following relational database pro...</td>\n",
       "      <td>Which of the following big data and analytics ...</td>\n",
       "      <td>Which types of data do you currently interact ...</td>\n",
       "      <td>What is the type of data that you currently in...</td>\n",
       "      <td>Where do you find public datasets? (Select all...</td>\n",
       "      <td>During a typical data science project at work ...</td>\n",
       "      <td>What percentage of your current machine learni...</td>\n",
       "      <td>On which online platforms have you begun or co...</td>\n",
       "      <td>On which online platform have you spent the mo...</td>\n",
       "      <td>Who/what are your favorite media sources that ...</td>\n",
       "      <td>What metrics do you or your organization use t...</td>\n",
       "      <td>What tools and methods do you use to make your...</td>\n",
       "      <td>What barriers prevent you from making your wor...</td>\n",
       "      <td>Select the title most similar to your current ...</td>\n",
       "      <td>In what industry is your current employer/cont...</td>\n",
       "    </tr>\n",
       "    <tr>\n",
       "      <th>1</th>\n",
       "      <td>NaN</td>\n",
       "      <td>NaN</td>\n",
       "      <td>NaN</td>\n",
       "      <td>NaN</td>\n",
       "      <td>NaN</td>\n",
       "      <td>Jupyter Notebooks, Pycharm, Intelijidea</td>\n",
       "      <td>NaN</td>\n",
       "      <td>NaN</td>\n",
       "      <td>NaN</td>\n",
       "      <td>NaN</td>\n",
       "      <td>NaN</td>\n",
       "      <td>NaN</td>\n",
       "      <td>NaN</td>\n",
       "      <td>NaN</td>\n",
       "      <td>NaN</td>\n",
       "      <td>NaN</td>\n",
       "      <td>NaN</td>\n",
       "      <td>NaN</td>\n",
       "      <td>NaN</td>\n",
       "      <td>NaN</td>\n",
       "      <td>NaN</td>\n",
       "      <td>NaN</td>\n",
       "      <td>NaN</td>\n",
       "      <td>NaN</td>\n",
       "      <td>NaN</td>\n",
       "      <td>0.0</td>\n",
       "      <td>NaN</td>\n",
       "      <td>mlcourse.ai</td>\n",
       "      <td>NaN</td>\n",
       "      <td>ods.ai</td>\n",
       "      <td>NaN</td>\n",
       "      <td>NaN</td>\n",
       "      <td>NaN</td>\n",
       "      <td>NaN</td>\n",
       "      <td>NaN</td>\n",
       "    </tr>\n",
       "    <tr>\n",
       "      <th>2</th>\n",
       "      <td>NaN</td>\n",
       "      <td>NaN</td>\n",
       "      <td>NaN</td>\n",
       "      <td>NaN</td>\n",
       "      <td>NaN</td>\n",
       "      <td>NaN</td>\n",
       "      <td>NaN</td>\n",
       "      <td>NaN</td>\n",
       "      <td>NaN</td>\n",
       "      <td>NaN</td>\n",
       "      <td>NaN</td>\n",
       "      <td>NaN</td>\n",
       "      <td>NaN</td>\n",
       "      <td>NaN</td>\n",
       "      <td>NaN</td>\n",
       "      <td>NaN</td>\n",
       "      <td>NaN</td>\n",
       "      <td>NaN</td>\n",
       "      <td>NaN</td>\n",
       "      <td>NaN</td>\n",
       "      <td>NaN</td>\n",
       "      <td>NaN</td>\n",
       "      <td>NaN</td>\n",
       "      <td>NaN</td>\n",
       "      <td>NaN</td>\n",
       "      <td>NaN</td>\n",
       "      <td>NaN</td>\n",
       "      <td>NaN</td>\n",
       "      <td>NaN</td>\n",
       "      <td>NaN</td>\n",
       "      <td>NaN</td>\n",
       "      <td>NaN</td>\n",
       "      <td>NaN</td>\n",
       "      <td>NaN</td>\n",
       "      <td>NaN</td>\n",
       "    </tr>\n",
       "  </tbody>\n",
       "</table>\n",
       "</div>"
      ],
      "text/plain": [
       "                                      Q11_OTHER_TEXT                        ...                                                              Q7_OTHER_TEXT\n",
       "0  Select any activities that make up an importan...                        ...                          In what industry is your current employer/cont...\n",
       "1                                                NaN                        ...                                                                        NaN\n",
       "2                                                NaN                        ...                                                                        NaN\n",
       "\n",
       "[3 rows x 35 columns]"
      ]
     },
     "execution_count": 6,
     "metadata": {},
     "output_type": "execute_result"
    }
   ],
   "source": [
    "free_df.head(3)"
   ]
  },
  {
   "cell_type": "code",
   "execution_count": 7,
   "metadata": {
    "_kg_hide-input": true,
    "_uuid": "2271d523965dda5011e594a93a0635c3519c4312",
    "execution": {
     "iopub.execute_input": "2022-12-14T05:34:41.617825Z",
     "iopub.status.busy": "2022-12-14T05:34:41.617483Z",
     "iopub.status.idle": "2022-12-14T05:34:41.623639Z",
     "shell.execute_reply": "2022-12-14T05:34:41.622332Z",
     "shell.execute_reply.started": "2022-12-14T05:34:41.617783Z"
    },
    "scrolled": true
   },
   "outputs": [],
   "source": [
    "def missing_data(data):\n",
    "    total = data.isnull().sum().sort_values(ascending = False)\n",
    "    percent = (data.isnull().sum()/data.isnull().count()*100).sort_values(ascending = False)\n",
    "    return pd.concat([total, percent], axis=1, keys=['Total', 'Percent'])"
   ]
  },
  {
   "cell_type": "code",
   "execution_count": 8,
   "metadata": {
    "_kg_hide-input": true,
    "_uuid": "9eb90b81a7eb1467a0a8df6e11483a79b966927c",
    "execution": {
     "iopub.execute_input": "2022-12-14T05:34:44.355763Z",
     "iopub.status.busy": "2022-12-14T05:34:44.355400Z",
     "iopub.status.idle": "2022-12-14T05:34:45.974026Z",
     "shell.execute_reply": "2022-12-14T05:34:45.973204Z",
     "shell.execute_reply.started": "2022-12-14T05:34:44.355698Z"
    }
   },
   "outputs": [],
   "source": [
    "df = missing_data(multiple_df)"
   ]
  },
  {
   "cell_type": "code",
   "execution_count": 9,
   "metadata": {
    "_kg_hide-input": true,
    "_uuid": "96c03ec910863ce4c6eb4136eb0d869317c86421",
    "execution": {
     "iopub.execute_input": "2022-12-14T05:34:48.698633Z",
     "iopub.status.busy": "2022-12-14T05:34:48.698324Z",
     "iopub.status.idle": "2022-12-14T05:34:48.707427Z",
     "shell.execute_reply": "2022-12-14T05:34:48.706191Z",
     "shell.execute_reply.started": "2022-12-14T05:34:48.698588Z"
    }
   },
   "outputs": [],
   "source": [
    "def plot_percent_of_available_data(title):\n",
    "    trace = go.Box(\n",
    "        x = df['Percent'],\n",
    "        name=\"Percent\",\n",
    "         marker=dict(\n",
    "                    color='rgba(238,23,11,0.5)',\n",
    "                    line=dict(\n",
    "                        color='tomato',\n",
    "                        width=0.9),\n",
    "                ),\n",
    "         orientation='h')\n",
    "    data = [trace]\n",
    "    layout = dict(title = 'Percent of available data  - all columns ({})'.format(title),\n",
    "              xaxis = dict(title = 'Percent', showticklabels=True), \n",
    "              yaxis = dict(title = 'All columns'),\n",
    "              hovermode = 'closest',\n",
    "             )\n",
    "    fig = dict(data=data, layout=layout)\n",
    "    iplot(fig, filename='percent')"
   ]
  },
  {
   "cell_type": "code",
   "execution_count": 10,
   "metadata": {
    "_kg_hide-input": true,
    "_uuid": "419d6c0d330605e15e8e79b4ca8766c6dfe90ef8",
    "execution": {
     "iopub.execute_input": "2022-12-14T05:34:52.635056Z",
     "iopub.status.busy": "2022-12-14T05:34:52.634689Z",
     "iopub.status.idle": "2022-12-14T05:34:54.225063Z",
     "shell.execute_reply": "2022-12-14T05:34:54.223463Z",
     "shell.execute_reply.started": "2022-12-14T05:34:52.634992Z"
    }
   },
   "outputs": [
    {
     "data": {
      "application/vnd.plotly.v1+json": {
       "config": {
        "linkText": "Export to plot.ly",
        "plotlyServerURL": "https://plot.ly",
        "showLink": true
       },
       "data": [
        {
         "marker": {
          "color": "rgba(238,23,11,0.5)",
          "line": {
           "color": "tomato",
           "width": 0.9
          }
         },
         "name": "Percent",
         "orientation": "h",
         "type": "box",
         "uid": "2ff9a9bf-a08c-4f4a-857f-c80e27b1412a",
         "x": [
          99.99580888516346,
          99.99580888516346,
          99.92455993294216,
          99.86588432523051,
          99.83654652137469,
          99.77367979882649,
          99.74853310980721,
          99.74015088013411,
          99.74015088013411,
          99.71919530595137,
          99.71500419111483,
          99.69823973176865,
          99.65632858340318,
          99.64375523889355,
          99.62699077954737,
          99.56412405699916,
          99.50544844928751,
          99.50125733445097,
          99.49706621961441,
          99.49706621961441,
          99.49706621961441,
          99.49287510477787,
          99.47191953059514,
          99.46353730092204,
          99.45515507124895,
          99.45096395641241,
          99.45096395641241,
          99.4425817267393,
          99.42162615255657,
          99.41743503772004,
          99.40486169321039,
          99.33361274098911,
          99.32942162615255,
          99.32523051131601,
          99.31265716680637,
          99.30846605196983,
          99.27493713327745,
          99.26655490360436,
          99.2246437552389,
          99.17435037720034,
          99.16177703269071,
          99.11986588432524,
          99.11148365465213,
          99.10729253981559,
          99.10729253981559,
          99.10729253981559,
          99.10310142497904,
          99.07795473595976,
          99.06538139145013,
          99.06119027661357,
          99.03185247275775,
          99.0276613579212,
          99.00670578373847,
          99.00251466890194,
          98.99413243922884,
          98.99413243922884,
          98.9731768650461,
          98.9731768650461,
          98.95641240569991,
          98.94803017602682,
          98.93964794635373,
          98.92707460184408,
          98.9103101424979,
          98.9103101424979,
          98.88097233864208,
          98.82648784576698,
          98.80972338642079,
          98.80972338642079,
          98.79715004191115,
          98.77619446772842,
          98.75943000838222,
          98.74266554903605,
          98.67979882648784,
          98.67141659681475,
          98.64626990779547,
          98.61693210393965,
          98.60435875943001,
          98.60016764459345,
          98.59597652975691,
          98.56244761106454,
          98.54987426655491,
          98.48281642917016,
          98.39061190276614,
          98.38222967309305,
          98.36546521374686,
          98.34450963956412,
          98.2984073763621,
          98.23134953897737,
          98.18524727577535,
          98.11399832355406,
          98.11399832355406,
          98.0720871751886,
          98.06370494551551,
          98.0176026823135,
          98.0092204526404,
          97.98407376362113,
          97.95892707460185,
          97.94635373009221,
          97.92120704107292,
          97.84576697401509,
          97.83738474434199,
          97.81642917015925,
          97.80804694048616,
          97.78290025146688,
          97.7745180217938,
          97.74937133277452,
          97.72422464375524,
          97.69488683989941,
          97.66974015088013,
          97.63621123218776,
          97.54400670578374,
          97.50628667225482,
          97.49371332774518,
          97.46437552388936,
          97.41827326068734,
          97.4140821458508,
          97.39312657166806,
          97.38893545683152,
          97.38055322715843,
          97.38055322715843,
          97.38055322715843,
          97.21290863369656,
          97.20871751886003,
          97.19614417435038,
          97.18357082984073,
          97.13327745180219,
          97.10393964794636,
          97.02849958088852,
          96.93629505448449,
          96.9279128248114,
          96.91114836546521,
          96.87761944677284,
          96.81894383906119,
          96.79798826487846,
          96.78541492036882,
          96.77703269069573,
          96.74350377200335,
          96.69321039396479,
          96.60100586756077,
          96.5129924559933,
          96.39983235540653,
          96.3411567476949,
          96.23218776194467,
          96.11902766135792,
          96.04777870913664,
          96.00167644593462,
          95.86756077116513,
          95.80469404861694,
          95.75020955574183,
          95.64962279966471,
          95.63704945515508,
          95.5867560771165,
          95.57837384744342,
          95.55741827326068,
          95.38977367979882,
          95.38139145012573,
          95.0,
          94.97066219614418,
          94.94970662196144,
          94.9455155071249,
          94.93294216261525,
          94.78206202849958,
          94.72757753562448,
          94.65632858340318,
          94.5305951383068,
          94.51802179379715,
          94.51802179379715,
          94.32103939647946,
          94.2875104777871,
          94.24979044425818,
          94.20368818105615,
          94.19949706621962,
          93.89354568315171,
          93.80553227158424,
          93.75943000838222,
          93.5498742665549,
          93.52891869237217,
          93.45766974015089,
          93.41575859178542,
          92.99664710813076,
          92.90863369656329,
          92.90863369656329,
          92.15423302598491,
          92.00335289186924,
          91.94467728415758,
          91.81475272422465,
          91.71416596814753,
          91.56328583403184,
          91.5129924559933,
          91.50041911148365,
          91.38306789606035,
          91.3327745180218,
          91.1986588432523,
          91.17770326906958,
          90.98910310142499,
          90.75440067057838,
          90.69572506286673,
          90.69153394803018,
          90.58675607711652,
          89.8742665549036,
          89.51802179379715,
          89.30008382229673,
          88.9815590947192,
          88.88097233864208,
          88.78876781223806,
          88.76362112321877,
          88.64626990779547,
          88.29002514668902,
          88.22715842414081,
          87.7661357921207,
          87.65297569153395,
          87.43503772003352,
          87.21290863369656,
          87.17518860016764,
          86.99916177703268,
          86.98658843252305,
          86.93210393964794,
          86.90276613579212,
          86.84409052808047,
          86.82732606873428,
          86.3788767812238,
          86.17770326906957,
          85.8466051969824,
          85.51131601005868,
          85.44844928751047,
          85.32271584241408,
          85.19279128248114,
          85.03772003352891,
          84.8742665549036,
          84.74434199497067,
          84.64375523889355,
          84.63537300922044,
          84.58927074601844,
          84.55574182732607,
          84.47191953059514,
          84.36714165968148,
          84.04861693210394,
          83.96060352053645,
          83.85163453478626,
          83.76781223805533,
          83.62531433361275,
          83.23554065381391,
          83.22296730930428,
          83.08046940486169,
          82.79966471081308,
          82.2254819782062,
          82.20452640402347,
          81.84828164291702,
          81.7476948868399,
          81.69740150880133,
          81.62615255658004,
          80.85917854149204,
          80.65800502933782,
          80.65381391450126,
          80.13830678960603,
          80.05867560771165,
          79.94970662196145,
          79.39228834870076,
          79.31684828164292,
          78.99413243922884,
          78.69656328583403,
          78.57502095557419,
          78.09723386420788,
          78.06370494551551,
          77.79128248113997,
          77.61944677284157,
          77.48952221290864,
          77.41827326068734,
          77.40989103101425,
          77.29673093042749,
          77.29253981559094,
          77.02430846605198,
          76.68063704945516,
          76.64710813076279,
          76.63453478625314,
          76.60938809723386,
          76.53813914501258,
          76.37468566638725,
          76.22799664710813,
          75.8466051969824,
          74.98742665549037,
          74.91198658843253,
          74.85331098072086,
          74.67309304274937,
          74.53478625314334,
          74.06119027661357,
          72.84576697401509,
          71.97820620284996,
          70.6035205364627,
          70.40653813914501,
          70.22632020117351,
          69.68147527242246,
          69.00670578373848,
          68.7300922045264,
          68.15590947191953,
          68.1265716680637,
          67.51047778709136,
          67.40989103101424,
          67.39312657166806,
          67.38474434199497,
          67.17518860016764,
          66.24895222129086,
          65.89689857502096,
          65.84241408214585,
          65.73344509639564,
          65.34786253143336,
          64.72338642078793,
          64.35875943000838,
          63.411567476948875,
          62.166806370494555,
          60.046102263202016,
          59.46772841575859,
          58.16429170159262,
          53.792958927074594,
          48.93126571668064,
          48.65884325230511,
          45.55741827326069,
          45.01257334450964,
          44.300083822296735,
          43.968985750209555,
          43.86839899413244,
          41.83151718357083,
          41.27829002514669,
          37.397317686504614,
          37.397317686504614,
          37.397317686504614,
          36.1986588432523,
          34.14920368818105,
          34.006705783738475,
          34.006705783738475,
          34.006705783738475,
          34.006705783738475,
          34.006705783738475,
          34.006705783738475,
          33.44509639564124,
          33.202011735121545,
          33.202011735121545,
          33.202011735121545,
          33.202011735121545,
          33.202011735121545,
          33.202011735121545,
          33.02598491198659,
          33.02598491198659,
          22.54400670578374,
          22.497904442581724,
          22.321877619446774,
          22.26320201173512,
          21.25314333612741,
          19.534786253143334,
          15.39815590947192,
          13.369656328583405,
          11.559094719195306,
          9.111483654652137,
          4.019279128248114,
          3.8222967309304274,
          1.7644593461860856,
          0.0,
          0.0,
          0.0,
          0.0,
          0.0,
          0.0,
          0.0,
          0.0,
          0.0,
          0.0,
          0.0,
          0.0,
          0.0,
          0.0,
          0.0,
          0.0,
          0.0,
          0.0,
          0.0,
          0.0,
          0.0,
          0.0,
          0.0,
          0.0,
          0.0,
          0.0,
          0.0,
          0.0,
          0.0,
          0.0,
          0.0,
          0.0,
          0.0,
          0.0,
          0.0,
          0.0,
          0.0,
          0.0,
          0.0
         ]
        }
       ],
       "layout": {
        "hovermode": "closest",
        "title": "Percent of available data  - all columns (multiple_df)",
        "xaxis": {
         "showticklabels": true,
         "title": "Percent"
        },
        "yaxis": {
         "title": "All columns"
        }
       }
      },
      "text/html": [
       "<div id=\"42c8a2c0-bda2-4d89-a095-44720ac77036\" style=\"height: 525px; width: 100%;\" class=\"plotly-graph-div\"></div><script type=\"text/javascript\">require([\"plotly\"], function(Plotly) { window.PLOTLYENV=window.PLOTLYENV || {};window.PLOTLYENV.BASE_URL=\"https://plot.ly\";Plotly.newPlot(\"42c8a2c0-bda2-4d89-a095-44720ac77036\", [{\"marker\": {\"color\": \"rgba(238,23,11,0.5)\", \"line\": {\"color\": \"tomato\", \"width\": 0.9}}, \"name\": \"Percent\", \"orientation\": \"h\", \"x\": [99.99580888516346, 99.99580888516346, 99.92455993294216, 99.86588432523051, 99.83654652137469, 99.77367979882649, 99.74853310980721, 99.74015088013411, 99.74015088013411, 99.71919530595137, 99.71500419111483, 99.69823973176865, 99.65632858340318, 99.64375523889355, 99.62699077954737, 99.56412405699916, 99.50544844928751, 99.50125733445097, 99.49706621961441, 99.49706621961441, 99.49706621961441, 99.49287510477787, 99.47191953059514, 99.46353730092204, 99.45515507124895, 99.45096395641241, 99.45096395641241, 99.4425817267393, 99.42162615255657, 99.41743503772004, 99.40486169321039, 99.33361274098911, 99.32942162615255, 99.32523051131601, 99.31265716680637, 99.30846605196983, 99.27493713327745, 99.26655490360436, 99.2246437552389, 99.17435037720034, 99.16177703269071, 99.11986588432524, 99.11148365465213, 99.10729253981559, 99.10729253981559, 99.10729253981559, 99.10310142497904, 99.07795473595976, 99.06538139145013, 99.06119027661357, 99.03185247275775, 99.0276613579212, 99.00670578373847, 99.00251466890194, 98.99413243922884, 98.99413243922884, 98.9731768650461, 98.9731768650461, 98.95641240569991, 98.94803017602682, 98.93964794635373, 98.92707460184408, 98.9103101424979, 98.9103101424979, 98.88097233864208, 98.82648784576698, 98.80972338642079, 98.80972338642079, 98.79715004191115, 98.77619446772842, 98.75943000838222, 98.74266554903605, 98.67979882648784, 98.67141659681475, 98.64626990779547, 98.61693210393965, 98.60435875943001, 98.60016764459345, 98.59597652975691, 98.56244761106454, 98.54987426655491, 98.48281642917016, 98.39061190276614, 98.38222967309305, 98.36546521374686, 98.34450963956412, 98.2984073763621, 98.23134953897737, 98.18524727577535, 98.11399832355406, 98.11399832355406, 98.0720871751886, 98.06370494551551, 98.0176026823135, 98.0092204526404, 97.98407376362113, 97.95892707460185, 97.94635373009221, 97.92120704107292, 97.84576697401509, 97.83738474434199, 97.81642917015925, 97.80804694048616, 97.78290025146688, 97.7745180217938, 97.74937133277452, 97.72422464375524, 97.69488683989941, 97.66974015088013, 97.63621123218776, 97.54400670578374, 97.50628667225482, 97.49371332774518, 97.46437552388936, 97.41827326068734, 97.4140821458508, 97.39312657166806, 97.38893545683152, 97.38055322715843, 97.38055322715843, 97.38055322715843, 97.21290863369656, 97.20871751886003, 97.19614417435038, 97.18357082984073, 97.13327745180219, 97.10393964794636, 97.02849958088852, 96.93629505448449, 96.9279128248114, 96.91114836546521, 96.87761944677284, 96.81894383906119, 96.79798826487846, 96.78541492036882, 96.77703269069573, 96.74350377200335, 96.69321039396479, 96.60100586756077, 96.5129924559933, 96.39983235540653, 96.3411567476949, 96.23218776194467, 96.11902766135792, 96.04777870913664, 96.00167644593462, 95.86756077116513, 95.80469404861694, 95.75020955574183, 95.64962279966471, 95.63704945515508, 95.5867560771165, 95.57837384744342, 95.55741827326068, 95.38977367979882, 95.38139145012573, 95.0, 94.97066219614418, 94.94970662196144, 94.9455155071249, 94.93294216261525, 94.78206202849958, 94.72757753562448, 94.65632858340318, 94.5305951383068, 94.51802179379715, 94.51802179379715, 94.32103939647946, 94.2875104777871, 94.24979044425818, 94.20368818105615, 94.19949706621962, 93.89354568315171, 93.80553227158424, 93.75943000838222, 93.5498742665549, 93.52891869237217, 93.45766974015089, 93.41575859178542, 92.99664710813076, 92.90863369656329, 92.90863369656329, 92.15423302598491, 92.00335289186924, 91.94467728415758, 91.81475272422465, 91.71416596814753, 91.56328583403184, 91.5129924559933, 91.50041911148365, 91.38306789606035, 91.3327745180218, 91.1986588432523, 91.17770326906958, 90.98910310142499, 90.75440067057838, 90.69572506286673, 90.69153394803018, 90.58675607711652, 89.8742665549036, 89.51802179379715, 89.30008382229673, 88.9815590947192, 88.88097233864208, 88.78876781223806, 88.76362112321877, 88.64626990779547, 88.29002514668902, 88.22715842414081, 87.7661357921207, 87.65297569153395, 87.43503772003352, 87.21290863369656, 87.17518860016764, 86.99916177703268, 86.98658843252305, 86.93210393964794, 86.90276613579212, 86.84409052808047, 86.82732606873428, 86.3788767812238, 86.17770326906957, 85.8466051969824, 85.51131601005868, 85.44844928751047, 85.32271584241408, 85.19279128248114, 85.03772003352891, 84.8742665549036, 84.74434199497067, 84.64375523889355, 84.63537300922044, 84.58927074601844, 84.55574182732607, 84.47191953059514, 84.36714165968148, 84.04861693210394, 83.96060352053645, 83.85163453478626, 83.76781223805533, 83.62531433361275, 83.23554065381391, 83.22296730930428, 83.08046940486169, 82.79966471081308, 82.2254819782062, 82.20452640402347, 81.84828164291702, 81.7476948868399, 81.69740150880133, 81.62615255658004, 80.85917854149204, 80.65800502933782, 80.65381391450126, 80.13830678960603, 80.05867560771165, 79.94970662196145, 79.39228834870076, 79.31684828164292, 78.99413243922884, 78.69656328583403, 78.57502095557419, 78.09723386420788, 78.06370494551551, 77.79128248113997, 77.61944677284157, 77.48952221290864, 77.41827326068734, 77.40989103101425, 77.29673093042749, 77.29253981559094, 77.02430846605198, 76.68063704945516, 76.64710813076279, 76.63453478625314, 76.60938809723386, 76.53813914501258, 76.37468566638725, 76.22799664710813, 75.8466051969824, 74.98742665549037, 74.91198658843253, 74.85331098072086, 74.67309304274937, 74.53478625314334, 74.06119027661357, 72.84576697401509, 71.97820620284996, 70.6035205364627, 70.40653813914501, 70.22632020117351, 69.68147527242246, 69.00670578373848, 68.7300922045264, 68.15590947191953, 68.1265716680637, 67.51047778709136, 67.40989103101424, 67.39312657166806, 67.38474434199497, 67.17518860016764, 66.24895222129086, 65.89689857502096, 65.84241408214585, 65.73344509639564, 65.34786253143336, 64.72338642078793, 64.35875943000838, 63.411567476948875, 62.166806370494555, 60.046102263202016, 59.46772841575859, 58.16429170159262, 53.792958927074594, 48.93126571668064, 48.65884325230511, 45.55741827326069, 45.01257334450964, 44.300083822296735, 43.968985750209555, 43.86839899413244, 41.83151718357083, 41.27829002514669, 37.397317686504614, 37.397317686504614, 37.397317686504614, 36.1986588432523, 34.14920368818105, 34.006705783738475, 34.006705783738475, 34.006705783738475, 34.006705783738475, 34.006705783738475, 34.006705783738475, 33.44509639564124, 33.202011735121545, 33.202011735121545, 33.202011735121545, 33.202011735121545, 33.202011735121545, 33.202011735121545, 33.02598491198659, 33.02598491198659, 22.54400670578374, 22.497904442581724, 22.321877619446774, 22.26320201173512, 21.25314333612741, 19.534786253143334, 15.39815590947192, 13.369656328583405, 11.559094719195306, 9.111483654652137, 4.019279128248114, 3.8222967309304274, 1.7644593461860856, 0.0, 0.0, 0.0, 0.0, 0.0, 0.0, 0.0, 0.0, 0.0, 0.0, 0.0, 0.0, 0.0, 0.0, 0.0, 0.0, 0.0, 0.0, 0.0, 0.0, 0.0, 0.0, 0.0, 0.0, 0.0, 0.0, 0.0, 0.0, 0.0, 0.0, 0.0, 0.0, 0.0, 0.0, 0.0, 0.0, 0.0, 0.0, 0.0], \"type\": \"box\", \"uid\": \"2c03dc79-26d5-4347-8442-010eb0ccd31e\"}], {\"hovermode\": \"closest\", \"title\": \"Percent of available data  - all columns (multiple_df)\", \"xaxis\": {\"showticklabels\": true, \"title\": \"Percent\"}, \"yaxis\": {\"title\": \"All columns\"}}, {\"showLink\": true, \"linkText\": \"Export to plot.ly\", \"plotlyServerURL\": \"https://plot.ly\"})});</script><script type=\"text/javascript\">window.addEventListener(\"resize\", function(){window._Plotly.Plots.resize(document.getElementById(\"42c8a2c0-bda2-4d89-a095-44720ac77036\"));});</script>"
      ],
      "text/vnd.plotly.v1+html": [
       "<div id=\"42c8a2c0-bda2-4d89-a095-44720ac77036\" style=\"height: 525px; width: 100%;\" class=\"plotly-graph-div\"></div><script type=\"text/javascript\">require([\"plotly\"], function(Plotly) { window.PLOTLYENV=window.PLOTLYENV || {};window.PLOTLYENV.BASE_URL=\"https://plot.ly\";Plotly.newPlot(\"42c8a2c0-bda2-4d89-a095-44720ac77036\", [{\"marker\": {\"color\": \"rgba(238,23,11,0.5)\", \"line\": {\"color\": \"tomato\", \"width\": 0.9}}, \"name\": \"Percent\", \"orientation\": \"h\", \"x\": [99.99580888516346, 99.99580888516346, 99.92455993294216, 99.86588432523051, 99.83654652137469, 99.77367979882649, 99.74853310980721, 99.74015088013411, 99.74015088013411, 99.71919530595137, 99.71500419111483, 99.69823973176865, 99.65632858340318, 99.64375523889355, 99.62699077954737, 99.56412405699916, 99.50544844928751, 99.50125733445097, 99.49706621961441, 99.49706621961441, 99.49706621961441, 99.49287510477787, 99.47191953059514, 99.46353730092204, 99.45515507124895, 99.45096395641241, 99.45096395641241, 99.4425817267393, 99.42162615255657, 99.41743503772004, 99.40486169321039, 99.33361274098911, 99.32942162615255, 99.32523051131601, 99.31265716680637, 99.30846605196983, 99.27493713327745, 99.26655490360436, 99.2246437552389, 99.17435037720034, 99.16177703269071, 99.11986588432524, 99.11148365465213, 99.10729253981559, 99.10729253981559, 99.10729253981559, 99.10310142497904, 99.07795473595976, 99.06538139145013, 99.06119027661357, 99.03185247275775, 99.0276613579212, 99.00670578373847, 99.00251466890194, 98.99413243922884, 98.99413243922884, 98.9731768650461, 98.9731768650461, 98.95641240569991, 98.94803017602682, 98.93964794635373, 98.92707460184408, 98.9103101424979, 98.9103101424979, 98.88097233864208, 98.82648784576698, 98.80972338642079, 98.80972338642079, 98.79715004191115, 98.77619446772842, 98.75943000838222, 98.74266554903605, 98.67979882648784, 98.67141659681475, 98.64626990779547, 98.61693210393965, 98.60435875943001, 98.60016764459345, 98.59597652975691, 98.56244761106454, 98.54987426655491, 98.48281642917016, 98.39061190276614, 98.38222967309305, 98.36546521374686, 98.34450963956412, 98.2984073763621, 98.23134953897737, 98.18524727577535, 98.11399832355406, 98.11399832355406, 98.0720871751886, 98.06370494551551, 98.0176026823135, 98.0092204526404, 97.98407376362113, 97.95892707460185, 97.94635373009221, 97.92120704107292, 97.84576697401509, 97.83738474434199, 97.81642917015925, 97.80804694048616, 97.78290025146688, 97.7745180217938, 97.74937133277452, 97.72422464375524, 97.69488683989941, 97.66974015088013, 97.63621123218776, 97.54400670578374, 97.50628667225482, 97.49371332774518, 97.46437552388936, 97.41827326068734, 97.4140821458508, 97.39312657166806, 97.38893545683152, 97.38055322715843, 97.38055322715843, 97.38055322715843, 97.21290863369656, 97.20871751886003, 97.19614417435038, 97.18357082984073, 97.13327745180219, 97.10393964794636, 97.02849958088852, 96.93629505448449, 96.9279128248114, 96.91114836546521, 96.87761944677284, 96.81894383906119, 96.79798826487846, 96.78541492036882, 96.77703269069573, 96.74350377200335, 96.69321039396479, 96.60100586756077, 96.5129924559933, 96.39983235540653, 96.3411567476949, 96.23218776194467, 96.11902766135792, 96.04777870913664, 96.00167644593462, 95.86756077116513, 95.80469404861694, 95.75020955574183, 95.64962279966471, 95.63704945515508, 95.5867560771165, 95.57837384744342, 95.55741827326068, 95.38977367979882, 95.38139145012573, 95.0, 94.97066219614418, 94.94970662196144, 94.9455155071249, 94.93294216261525, 94.78206202849958, 94.72757753562448, 94.65632858340318, 94.5305951383068, 94.51802179379715, 94.51802179379715, 94.32103939647946, 94.2875104777871, 94.24979044425818, 94.20368818105615, 94.19949706621962, 93.89354568315171, 93.80553227158424, 93.75943000838222, 93.5498742665549, 93.52891869237217, 93.45766974015089, 93.41575859178542, 92.99664710813076, 92.90863369656329, 92.90863369656329, 92.15423302598491, 92.00335289186924, 91.94467728415758, 91.81475272422465, 91.71416596814753, 91.56328583403184, 91.5129924559933, 91.50041911148365, 91.38306789606035, 91.3327745180218, 91.1986588432523, 91.17770326906958, 90.98910310142499, 90.75440067057838, 90.69572506286673, 90.69153394803018, 90.58675607711652, 89.8742665549036, 89.51802179379715, 89.30008382229673, 88.9815590947192, 88.88097233864208, 88.78876781223806, 88.76362112321877, 88.64626990779547, 88.29002514668902, 88.22715842414081, 87.7661357921207, 87.65297569153395, 87.43503772003352, 87.21290863369656, 87.17518860016764, 86.99916177703268, 86.98658843252305, 86.93210393964794, 86.90276613579212, 86.84409052808047, 86.82732606873428, 86.3788767812238, 86.17770326906957, 85.8466051969824, 85.51131601005868, 85.44844928751047, 85.32271584241408, 85.19279128248114, 85.03772003352891, 84.8742665549036, 84.74434199497067, 84.64375523889355, 84.63537300922044, 84.58927074601844, 84.55574182732607, 84.47191953059514, 84.36714165968148, 84.04861693210394, 83.96060352053645, 83.85163453478626, 83.76781223805533, 83.62531433361275, 83.23554065381391, 83.22296730930428, 83.08046940486169, 82.79966471081308, 82.2254819782062, 82.20452640402347, 81.84828164291702, 81.7476948868399, 81.69740150880133, 81.62615255658004, 80.85917854149204, 80.65800502933782, 80.65381391450126, 80.13830678960603, 80.05867560771165, 79.94970662196145, 79.39228834870076, 79.31684828164292, 78.99413243922884, 78.69656328583403, 78.57502095557419, 78.09723386420788, 78.06370494551551, 77.79128248113997, 77.61944677284157, 77.48952221290864, 77.41827326068734, 77.40989103101425, 77.29673093042749, 77.29253981559094, 77.02430846605198, 76.68063704945516, 76.64710813076279, 76.63453478625314, 76.60938809723386, 76.53813914501258, 76.37468566638725, 76.22799664710813, 75.8466051969824, 74.98742665549037, 74.91198658843253, 74.85331098072086, 74.67309304274937, 74.53478625314334, 74.06119027661357, 72.84576697401509, 71.97820620284996, 70.6035205364627, 70.40653813914501, 70.22632020117351, 69.68147527242246, 69.00670578373848, 68.7300922045264, 68.15590947191953, 68.1265716680637, 67.51047778709136, 67.40989103101424, 67.39312657166806, 67.38474434199497, 67.17518860016764, 66.24895222129086, 65.89689857502096, 65.84241408214585, 65.73344509639564, 65.34786253143336, 64.72338642078793, 64.35875943000838, 63.411567476948875, 62.166806370494555, 60.046102263202016, 59.46772841575859, 58.16429170159262, 53.792958927074594, 48.93126571668064, 48.65884325230511, 45.55741827326069, 45.01257334450964, 44.300083822296735, 43.968985750209555, 43.86839899413244, 41.83151718357083, 41.27829002514669, 37.397317686504614, 37.397317686504614, 37.397317686504614, 36.1986588432523, 34.14920368818105, 34.006705783738475, 34.006705783738475, 34.006705783738475, 34.006705783738475, 34.006705783738475, 34.006705783738475, 33.44509639564124, 33.202011735121545, 33.202011735121545, 33.202011735121545, 33.202011735121545, 33.202011735121545, 33.202011735121545, 33.02598491198659, 33.02598491198659, 22.54400670578374, 22.497904442581724, 22.321877619446774, 22.26320201173512, 21.25314333612741, 19.534786253143334, 15.39815590947192, 13.369656328583405, 11.559094719195306, 9.111483654652137, 4.019279128248114, 3.8222967309304274, 1.7644593461860856, 0.0, 0.0, 0.0, 0.0, 0.0, 0.0, 0.0, 0.0, 0.0, 0.0, 0.0, 0.0, 0.0, 0.0, 0.0, 0.0, 0.0, 0.0, 0.0, 0.0, 0.0, 0.0, 0.0, 0.0, 0.0, 0.0, 0.0, 0.0, 0.0, 0.0, 0.0, 0.0, 0.0, 0.0, 0.0, 0.0, 0.0, 0.0, 0.0], \"type\": \"box\", \"uid\": \"2c03dc79-26d5-4347-8442-010eb0ccd31e\"}], {\"hovermode\": \"closest\", \"title\": \"Percent of available data  - all columns (multiple_df)\", \"xaxis\": {\"showticklabels\": true, \"title\": \"Percent\"}, \"yaxis\": {\"title\": \"All columns\"}}, {\"showLink\": true, \"linkText\": \"Export to plot.ly\", \"plotlyServerURL\": \"https://plot.ly\"})});</script><script type=\"text/javascript\">window.addEventListener(\"resize\", function(){window._Plotly.Plots.resize(document.getElementById(\"42c8a2c0-bda2-4d89-a095-44720ac77036\"));});</script>"
      ]
     },
     "metadata": {},
     "output_type": "display_data"
    }
   ],
   "source": [
    "plot_percent_of_available_data('multiple_df')"
   ]
  },
  {
   "cell_type": "code",
   "execution_count": 11,
   "metadata": {
    "_kg_hide-input": true,
    "_uuid": "782284de917c4470da72c475a1f3823bb67125fe",
    "execution": {
     "iopub.execute_input": "2022-12-14T05:35:07.757711Z",
     "iopub.status.busy": "2022-12-14T05:35:07.757258Z",
     "iopub.status.idle": "2022-12-14T05:35:07.876727Z",
     "shell.execute_reply": "2022-12-14T05:35:07.875407Z",
     "shell.execute_reply.started": "2022-12-14T05:35:07.757626Z"
    }
   },
   "outputs": [
    {
     "data": {
      "application/vnd.plotly.v1+json": {
       "config": {
        "linkText": "Export to plot.ly",
        "plotlyServerURL": "https://plot.ly",
        "showLink": true
       },
       "data": [
        {
         "marker": {
          "color": "rgba(238,23,11,0.5)",
          "line": {
           "color": "tomato",
           "width": 0.9
          }
         },
         "name": "Percent",
         "orientation": "h",
         "type": "box",
         "uid": "c1210e82-0cf7-4730-84a5-14e33673491a",
         "x": [
          99.99580888516346,
          99.99580888516346,
          99.92455993294216,
          99.86588432523051,
          99.83654652137469,
          99.77367979882649,
          99.74853310980721,
          99.74015088013411,
          99.74015088013411,
          99.71919530595137,
          99.71500419111483,
          99.69823973176865,
          99.65632858340318,
          99.64375523889355,
          99.62699077954737,
          99.56412405699916,
          99.50544844928751,
          99.50125733445097,
          99.49706621961441,
          99.49706621961441,
          99.49706621961441,
          99.49287510477787,
          99.47191953059514,
          99.46353730092204,
          99.45515507124895,
          99.45096395641241,
          99.45096395641241,
          99.4425817267393,
          99.42162615255657,
          99.41743503772004,
          99.40486169321039,
          99.33361274098911,
          99.32942162615255,
          99.32523051131601,
          99.31265716680637,
          99.30846605196983,
          99.27493713327745,
          99.26655490360436,
          99.2246437552389,
          99.17435037720034,
          99.16177703269071,
          99.11986588432524,
          99.11148365465213,
          99.10729253981559,
          99.10729253981559,
          99.10729253981559,
          99.10310142497904,
          99.07795473595976,
          99.06538139145013,
          99.06119027661357,
          99.03185247275775,
          99.0276613579212,
          99.00670578373847,
          99.00251466890194,
          98.99413243922884,
          98.99413243922884,
          98.9731768650461,
          98.9731768650461,
          98.95641240569991,
          98.94803017602682,
          98.93964794635373,
          98.92707460184408,
          98.9103101424979,
          98.9103101424979,
          98.88097233864208,
          98.82648784576698,
          98.80972338642079,
          98.80972338642079,
          98.79715004191115,
          98.77619446772842,
          98.75943000838222,
          98.74266554903605,
          98.67979882648784,
          98.67141659681475,
          98.64626990779547,
          98.61693210393965,
          98.60435875943001,
          98.60016764459345,
          98.59597652975691,
          98.56244761106454,
          98.54987426655491,
          98.48281642917016,
          98.39061190276614,
          98.38222967309305,
          98.36546521374686,
          98.34450963956412,
          98.2984073763621,
          98.23134953897737,
          98.18524727577535,
          98.11399832355406,
          98.11399832355406,
          98.0720871751886,
          98.06370494551551,
          98.0176026823135,
          98.0092204526404,
          97.98407376362113,
          97.95892707460185,
          97.94635373009221,
          97.92120704107292,
          97.84576697401509,
          97.83738474434199,
          97.81642917015925,
          97.80804694048616,
          97.78290025146688,
          97.7745180217938,
          97.74937133277452,
          97.72422464375524,
          97.69488683989941,
          97.66974015088013,
          97.63621123218776,
          97.54400670578374,
          97.50628667225482,
          97.49371332774518,
          97.46437552388936,
          97.41827326068734,
          97.4140821458508,
          97.39312657166806,
          97.38893545683152,
          97.38055322715843,
          97.38055322715843,
          97.38055322715843,
          97.21290863369656,
          97.20871751886003,
          97.19614417435038,
          97.18357082984073,
          97.13327745180219,
          97.10393964794636,
          97.02849958088852,
          96.93629505448449,
          96.9279128248114,
          96.91114836546521,
          96.87761944677284,
          96.81894383906119,
          96.79798826487846,
          96.78541492036882,
          96.77703269069573,
          96.74350377200335,
          96.69321039396479,
          96.60100586756077,
          96.5129924559933,
          96.39983235540653,
          96.3411567476949,
          96.23218776194467,
          96.11902766135792,
          96.04777870913664,
          96.00167644593462,
          95.86756077116513,
          95.80469404861694,
          95.75020955574183,
          95.64962279966471,
          95.63704945515508,
          95.5867560771165,
          95.57837384744342,
          95.55741827326068,
          95.38977367979882,
          95.38139145012573,
          95.0,
          94.97066219614418,
          94.94970662196144,
          94.9455155071249,
          94.93294216261525,
          94.78206202849958,
          94.72757753562448,
          94.65632858340318,
          94.5305951383068,
          94.51802179379715,
          94.51802179379715,
          94.32103939647946,
          94.2875104777871,
          94.24979044425818,
          94.20368818105615,
          94.19949706621962,
          93.89354568315171,
          93.80553227158424,
          93.75943000838222,
          93.5498742665549,
          93.52891869237217,
          93.45766974015089,
          93.41575859178542,
          92.99664710813076,
          92.90863369656329,
          92.90863369656329,
          92.15423302598491,
          92.00335289186924,
          91.94467728415758,
          91.81475272422465,
          91.71416596814753,
          91.56328583403184,
          91.5129924559933,
          91.50041911148365,
          91.38306789606035,
          91.3327745180218,
          91.1986588432523,
          91.17770326906958,
          90.98910310142499,
          90.75440067057838,
          90.69572506286673,
          90.69153394803018,
          90.58675607711652,
          89.8742665549036,
          89.51802179379715,
          89.30008382229673,
          88.9815590947192,
          88.88097233864208,
          88.78876781223806,
          88.76362112321877,
          88.64626990779547,
          88.29002514668902,
          88.22715842414081,
          87.7661357921207,
          87.65297569153395,
          87.43503772003352,
          87.21290863369656,
          87.17518860016764,
          86.99916177703268,
          86.98658843252305,
          86.93210393964794,
          86.90276613579212,
          86.84409052808047,
          86.82732606873428,
          86.3788767812238,
          86.17770326906957,
          85.8466051969824,
          85.51131601005868,
          85.44844928751047,
          85.32271584241408,
          85.19279128248114,
          85.03772003352891,
          84.8742665549036,
          84.74434199497067,
          84.64375523889355,
          84.63537300922044,
          84.58927074601844,
          84.55574182732607,
          84.47191953059514,
          84.36714165968148,
          84.04861693210394,
          83.96060352053645,
          83.85163453478626,
          83.76781223805533,
          83.62531433361275,
          83.23554065381391,
          83.22296730930428,
          83.08046940486169,
          82.79966471081308,
          82.2254819782062,
          82.20452640402347,
          81.84828164291702,
          81.7476948868399,
          81.69740150880133,
          81.62615255658004,
          80.85917854149204,
          80.65800502933782,
          80.65381391450126,
          80.13830678960603,
          80.05867560771165,
          79.94970662196145,
          79.39228834870076,
          79.31684828164292,
          78.99413243922884,
          78.69656328583403,
          78.57502095557419,
          78.09723386420788,
          78.06370494551551,
          77.79128248113997,
          77.61944677284157,
          77.48952221290864,
          77.41827326068734,
          77.40989103101425,
          77.29673093042749,
          77.29253981559094,
          77.02430846605198,
          76.68063704945516,
          76.64710813076279,
          76.63453478625314,
          76.60938809723386,
          76.53813914501258,
          76.37468566638725,
          76.22799664710813,
          75.8466051969824,
          74.98742665549037,
          74.91198658843253,
          74.85331098072086,
          74.67309304274937,
          74.53478625314334,
          74.06119027661357,
          72.84576697401509,
          71.97820620284996,
          70.6035205364627,
          70.40653813914501,
          70.22632020117351,
          69.68147527242246,
          69.00670578373848,
          68.7300922045264,
          68.15590947191953,
          68.1265716680637,
          67.51047778709136,
          67.40989103101424,
          67.39312657166806,
          67.38474434199497,
          67.17518860016764,
          66.24895222129086,
          65.89689857502096,
          65.84241408214585,
          65.73344509639564,
          65.34786253143336,
          64.72338642078793,
          64.35875943000838,
          63.411567476948875,
          62.166806370494555,
          60.046102263202016,
          59.46772841575859,
          58.16429170159262,
          53.792958927074594,
          48.93126571668064,
          48.65884325230511,
          45.55741827326069,
          45.01257334450964,
          44.300083822296735,
          43.968985750209555,
          43.86839899413244,
          41.83151718357083,
          41.27829002514669,
          37.397317686504614,
          37.397317686504614,
          37.397317686504614,
          36.1986588432523,
          34.14920368818105,
          34.006705783738475,
          34.006705783738475,
          34.006705783738475,
          34.006705783738475,
          34.006705783738475,
          34.006705783738475,
          33.44509639564124,
          33.202011735121545,
          33.202011735121545,
          33.202011735121545,
          33.202011735121545,
          33.202011735121545,
          33.202011735121545,
          33.02598491198659,
          33.02598491198659,
          22.54400670578374,
          22.497904442581724,
          22.321877619446774,
          22.26320201173512,
          21.25314333612741,
          19.534786253143334,
          15.39815590947192,
          13.369656328583405,
          11.559094719195306,
          9.111483654652137,
          4.019279128248114,
          3.8222967309304274,
          1.7644593461860856,
          0.0,
          0.0,
          0.0,
          0.0,
          0.0,
          0.0,
          0.0,
          0.0,
          0.0,
          0.0,
          0.0,
          0.0,
          0.0,
          0.0,
          0.0,
          0.0,
          0.0,
          0.0,
          0.0,
          0.0,
          0.0,
          0.0,
          0.0,
          0.0,
          0.0,
          0.0,
          0.0,
          0.0,
          0.0,
          0.0,
          0.0,
          0.0,
          0.0,
          0.0,
          0.0,
          0.0,
          0.0,
          0.0,
          0.0
         ]
        }
       ],
       "layout": {
        "hovermode": "closest",
        "title": "Percent of available data  - all columns (free_df)",
        "xaxis": {
         "showticklabels": true,
         "title": "Percent"
        },
        "yaxis": {
         "title": "All columns"
        }
       }
      },
      "text/html": [
       "<div id=\"e93d780c-eba9-4930-8256-70e97990821f\" style=\"height: 525px; width: 100%;\" class=\"plotly-graph-div\"></div><script type=\"text/javascript\">require([\"plotly\"], function(Plotly) { window.PLOTLYENV=window.PLOTLYENV || {};window.PLOTLYENV.BASE_URL=\"https://plot.ly\";Plotly.newPlot(\"e93d780c-eba9-4930-8256-70e97990821f\", [{\"marker\": {\"color\": \"rgba(238,23,11,0.5)\", \"line\": {\"color\": \"tomato\", \"width\": 0.9}}, \"name\": \"Percent\", \"orientation\": \"h\", \"x\": [99.99580888516346, 99.99580888516346, 99.92455993294216, 99.86588432523051, 99.83654652137469, 99.77367979882649, 99.74853310980721, 99.74015088013411, 99.74015088013411, 99.71919530595137, 99.71500419111483, 99.69823973176865, 99.65632858340318, 99.64375523889355, 99.62699077954737, 99.56412405699916, 99.50544844928751, 99.50125733445097, 99.49706621961441, 99.49706621961441, 99.49706621961441, 99.49287510477787, 99.47191953059514, 99.46353730092204, 99.45515507124895, 99.45096395641241, 99.45096395641241, 99.4425817267393, 99.42162615255657, 99.41743503772004, 99.40486169321039, 99.33361274098911, 99.32942162615255, 99.32523051131601, 99.31265716680637, 99.30846605196983, 99.27493713327745, 99.26655490360436, 99.2246437552389, 99.17435037720034, 99.16177703269071, 99.11986588432524, 99.11148365465213, 99.10729253981559, 99.10729253981559, 99.10729253981559, 99.10310142497904, 99.07795473595976, 99.06538139145013, 99.06119027661357, 99.03185247275775, 99.0276613579212, 99.00670578373847, 99.00251466890194, 98.99413243922884, 98.99413243922884, 98.9731768650461, 98.9731768650461, 98.95641240569991, 98.94803017602682, 98.93964794635373, 98.92707460184408, 98.9103101424979, 98.9103101424979, 98.88097233864208, 98.82648784576698, 98.80972338642079, 98.80972338642079, 98.79715004191115, 98.77619446772842, 98.75943000838222, 98.74266554903605, 98.67979882648784, 98.67141659681475, 98.64626990779547, 98.61693210393965, 98.60435875943001, 98.60016764459345, 98.59597652975691, 98.56244761106454, 98.54987426655491, 98.48281642917016, 98.39061190276614, 98.38222967309305, 98.36546521374686, 98.34450963956412, 98.2984073763621, 98.23134953897737, 98.18524727577535, 98.11399832355406, 98.11399832355406, 98.0720871751886, 98.06370494551551, 98.0176026823135, 98.0092204526404, 97.98407376362113, 97.95892707460185, 97.94635373009221, 97.92120704107292, 97.84576697401509, 97.83738474434199, 97.81642917015925, 97.80804694048616, 97.78290025146688, 97.7745180217938, 97.74937133277452, 97.72422464375524, 97.69488683989941, 97.66974015088013, 97.63621123218776, 97.54400670578374, 97.50628667225482, 97.49371332774518, 97.46437552388936, 97.41827326068734, 97.4140821458508, 97.39312657166806, 97.38893545683152, 97.38055322715843, 97.38055322715843, 97.38055322715843, 97.21290863369656, 97.20871751886003, 97.19614417435038, 97.18357082984073, 97.13327745180219, 97.10393964794636, 97.02849958088852, 96.93629505448449, 96.9279128248114, 96.91114836546521, 96.87761944677284, 96.81894383906119, 96.79798826487846, 96.78541492036882, 96.77703269069573, 96.74350377200335, 96.69321039396479, 96.60100586756077, 96.5129924559933, 96.39983235540653, 96.3411567476949, 96.23218776194467, 96.11902766135792, 96.04777870913664, 96.00167644593462, 95.86756077116513, 95.80469404861694, 95.75020955574183, 95.64962279966471, 95.63704945515508, 95.5867560771165, 95.57837384744342, 95.55741827326068, 95.38977367979882, 95.38139145012573, 95.0, 94.97066219614418, 94.94970662196144, 94.9455155071249, 94.93294216261525, 94.78206202849958, 94.72757753562448, 94.65632858340318, 94.5305951383068, 94.51802179379715, 94.51802179379715, 94.32103939647946, 94.2875104777871, 94.24979044425818, 94.20368818105615, 94.19949706621962, 93.89354568315171, 93.80553227158424, 93.75943000838222, 93.5498742665549, 93.52891869237217, 93.45766974015089, 93.41575859178542, 92.99664710813076, 92.90863369656329, 92.90863369656329, 92.15423302598491, 92.00335289186924, 91.94467728415758, 91.81475272422465, 91.71416596814753, 91.56328583403184, 91.5129924559933, 91.50041911148365, 91.38306789606035, 91.3327745180218, 91.1986588432523, 91.17770326906958, 90.98910310142499, 90.75440067057838, 90.69572506286673, 90.69153394803018, 90.58675607711652, 89.8742665549036, 89.51802179379715, 89.30008382229673, 88.9815590947192, 88.88097233864208, 88.78876781223806, 88.76362112321877, 88.64626990779547, 88.29002514668902, 88.22715842414081, 87.7661357921207, 87.65297569153395, 87.43503772003352, 87.21290863369656, 87.17518860016764, 86.99916177703268, 86.98658843252305, 86.93210393964794, 86.90276613579212, 86.84409052808047, 86.82732606873428, 86.3788767812238, 86.17770326906957, 85.8466051969824, 85.51131601005868, 85.44844928751047, 85.32271584241408, 85.19279128248114, 85.03772003352891, 84.8742665549036, 84.74434199497067, 84.64375523889355, 84.63537300922044, 84.58927074601844, 84.55574182732607, 84.47191953059514, 84.36714165968148, 84.04861693210394, 83.96060352053645, 83.85163453478626, 83.76781223805533, 83.62531433361275, 83.23554065381391, 83.22296730930428, 83.08046940486169, 82.79966471081308, 82.2254819782062, 82.20452640402347, 81.84828164291702, 81.7476948868399, 81.69740150880133, 81.62615255658004, 80.85917854149204, 80.65800502933782, 80.65381391450126, 80.13830678960603, 80.05867560771165, 79.94970662196145, 79.39228834870076, 79.31684828164292, 78.99413243922884, 78.69656328583403, 78.57502095557419, 78.09723386420788, 78.06370494551551, 77.79128248113997, 77.61944677284157, 77.48952221290864, 77.41827326068734, 77.40989103101425, 77.29673093042749, 77.29253981559094, 77.02430846605198, 76.68063704945516, 76.64710813076279, 76.63453478625314, 76.60938809723386, 76.53813914501258, 76.37468566638725, 76.22799664710813, 75.8466051969824, 74.98742665549037, 74.91198658843253, 74.85331098072086, 74.67309304274937, 74.53478625314334, 74.06119027661357, 72.84576697401509, 71.97820620284996, 70.6035205364627, 70.40653813914501, 70.22632020117351, 69.68147527242246, 69.00670578373848, 68.7300922045264, 68.15590947191953, 68.1265716680637, 67.51047778709136, 67.40989103101424, 67.39312657166806, 67.38474434199497, 67.17518860016764, 66.24895222129086, 65.89689857502096, 65.84241408214585, 65.73344509639564, 65.34786253143336, 64.72338642078793, 64.35875943000838, 63.411567476948875, 62.166806370494555, 60.046102263202016, 59.46772841575859, 58.16429170159262, 53.792958927074594, 48.93126571668064, 48.65884325230511, 45.55741827326069, 45.01257334450964, 44.300083822296735, 43.968985750209555, 43.86839899413244, 41.83151718357083, 41.27829002514669, 37.397317686504614, 37.397317686504614, 37.397317686504614, 36.1986588432523, 34.14920368818105, 34.006705783738475, 34.006705783738475, 34.006705783738475, 34.006705783738475, 34.006705783738475, 34.006705783738475, 33.44509639564124, 33.202011735121545, 33.202011735121545, 33.202011735121545, 33.202011735121545, 33.202011735121545, 33.202011735121545, 33.02598491198659, 33.02598491198659, 22.54400670578374, 22.497904442581724, 22.321877619446774, 22.26320201173512, 21.25314333612741, 19.534786253143334, 15.39815590947192, 13.369656328583405, 11.559094719195306, 9.111483654652137, 4.019279128248114, 3.8222967309304274, 1.7644593461860856, 0.0, 0.0, 0.0, 0.0, 0.0, 0.0, 0.0, 0.0, 0.0, 0.0, 0.0, 0.0, 0.0, 0.0, 0.0, 0.0, 0.0, 0.0, 0.0, 0.0, 0.0, 0.0, 0.0, 0.0, 0.0, 0.0, 0.0, 0.0, 0.0, 0.0, 0.0, 0.0, 0.0, 0.0, 0.0, 0.0, 0.0, 0.0, 0.0], \"type\": \"box\", \"uid\": \"589d1a7a-c006-4386-af67-7ca7ca79013d\"}], {\"hovermode\": \"closest\", \"title\": \"Percent of available data  - all columns (free_df)\", \"xaxis\": {\"showticklabels\": true, \"title\": \"Percent\"}, \"yaxis\": {\"title\": \"All columns\"}}, {\"showLink\": true, \"linkText\": \"Export to plot.ly\", \"plotlyServerURL\": \"https://plot.ly\"})});</script><script type=\"text/javascript\">window.addEventListener(\"resize\", function(){window._Plotly.Plots.resize(document.getElementById(\"e93d780c-eba9-4930-8256-70e97990821f\"));});</script>"
      ],
      "text/vnd.plotly.v1+html": [
       "<div id=\"e93d780c-eba9-4930-8256-70e97990821f\" style=\"height: 525px; width: 100%;\" class=\"plotly-graph-div\"></div><script type=\"text/javascript\">require([\"plotly\"], function(Plotly) { window.PLOTLYENV=window.PLOTLYENV || {};window.PLOTLYENV.BASE_URL=\"https://plot.ly\";Plotly.newPlot(\"e93d780c-eba9-4930-8256-70e97990821f\", [{\"marker\": {\"color\": \"rgba(238,23,11,0.5)\", \"line\": {\"color\": \"tomato\", \"width\": 0.9}}, \"name\": \"Percent\", \"orientation\": \"h\", \"x\": [99.99580888516346, 99.99580888516346, 99.92455993294216, 99.86588432523051, 99.83654652137469, 99.77367979882649, 99.74853310980721, 99.74015088013411, 99.74015088013411, 99.71919530595137, 99.71500419111483, 99.69823973176865, 99.65632858340318, 99.64375523889355, 99.62699077954737, 99.56412405699916, 99.50544844928751, 99.50125733445097, 99.49706621961441, 99.49706621961441, 99.49706621961441, 99.49287510477787, 99.47191953059514, 99.46353730092204, 99.45515507124895, 99.45096395641241, 99.45096395641241, 99.4425817267393, 99.42162615255657, 99.41743503772004, 99.40486169321039, 99.33361274098911, 99.32942162615255, 99.32523051131601, 99.31265716680637, 99.30846605196983, 99.27493713327745, 99.26655490360436, 99.2246437552389, 99.17435037720034, 99.16177703269071, 99.11986588432524, 99.11148365465213, 99.10729253981559, 99.10729253981559, 99.10729253981559, 99.10310142497904, 99.07795473595976, 99.06538139145013, 99.06119027661357, 99.03185247275775, 99.0276613579212, 99.00670578373847, 99.00251466890194, 98.99413243922884, 98.99413243922884, 98.9731768650461, 98.9731768650461, 98.95641240569991, 98.94803017602682, 98.93964794635373, 98.92707460184408, 98.9103101424979, 98.9103101424979, 98.88097233864208, 98.82648784576698, 98.80972338642079, 98.80972338642079, 98.79715004191115, 98.77619446772842, 98.75943000838222, 98.74266554903605, 98.67979882648784, 98.67141659681475, 98.64626990779547, 98.61693210393965, 98.60435875943001, 98.60016764459345, 98.59597652975691, 98.56244761106454, 98.54987426655491, 98.48281642917016, 98.39061190276614, 98.38222967309305, 98.36546521374686, 98.34450963956412, 98.2984073763621, 98.23134953897737, 98.18524727577535, 98.11399832355406, 98.11399832355406, 98.0720871751886, 98.06370494551551, 98.0176026823135, 98.0092204526404, 97.98407376362113, 97.95892707460185, 97.94635373009221, 97.92120704107292, 97.84576697401509, 97.83738474434199, 97.81642917015925, 97.80804694048616, 97.78290025146688, 97.7745180217938, 97.74937133277452, 97.72422464375524, 97.69488683989941, 97.66974015088013, 97.63621123218776, 97.54400670578374, 97.50628667225482, 97.49371332774518, 97.46437552388936, 97.41827326068734, 97.4140821458508, 97.39312657166806, 97.38893545683152, 97.38055322715843, 97.38055322715843, 97.38055322715843, 97.21290863369656, 97.20871751886003, 97.19614417435038, 97.18357082984073, 97.13327745180219, 97.10393964794636, 97.02849958088852, 96.93629505448449, 96.9279128248114, 96.91114836546521, 96.87761944677284, 96.81894383906119, 96.79798826487846, 96.78541492036882, 96.77703269069573, 96.74350377200335, 96.69321039396479, 96.60100586756077, 96.5129924559933, 96.39983235540653, 96.3411567476949, 96.23218776194467, 96.11902766135792, 96.04777870913664, 96.00167644593462, 95.86756077116513, 95.80469404861694, 95.75020955574183, 95.64962279966471, 95.63704945515508, 95.5867560771165, 95.57837384744342, 95.55741827326068, 95.38977367979882, 95.38139145012573, 95.0, 94.97066219614418, 94.94970662196144, 94.9455155071249, 94.93294216261525, 94.78206202849958, 94.72757753562448, 94.65632858340318, 94.5305951383068, 94.51802179379715, 94.51802179379715, 94.32103939647946, 94.2875104777871, 94.24979044425818, 94.20368818105615, 94.19949706621962, 93.89354568315171, 93.80553227158424, 93.75943000838222, 93.5498742665549, 93.52891869237217, 93.45766974015089, 93.41575859178542, 92.99664710813076, 92.90863369656329, 92.90863369656329, 92.15423302598491, 92.00335289186924, 91.94467728415758, 91.81475272422465, 91.71416596814753, 91.56328583403184, 91.5129924559933, 91.50041911148365, 91.38306789606035, 91.3327745180218, 91.1986588432523, 91.17770326906958, 90.98910310142499, 90.75440067057838, 90.69572506286673, 90.69153394803018, 90.58675607711652, 89.8742665549036, 89.51802179379715, 89.30008382229673, 88.9815590947192, 88.88097233864208, 88.78876781223806, 88.76362112321877, 88.64626990779547, 88.29002514668902, 88.22715842414081, 87.7661357921207, 87.65297569153395, 87.43503772003352, 87.21290863369656, 87.17518860016764, 86.99916177703268, 86.98658843252305, 86.93210393964794, 86.90276613579212, 86.84409052808047, 86.82732606873428, 86.3788767812238, 86.17770326906957, 85.8466051969824, 85.51131601005868, 85.44844928751047, 85.32271584241408, 85.19279128248114, 85.03772003352891, 84.8742665549036, 84.74434199497067, 84.64375523889355, 84.63537300922044, 84.58927074601844, 84.55574182732607, 84.47191953059514, 84.36714165968148, 84.04861693210394, 83.96060352053645, 83.85163453478626, 83.76781223805533, 83.62531433361275, 83.23554065381391, 83.22296730930428, 83.08046940486169, 82.79966471081308, 82.2254819782062, 82.20452640402347, 81.84828164291702, 81.7476948868399, 81.69740150880133, 81.62615255658004, 80.85917854149204, 80.65800502933782, 80.65381391450126, 80.13830678960603, 80.05867560771165, 79.94970662196145, 79.39228834870076, 79.31684828164292, 78.99413243922884, 78.69656328583403, 78.57502095557419, 78.09723386420788, 78.06370494551551, 77.79128248113997, 77.61944677284157, 77.48952221290864, 77.41827326068734, 77.40989103101425, 77.29673093042749, 77.29253981559094, 77.02430846605198, 76.68063704945516, 76.64710813076279, 76.63453478625314, 76.60938809723386, 76.53813914501258, 76.37468566638725, 76.22799664710813, 75.8466051969824, 74.98742665549037, 74.91198658843253, 74.85331098072086, 74.67309304274937, 74.53478625314334, 74.06119027661357, 72.84576697401509, 71.97820620284996, 70.6035205364627, 70.40653813914501, 70.22632020117351, 69.68147527242246, 69.00670578373848, 68.7300922045264, 68.15590947191953, 68.1265716680637, 67.51047778709136, 67.40989103101424, 67.39312657166806, 67.38474434199497, 67.17518860016764, 66.24895222129086, 65.89689857502096, 65.84241408214585, 65.73344509639564, 65.34786253143336, 64.72338642078793, 64.35875943000838, 63.411567476948875, 62.166806370494555, 60.046102263202016, 59.46772841575859, 58.16429170159262, 53.792958927074594, 48.93126571668064, 48.65884325230511, 45.55741827326069, 45.01257334450964, 44.300083822296735, 43.968985750209555, 43.86839899413244, 41.83151718357083, 41.27829002514669, 37.397317686504614, 37.397317686504614, 37.397317686504614, 36.1986588432523, 34.14920368818105, 34.006705783738475, 34.006705783738475, 34.006705783738475, 34.006705783738475, 34.006705783738475, 34.006705783738475, 33.44509639564124, 33.202011735121545, 33.202011735121545, 33.202011735121545, 33.202011735121545, 33.202011735121545, 33.202011735121545, 33.02598491198659, 33.02598491198659, 22.54400670578374, 22.497904442581724, 22.321877619446774, 22.26320201173512, 21.25314333612741, 19.534786253143334, 15.39815590947192, 13.369656328583405, 11.559094719195306, 9.111483654652137, 4.019279128248114, 3.8222967309304274, 1.7644593461860856, 0.0, 0.0, 0.0, 0.0, 0.0, 0.0, 0.0, 0.0, 0.0, 0.0, 0.0, 0.0, 0.0, 0.0, 0.0, 0.0, 0.0, 0.0, 0.0, 0.0, 0.0, 0.0, 0.0, 0.0, 0.0, 0.0, 0.0, 0.0, 0.0, 0.0, 0.0, 0.0, 0.0, 0.0, 0.0, 0.0, 0.0, 0.0, 0.0], \"type\": \"box\", \"uid\": \"589d1a7a-c006-4386-af67-7ca7ca79013d\"}], {\"hovermode\": \"closest\", \"title\": \"Percent of available data  - all columns (free_df)\", \"xaxis\": {\"showticklabels\": true, \"title\": \"Percent\"}, \"yaxis\": {\"title\": \"All columns\"}}, {\"showLink\": true, \"linkText\": \"Export to plot.ly\", \"plotlyServerURL\": \"https://plot.ly\"})});</script><script type=\"text/javascript\">window.addEventListener(\"resize\", function(){window._Plotly.Plots.resize(document.getElementById(\"e93d780c-eba9-4930-8256-70e97990821f\"));});</script>"
      ]
     },
     "metadata": {},
     "output_type": "display_data"
    }
   ],
   "source": [
    "plot_percent_of_available_data('free_df')"
   ]
  },
  {
   "cell_type": "code",
   "execution_count": 12,
   "metadata": {
    "_kg_hide-input": true,
    "_uuid": "c3707d1522d39f23255eccd84c08f490d3217766",
    "execution": {
     "iopub.execute_input": "2022-12-14T05:35:35.784177Z",
     "iopub.status.busy": "2022-12-14T05:35:35.783840Z",
     "iopub.status.idle": "2022-12-14T05:35:35.864369Z",
     "shell.execute_reply": "2022-12-14T05:35:35.862648Z",
     "shell.execute_reply.started": "2022-12-14T05:35:35.784127Z"
    }
   },
   "outputs": [
    {
     "name": "stdout",
     "output_type": "stream",
     "text": [
      "The columns with only one item in the column group are:\n",
      " ['Q8', 'Q9', 'Q10', 'Q23', 'Q24', 'Q25', 'Q26', 'Q40', 'Q43', 'Q46', 'Q48']\n"
     ]
    }
   ],
   "source": [
    "tmp = pd.DataFrame(multiple_df.columns.values)\n",
    "columns = []\n",
    "for i in range(1,50):\n",
    "    var = \"Q{}\".format(i)\n",
    "    l = len(list(tmp[tmp[0].str.contains(var)][0]))\n",
    "    if(l == 1):\n",
    "        columns.append(var)\n",
    "\n",
    "print(\"The columns with only one item in the column group are:\\n\",columns)"
   ]
  },
  {
   "cell_type": "code",
   "execution_count": 13,
   "metadata": {
    "_kg_hide-input": true,
    "_uuid": "7a183cb0cc9620281e4246b648874383aaa0e385",
    "execution": {
     "iopub.execute_input": "2022-12-14T05:35:47.397360Z",
     "iopub.status.busy": "2022-12-14T05:35:47.397010Z",
     "iopub.status.idle": "2022-12-14T05:35:47.402074Z",
     "shell.execute_reply": "2022-12-14T05:35:47.400841Z",
     "shell.execute_reply.started": "2022-12-14T05:35:47.397299Z"
    }
   },
   "outputs": [],
   "source": [
    "def get_categories(data, val):\n",
    "    tmp = data[1::][val].value_counts()\n",
    "    return pd.DataFrame(data={'Number': tmp.values}, index=tmp.index).reset_index()"
   ]
  },
  {
   "cell_type": "code",
   "execution_count": 14,
   "metadata": {
    "_kg_hide-input": true,
    "_uuid": "f6a08812ef331a22746dfee45a0de480cd34ba88",
    "execution": {
     "iopub.execute_input": "2022-12-14T05:35:51.093590Z",
     "iopub.status.busy": "2022-12-14T05:35:51.092993Z",
     "iopub.status.idle": "2022-12-14T05:35:51.105850Z",
     "shell.execute_reply": "2022-12-14T05:35:51.104025Z",
     "shell.execute_reply.started": "2022-12-14T05:35:51.093540Z"
    }
   },
   "outputs": [],
   "source": [
    "df = get_categories(multiple_df, 'Q1')"
   ]
  },
  {
   "cell_type": "code",
   "execution_count": 15,
   "metadata": {
    "_kg_hide-input": true,
    "_uuid": "cb87aaca2341e231fff46d3094c690d339a64968",
    "execution": {
     "iopub.execute_input": "2022-12-14T05:35:54.998340Z",
     "iopub.status.busy": "2022-12-14T05:35:54.997663Z",
     "iopub.status.idle": "2022-12-14T05:35:55.006583Z",
     "shell.execute_reply": "2022-12-14T05:35:55.005463Z",
     "shell.execute_reply.started": "2022-12-14T05:35:54.998281Z"
    }
   },
   "outputs": [],
   "source": [
    "def draw_trace_bar(data, title, xlab, ylab,color='Blue'):\n",
    "    trace = go.Bar(\n",
    "            x = data['index'],\n",
    "            y = data['Number'],\n",
    "            marker=dict(color=color),\n",
    "            text=data['index']\n",
    "        )\n",
    "    data = [trace]\n",
    "\n",
    "    layout = dict(title = title,\n",
    "              xaxis = dict(title = xlab, showticklabels=True, tickangle=15,\n",
    "                          tickfont=dict(\n",
    "                            size=9,\n",
    "                            color='black'),), \n",
    "              yaxis = dict(title = ylab),\n",
    "              hovermode = 'closest'\n",
    "             )\n",
    "    fig = dict(data = data, layout = layout)\n",
    "    iplot(fig, filename='draw_trace')"
   ]
  },
  {
   "cell_type": "code",
   "execution_count": 16,
   "metadata": {
    "_kg_hide-input": true,
    "_uuid": "8881831dd27eb23e19d46c422677ba1f3a2ea883",
    "execution": {
     "iopub.execute_input": "2022-12-14T05:36:03.192367Z",
     "iopub.status.busy": "2022-12-14T05:36:03.191494Z",
     "iopub.status.idle": "2022-12-14T05:36:03.716869Z",
     "shell.execute_reply": "2022-12-14T05:36:03.715174Z",
     "shell.execute_reply.started": "2022-12-14T05:36:03.191887Z"
    }
   },
   "outputs": [
    {
     "data": {
      "application/vnd.plotly.v1+json": {
       "config": {
        "linkText": "Export to plot.ly",
        "plotlyServerURL": "https://plot.ly",
        "showLink": true
       },
       "data": [
        {
         "marker": {
          "color": "Blue"
         },
         "text": [
          "Male",
          "Female",
          "Prefer not to say",
          "Prefer to self-describe"
         ],
         "type": "bar",
         "uid": "9b1306cf-bb40-45d5-a0c6-807f1d7c50cf",
         "x": [
          "Male",
          "Female",
          "Prefer not to say",
          "Prefer to self-describe"
         ],
         "y": [
          19430,
          4010,
          340,
          79
         ]
        }
       ],
       "layout": {
        "hovermode": "closest",
        "title": "Number of people",
        "xaxis": {
         "showticklabels": true,
         "tickangle": 15,
         "tickfont": {
          "color": "black",
          "size": 9
         },
         "title": "Gender"
        },
        "yaxis": {
         "title": "Number of people"
        }
       }
      },
      "text/html": [
       "<div id=\"0cf0de79-4710-4a01-b246-4253ad3c88c6\" style=\"height: 525px; width: 100%;\" class=\"plotly-graph-div\"></div><script type=\"text/javascript\">require([\"plotly\"], function(Plotly) { window.PLOTLYENV=window.PLOTLYENV || {};window.PLOTLYENV.BASE_URL=\"https://plot.ly\";Plotly.newPlot(\"0cf0de79-4710-4a01-b246-4253ad3c88c6\", [{\"marker\": {\"color\": \"Blue\"}, \"text\": [\"Male\", \"Female\", \"Prefer not to say\", \"Prefer to self-describe\"], \"x\": [\"Male\", \"Female\", \"Prefer not to say\", \"Prefer to self-describe\"], \"y\": [19430, 4010, 340, 79], \"type\": \"bar\", \"uid\": \"d402d2e7-8991-499c-96ec-ecd0e5831f4a\"}], {\"hovermode\": \"closest\", \"title\": \"Number of people\", \"xaxis\": {\"showticklabels\": true, \"tickangle\": 15, \"tickfont\": {\"color\": \"black\", \"size\": 9}, \"title\": \"Gender\"}, \"yaxis\": {\"title\": \"Number of people\"}}, {\"showLink\": true, \"linkText\": \"Export to plot.ly\", \"plotlyServerURL\": \"https://plot.ly\"})});</script><script type=\"text/javascript\">window.addEventListener(\"resize\", function(){window._Plotly.Plots.resize(document.getElementById(\"0cf0de79-4710-4a01-b246-4253ad3c88c6\"));});</script>"
      ],
      "text/vnd.plotly.v1+html": [
       "<div id=\"0cf0de79-4710-4a01-b246-4253ad3c88c6\" style=\"height: 525px; width: 100%;\" class=\"plotly-graph-div\"></div><script type=\"text/javascript\">require([\"plotly\"], function(Plotly) { window.PLOTLYENV=window.PLOTLYENV || {};window.PLOTLYENV.BASE_URL=\"https://plot.ly\";Plotly.newPlot(\"0cf0de79-4710-4a01-b246-4253ad3c88c6\", [{\"marker\": {\"color\": \"Blue\"}, \"text\": [\"Male\", \"Female\", \"Prefer not to say\", \"Prefer to self-describe\"], \"x\": [\"Male\", \"Female\", \"Prefer not to say\", \"Prefer to self-describe\"], \"y\": [19430, 4010, 340, 79], \"type\": \"bar\", \"uid\": \"d402d2e7-8991-499c-96ec-ecd0e5831f4a\"}], {\"hovermode\": \"closest\", \"title\": \"Number of people\", \"xaxis\": {\"showticklabels\": true, \"tickangle\": 15, \"tickfont\": {\"color\": \"black\", \"size\": 9}, \"title\": \"Gender\"}, \"yaxis\": {\"title\": \"Number of people\"}}, {\"showLink\": true, \"linkText\": \"Export to plot.ly\", \"plotlyServerURL\": \"https://plot.ly\"})});</script><script type=\"text/javascript\">window.addEventListener(\"resize\", function(){window._Plotly.Plots.resize(document.getElementById(\"0cf0de79-4710-4a01-b246-4253ad3c88c6\"));});</script>"
      ]
     },
     "metadata": {},
     "output_type": "display_data"
    }
   ],
   "source": [
    "draw_trace_bar(df, 'Number of people', 'Gender', 'Number of people' )"
   ]
  },
  {
   "cell_type": "code",
   "execution_count": 17,
   "metadata": {
    "_kg_hide-input": true,
    "_uuid": "566d83bb922532a9b9a48a96941aedbb0ab85f66",
    "execution": {
     "iopub.execute_input": "2022-12-14T05:36:50.629935Z",
     "iopub.status.busy": "2022-12-14T05:36:50.629629Z",
     "iopub.status.idle": "2022-12-14T05:36:50.809251Z",
     "shell.execute_reply": "2022-12-14T05:36:50.806210Z",
     "shell.execute_reply.started": "2022-12-14T05:36:50.629879Z"
    }
   },
   "outputs": [
    {
     "data": {
      "application/vnd.plotly.v1+json": {
       "config": {
        "linkText": "Export to plot.ly",
        "plotlyServerURL": "https://plot.ly",
        "showLink": true
       },
       "data": [
        {
         "marker": {
          "color": "Purple"
         },
         "text": [
          "25-29",
          "22-24",
          "30-34",
          "18-21",
          "35-39",
          "40-44",
          "45-49",
          "50-54",
          "55-59",
          "60-69",
          "70-79",
          "80+"
         ],
         "type": "bar",
         "uid": "62d0e566-99b1-4eed-be75-39bb815f4c70",
         "x": [
          "25-29",
          "22-24",
          "30-34",
          "18-21",
          "35-39",
          "40-44",
          "45-49",
          "50-54",
          "55-59",
          "60-69",
          "70-79",
          "80+"
         ],
         "y": [
          6159,
          5141,
          3776,
          3037,
          2253,
          1360,
          858,
          582,
          328,
          273,
          53,
          39
         ]
        }
       ],
       "layout": {
        "hovermode": "closest",
        "title": "Number of people in each age range",
        "xaxis": {
         "showticklabels": true,
         "tickangle": 15,
         "tickfont": {
          "color": "black",
          "size": 9
         },
         "title": "Age range"
        },
        "yaxis": {
         "title": "Number of people"
        }
       }
      },
      "text/html": [
       "<div id=\"d4fe9954-0920-4c31-b8ac-1b1db695f123\" style=\"height: 525px; width: 100%;\" class=\"plotly-graph-div\"></div><script type=\"text/javascript\">require([\"plotly\"], function(Plotly) { window.PLOTLYENV=window.PLOTLYENV || {};window.PLOTLYENV.BASE_URL=\"https://plot.ly\";Plotly.newPlot(\"d4fe9954-0920-4c31-b8ac-1b1db695f123\", [{\"marker\": {\"color\": \"Purple\"}, \"text\": [\"25-29\", \"22-24\", \"30-34\", \"18-21\", \"35-39\", \"40-44\", \"45-49\", \"50-54\", \"55-59\", \"60-69\", \"70-79\", \"80+\"], \"x\": [\"25-29\", \"22-24\", \"30-34\", \"18-21\", \"35-39\", \"40-44\", \"45-49\", \"50-54\", \"55-59\", \"60-69\", \"70-79\", \"80+\"], \"y\": [6159, 5141, 3776, 3037, 2253, 1360, 858, 582, 328, 273, 53, 39], \"type\": \"bar\", \"uid\": \"d7cd1c18-96e1-4f02-81e8-f233ad611f4d\"}], {\"hovermode\": \"closest\", \"title\": \"Number of people in each age range\", \"xaxis\": {\"showticklabels\": true, \"tickangle\": 15, \"tickfont\": {\"color\": \"black\", \"size\": 9}, \"title\": \"Age range\"}, \"yaxis\": {\"title\": \"Number of people\"}}, {\"showLink\": true, \"linkText\": \"Export to plot.ly\", \"plotlyServerURL\": \"https://plot.ly\"})});</script><script type=\"text/javascript\">window.addEventListener(\"resize\", function(){window._Plotly.Plots.resize(document.getElementById(\"d4fe9954-0920-4c31-b8ac-1b1db695f123\"));});</script>"
      ],
      "text/vnd.plotly.v1+html": [
       "<div id=\"d4fe9954-0920-4c31-b8ac-1b1db695f123\" style=\"height: 525px; width: 100%;\" class=\"plotly-graph-div\"></div><script type=\"text/javascript\">require([\"plotly\"], function(Plotly) { window.PLOTLYENV=window.PLOTLYENV || {};window.PLOTLYENV.BASE_URL=\"https://plot.ly\";Plotly.newPlot(\"d4fe9954-0920-4c31-b8ac-1b1db695f123\", [{\"marker\": {\"color\": \"Purple\"}, \"text\": [\"25-29\", \"22-24\", \"30-34\", \"18-21\", \"35-39\", \"40-44\", \"45-49\", \"50-54\", \"55-59\", \"60-69\", \"70-79\", \"80+\"], \"x\": [\"25-29\", \"22-24\", \"30-34\", \"18-21\", \"35-39\", \"40-44\", \"45-49\", \"50-54\", \"55-59\", \"60-69\", \"70-79\", \"80+\"], \"y\": [6159, 5141, 3776, 3037, 2253, 1360, 858, 582, 328, 273, 53, 39], \"type\": \"bar\", \"uid\": \"d7cd1c18-96e1-4f02-81e8-f233ad611f4d\"}], {\"hovermode\": \"closest\", \"title\": \"Number of people in each age range\", \"xaxis\": {\"showticklabels\": true, \"tickangle\": 15, \"tickfont\": {\"color\": \"black\", \"size\": 9}, \"title\": \"Age range\"}, \"yaxis\": {\"title\": \"Number of people\"}}, {\"showLink\": true, \"linkText\": \"Export to plot.ly\", \"plotlyServerURL\": \"https://plot.ly\"})});</script><script type=\"text/javascript\">window.addEventListener(\"resize\", function(){window._Plotly.Plots.resize(document.getElementById(\"d4fe9954-0920-4c31-b8ac-1b1db695f123\"));});</script>"
      ]
     },
     "metadata": {},
     "output_type": "display_data"
    }
   ],
   "source": [
    "draw_trace_bar(get_categories(multiple_df,'Q2'), \"Number of people in each age range\", \"Age range\", \"Number of people\", \"Purple\")"
   ]
  },
  {
   "cell_type": "code",
   "execution_count": 18,
   "metadata": {
    "_kg_hide-input": true,
    "_uuid": "744091e40e319d6b25e792c2314a8113535cd41c",
    "execution": {
     "iopub.execute_input": "2022-12-14T05:37:01.112801Z",
     "iopub.status.busy": "2022-12-14T05:37:01.112490Z",
     "iopub.status.idle": "2022-12-14T05:37:01.137697Z",
     "shell.execute_reply": "2022-12-14T05:37:01.135922Z",
     "shell.execute_reply.started": "2022-12-14T05:37:01.112759Z"
    }
   },
   "outputs": [
    {
     "data": {
      "text/html": [
       "<div>\n",
       "<style scoped>\n",
       "    .dataframe tbody tr th:only-of-type {\n",
       "        vertical-align: middle;\n",
       "    }\n",
       "\n",
       "    .dataframe tbody tr th {\n",
       "        vertical-align: top;\n",
       "    }\n",
       "\n",
       "    .dataframe thead th {\n",
       "        text-align: right;\n",
       "    }\n",
       "</style>\n",
       "<table border=\"1\" class=\"dataframe\">\n",
       "  <thead>\n",
       "    <tr style=\"text-align: right;\">\n",
       "      <th></th>\n",
       "      <th>index</th>\n",
       "      <th>Number</th>\n",
       "    </tr>\n",
       "  </thead>\n",
       "  <tbody>\n",
       "    <tr>\n",
       "      <th>0</th>\n",
       "      <td>United States of America</td>\n",
       "      <td>4716</td>\n",
       "    </tr>\n",
       "    <tr>\n",
       "      <th>1</th>\n",
       "      <td>India</td>\n",
       "      <td>4417</td>\n",
       "    </tr>\n",
       "    <tr>\n",
       "      <th>2</th>\n",
       "      <td>China</td>\n",
       "      <td>1644</td>\n",
       "    </tr>\n",
       "    <tr>\n",
       "      <th>3</th>\n",
       "      <td>Other</td>\n",
       "      <td>1036</td>\n",
       "    </tr>\n",
       "    <tr>\n",
       "      <th>4</th>\n",
       "      <td>Russia</td>\n",
       "      <td>879</td>\n",
       "    </tr>\n",
       "  </tbody>\n",
       "</table>\n",
       "</div>"
      ],
      "text/plain": [
       "                      index  Number\n",
       "0  United States of America    4716\n",
       "1                     India    4417\n",
       "2                     China    1644\n",
       "3                     Other    1036\n",
       "4                    Russia     879"
      ]
     },
     "execution_count": 18,
     "metadata": {},
     "output_type": "execute_result"
    }
   ],
   "source": [
    "df = get_categories(multiple_df, 'Q3')\n",
    "df.head()"
   ]
  },
  {
   "cell_type": "code",
   "execution_count": 19,
   "metadata": {
    "_kg_hide-input": true,
    "_uuid": "c5a01231bcfb1ba71b05318d68946095e1feb2b2",
    "execution": {
     "iopub.execute_input": "2022-12-14T05:37:04.384489Z",
     "iopub.status.busy": "2022-12-14T05:37:04.383730Z",
     "iopub.status.idle": "2022-12-14T05:37:04.796466Z",
     "shell.execute_reply": "2022-12-14T05:37:04.793109Z",
     "shell.execute_reply.started": "2022-12-14T05:37:04.384198Z"
    }
   },
   "outputs": [
    {
     "data": {
      "application/vnd.plotly.v1+json": {
       "config": {
        "linkText": "Export to plot.ly",
        "plotlyServerURL": "https://plot.ly",
        "showLink": true
       },
       "data": [
        {
         "autocolorscale": false,
         "colorbar": {
          "tickprefix": "",
          "title": "Respondents"
         },
         "colorscale": "rainbow",
         "locationmode": "country names",
         "locations": [
          "United States of America",
          "India",
          "China",
          "Other",
          "Russia",
          "Brazil",
          "Germany",
          "United Kingdom of Great Britain and Northern Ireland",
          "France",
          "Canada",
          "Japan",
          "Spain",
          "I do not wish to disclose my location",
          "Italy",
          "Australia",
          "Turkey",
          "Poland",
          "Netherlands",
          "Ukraine",
          "Nigeria",
          "Mexico",
          "South Korea",
          "Singapore",
          "Israel",
          "Indonesia",
          "Switzerland",
          "Pakistan",
          "Sweden",
          "Portugal",
          "South Africa",
          "Viet Nam",
          "Colombia",
          "Greece",
          "Argentina",
          "Malaysia",
          "Iran, Islamic Republic of...",
          "Belgium",
          "Bangladesh",
          "Denmark",
          "Ireland",
          "Egypt",
          "Hungary",
          "Belarus",
          "Kenya",
          "Peru",
          "Finland",
          "Romania",
          "New Zealand",
          "Hong Kong (S.A.R.)",
          "Chile",
          "Norway",
          "Tunisia",
          "Thailand",
          "Philippines",
          "Czech Republic",
          "Republic of Korea",
          "Morocco",
          "Austria"
         ],
         "marker": {
          "line": {
           "color": "rgb(0,0,0)",
           "width": 0.5
          }
         },
         "reversescale": true,
         "text": [
          "United States of America",
          "India",
          "China",
          "Other",
          "Russia",
          "Brazil",
          "Germany",
          "United Kingdom of Great Britain and Northern Ireland",
          "France",
          "Canada",
          "Japan",
          "Spain",
          "I do not wish to disclose my location",
          "Italy",
          "Australia",
          "Turkey",
          "Poland",
          "Netherlands",
          "Ukraine",
          "Nigeria",
          "Mexico",
          "South Korea",
          "Singapore",
          "Israel",
          "Indonesia",
          "Switzerland",
          "Pakistan",
          "Sweden",
          "Portugal",
          "South Africa",
          "Viet Nam",
          "Colombia",
          "Greece",
          "Argentina",
          "Malaysia",
          "Iran, Islamic Republic of...",
          "Belgium",
          "Bangladesh",
          "Denmark",
          "Ireland",
          "Egypt",
          "Hungary",
          "Belarus",
          "Kenya",
          "Peru",
          "Finland",
          "Romania",
          "New Zealand",
          "Hong Kong (S.A.R.)",
          "Chile",
          "Norway",
          "Tunisia",
          "Thailand",
          "Philippines",
          "Czech Republic",
          "Republic of Korea",
          "Morocco",
          "Austria"
         ],
         "type": "choropleth",
         "uid": "ec1a5d79-a02e-4da5-bfa4-def78b4a7cd7",
         "z": [
          4716,
          4417,
          1644,
          1036,
          879,
          736,
          734,
          702,
          604,
          604,
          597,
          485,
          394,
          355,
          330,
          327,
          301,
          270,
          252,
          208,
          202,
          188,
          186,
          173,
          171,
          164,
          161,
          155,
          155,
          147,
          144,
          128,
          121,
          119,
          113,
          113,
          111,
          107,
          106,
          101,
          96,
          93,
          91,
          85,
          81,
          79,
          79,
          77,
          76,
          76,
          74,
          74,
          73,
          73,
          72,
          71,
          71,
          62
         ]
        }
       ],
       "layout": {
        "geo": {
         "projection": {
          "type": "natural earth"
         },
         "showcoastlines": true,
         "showframe": true,
         "showlakes": false
        },
        "title": "Number of respondents per country"
       }
      },
      "text/html": [
       "<div id=\"3d4c1e9f-a96f-410b-b54a-06310984563a\" style=\"height: 525px; width: 100%;\" class=\"plotly-graph-div\"></div><script type=\"text/javascript\">require([\"plotly\"], function(Plotly) { window.PLOTLYENV=window.PLOTLYENV || {};window.PLOTLYENV.BASE_URL=\"https://plot.ly\";Plotly.newPlot(\"3d4c1e9f-a96f-410b-b54a-06310984563a\", [{\"autocolorscale\": false, \"colorbar\": {\"tickprefix\": \"\", \"title\": \"Respondents\"}, \"colorscale\": \"rainbow\", \"locationmode\": \"country names\", \"locations\": [\"United States of America\", \"India\", \"China\", \"Other\", \"Russia\", \"Brazil\", \"Germany\", \"United Kingdom of Great Britain and Northern Ireland\", \"France\", \"Canada\", \"Japan\", \"Spain\", \"I do not wish to disclose my location\", \"Italy\", \"Australia\", \"Turkey\", \"Poland\", \"Netherlands\", \"Ukraine\", \"Nigeria\", \"Mexico\", \"South Korea\", \"Singapore\", \"Israel\", \"Indonesia\", \"Switzerland\", \"Pakistan\", \"Sweden\", \"Portugal\", \"South Africa\", \"Viet Nam\", \"Colombia\", \"Greece\", \"Argentina\", \"Malaysia\", \"Iran, Islamic Republic of...\", \"Belgium\", \"Bangladesh\", \"Denmark\", \"Ireland\", \"Egypt\", \"Hungary\", \"Belarus\", \"Kenya\", \"Peru\", \"Finland\", \"Romania\", \"New Zealand\", \"Hong Kong (S.A.R.)\", \"Chile\", \"Norway\", \"Tunisia\", \"Thailand\", \"Philippines\", \"Czech Republic\", \"Republic of Korea\", \"Morocco\", \"Austria\"], \"marker\": {\"line\": {\"color\": \"rgb(0,0,0)\", \"width\": 0.5}}, \"reversescale\": true, \"text\": [\"United States of America\", \"India\", \"China\", \"Other\", \"Russia\", \"Brazil\", \"Germany\", \"United Kingdom of Great Britain and Northern Ireland\", \"France\", \"Canada\", \"Japan\", \"Spain\", \"I do not wish to disclose my location\", \"Italy\", \"Australia\", \"Turkey\", \"Poland\", \"Netherlands\", \"Ukraine\", \"Nigeria\", \"Mexico\", \"South Korea\", \"Singapore\", \"Israel\", \"Indonesia\", \"Switzerland\", \"Pakistan\", \"Sweden\", \"Portugal\", \"South Africa\", \"Viet Nam\", \"Colombia\", \"Greece\", \"Argentina\", \"Malaysia\", \"Iran, Islamic Republic of...\", \"Belgium\", \"Bangladesh\", \"Denmark\", \"Ireland\", \"Egypt\", \"Hungary\", \"Belarus\", \"Kenya\", \"Peru\", \"Finland\", \"Romania\", \"New Zealand\", \"Hong Kong (S.A.R.)\", \"Chile\", \"Norway\", \"Tunisia\", \"Thailand\", \"Philippines\", \"Czech Republic\", \"Republic of Korea\", \"Morocco\", \"Austria\"], \"z\": [4716, 4417, 1644, 1036, 879, 736, 734, 702, 604, 604, 597, 485, 394, 355, 330, 327, 301, 270, 252, 208, 202, 188, 186, 173, 171, 164, 161, 155, 155, 147, 144, 128, 121, 119, 113, 113, 111, 107, 106, 101, 96, 93, 91, 85, 81, 79, 79, 77, 76, 76, 74, 74, 73, 73, 72, 71, 71, 62], \"type\": \"choropleth\", \"uid\": \"ee9b4921-a641-4f8d-adff-984c983f9f64\"}], {\"geo\": {\"projection\": {\"type\": \"natural earth\"}, \"showcoastlines\": true, \"showframe\": true, \"showlakes\": false}, \"title\": \"Number of respondents per country\"}, {\"showLink\": true, \"linkText\": \"Export to plot.ly\", \"plotlyServerURL\": \"https://plot.ly\"})});</script><script type=\"text/javascript\">window.addEventListener(\"resize\", function(){window._Plotly.Plots.resize(document.getElementById(\"3d4c1e9f-a96f-410b-b54a-06310984563a\"));});</script>"
      ],
      "text/vnd.plotly.v1+html": [
       "<div id=\"3d4c1e9f-a96f-410b-b54a-06310984563a\" style=\"height: 525px; width: 100%;\" class=\"plotly-graph-div\"></div><script type=\"text/javascript\">require([\"plotly\"], function(Plotly) { window.PLOTLYENV=window.PLOTLYENV || {};window.PLOTLYENV.BASE_URL=\"https://plot.ly\";Plotly.newPlot(\"3d4c1e9f-a96f-410b-b54a-06310984563a\", [{\"autocolorscale\": false, \"colorbar\": {\"tickprefix\": \"\", \"title\": \"Respondents\"}, \"colorscale\": \"rainbow\", \"locationmode\": \"country names\", \"locations\": [\"United States of America\", \"India\", \"China\", \"Other\", \"Russia\", \"Brazil\", \"Germany\", \"United Kingdom of Great Britain and Northern Ireland\", \"France\", \"Canada\", \"Japan\", \"Spain\", \"I do not wish to disclose my location\", \"Italy\", \"Australia\", \"Turkey\", \"Poland\", \"Netherlands\", \"Ukraine\", \"Nigeria\", \"Mexico\", \"South Korea\", \"Singapore\", \"Israel\", \"Indonesia\", \"Switzerland\", \"Pakistan\", \"Sweden\", \"Portugal\", \"South Africa\", \"Viet Nam\", \"Colombia\", \"Greece\", \"Argentina\", \"Malaysia\", \"Iran, Islamic Republic of...\", \"Belgium\", \"Bangladesh\", \"Denmark\", \"Ireland\", \"Egypt\", \"Hungary\", \"Belarus\", \"Kenya\", \"Peru\", \"Finland\", \"Romania\", \"New Zealand\", \"Hong Kong (S.A.R.)\", \"Chile\", \"Norway\", \"Tunisia\", \"Thailand\", \"Philippines\", \"Czech Republic\", \"Republic of Korea\", \"Morocco\", \"Austria\"], \"marker\": {\"line\": {\"color\": \"rgb(0,0,0)\", \"width\": 0.5}}, \"reversescale\": true, \"text\": [\"United States of America\", \"India\", \"China\", \"Other\", \"Russia\", \"Brazil\", \"Germany\", \"United Kingdom of Great Britain and Northern Ireland\", \"France\", \"Canada\", \"Japan\", \"Spain\", \"I do not wish to disclose my location\", \"Italy\", \"Australia\", \"Turkey\", \"Poland\", \"Netherlands\", \"Ukraine\", \"Nigeria\", \"Mexico\", \"South Korea\", \"Singapore\", \"Israel\", \"Indonesia\", \"Switzerland\", \"Pakistan\", \"Sweden\", \"Portugal\", \"South Africa\", \"Viet Nam\", \"Colombia\", \"Greece\", \"Argentina\", \"Malaysia\", \"Iran, Islamic Republic of...\", \"Belgium\", \"Bangladesh\", \"Denmark\", \"Ireland\", \"Egypt\", \"Hungary\", \"Belarus\", \"Kenya\", \"Peru\", \"Finland\", \"Romania\", \"New Zealand\", \"Hong Kong (S.A.R.)\", \"Chile\", \"Norway\", \"Tunisia\", \"Thailand\", \"Philippines\", \"Czech Republic\", \"Republic of Korea\", \"Morocco\", \"Austria\"], \"z\": [4716, 4417, 1644, 1036, 879, 736, 734, 702, 604, 604, 597, 485, 394, 355, 330, 327, 301, 270, 252, 208, 202, 188, 186, 173, 171, 164, 161, 155, 155, 147, 144, 128, 121, 119, 113, 113, 111, 107, 106, 101, 96, 93, 91, 85, 81, 79, 79, 77, 76, 76, 74, 74, 73, 73, 72, 71, 71, 62], \"type\": \"choropleth\", \"uid\": \"ee9b4921-a641-4f8d-adff-984c983f9f64\"}], {\"geo\": {\"projection\": {\"type\": \"natural earth\"}, \"showcoastlines\": true, \"showframe\": true, \"showlakes\": false}, \"title\": \"Number of respondents per country\"}, {\"showLink\": true, \"linkText\": \"Export to plot.ly\", \"plotlyServerURL\": \"https://plot.ly\"})});</script><script type=\"text/javascript\">window.addEventListener(\"resize\", function(){window._Plotly.Plots.resize(document.getElementById(\"3d4c1e9f-a96f-410b-b54a-06310984563a\"));});</script>"
      ]
     },
     "metadata": {},
     "output_type": "display_data"
    }
   ],
   "source": [
    "trace = go.Choropleth(\n",
    "            locations = df['index'],\n",
    "            locationmode='country names',\n",
    "            z = df['Number'],\n",
    "            text = df['index'],\n",
    "            autocolorscale =False,\n",
    "            reversescale = True,\n",
    "            colorscale = 'rainbow',\n",
    "            marker = dict(\n",
    "                line = dict(\n",
    "                    color = 'rgb(0,0,0)',\n",
    "                    width = 0.5)\n",
    "            ),\n",
    "            colorbar = dict(\n",
    "                title = 'Respondents',\n",
    "                tickprefix = '')\n",
    "        )\n",
    "\n",
    "data = [trace]\n",
    "layout = go.Layout(\n",
    "    title = 'Number of respondents per country',\n",
    "    geo = dict(\n",
    "        showframe = True,\n",
    "        showlakes = False,\n",
    "        showcoastlines = True,\n",
    "        projection = dict(\n",
    "            type = 'natural earth'\n",
    "        )\n",
    "    )\n",
    ")\n",
    "\n",
    "fig = dict( data=data, layout=layout )\n",
    "iplot(fig)"
   ]
  },
  {
   "cell_type": "code",
   "execution_count": 20,
   "metadata": {
    "_kg_hide-input": true,
    "_uuid": "e3fbaf8639a184d6dc54596181fb6848ab489ced",
    "execution": {
     "iopub.execute_input": "2022-12-14T05:38:09.824955Z",
     "iopub.status.busy": "2022-12-14T05:38:09.824610Z",
     "iopub.status.idle": "2022-12-14T05:38:09.971556Z",
     "shell.execute_reply": "2022-12-14T05:38:09.970378Z",
     "shell.execute_reply.started": "2022-12-14T05:38:09.824877Z"
    }
   },
   "outputs": [
    {
     "data": {
      "application/vnd.plotly.v1+json": {
       "config": {
        "linkText": "Export to plot.ly",
        "plotlyServerURL": "https://plot.ly",
        "showLink": true
       },
       "data": [
        {
         "marker": {
          "color": "Magenta"
         },
         "text": [
          "Master’s degree",
          "Bachelor’s degree",
          "Doctoral degree",
          "Some college/university study without earning a bachelor’s degree",
          "Professional degree",
          "I prefer not to answer",
          "No formal education past high school"
         ],
         "type": "bar",
         "uid": "768ce773-5ed0-4e8b-8735-fbf62bcdf20f",
         "x": [
          "Master’s degree",
          "Bachelor’s degree",
          "Doctoral degree",
          "Some college/university study without earning a bachelor’s degree",
          "Professional degree",
          "I prefer not to answer",
          "No formal education past high school"
         ],
         "y": [
          10855,
          7083,
          3357,
          967,
          599,
          345,
          232
         ]
        }
       ],
       "layout": {
        "hovermode": "closest",
        "title": "Highest level of formal education",
        "xaxis": {
         "showticklabels": true,
         "tickangle": 15,
         "tickfont": {
          "color": "black",
          "size": 9
         },
         "title": "Education"
        },
        "yaxis": {
         "title": "Number of people"
        }
       }
      },
      "text/html": [
       "<div id=\"008500bf-beef-43dd-af64-1e0e14dc40b6\" style=\"height: 525px; width: 100%;\" class=\"plotly-graph-div\"></div><script type=\"text/javascript\">require([\"plotly\"], function(Plotly) { window.PLOTLYENV=window.PLOTLYENV || {};window.PLOTLYENV.BASE_URL=\"https://plot.ly\";Plotly.newPlot(\"008500bf-beef-43dd-af64-1e0e14dc40b6\", [{\"marker\": {\"color\": \"Magenta\"}, \"text\": [\"Master\\u2019s degree\", \"Bachelor\\u2019s degree\", \"Doctoral degree\", \"Some college/university study without earning a bachelor\\u2019s degree\", \"Professional degree\", \"I prefer not to answer\", \"No formal education past high school\"], \"x\": [\"Master\\u2019s degree\", \"Bachelor\\u2019s degree\", \"Doctoral degree\", \"Some college/university study without earning a bachelor\\u2019s degree\", \"Professional degree\", \"I prefer not to answer\", \"No formal education past high school\"], \"y\": [10855, 7083, 3357, 967, 599, 345, 232], \"type\": \"bar\", \"uid\": \"ef233c4b-9844-4cec-a1fc-5794761d1a15\"}], {\"hovermode\": \"closest\", \"title\": \"Highest level of formal education\", \"xaxis\": {\"showticklabels\": true, \"tickangle\": 15, \"tickfont\": {\"color\": \"black\", \"size\": 9}, \"title\": \"Education\"}, \"yaxis\": {\"title\": \"Number of people\"}}, {\"showLink\": true, \"linkText\": \"Export to plot.ly\", \"plotlyServerURL\": \"https://plot.ly\"})});</script><script type=\"text/javascript\">window.addEventListener(\"resize\", function(){window._Plotly.Plots.resize(document.getElementById(\"008500bf-beef-43dd-af64-1e0e14dc40b6\"));});</script>"
      ],
      "text/vnd.plotly.v1+html": [
       "<div id=\"008500bf-beef-43dd-af64-1e0e14dc40b6\" style=\"height: 525px; width: 100%;\" class=\"plotly-graph-div\"></div><script type=\"text/javascript\">require([\"plotly\"], function(Plotly) { window.PLOTLYENV=window.PLOTLYENV || {};window.PLOTLYENV.BASE_URL=\"https://plot.ly\";Plotly.newPlot(\"008500bf-beef-43dd-af64-1e0e14dc40b6\", [{\"marker\": {\"color\": \"Magenta\"}, \"text\": [\"Master\\u2019s degree\", \"Bachelor\\u2019s degree\", \"Doctoral degree\", \"Some college/university study without earning a bachelor\\u2019s degree\", \"Professional degree\", \"I prefer not to answer\", \"No formal education past high school\"], \"x\": [\"Master\\u2019s degree\", \"Bachelor\\u2019s degree\", \"Doctoral degree\", \"Some college/university study without earning a bachelor\\u2019s degree\", \"Professional degree\", \"I prefer not to answer\", \"No formal education past high school\"], \"y\": [10855, 7083, 3357, 967, 599, 345, 232], \"type\": \"bar\", \"uid\": \"ef233c4b-9844-4cec-a1fc-5794761d1a15\"}], {\"hovermode\": \"closest\", \"title\": \"Highest level of formal education\", \"xaxis\": {\"showticklabels\": true, \"tickangle\": 15, \"tickfont\": {\"color\": \"black\", \"size\": 9}, \"title\": \"Education\"}, \"yaxis\": {\"title\": \"Number of people\"}}, {\"showLink\": true, \"linkText\": \"Export to plot.ly\", \"plotlyServerURL\": \"https://plot.ly\"})});</script><script type=\"text/javascript\">window.addEventListener(\"resize\", function(){window._Plotly.Plots.resize(document.getElementById(\"008500bf-beef-43dd-af64-1e0e14dc40b6\"));});</script>"
      ]
     },
     "metadata": {},
     "output_type": "display_data"
    }
   ],
   "source": [
    "draw_trace_bar(get_categories(multiple_df,'Q4'), \"Highest level of formal education\", \"Education\", \"Number of people\", \"Magenta\")"
   ]
  },
  {
   "cell_type": "code",
   "execution_count": 21,
   "metadata": {
    "_kg_hide-input": true,
    "_uuid": "b6945668d104bafc3a5efb43ce430b44f3db600a",
    "execution": {
     "iopub.execute_input": "2022-12-14T05:38:37.409713Z",
     "iopub.status.busy": "2022-12-14T05:38:37.409114Z",
     "iopub.status.idle": "2022-12-14T05:38:37.664583Z",
     "shell.execute_reply": "2022-12-14T05:38:37.663753Z",
     "shell.execute_reply.started": "2022-12-14T05:38:37.409662Z"
    }
   },
   "outputs": [
    {
     "data": {
      "application/vnd.plotly.v1+json": {
       "config": {
        "linkText": "Export to plot.ly",
        "plotlyServerURL": "https://plot.ly",
        "showLink": true
       },
       "data": [
        {
         "marker": {
          "color": "Green"
         },
         "text": [
          "Computer science (software engineering, etc.)",
          "Engineering (non-computer focused)",
          "Mathematics or statistics",
          "A business discipline (accounting, economics, finance, etc.)",
          "Physics or astronomy",
          "Information technology, networking, or system administration",
          "Medical or life sciences (biology, chemistry, medicine, etc.)",
          "Other",
          "Social sciences (anthropology, psychology, sociology, etc.)",
          "Humanities (history, literature, philosophy, etc.)",
          "Environmental science or geology",
          "I never declared a major",
          "Fine arts or performing arts"
         ],
         "type": "bar",
         "uid": "ecaff32d-2503-430a-8557-698266429a00",
         "x": [
          "Computer science (software engineering, etc.)",
          "Engineering (non-computer focused)",
          "Mathematics or statistics",
          "A business discipline (accounting, economics, finance, etc.)",
          "Physics or astronomy",
          "Information technology, networking, or system administration",
          "Medical or life sciences (biology, chemistry, medicine, etc.)",
          "Other",
          "Social sciences (anthropology, psychology, sociology, etc.)",
          "Humanities (history, literature, philosophy, etc.)",
          "Environmental science or geology",
          "I never declared a major",
          "Fine arts or performing arts"
         ],
         "y": [
          9430,
          3705,
          2950,
          1791,
          1110,
          1029,
          871,
          770,
          554,
          269,
          253,
          128,
          87
         ]
        }
       ],
       "layout": {
        "hovermode": "closest",
        "title": "Undergraduate major (best descrition)",
        "xaxis": {
         "showticklabels": true,
         "tickangle": 15,
         "tickfont": {
          "color": "black",
          "size": 9
         },
         "title": "Undergraduate major"
        },
        "yaxis": {
         "title": "Number of respondents"
        }
       }
      },
      "text/html": [
       "<div id=\"56c75f7b-2d5f-4ebb-bf35-df7f250fb08e\" style=\"height: 525px; width: 100%;\" class=\"plotly-graph-div\"></div><script type=\"text/javascript\">require([\"plotly\"], function(Plotly) { window.PLOTLYENV=window.PLOTLYENV || {};window.PLOTLYENV.BASE_URL=\"https://plot.ly\";Plotly.newPlot(\"56c75f7b-2d5f-4ebb-bf35-df7f250fb08e\", [{\"marker\": {\"color\": \"Green\"}, \"text\": [\"Computer science (software engineering, etc.)\", \"Engineering (non-computer focused)\", \"Mathematics or statistics\", \"A business discipline (accounting, economics, finance, etc.)\", \"Physics or astronomy\", \"Information technology, networking, or system administration\", \"Medical or life sciences (biology, chemistry, medicine, etc.)\", \"Other\", \"Social sciences (anthropology, psychology, sociology, etc.)\", \"Humanities (history, literature, philosophy, etc.)\", \"Environmental science or geology\", \"I never declared a major\", \"Fine arts or performing arts\"], \"x\": [\"Computer science (software engineering, etc.)\", \"Engineering (non-computer focused)\", \"Mathematics or statistics\", \"A business discipline (accounting, economics, finance, etc.)\", \"Physics or astronomy\", \"Information technology, networking, or system administration\", \"Medical or life sciences (biology, chemistry, medicine, etc.)\", \"Other\", \"Social sciences (anthropology, psychology, sociology, etc.)\", \"Humanities (history, literature, philosophy, etc.)\", \"Environmental science or geology\", \"I never declared a major\", \"Fine arts or performing arts\"], \"y\": [9430, 3705, 2950, 1791, 1110, 1029, 871, 770, 554, 269, 253, 128, 87], \"type\": \"bar\", \"uid\": \"f9a4cc28-1dc8-4528-a448-c4bdf7698442\"}], {\"hovermode\": \"closest\", \"title\": \"Undergraduate major (best descrition)\", \"xaxis\": {\"showticklabels\": true, \"tickangle\": 15, \"tickfont\": {\"color\": \"black\", \"size\": 9}, \"title\": \"Undergraduate major\"}, \"yaxis\": {\"title\": \"Number of respondents\"}}, {\"showLink\": true, \"linkText\": \"Export to plot.ly\", \"plotlyServerURL\": \"https://plot.ly\"})});</script><script type=\"text/javascript\">window.addEventListener(\"resize\", function(){window._Plotly.Plots.resize(document.getElementById(\"56c75f7b-2d5f-4ebb-bf35-df7f250fb08e\"));});</script>"
      ],
      "text/vnd.plotly.v1+html": [
       "<div id=\"56c75f7b-2d5f-4ebb-bf35-df7f250fb08e\" style=\"height: 525px; width: 100%;\" class=\"plotly-graph-div\"></div><script type=\"text/javascript\">require([\"plotly\"], function(Plotly) { window.PLOTLYENV=window.PLOTLYENV || {};window.PLOTLYENV.BASE_URL=\"https://plot.ly\";Plotly.newPlot(\"56c75f7b-2d5f-4ebb-bf35-df7f250fb08e\", [{\"marker\": {\"color\": \"Green\"}, \"text\": [\"Computer science (software engineering, etc.)\", \"Engineering (non-computer focused)\", \"Mathematics or statistics\", \"A business discipline (accounting, economics, finance, etc.)\", \"Physics or astronomy\", \"Information technology, networking, or system administration\", \"Medical or life sciences (biology, chemistry, medicine, etc.)\", \"Other\", \"Social sciences (anthropology, psychology, sociology, etc.)\", \"Humanities (history, literature, philosophy, etc.)\", \"Environmental science or geology\", \"I never declared a major\", \"Fine arts or performing arts\"], \"x\": [\"Computer science (software engineering, etc.)\", \"Engineering (non-computer focused)\", \"Mathematics or statistics\", \"A business discipline (accounting, economics, finance, etc.)\", \"Physics or astronomy\", \"Information technology, networking, or system administration\", \"Medical or life sciences (biology, chemistry, medicine, etc.)\", \"Other\", \"Social sciences (anthropology, psychology, sociology, etc.)\", \"Humanities (history, literature, philosophy, etc.)\", \"Environmental science or geology\", \"I never declared a major\", \"Fine arts or performing arts\"], \"y\": [9430, 3705, 2950, 1791, 1110, 1029, 871, 770, 554, 269, 253, 128, 87], \"type\": \"bar\", \"uid\": \"f9a4cc28-1dc8-4528-a448-c4bdf7698442\"}], {\"hovermode\": \"closest\", \"title\": \"Undergraduate major (best descrition)\", \"xaxis\": {\"showticklabels\": true, \"tickangle\": 15, \"tickfont\": {\"color\": \"black\", \"size\": 9}, \"title\": \"Undergraduate major\"}, \"yaxis\": {\"title\": \"Number of respondents\"}}, {\"showLink\": true, \"linkText\": \"Export to plot.ly\", \"plotlyServerURL\": \"https://plot.ly\"})});</script><script type=\"text/javascript\">window.addEventListener(\"resize\", function(){window._Plotly.Plots.resize(document.getElementById(\"56c75f7b-2d5f-4ebb-bf35-df7f250fb08e\"));});</script>"
      ]
     },
     "metadata": {},
     "output_type": "display_data"
    }
   ],
   "source": [
    "draw_trace_bar(get_categories(multiple_df,'Q5'), \"Undergraduate major (best descrition)\", \"Undergraduate major\", \"Number of respondents\", \"Green\")"
   ]
  },
  {
   "cell_type": "code",
   "execution_count": 22,
   "metadata": {
    "_kg_hide-input": true,
    "_uuid": "40ffd1c2e143f05a9ce45992af95260579be967b",
    "execution": {
     "iopub.execute_input": "2022-12-14T05:38:41.496129Z",
     "iopub.status.busy": "2022-12-14T05:38:41.495764Z",
     "iopub.status.idle": "2022-12-14T05:38:41.623205Z",
     "shell.execute_reply": "2022-12-14T05:38:41.622106Z",
     "shell.execute_reply.started": "2022-12-14T05:38:41.496067Z"
    }
   },
   "outputs": [
    {
     "data": {
      "application/vnd.plotly.v1+json": {
       "config": {
        "linkText": "Export to plot.ly",
        "plotlyServerURL": "https://plot.ly",
        "showLink": true
       },
       "data": [
        {
         "marker": {
          "color": "Red"
         },
         "text": [
          "Student",
          "Data Scientist",
          "Software Engineer",
          "Data Analyst",
          "Other",
          "Research Scientist",
          "Not employed",
          "Consultant",
          "Business Analyst",
          "Data Engineer",
          "Research Assistant",
          "Manager",
          "Product/Project Manager",
          "Chief Officer",
          "Statistician",
          "DBA/Database Engineer",
          "Developer Advocate",
          "Marketing Analyst",
          "Salesperson",
          "Principal Investigator",
          "Data Journalist"
         ],
         "type": "bar",
         "uid": "d4295dce-37bf-4aa1-b57f-01defef808a4",
         "x": [
          "Student",
          "Data Scientist",
          "Software Engineer",
          "Data Analyst",
          "Other",
          "Research Scientist",
          "Not employed",
          "Consultant",
          "Business Analyst",
          "Data Engineer",
          "Research Assistant",
          "Manager",
          "Product/Project Manager",
          "Chief Officer",
          "Statistician",
          "DBA/Database Engineer",
          "Developer Advocate",
          "Marketing Analyst",
          "Salesperson",
          "Principal Investigator",
          "Data Journalist"
         ],
         "y": [
          5253,
          4137,
          3130,
          1922,
          1322,
          1189,
          842,
          785,
          772,
          737,
          600,
          590,
          428,
          360,
          237,
          145,
          117,
          115,
          102,
          97,
          20
         ]
        }
       ],
       "layout": {
        "hovermode": "closest",
        "title": "Current title",
        "xaxis": {
         "showticklabels": true,
         "tickangle": 15,
         "tickfont": {
          "color": "black",
          "size": 9
         },
         "title": "Current title"
        },
        "yaxis": {
         "title": "Number of respondents"
        }
       }
      },
      "text/html": [
       "<div id=\"11d48e51-5335-4a58-8690-97d2f0211544\" style=\"height: 525px; width: 100%;\" class=\"plotly-graph-div\"></div><script type=\"text/javascript\">require([\"plotly\"], function(Plotly) { window.PLOTLYENV=window.PLOTLYENV || {};window.PLOTLYENV.BASE_URL=\"https://plot.ly\";Plotly.newPlot(\"11d48e51-5335-4a58-8690-97d2f0211544\", [{\"marker\": {\"color\": \"Red\"}, \"text\": [\"Student\", \"Data Scientist\", \"Software Engineer\", \"Data Analyst\", \"Other\", \"Research Scientist\", \"Not employed\", \"Consultant\", \"Business Analyst\", \"Data Engineer\", \"Research Assistant\", \"Manager\", \"Product/Project Manager\", \"Chief Officer\", \"Statistician\", \"DBA/Database Engineer\", \"Developer Advocate\", \"Marketing Analyst\", \"Salesperson\", \"Principal Investigator\", \"Data Journalist\"], \"x\": [\"Student\", \"Data Scientist\", \"Software Engineer\", \"Data Analyst\", \"Other\", \"Research Scientist\", \"Not employed\", \"Consultant\", \"Business Analyst\", \"Data Engineer\", \"Research Assistant\", \"Manager\", \"Product/Project Manager\", \"Chief Officer\", \"Statistician\", \"DBA/Database Engineer\", \"Developer Advocate\", \"Marketing Analyst\", \"Salesperson\", \"Principal Investigator\", \"Data Journalist\"], \"y\": [5253, 4137, 3130, 1922, 1322, 1189, 842, 785, 772, 737, 600, 590, 428, 360, 237, 145, 117, 115, 102, 97, 20], \"type\": \"bar\", \"uid\": \"1624b5ae-1ec5-4931-a8e6-e53d029780f6\"}], {\"hovermode\": \"closest\", \"title\": \"Current title\", \"xaxis\": {\"showticklabels\": true, \"tickangle\": 15, \"tickfont\": {\"color\": \"black\", \"size\": 9}, \"title\": \"Current title\"}, \"yaxis\": {\"title\": \"Number of respondents\"}}, {\"showLink\": true, \"linkText\": \"Export to plot.ly\", \"plotlyServerURL\": \"https://plot.ly\"})});</script><script type=\"text/javascript\">window.addEventListener(\"resize\", function(){window._Plotly.Plots.resize(document.getElementById(\"11d48e51-5335-4a58-8690-97d2f0211544\"));});</script>"
      ],
      "text/vnd.plotly.v1+html": [
       "<div id=\"11d48e51-5335-4a58-8690-97d2f0211544\" style=\"height: 525px; width: 100%;\" class=\"plotly-graph-div\"></div><script type=\"text/javascript\">require([\"plotly\"], function(Plotly) { window.PLOTLYENV=window.PLOTLYENV || {};window.PLOTLYENV.BASE_URL=\"https://plot.ly\";Plotly.newPlot(\"11d48e51-5335-4a58-8690-97d2f0211544\", [{\"marker\": {\"color\": \"Red\"}, \"text\": [\"Student\", \"Data Scientist\", \"Software Engineer\", \"Data Analyst\", \"Other\", \"Research Scientist\", \"Not employed\", \"Consultant\", \"Business Analyst\", \"Data Engineer\", \"Research Assistant\", \"Manager\", \"Product/Project Manager\", \"Chief Officer\", \"Statistician\", \"DBA/Database Engineer\", \"Developer Advocate\", \"Marketing Analyst\", \"Salesperson\", \"Principal Investigator\", \"Data Journalist\"], \"x\": [\"Student\", \"Data Scientist\", \"Software Engineer\", \"Data Analyst\", \"Other\", \"Research Scientist\", \"Not employed\", \"Consultant\", \"Business Analyst\", \"Data Engineer\", \"Research Assistant\", \"Manager\", \"Product/Project Manager\", \"Chief Officer\", \"Statistician\", \"DBA/Database Engineer\", \"Developer Advocate\", \"Marketing Analyst\", \"Salesperson\", \"Principal Investigator\", \"Data Journalist\"], \"y\": [5253, 4137, 3130, 1922, 1322, 1189, 842, 785, 772, 737, 600, 590, 428, 360, 237, 145, 117, 115, 102, 97, 20], \"type\": \"bar\", \"uid\": \"1624b5ae-1ec5-4931-a8e6-e53d029780f6\"}], {\"hovermode\": \"closest\", \"title\": \"Current title\", \"xaxis\": {\"showticklabels\": true, \"tickangle\": 15, \"tickfont\": {\"color\": \"black\", \"size\": 9}, \"title\": \"Current title\"}, \"yaxis\": {\"title\": \"Number of respondents\"}}, {\"showLink\": true, \"linkText\": \"Export to plot.ly\", \"plotlyServerURL\": \"https://plot.ly\"})});</script><script type=\"text/javascript\">window.addEventListener(\"resize\", function(){window._Plotly.Plots.resize(document.getElementById(\"11d48e51-5335-4a58-8690-97d2f0211544\"));});</script>"
      ]
     },
     "metadata": {},
     "output_type": "display_data"
    }
   ],
   "source": [
    "draw_trace_bar(get_categories(multiple_df,'Q6'), \"Current title\", \"Current title\", \"Number of respondents\", \"Red\")"
   ]
  },
  {
   "cell_type": "code",
   "execution_count": 23,
   "metadata": {
    "_kg_hide-input": true,
    "_uuid": "c1b96908131f0e0e27fbd964ada195690dd9f221",
    "execution": {
     "iopub.execute_input": "2022-12-14T05:38:45.265166Z",
     "iopub.status.busy": "2022-12-14T05:38:45.264618Z",
     "iopub.status.idle": "2022-12-14T05:38:45.394284Z",
     "shell.execute_reply": "2022-12-14T05:38:45.393345Z",
     "shell.execute_reply.started": "2022-12-14T05:38:45.265105Z"
    }
   },
   "outputs": [
    {
     "data": {
      "application/vnd.plotly.v1+json": {
       "config": {
        "linkText": "Export to plot.ly",
        "plotlyServerURL": "https://plot.ly",
        "showLink": true
       },
       "data": [
        {
         "marker": {
          "color": "Tomato"
         },
         "text": [
          "Computers/Technology",
          "I am a student",
          "Academics/Education",
          "Accounting/Finance",
          "Other",
          "Online Service/Internet-based Services",
          "Medical/Pharmaceutical",
          "Government/Public Service",
          "Insurance/Risk Assessment",
          "Manufacturing/Fabrication",
          "Marketing/CRM",
          "Retail/Sales",
          "Energy/Mining",
          "Broadcasting/Communications",
          "Online Business/Internet-based Sales",
          "Shipping/Transportation",
          "Non-profit/Service",
          "Military/Security/Defense",
          "Hospitality/Entertainment/Sports"
         ],
         "type": "bar",
         "uid": "979e4bcf-81f9-49c0-9738-c5f5a9637c6b",
         "x": [
          "Computers/Technology",
          "I am a student",
          "Academics/Education",
          "Accounting/Finance",
          "Other",
          "Online Service/Internet-based Services",
          "Medical/Pharmaceutical",
          "Government/Public Service",
          "Insurance/Risk Assessment",
          "Manufacturing/Fabrication",
          "Marketing/CRM",
          "Retail/Sales",
          "Energy/Mining",
          "Broadcasting/Communications",
          "Online Business/Internet-based Sales",
          "Shipping/Transportation",
          "Non-profit/Service",
          "Military/Security/Defense",
          "Hospitality/Entertainment/Sports"
         ],
         "y": [
          5584,
          4658,
          2749,
          1433,
          940,
          871,
          751,
          636,
          564,
          563,
          483,
          454,
          447,
          374,
          357,
          278,
          189,
          177,
          177
         ]
        }
       ],
       "layout": {
        "hovermode": "closest",
        "title": "Current employer industry",
        "xaxis": {
         "showticklabels": true,
         "tickangle": 15,
         "tickfont": {
          "color": "black",
          "size": 9
         },
         "title": "Current employer industry"
        },
        "yaxis": {
         "title": "Number of respondents"
        }
       }
      },
      "text/html": [
       "<div id=\"da9e38a0-5e08-49f7-82af-e575e2391766\" style=\"height: 525px; width: 100%;\" class=\"plotly-graph-div\"></div><script type=\"text/javascript\">require([\"plotly\"], function(Plotly) { window.PLOTLYENV=window.PLOTLYENV || {};window.PLOTLYENV.BASE_URL=\"https://plot.ly\";Plotly.newPlot(\"da9e38a0-5e08-49f7-82af-e575e2391766\", [{\"marker\": {\"color\": \"Tomato\"}, \"text\": [\"Computers/Technology\", \"I am a student\", \"Academics/Education\", \"Accounting/Finance\", \"Other\", \"Online Service/Internet-based Services\", \"Medical/Pharmaceutical\", \"Government/Public Service\", \"Insurance/Risk Assessment\", \"Manufacturing/Fabrication\", \"Marketing/CRM\", \"Retail/Sales\", \"Energy/Mining\", \"Broadcasting/Communications\", \"Online Business/Internet-based Sales\", \"Shipping/Transportation\", \"Non-profit/Service\", \"Military/Security/Defense\", \"Hospitality/Entertainment/Sports\"], \"x\": [\"Computers/Technology\", \"I am a student\", \"Academics/Education\", \"Accounting/Finance\", \"Other\", \"Online Service/Internet-based Services\", \"Medical/Pharmaceutical\", \"Government/Public Service\", \"Insurance/Risk Assessment\", \"Manufacturing/Fabrication\", \"Marketing/CRM\", \"Retail/Sales\", \"Energy/Mining\", \"Broadcasting/Communications\", \"Online Business/Internet-based Sales\", \"Shipping/Transportation\", \"Non-profit/Service\", \"Military/Security/Defense\", \"Hospitality/Entertainment/Sports\"], \"y\": [5584, 4658, 2749, 1433, 940, 871, 751, 636, 564, 563, 483, 454, 447, 374, 357, 278, 189, 177, 177], \"type\": \"bar\", \"uid\": \"ccb224b7-9656-4195-a4b3-21502003a800\"}], {\"hovermode\": \"closest\", \"title\": \"Current employer industry\", \"xaxis\": {\"showticklabels\": true, \"tickangle\": 15, \"tickfont\": {\"color\": \"black\", \"size\": 9}, \"title\": \"Current employer industry\"}, \"yaxis\": {\"title\": \"Number of respondents\"}}, {\"showLink\": true, \"linkText\": \"Export to plot.ly\", \"plotlyServerURL\": \"https://plot.ly\"})});</script><script type=\"text/javascript\">window.addEventListener(\"resize\", function(){window._Plotly.Plots.resize(document.getElementById(\"da9e38a0-5e08-49f7-82af-e575e2391766\"));});</script>"
      ],
      "text/vnd.plotly.v1+html": [
       "<div id=\"da9e38a0-5e08-49f7-82af-e575e2391766\" style=\"height: 525px; width: 100%;\" class=\"plotly-graph-div\"></div><script type=\"text/javascript\">require([\"plotly\"], function(Plotly) { window.PLOTLYENV=window.PLOTLYENV || {};window.PLOTLYENV.BASE_URL=\"https://plot.ly\";Plotly.newPlot(\"da9e38a0-5e08-49f7-82af-e575e2391766\", [{\"marker\": {\"color\": \"Tomato\"}, \"text\": [\"Computers/Technology\", \"I am a student\", \"Academics/Education\", \"Accounting/Finance\", \"Other\", \"Online Service/Internet-based Services\", \"Medical/Pharmaceutical\", \"Government/Public Service\", \"Insurance/Risk Assessment\", \"Manufacturing/Fabrication\", \"Marketing/CRM\", \"Retail/Sales\", \"Energy/Mining\", \"Broadcasting/Communications\", \"Online Business/Internet-based Sales\", \"Shipping/Transportation\", \"Non-profit/Service\", \"Military/Security/Defense\", \"Hospitality/Entertainment/Sports\"], \"x\": [\"Computers/Technology\", \"I am a student\", \"Academics/Education\", \"Accounting/Finance\", \"Other\", \"Online Service/Internet-based Services\", \"Medical/Pharmaceutical\", \"Government/Public Service\", \"Insurance/Risk Assessment\", \"Manufacturing/Fabrication\", \"Marketing/CRM\", \"Retail/Sales\", \"Energy/Mining\", \"Broadcasting/Communications\", \"Online Business/Internet-based Sales\", \"Shipping/Transportation\", \"Non-profit/Service\", \"Military/Security/Defense\", \"Hospitality/Entertainment/Sports\"], \"y\": [5584, 4658, 2749, 1433, 940, 871, 751, 636, 564, 563, 483, 454, 447, 374, 357, 278, 189, 177, 177], \"type\": \"bar\", \"uid\": \"ccb224b7-9656-4195-a4b3-21502003a800\"}], {\"hovermode\": \"closest\", \"title\": \"Current employer industry\", \"xaxis\": {\"showticklabels\": true, \"tickangle\": 15, \"tickfont\": {\"color\": \"black\", \"size\": 9}, \"title\": \"Current employer industry\"}, \"yaxis\": {\"title\": \"Number of respondents\"}}, {\"showLink\": true, \"linkText\": \"Export to plot.ly\", \"plotlyServerURL\": \"https://plot.ly\"})});</script><script type=\"text/javascript\">window.addEventListener(\"resize\", function(){window._Plotly.Plots.resize(document.getElementById(\"da9e38a0-5e08-49f7-82af-e575e2391766\"));});</script>"
      ]
     },
     "metadata": {},
     "output_type": "display_data"
    }
   ],
   "source": [
    "draw_trace_bar(get_categories(multiple_df,'Q7'), \"Current employer industry\", \"Current employer industry\", \"Number of respondents\", \"Tomato\")"
   ]
  },
  {
   "cell_type": "code",
   "execution_count": 24,
   "metadata": {
    "_kg_hide-input": true,
    "_uuid": "6d9b2401c8d6f21426e17e53faf7ab691779b7a1",
    "execution": {
     "iopub.execute_input": "2022-12-14T05:38:56.096950Z",
     "iopub.status.busy": "2022-12-14T05:38:56.096274Z",
     "iopub.status.idle": "2022-12-14T05:38:56.236580Z",
     "shell.execute_reply": "2022-12-14T05:38:56.235328Z",
     "shell.execute_reply.started": "2022-12-14T05:38:56.096865Z"
    }
   },
   "outputs": [
    {
     "data": {
      "application/vnd.plotly.v1+json": {
       "config": {
        "linkText": "Export to plot.ly",
        "plotlyServerURL": "https://plot.ly",
        "showLink": true
       },
       "data": [
        {
         "marker": {
          "color": "Lightblue"
         },
         "text": [
          "0-1",
          "1-2",
          "2-3",
          "5-10",
          "3-4",
          "10-15",
          "4-5",
          "15-20",
          "20-25",
          "30 +",
          "25-30"
         ],
         "type": "bar",
         "uid": "b536571f-cabc-40fb-bed4-43ad8fdf0930",
         "x": [
          "0-1",
          "1-2",
          "2-3",
          "5-10",
          "3-4",
          "10-15",
          "4-5",
          "15-20",
          "20-25",
          "30 +",
          "25-30"
         ],
         "y": [
          5898,
          3745,
          2577,
          2524,
          1751,
          1512,
          1488,
          854,
          384,
          197,
          171
         ]
        }
       ],
       "layout": {
        "hovermode": "closest",
        "title": "Years of experience in the current employer industry",
        "xaxis": {
         "showticklabels": true,
         "tickangle": 15,
         "tickfont": {
          "color": "black",
          "size": 9
         },
         "title": "Years of experience"
        },
        "yaxis": {
         "title": "Number of respondents"
        }
       }
      },
      "text/html": [
       "<div id=\"9ad84374-05f1-4381-b315-be09f14a9c66\" style=\"height: 525px; width: 100%;\" class=\"plotly-graph-div\"></div><script type=\"text/javascript\">require([\"plotly\"], function(Plotly) { window.PLOTLYENV=window.PLOTLYENV || {};window.PLOTLYENV.BASE_URL=\"https://plot.ly\";Plotly.newPlot(\"9ad84374-05f1-4381-b315-be09f14a9c66\", [{\"marker\": {\"color\": \"Lightblue\"}, \"text\": [\"0-1\", \"1-2\", \"2-3\", \"5-10\", \"3-4\", \"10-15\", \"4-5\", \"15-20\", \"20-25\", \"30 +\", \"25-30\"], \"x\": [\"0-1\", \"1-2\", \"2-3\", \"5-10\", \"3-4\", \"10-15\", \"4-5\", \"15-20\", \"20-25\", \"30 +\", \"25-30\"], \"y\": [5898, 3745, 2577, 2524, 1751, 1512, 1488, 854, 384, 197, 171], \"type\": \"bar\", \"uid\": \"b30cd1d7-1525-489a-aa37-bda7666519ed\"}], {\"hovermode\": \"closest\", \"title\": \"Years of experience in the current employer industry\", \"xaxis\": {\"showticklabels\": true, \"tickangle\": 15, \"tickfont\": {\"color\": \"black\", \"size\": 9}, \"title\": \"Years of experience\"}, \"yaxis\": {\"title\": \"Number of respondents\"}}, {\"showLink\": true, \"linkText\": \"Export to plot.ly\", \"plotlyServerURL\": \"https://plot.ly\"})});</script><script type=\"text/javascript\">window.addEventListener(\"resize\", function(){window._Plotly.Plots.resize(document.getElementById(\"9ad84374-05f1-4381-b315-be09f14a9c66\"));});</script>"
      ],
      "text/vnd.plotly.v1+html": [
       "<div id=\"9ad84374-05f1-4381-b315-be09f14a9c66\" style=\"height: 525px; width: 100%;\" class=\"plotly-graph-div\"></div><script type=\"text/javascript\">require([\"plotly\"], function(Plotly) { window.PLOTLYENV=window.PLOTLYENV || {};window.PLOTLYENV.BASE_URL=\"https://plot.ly\";Plotly.newPlot(\"9ad84374-05f1-4381-b315-be09f14a9c66\", [{\"marker\": {\"color\": \"Lightblue\"}, \"text\": [\"0-1\", \"1-2\", \"2-3\", \"5-10\", \"3-4\", \"10-15\", \"4-5\", \"15-20\", \"20-25\", \"30 +\", \"25-30\"], \"x\": [\"0-1\", \"1-2\", \"2-3\", \"5-10\", \"3-4\", \"10-15\", \"4-5\", \"15-20\", \"20-25\", \"30 +\", \"25-30\"], \"y\": [5898, 3745, 2577, 2524, 1751, 1512, 1488, 854, 384, 197, 171], \"type\": \"bar\", \"uid\": \"b30cd1d7-1525-489a-aa37-bda7666519ed\"}], {\"hovermode\": \"closest\", \"title\": \"Years of experience in the current employer industry\", \"xaxis\": {\"showticklabels\": true, \"tickangle\": 15, \"tickfont\": {\"color\": \"black\", \"size\": 9}, \"title\": \"Years of experience\"}, \"yaxis\": {\"title\": \"Number of respondents\"}}, {\"showLink\": true, \"linkText\": \"Export to plot.ly\", \"plotlyServerURL\": \"https://plot.ly\"})});</script><script type=\"text/javascript\">window.addEventListener(\"resize\", function(){window._Plotly.Plots.resize(document.getElementById(\"9ad84374-05f1-4381-b315-be09f14a9c66\"));});</script>"
      ]
     },
     "metadata": {},
     "output_type": "display_data"
    }
   ],
   "source": [
    "draw_trace_bar(get_categories(multiple_df,'Q8'), \"Years of experience in the current employer industry\", \"Years of experience\", \"Number of respondents\", \"Lightblue\")"
   ]
  },
  {
   "cell_type": "code",
   "execution_count": 25,
   "metadata": {
    "_kg_hide-input": true,
    "_uuid": "40cd7d7e7e840040ea959ac80517f80cfd4fd94c",
    "execution": {
     "iopub.execute_input": "2022-12-14T05:39:03.628178Z",
     "iopub.status.busy": "2022-12-14T05:39:03.627513Z",
     "iopub.status.idle": "2022-12-14T05:39:03.763758Z",
     "shell.execute_reply": "2022-12-14T05:39:03.762957Z",
     "shell.execute_reply.started": "2022-12-14T05:39:03.628122Z"
    }
   },
   "outputs": [
    {
     "data": {
      "application/vnd.plotly.v1+json": {
       "config": {
        "linkText": "Export to plot.ly",
        "plotlyServerURL": "https://plot.ly",
        "showLink": true
       },
       "data": [
        {
         "marker": {
          "color": "Gold"
         },
         "text": [
          "I do not wish to disclose my approximate yearly compensation",
          "0-10,000",
          "10-20,000",
          "20-30,000",
          "30-40,000",
          "40-50,000",
          "50-60,000",
          "100-125,000",
          "60-70,000",
          "70-80,000",
          "90-100,000",
          "125-150,000",
          "80-90,000",
          "150-200,000",
          "200-250,000",
          "250-300,000",
          "500,000+",
          "300-400,000",
          "400-500,000"
         ],
         "type": "bar",
         "uid": "32386b01-6067-49ca-9c0a-92666a593994",
         "x": [
          "I do not wish to disclose my approximate yearly compensation",
          "0-10,000",
          "10-20,000",
          "20-30,000",
          "30-40,000",
          "40-50,000",
          "50-60,000",
          "100-125,000",
          "60-70,000",
          "70-80,000",
          "90-100,000",
          "125-150,000",
          "80-90,000",
          "150-200,000",
          "200-250,000",
          "250-300,000",
          "500,000+",
          "300-400,000",
          "400-500,000"
         ],
         "y": [
          4756,
          4398,
          1937,
          1395,
          1119,
          965,
          919,
          843,
          729,
          677,
          566,
          533,
          506,
          457,
          172,
          75,
          63,
          52,
          23
         ]
        }
       ],
       "layout": {
        "hovermode": "closest",
        "title": "Current yearly compensation",
        "xaxis": {
         "showticklabels": true,
         "tickangle": 15,
         "tickfont": {
          "color": "black",
          "size": 9
         },
         "title": "Current yearly compensation"
        },
        "yaxis": {
         "title": "Number of respondents"
        }
       }
      },
      "text/html": [
       "<div id=\"dcd1c609-4609-46e7-816a-a3fcaa336d9c\" style=\"height: 525px; width: 100%;\" class=\"plotly-graph-div\"></div><script type=\"text/javascript\">require([\"plotly\"], function(Plotly) { window.PLOTLYENV=window.PLOTLYENV || {};window.PLOTLYENV.BASE_URL=\"https://plot.ly\";Plotly.newPlot(\"dcd1c609-4609-46e7-816a-a3fcaa336d9c\", [{\"marker\": {\"color\": \"Gold\"}, \"text\": [\"I do not wish to disclose my approximate yearly compensation\", \"0-10,000\", \"10-20,000\", \"20-30,000\", \"30-40,000\", \"40-50,000\", \"50-60,000\", \"100-125,000\", \"60-70,000\", \"70-80,000\", \"90-100,000\", \"125-150,000\", \"80-90,000\", \"150-200,000\", \"200-250,000\", \"250-300,000\", \"500,000+\", \"300-400,000\", \"400-500,000\"], \"x\": [\"I do not wish to disclose my approximate yearly compensation\", \"0-10,000\", \"10-20,000\", \"20-30,000\", \"30-40,000\", \"40-50,000\", \"50-60,000\", \"100-125,000\", \"60-70,000\", \"70-80,000\", \"90-100,000\", \"125-150,000\", \"80-90,000\", \"150-200,000\", \"200-250,000\", \"250-300,000\", \"500,000+\", \"300-400,000\", \"400-500,000\"], \"y\": [4756, 4398, 1937, 1395, 1119, 965, 919, 843, 729, 677, 566, 533, 506, 457, 172, 75, 63, 52, 23], \"type\": \"bar\", \"uid\": \"c2ada11e-7dad-4b8d-a5af-371ed646869a\"}], {\"hovermode\": \"closest\", \"title\": \"Current yearly compensation\", \"xaxis\": {\"showticklabels\": true, \"tickangle\": 15, \"tickfont\": {\"color\": \"black\", \"size\": 9}, \"title\": \"Current yearly compensation\"}, \"yaxis\": {\"title\": \"Number of respondents\"}}, {\"showLink\": true, \"linkText\": \"Export to plot.ly\", \"plotlyServerURL\": \"https://plot.ly\"})});</script><script type=\"text/javascript\">window.addEventListener(\"resize\", function(){window._Plotly.Plots.resize(document.getElementById(\"dcd1c609-4609-46e7-816a-a3fcaa336d9c\"));});</script>"
      ],
      "text/vnd.plotly.v1+html": [
       "<div id=\"dcd1c609-4609-46e7-816a-a3fcaa336d9c\" style=\"height: 525px; width: 100%;\" class=\"plotly-graph-div\"></div><script type=\"text/javascript\">require([\"plotly\"], function(Plotly) { window.PLOTLYENV=window.PLOTLYENV || {};window.PLOTLYENV.BASE_URL=\"https://plot.ly\";Plotly.newPlot(\"dcd1c609-4609-46e7-816a-a3fcaa336d9c\", [{\"marker\": {\"color\": \"Gold\"}, \"text\": [\"I do not wish to disclose my approximate yearly compensation\", \"0-10,000\", \"10-20,000\", \"20-30,000\", \"30-40,000\", \"40-50,000\", \"50-60,000\", \"100-125,000\", \"60-70,000\", \"70-80,000\", \"90-100,000\", \"125-150,000\", \"80-90,000\", \"150-200,000\", \"200-250,000\", \"250-300,000\", \"500,000+\", \"300-400,000\", \"400-500,000\"], \"x\": [\"I do not wish to disclose my approximate yearly compensation\", \"0-10,000\", \"10-20,000\", \"20-30,000\", \"30-40,000\", \"40-50,000\", \"50-60,000\", \"100-125,000\", \"60-70,000\", \"70-80,000\", \"90-100,000\", \"125-150,000\", \"80-90,000\", \"150-200,000\", \"200-250,000\", \"250-300,000\", \"500,000+\", \"300-400,000\", \"400-500,000\"], \"y\": [4756, 4398, 1937, 1395, 1119, 965, 919, 843, 729, 677, 566, 533, 506, 457, 172, 75, 63, 52, 23], \"type\": \"bar\", \"uid\": \"c2ada11e-7dad-4b8d-a5af-371ed646869a\"}], {\"hovermode\": \"closest\", \"title\": \"Current yearly compensation\", \"xaxis\": {\"showticklabels\": true, \"tickangle\": 15, \"tickfont\": {\"color\": \"black\", \"size\": 9}, \"title\": \"Current yearly compensation\"}, \"yaxis\": {\"title\": \"Number of respondents\"}}, {\"showLink\": true, \"linkText\": \"Export to plot.ly\", \"plotlyServerURL\": \"https://plot.ly\"})});</script><script type=\"text/javascript\">window.addEventListener(\"resize\", function(){window._Plotly.Plots.resize(document.getElementById(\"dcd1c609-4609-46e7-816a-a3fcaa336d9c\"));});</script>"
      ]
     },
     "metadata": {},
     "output_type": "display_data"
    }
   ],
   "source": [
    "draw_trace_bar(get_categories(multiple_df,'Q9'), \"Current yearly compensation\", \"Current yearly compensation\", \"Number of respondents\", \"Gold\")"
   ]
  },
  {
   "cell_type": "code",
   "execution_count": 26,
   "metadata": {
    "_kg_hide-input": true,
    "_uuid": "d2b9c8cd02ecfa90dd2c2b9e064606d9bb54b71d",
    "execution": {
     "iopub.execute_input": "2022-12-14T05:39:08.682011Z",
     "iopub.status.busy": "2022-12-14T05:39:08.681359Z",
     "iopub.status.idle": "2022-12-14T05:39:08.815500Z",
     "shell.execute_reply": "2022-12-14T05:39:08.814458Z",
     "shell.execute_reply.started": "2022-12-14T05:39:08.681954Z"
    }
   },
   "outputs": [
    {
     "data": {
      "application/vnd.plotly.v1+json": {
       "config": {
        "linkText": "Export to plot.ly",
        "plotlyServerURL": "https://plot.ly",
        "showLink": true
       },
       "data": [
        {
         "marker": {
          "color": "Brown"
         },
         "text": [
          "We are exploring ML methods (and may one day put a model into production)",
          "No (we do not use ML methods)",
          "We recently started using ML methods (i.e., models in production for less than 2 years)",
          "I do not know",
          "We have well established ML methods (i.e., models in production for more than 2 years)",
          "We use ML methods for generating insights (but do not put working models into production)"
         ],
         "type": "bar",
         "uid": "f0fc60b1-49ed-40a0-880c-9acab5a9e4f8",
         "x": [
          "We are exploring ML methods (and may one day put a model into production)",
          "No (we do not use ML methods)",
          "We recently started using ML methods (i.e., models in production for less than 2 years)",
          "I do not know",
          "We have well established ML methods (i.e., models in production for more than 2 years)",
          "We use ML methods for generating insights (but do not put working models into production)"
         ],
         "y": [
          4688,
          4411,
          3790,
          2893,
          2782,
          2105
         ]
        }
       ],
       "layout": {
        "hovermode": "closest",
        "title": "Does the current employer uses machine learning",
        "xaxis": {
         "showticklabels": true,
         "tickangle": 15,
         "tickfont": {
          "color": "black",
          "size": 9
         },
         "title": "Use of machine learning"
        },
        "yaxis": {
         "title": "Number of respondents"
        }
       }
      },
      "text/html": [
       "<div id=\"317969ef-1e29-4641-81e0-0374a66e4347\" style=\"height: 525px; width: 100%;\" class=\"plotly-graph-div\"></div><script type=\"text/javascript\">require([\"plotly\"], function(Plotly) { window.PLOTLYENV=window.PLOTLYENV || {};window.PLOTLYENV.BASE_URL=\"https://plot.ly\";Plotly.newPlot(\"317969ef-1e29-4641-81e0-0374a66e4347\", [{\"marker\": {\"color\": \"Brown\"}, \"text\": [\"We are exploring ML methods (and may one day put a model into production)\", \"No (we do not use ML methods)\", \"We recently started using ML methods (i.e., models in production for less than 2 years)\", \"I do not know\", \"We have well established ML methods (i.e., models in production for more than 2 years)\", \"We use ML methods for generating insights (but do not put working models into production)\"], \"x\": [\"We are exploring ML methods (and may one day put a model into production)\", \"No (we do not use ML methods)\", \"We recently started using ML methods (i.e., models in production for less than 2 years)\", \"I do not know\", \"We have well established ML methods (i.e., models in production for more than 2 years)\", \"We use ML methods for generating insights (but do not put working models into production)\"], \"y\": [4688, 4411, 3790, 2893, 2782, 2105], \"type\": \"bar\", \"uid\": \"1a700f88-14d7-469a-a7cf-ad3e83f18124\"}], {\"hovermode\": \"closest\", \"title\": \"Does the current employer uses machine learning\", \"xaxis\": {\"showticklabels\": true, \"tickangle\": 15, \"tickfont\": {\"color\": \"black\", \"size\": 9}, \"title\": \"Use of machine learning\"}, \"yaxis\": {\"title\": \"Number of respondents\"}}, {\"showLink\": true, \"linkText\": \"Export to plot.ly\", \"plotlyServerURL\": \"https://plot.ly\"})});</script><script type=\"text/javascript\">window.addEventListener(\"resize\", function(){window._Plotly.Plots.resize(document.getElementById(\"317969ef-1e29-4641-81e0-0374a66e4347\"));});</script>"
      ],
      "text/vnd.plotly.v1+html": [
       "<div id=\"317969ef-1e29-4641-81e0-0374a66e4347\" style=\"height: 525px; width: 100%;\" class=\"plotly-graph-div\"></div><script type=\"text/javascript\">require([\"plotly\"], function(Plotly) { window.PLOTLYENV=window.PLOTLYENV || {};window.PLOTLYENV.BASE_URL=\"https://plot.ly\";Plotly.newPlot(\"317969ef-1e29-4641-81e0-0374a66e4347\", [{\"marker\": {\"color\": \"Brown\"}, \"text\": [\"We are exploring ML methods (and may one day put a model into production)\", \"No (we do not use ML methods)\", \"We recently started using ML methods (i.e., models in production for less than 2 years)\", \"I do not know\", \"We have well established ML methods (i.e., models in production for more than 2 years)\", \"We use ML methods for generating insights (but do not put working models into production)\"], \"x\": [\"We are exploring ML methods (and may one day put a model into production)\", \"No (we do not use ML methods)\", \"We recently started using ML methods (i.e., models in production for less than 2 years)\", \"I do not know\", \"We have well established ML methods (i.e., models in production for more than 2 years)\", \"We use ML methods for generating insights (but do not put working models into production)\"], \"y\": [4688, 4411, 3790, 2893, 2782, 2105], \"type\": \"bar\", \"uid\": \"1a700f88-14d7-469a-a7cf-ad3e83f18124\"}], {\"hovermode\": \"closest\", \"title\": \"Does the current employer uses machine learning\", \"xaxis\": {\"showticklabels\": true, \"tickangle\": 15, \"tickfont\": {\"color\": \"black\", \"size\": 9}, \"title\": \"Use of machine learning\"}, \"yaxis\": {\"title\": \"Number of respondents\"}}, {\"showLink\": true, \"linkText\": \"Export to plot.ly\", \"plotlyServerURL\": \"https://plot.ly\"})});</script><script type=\"text/javascript\">window.addEventListener(\"resize\", function(){window._Plotly.Plots.resize(document.getElementById(\"317969ef-1e29-4641-81e0-0374a66e4347\"));});</script>"
      ]
     },
     "metadata": {},
     "output_type": "display_data"
    }
   ],
   "source": [
    "draw_trace_bar(get_categories(multiple_df,'Q10'), \"Does the current employer uses machine learning\", \"Use of machine learning\", \"Number of respondents\", \"Brown\")"
   ]
  },
  {
   "cell_type": "code",
   "execution_count": 27,
   "metadata": {
    "_kg_hide-input": true,
    "_uuid": "c77148701fbef94f8c826e2a9dad37247ec90dd3",
    "execution": {
     "iopub.execute_input": "2022-12-14T05:39:13.823788Z",
     "iopub.status.busy": "2022-12-14T05:39:13.823410Z",
     "iopub.status.idle": "2022-12-14T05:39:14.121644Z",
     "shell.execute_reply": "2022-12-14T05:39:14.120500Z",
     "shell.execute_reply.started": "2022-12-14T05:39:13.823730Z"
    }
   },
   "outputs": [
    {
     "data": {
      "application/vnd.plotly.v1+json": {
       "config": {
        "linkText": "Export to plot.ly",
        "plotlyServerURL": "https://plot.ly",
        "showLink": true
       },
       "data": [
        {
         "marker": {
          "color": "Yellow"
         },
         "text": [
          "50% to 74% of my time",
          "25% to 49% of my time",
          "1% to 25% of my time",
          "75% to 99% of my time",
          "0% of my time",
          "100% of my time"
         ],
         "type": "bar",
         "uid": "812019b5-f6d5-4c73-9ae2-a81cd0348109",
         "x": [
          "50% to 74% of my time",
          "25% to 49% of my time",
          "1% to 25% of my time",
          "75% to 99% of my time",
          "0% of my time",
          "100% of my time"
         ],
         "y": [
          5539,
          5015,
          4197,
          2768,
          544,
          484
         ]
        }
       ],
       "layout": {
        "hovermode": "closest",
        "title": "Approximately what percent of your time at work or school is spent actively coding?",
        "xaxis": {
         "showticklabels": true,
         "tickangle": 15,
         "tickfont": {
          "color": "black",
          "size": 9
         },
         "title": "Option"
        },
        "yaxis": {
         "title": "Number of respondents"
        }
       }
      },
      "text/html": [
       "<div id=\"8db72add-c480-4b8d-84d3-f3360c7eec3f\" style=\"height: 525px; width: 100%;\" class=\"plotly-graph-div\"></div><script type=\"text/javascript\">require([\"plotly\"], function(Plotly) { window.PLOTLYENV=window.PLOTLYENV || {};window.PLOTLYENV.BASE_URL=\"https://plot.ly\";Plotly.newPlot(\"8db72add-c480-4b8d-84d3-f3360c7eec3f\", [{\"marker\": {\"color\": \"Yellow\"}, \"text\": [\"50% to 74% of my time\", \"25% to 49% of my time\", \"1% to 25% of my time\", \"75% to 99% of my time\", \"0% of my time\", \"100% of my time\"], \"x\": [\"50% to 74% of my time\", \"25% to 49% of my time\", \"1% to 25% of my time\", \"75% to 99% of my time\", \"0% of my time\", \"100% of my time\"], \"y\": [5539, 5015, 4197, 2768, 544, 484], \"type\": \"bar\", \"uid\": \"4aac0fd1-8d95-45ef-85bd-2c17c18dbf06\"}], {\"hovermode\": \"closest\", \"title\": \"Approximately what percent of your time at work or school is spent actively coding?\", \"xaxis\": {\"showticklabels\": true, \"tickangle\": 15, \"tickfont\": {\"color\": \"black\", \"size\": 9}, \"title\": \"Option\"}, \"yaxis\": {\"title\": \"Number of respondents\"}}, {\"showLink\": true, \"linkText\": \"Export to plot.ly\", \"plotlyServerURL\": \"https://plot.ly\"})});</script><script type=\"text/javascript\">window.addEventListener(\"resize\", function(){window._Plotly.Plots.resize(document.getElementById(\"8db72add-c480-4b8d-84d3-f3360c7eec3f\"));});</script>"
      ],
      "text/vnd.plotly.v1+html": [
       "<div id=\"8db72add-c480-4b8d-84d3-f3360c7eec3f\" style=\"height: 525px; width: 100%;\" class=\"plotly-graph-div\"></div><script type=\"text/javascript\">require([\"plotly\"], function(Plotly) { window.PLOTLYENV=window.PLOTLYENV || {};window.PLOTLYENV.BASE_URL=\"https://plot.ly\";Plotly.newPlot(\"8db72add-c480-4b8d-84d3-f3360c7eec3f\", [{\"marker\": {\"color\": \"Yellow\"}, \"text\": [\"50% to 74% of my time\", \"25% to 49% of my time\", \"1% to 25% of my time\", \"75% to 99% of my time\", \"0% of my time\", \"100% of my time\"], \"x\": [\"50% to 74% of my time\", \"25% to 49% of my time\", \"1% to 25% of my time\", \"75% to 99% of my time\", \"0% of my time\", \"100% of my time\"], \"y\": [5539, 5015, 4197, 2768, 544, 484], \"type\": \"bar\", \"uid\": \"4aac0fd1-8d95-45ef-85bd-2c17c18dbf06\"}], {\"hovermode\": \"closest\", \"title\": \"Approximately what percent of your time at work or school is spent actively coding?\", \"xaxis\": {\"showticklabels\": true, \"tickangle\": 15, \"tickfont\": {\"color\": \"black\", \"size\": 9}, \"title\": \"Option\"}, \"yaxis\": {\"title\": \"Number of respondents\"}}, {\"showLink\": true, \"linkText\": \"Export to plot.ly\", \"plotlyServerURL\": \"https://plot.ly\"})});</script><script type=\"text/javascript\">window.addEventListener(\"resize\", function(){window._Plotly.Plots.resize(document.getElementById(\"8db72add-c480-4b8d-84d3-f3360c7eec3f\"));});</script>"
      ]
     },
     "metadata": {},
     "output_type": "display_data"
    }
   ],
   "source": [
    "draw_trace_bar(get_categories(multiple_df,'Q23'), multiple_df['Q23'][0], \"Option\", \"Number of respondents\", \"Yellow\")"
   ]
  },
  {
   "cell_type": "code",
   "execution_count": 28,
   "metadata": {
    "_kg_hide-input": true,
    "_uuid": "f57a4f8f5d520a23f97a2e971177030a532b81a8",
    "execution": {
     "iopub.execute_input": "2022-12-14T05:39:18.552884Z",
     "iopub.status.busy": "2022-12-14T05:39:18.552283Z",
     "iopub.status.idle": "2022-12-14T05:39:18.682713Z",
     "shell.execute_reply": "2022-12-14T05:39:18.681576Z",
     "shell.execute_reply.started": "2022-12-14T05:39:18.552815Z"
    }
   },
   "outputs": [
    {
     "data": {
      "application/vnd.plotly.v1+json": {
       "config": {
        "linkText": "Export to plot.ly",
        "plotlyServerURL": "https://plot.ly",
        "showLink": true
       },
       "data": [
        {
         "marker": {
          "color": "Lightgreen"
         },
         "text": [
          "1-2 years",
          "< 1 year",
          "3-5 years",
          "5-10 years",
          "10-20 years",
          "I have never written code but I want to learn",
          "20-30 years",
          "30-40 years",
          "40+ years",
          "I have never written code and I do not want to learn"
         ],
         "type": "bar",
         "uid": "6b25fe34-1619-4b22-8127-97bd0a523474",
         "x": [
          "1-2 years",
          "< 1 year",
          "3-5 years",
          "5-10 years",
          "10-20 years",
          "I have never written code but I want to learn",
          "20-30 years",
          "30-40 years",
          "40+ years",
          "I have never written code and I do not want to learn"
         ],
         "y": [
          5359,
          4542,
          4023,
          2145,
          1102,
          821,
          321,
          117,
          62,
          41
         ]
        }
       ],
       "layout": {
        "hovermode": "closest",
        "title": "How long have you been writing code to analyze data?",
        "xaxis": {
         "showticklabels": true,
         "tickangle": 15,
         "tickfont": {
          "color": "black",
          "size": 9
         },
         "title": "Option"
        },
        "yaxis": {
         "title": "Number of respondents"
        }
       }
      },
      "text/html": [
       "<div id=\"1488c37c-7968-46ff-8172-97a3e8081ab0\" style=\"height: 525px; width: 100%;\" class=\"plotly-graph-div\"></div><script type=\"text/javascript\">require([\"plotly\"], function(Plotly) { window.PLOTLYENV=window.PLOTLYENV || {};window.PLOTLYENV.BASE_URL=\"https://plot.ly\";Plotly.newPlot(\"1488c37c-7968-46ff-8172-97a3e8081ab0\", [{\"marker\": {\"color\": \"Lightgreen\"}, \"text\": [\"1-2 years\", \"< 1 year\", \"3-5 years\", \"5-10 years\", \"10-20 years\", \"I have never written code but I want to learn\", \"20-30 years\", \"30-40 years\", \"40+ years\", \"I have never written code and I do not want to learn\"], \"x\": [\"1-2 years\", \"< 1 year\", \"3-5 years\", \"5-10 years\", \"10-20 years\", \"I have never written code but I want to learn\", \"20-30 years\", \"30-40 years\", \"40+ years\", \"I have never written code and I do not want to learn\"], \"y\": [5359, 4542, 4023, 2145, 1102, 821, 321, 117, 62, 41], \"type\": \"bar\", \"uid\": \"5dea78c5-c6d3-4fcc-93d8-c45ca0b1651c\"}], {\"hovermode\": \"closest\", \"title\": \"How long have you been writing code to analyze data?\", \"xaxis\": {\"showticklabels\": true, \"tickangle\": 15, \"tickfont\": {\"color\": \"black\", \"size\": 9}, \"title\": \"Option\"}, \"yaxis\": {\"title\": \"Number of respondents\"}}, {\"showLink\": true, \"linkText\": \"Export to plot.ly\", \"plotlyServerURL\": \"https://plot.ly\"})});</script><script type=\"text/javascript\">window.addEventListener(\"resize\", function(){window._Plotly.Plots.resize(document.getElementById(\"1488c37c-7968-46ff-8172-97a3e8081ab0\"));});</script>"
      ],
      "text/vnd.plotly.v1+html": [
       "<div id=\"1488c37c-7968-46ff-8172-97a3e8081ab0\" style=\"height: 525px; width: 100%;\" class=\"plotly-graph-div\"></div><script type=\"text/javascript\">require([\"plotly\"], function(Plotly) { window.PLOTLYENV=window.PLOTLYENV || {};window.PLOTLYENV.BASE_URL=\"https://plot.ly\";Plotly.newPlot(\"1488c37c-7968-46ff-8172-97a3e8081ab0\", [{\"marker\": {\"color\": \"Lightgreen\"}, \"text\": [\"1-2 years\", \"< 1 year\", \"3-5 years\", \"5-10 years\", \"10-20 years\", \"I have never written code but I want to learn\", \"20-30 years\", \"30-40 years\", \"40+ years\", \"I have never written code and I do not want to learn\"], \"x\": [\"1-2 years\", \"< 1 year\", \"3-5 years\", \"5-10 years\", \"10-20 years\", \"I have never written code but I want to learn\", \"20-30 years\", \"30-40 years\", \"40+ years\", \"I have never written code and I do not want to learn\"], \"y\": [5359, 4542, 4023, 2145, 1102, 821, 321, 117, 62, 41], \"type\": \"bar\", \"uid\": \"5dea78c5-c6d3-4fcc-93d8-c45ca0b1651c\"}], {\"hovermode\": \"closest\", \"title\": \"How long have you been writing code to analyze data?\", \"xaxis\": {\"showticklabels\": true, \"tickangle\": 15, \"tickfont\": {\"color\": \"black\", \"size\": 9}, \"title\": \"Option\"}, \"yaxis\": {\"title\": \"Number of respondents\"}}, {\"showLink\": true, \"linkText\": \"Export to plot.ly\", \"plotlyServerURL\": \"https://plot.ly\"})});</script><script type=\"text/javascript\">window.addEventListener(\"resize\", function(){window._Plotly.Plots.resize(document.getElementById(\"1488c37c-7968-46ff-8172-97a3e8081ab0\"));});</script>"
      ]
     },
     "metadata": {},
     "output_type": "display_data"
    }
   ],
   "source": [
    "draw_trace_bar(get_categories(multiple_df,'Q24'), multiple_df['Q24'][0], \"Option\", \"Number of respondents\", \"Lightgreen\")"
   ]
  },
  {
   "cell_type": "code",
   "execution_count": 29,
   "metadata": {
    "_kg_hide-input": true,
    "_uuid": "a1e950d7a10338d13a93d71ff4b4c4b8653d2216",
    "execution": {
     "iopub.execute_input": "2022-12-14T05:39:37.414570Z",
     "iopub.status.busy": "2022-12-14T05:39:37.414257Z",
     "iopub.status.idle": "2022-12-14T05:39:37.545552Z",
     "shell.execute_reply": "2022-12-14T05:39:37.544715Z",
     "shell.execute_reply.started": "2022-12-14T05:39:37.414521Z"
    }
   },
   "outputs": [
    {
     "data": {
      "application/vnd.plotly.v1+json": {
       "config": {
        "linkText": "Export to plot.ly",
        "plotlyServerURL": "https://plot.ly",
        "showLink": true
       },
       "data": [
        {
         "marker": {
          "color": "Dark blue"
         },
         "text": [
          "< 1 year",
          "1-2 years",
          "2-3 years",
          "I have never studied machine learning but plan to learn in the future",
          "3-4 years",
          "5-10 years",
          "4-5 years",
          "10-15 years",
          "20+ years",
          "I have never studied machine learning and I do not plan to"
         ],
         "type": "bar",
         "uid": "9aa0820a-e0d8-4cde-b7bf-e237518d7f66",
         "x": [
          "< 1 year",
          "1-2 years",
          "2-3 years",
          "I have never studied machine learning but plan to learn in the future",
          "3-4 years",
          "5-10 years",
          "4-5 years",
          "10-15 years",
          "20+ years",
          "I have never studied machine learning and I do not plan to"
         ],
         "y": [
          6271,
          4908,
          2088,
          1828,
          1140,
          895,
          810,
          298,
          167,
          86
         ]
        }
       ],
       "layout": {
        "hovermode": "closest",
        "title": "For how many years have you used machine learning methods (at work or in school)?",
        "xaxis": {
         "showticklabels": true,
         "tickangle": 15,
         "tickfont": {
          "color": "black",
          "size": 9
         },
         "title": "Option"
        },
        "yaxis": {
         "title": "Number of respondents"
        }
       }
      },
      "text/html": [
       "<div id=\"7dcd7456-8837-4575-8fb3-e486fa36ab96\" style=\"height: 525px; width: 100%;\" class=\"plotly-graph-div\"></div><script type=\"text/javascript\">require([\"plotly\"], function(Plotly) { window.PLOTLYENV=window.PLOTLYENV || {};window.PLOTLYENV.BASE_URL=\"https://plot.ly\";Plotly.newPlot(\"7dcd7456-8837-4575-8fb3-e486fa36ab96\", [{\"marker\": {\"color\": \"Dark blue\"}, \"text\": [\"< 1 year\", \"1-2 years\", \"2-3 years\", \"I have never studied machine learning but plan to learn in the future\", \"3-4 years\", \"5-10 years\", \"4-5 years\", \"10-15 years\", \"20+ years\", \"I have never studied machine learning and I do not plan to\"], \"x\": [\"< 1 year\", \"1-2 years\", \"2-3 years\", \"I have never studied machine learning but plan to learn in the future\", \"3-4 years\", \"5-10 years\", \"4-5 years\", \"10-15 years\", \"20+ years\", \"I have never studied machine learning and I do not plan to\"], \"y\": [6271, 4908, 2088, 1828, 1140, 895, 810, 298, 167, 86], \"type\": \"bar\", \"uid\": \"69eec305-fd98-4463-8a4b-80450087d250\"}], {\"hovermode\": \"closest\", \"title\": \"For how many years have you used machine learning methods (at work or in school)?\", \"xaxis\": {\"showticklabels\": true, \"tickangle\": 15, \"tickfont\": {\"color\": \"black\", \"size\": 9}, \"title\": \"Option\"}, \"yaxis\": {\"title\": \"Number of respondents\"}}, {\"showLink\": true, \"linkText\": \"Export to plot.ly\", \"plotlyServerURL\": \"https://plot.ly\"})});</script><script type=\"text/javascript\">window.addEventListener(\"resize\", function(){window._Plotly.Plots.resize(document.getElementById(\"7dcd7456-8837-4575-8fb3-e486fa36ab96\"));});</script>"
      ],
      "text/vnd.plotly.v1+html": [
       "<div id=\"7dcd7456-8837-4575-8fb3-e486fa36ab96\" style=\"height: 525px; width: 100%;\" class=\"plotly-graph-div\"></div><script type=\"text/javascript\">require([\"plotly\"], function(Plotly) { window.PLOTLYENV=window.PLOTLYENV || {};window.PLOTLYENV.BASE_URL=\"https://plot.ly\";Plotly.newPlot(\"7dcd7456-8837-4575-8fb3-e486fa36ab96\", [{\"marker\": {\"color\": \"Dark blue\"}, \"text\": [\"< 1 year\", \"1-2 years\", \"2-3 years\", \"I have never studied machine learning but plan to learn in the future\", \"3-4 years\", \"5-10 years\", \"4-5 years\", \"10-15 years\", \"20+ years\", \"I have never studied machine learning and I do not plan to\"], \"x\": [\"< 1 year\", \"1-2 years\", \"2-3 years\", \"I have never studied machine learning but plan to learn in the future\", \"3-4 years\", \"5-10 years\", \"4-5 years\", \"10-15 years\", \"20+ years\", \"I have never studied machine learning and I do not plan to\"], \"y\": [6271, 4908, 2088, 1828, 1140, 895, 810, 298, 167, 86], \"type\": \"bar\", \"uid\": \"69eec305-fd98-4463-8a4b-80450087d250\"}], {\"hovermode\": \"closest\", \"title\": \"For how many years have you used machine learning methods (at work or in school)?\", \"xaxis\": {\"showticklabels\": true, \"tickangle\": 15, \"tickfont\": {\"color\": \"black\", \"size\": 9}, \"title\": \"Option\"}, \"yaxis\": {\"title\": \"Number of respondents\"}}, {\"showLink\": true, \"linkText\": \"Export to plot.ly\", \"plotlyServerURL\": \"https://plot.ly\"})});</script><script type=\"text/javascript\">window.addEventListener(\"resize\", function(){window._Plotly.Plots.resize(document.getElementById(\"7dcd7456-8837-4575-8fb3-e486fa36ab96\"));});</script>"
      ]
     },
     "metadata": {},
     "output_type": "display_data"
    }
   ],
   "source": [
    "draw_trace_bar(get_categories(multiple_df,'Q25'), multiple_df['Q25'][0], \"Option\", \"Number of respondents\", \"Dark blue\")"
   ]
  },
  {
   "cell_type": "code",
   "execution_count": 30,
   "metadata": {
    "_kg_hide-input": true,
    "_uuid": "3b392d020de539dd5ae1576a4ec2444779ec9b8e",
    "execution": {
     "iopub.execute_input": "2022-12-14T05:39:41.665486Z",
     "iopub.status.busy": "2022-12-14T05:39:41.665106Z",
     "iopub.status.idle": "2022-12-14T05:39:41.802993Z",
     "shell.execute_reply": "2022-12-14T05:39:41.801714Z",
     "shell.execute_reply.started": "2022-12-14T05:39:41.665423Z"
    }
   },
   "outputs": [
    {
     "data": {
      "application/vnd.plotly.v1+json": {
       "config": {
        "linkText": "Export to plot.ly",
        "plotlyServerURL": "https://plot.ly",
        "showLink": true
       },
       "data": [
        {
         "marker": {
          "color": "Lightblue"
         },
         "text": [
          "Probably yes",
          "Definitely yes",
          "Maybe",
          "Probably not",
          "Definitely not"
         ],
         "type": "bar",
         "uid": "b7cd03bf-f088-4909-8640-c078379c3fb0",
         "x": [
          "Probably yes",
          "Definitely yes",
          "Maybe",
          "Probably not",
          "Definitely not"
         ],
         "y": [
          4893,
          4684,
          4184,
          3162,
          1557
         ]
        }
       ],
       "layout": {
        "hovermode": "closest",
        "title": "Do you consider yourself to be a data scientist?",
        "xaxis": {
         "showticklabels": true,
         "tickangle": 15,
         "tickfont": {
          "color": "black",
          "size": 9
         },
         "title": "Option"
        },
        "yaxis": {
         "title": "Number of respondents"
        }
       }
      },
      "text/html": [
       "<div id=\"37162931-9920-4b86-b553-26c2019469cf\" style=\"height: 525px; width: 100%;\" class=\"plotly-graph-div\"></div><script type=\"text/javascript\">require([\"plotly\"], function(Plotly) { window.PLOTLYENV=window.PLOTLYENV || {};window.PLOTLYENV.BASE_URL=\"https://plot.ly\";Plotly.newPlot(\"37162931-9920-4b86-b553-26c2019469cf\", [{\"marker\": {\"color\": \"Lightblue\"}, \"text\": [\"Probably yes\", \"Definitely yes\", \"Maybe\", \"Probably not\", \"Definitely not\"], \"x\": [\"Probably yes\", \"Definitely yes\", \"Maybe\", \"Probably not\", \"Definitely not\"], \"y\": [4893, 4684, 4184, 3162, 1557], \"type\": \"bar\", \"uid\": \"8a76bb48-0df3-46a8-a8ca-4565913ae6c3\"}], {\"hovermode\": \"closest\", \"title\": \"Do you consider yourself to be a data scientist?\", \"xaxis\": {\"showticklabels\": true, \"tickangle\": 15, \"tickfont\": {\"color\": \"black\", \"size\": 9}, \"title\": \"Option\"}, \"yaxis\": {\"title\": \"Number of respondents\"}}, {\"showLink\": true, \"linkText\": \"Export to plot.ly\", \"plotlyServerURL\": \"https://plot.ly\"})});</script><script type=\"text/javascript\">window.addEventListener(\"resize\", function(){window._Plotly.Plots.resize(document.getElementById(\"37162931-9920-4b86-b553-26c2019469cf\"));});</script>"
      ],
      "text/vnd.plotly.v1+html": [
       "<div id=\"37162931-9920-4b86-b553-26c2019469cf\" style=\"height: 525px; width: 100%;\" class=\"plotly-graph-div\"></div><script type=\"text/javascript\">require([\"plotly\"], function(Plotly) { window.PLOTLYENV=window.PLOTLYENV || {};window.PLOTLYENV.BASE_URL=\"https://plot.ly\";Plotly.newPlot(\"37162931-9920-4b86-b553-26c2019469cf\", [{\"marker\": {\"color\": \"Lightblue\"}, \"text\": [\"Probably yes\", \"Definitely yes\", \"Maybe\", \"Probably not\", \"Definitely not\"], \"x\": [\"Probably yes\", \"Definitely yes\", \"Maybe\", \"Probably not\", \"Definitely not\"], \"y\": [4893, 4684, 4184, 3162, 1557], \"type\": \"bar\", \"uid\": \"8a76bb48-0df3-46a8-a8ca-4565913ae6c3\"}], {\"hovermode\": \"closest\", \"title\": \"Do you consider yourself to be a data scientist?\", \"xaxis\": {\"showticklabels\": true, \"tickangle\": 15, \"tickfont\": {\"color\": \"black\", \"size\": 9}, \"title\": \"Option\"}, \"yaxis\": {\"title\": \"Number of respondents\"}}, {\"showLink\": true, \"linkText\": \"Export to plot.ly\", \"plotlyServerURL\": \"https://plot.ly\"})});</script><script type=\"text/javascript\">window.addEventListener(\"resize\", function(){window._Plotly.Plots.resize(document.getElementById(\"37162931-9920-4b86-b553-26c2019469cf\"));});</script>"
      ]
     },
     "metadata": {},
     "output_type": "display_data"
    }
   ],
   "source": [
    "draw_trace_bar(get_categories(multiple_df,'Q26'), multiple_df['Q26'][0], \"Option\", \"Number of respondents\", \"Lightblue\")"
   ]
  },
  {
   "cell_type": "code",
   "execution_count": 31,
   "metadata": {
    "_kg_hide-input": true,
    "_uuid": "e611d243ab4cf48454119d13708d4daf238a2513",
    "execution": {
     "iopub.execute_input": "2022-12-14T05:39:45.808295Z",
     "iopub.status.busy": "2022-12-14T05:39:45.807960Z",
     "iopub.status.idle": "2022-12-14T05:39:46.084469Z",
     "shell.execute_reply": "2022-12-14T05:39:46.083466Z",
     "shell.execute_reply.started": "2022-12-14T05:39:45.808232Z"
    }
   },
   "outputs": [
    {
     "data": {
      "application/vnd.plotly.v1+json": {
       "config": {
        "linkText": "Export to plot.ly",
        "plotlyServerURL": "https://plot.ly",
        "showLink": true
       },
       "data": [
        {
         "marker": {
          "color": "Magenta"
         },
         "text": [
          "Independent projects are much more important than academic achievements",
          "Independent projects are slightly more important than academic achievements",
          "Independent projects are equally important as academic achievements",
          "No opinion; I do not know",
          "Independent projects are slightly less important than academic achievements",
          "Independent projects are much less important than academic achievements"
         ],
         "type": "bar",
         "uid": "d8534966-6408-4dc5-91ed-de3a51419753",
         "x": [
          "Independent projects are much more important than academic achievements",
          "Independent projects are slightly more important than academic achievements",
          "Independent projects are equally important as academic achievements",
          "No opinion; I do not know",
          "Independent projects are slightly less important than academic achievements",
          "Independent projects are much less important than academic achievements"
         ],
         "y": [
          4990,
          4473,
          4343,
          936,
          831,
          306
         ]
        }
       ],
       "layout": {
        "hovermode": "closest",
        "title": "Which better demonstrates expertise in data science: academic achievements or independent projects? - Your views:",
        "xaxis": {
         "showticklabels": true,
         "tickangle": 15,
         "tickfont": {
          "color": "black",
          "size": 9
         },
         "title": "Option"
        },
        "yaxis": {
         "title": "Number of respondents"
        }
       }
      },
      "text/html": [
       "<div id=\"889dae05-40f0-44bf-95df-5f046cfe09aa\" style=\"height: 525px; width: 100%;\" class=\"plotly-graph-div\"></div><script type=\"text/javascript\">require([\"plotly\"], function(Plotly) { window.PLOTLYENV=window.PLOTLYENV || {};window.PLOTLYENV.BASE_URL=\"https://plot.ly\";Plotly.newPlot(\"889dae05-40f0-44bf-95df-5f046cfe09aa\", [{\"marker\": {\"color\": \"Magenta\"}, \"text\": [\"Independent projects are much more important than academic achievements\", \"Independent projects are slightly more important than academic achievements\", \"Independent projects are equally important as academic achievements\", \"No opinion; I do not know\", \"Independent projects are slightly less important than academic achievements\", \"Independent projects are much less important than academic achievements\"], \"x\": [\"Independent projects are much more important than academic achievements\", \"Independent projects are slightly more important than academic achievements\", \"Independent projects are equally important as academic achievements\", \"No opinion; I do not know\", \"Independent projects are slightly less important than academic achievements\", \"Independent projects are much less important than academic achievements\"], \"y\": [4990, 4473, 4343, 936, 831, 306], \"type\": \"bar\", \"uid\": \"550f640d-1035-459c-a3c3-f07b8418b0da\"}], {\"hovermode\": \"closest\", \"title\": \"Which better demonstrates expertise in data science: academic achievements or independent projects? - Your views:\", \"xaxis\": {\"showticklabels\": true, \"tickangle\": 15, \"tickfont\": {\"color\": \"black\", \"size\": 9}, \"title\": \"Option\"}, \"yaxis\": {\"title\": \"Number of respondents\"}}, {\"showLink\": true, \"linkText\": \"Export to plot.ly\", \"plotlyServerURL\": \"https://plot.ly\"})});</script><script type=\"text/javascript\">window.addEventListener(\"resize\", function(){window._Plotly.Plots.resize(document.getElementById(\"889dae05-40f0-44bf-95df-5f046cfe09aa\"));});</script>"
      ],
      "text/vnd.plotly.v1+html": [
       "<div id=\"889dae05-40f0-44bf-95df-5f046cfe09aa\" style=\"height: 525px; width: 100%;\" class=\"plotly-graph-div\"></div><script type=\"text/javascript\">require([\"plotly\"], function(Plotly) { window.PLOTLYENV=window.PLOTLYENV || {};window.PLOTLYENV.BASE_URL=\"https://plot.ly\";Plotly.newPlot(\"889dae05-40f0-44bf-95df-5f046cfe09aa\", [{\"marker\": {\"color\": \"Magenta\"}, \"text\": [\"Independent projects are much more important than academic achievements\", \"Independent projects are slightly more important than academic achievements\", \"Independent projects are equally important as academic achievements\", \"No opinion; I do not know\", \"Independent projects are slightly less important than academic achievements\", \"Independent projects are much less important than academic achievements\"], \"x\": [\"Independent projects are much more important than academic achievements\", \"Independent projects are slightly more important than academic achievements\", \"Independent projects are equally important as academic achievements\", \"No opinion; I do not know\", \"Independent projects are slightly less important than academic achievements\", \"Independent projects are much less important than academic achievements\"], \"y\": [4990, 4473, 4343, 936, 831, 306], \"type\": \"bar\", \"uid\": \"550f640d-1035-459c-a3c3-f07b8418b0da\"}], {\"hovermode\": \"closest\", \"title\": \"Which better demonstrates expertise in data science: academic achievements or independent projects? - Your views:\", \"xaxis\": {\"showticklabels\": true, \"tickangle\": 15, \"tickfont\": {\"color\": \"black\", \"size\": 9}, \"title\": \"Option\"}, \"yaxis\": {\"title\": \"Number of respondents\"}}, {\"showLink\": true, \"linkText\": \"Export to plot.ly\", \"plotlyServerURL\": \"https://plot.ly\"})});</script><script type=\"text/javascript\">window.addEventListener(\"resize\", function(){window._Plotly.Plots.resize(document.getElementById(\"889dae05-40f0-44bf-95df-5f046cfe09aa\"));});</script>"
      ]
     },
     "metadata": {},
     "output_type": "display_data"
    }
   ],
   "source": [
    "draw_trace_bar(get_categories(multiple_df,'Q40'), multiple_df['Q40'][0], \"Option\", \"Number of respondents\", \"Magenta\")"
   ]
  },
  {
   "cell_type": "code",
   "execution_count": 32,
   "metadata": {
    "_kg_hide-input": true,
    "_uuid": "816a695aa1bc1d077ce5db78953ed71999aa834d",
    "execution": {
     "iopub.execute_input": "2022-12-14T05:39:49.323235Z",
     "iopub.status.busy": "2022-12-14T05:39:49.322921Z",
     "iopub.status.idle": "2022-12-14T05:39:49.456346Z",
     "shell.execute_reply": "2022-12-14T05:39:49.455379Z",
     "shell.execute_reply.started": "2022-12-14T05:39:49.323184Z"
    }
   },
   "outputs": [
    {
     "data": {
      "application/vnd.plotly.v1+json": {
       "config": {
        "linkText": "Export to plot.ly",
        "plotlyServerURL": "https://plot.ly",
        "showLink": true
       },
       "data": [
        {
         "marker": {
          "color": "Tomato"
         },
         "text": [
          "0",
          "0-10",
          "10-20",
          "20-30",
          "30-40",
          "40-50",
          "50-60",
          "60-70",
          "70-80",
          "90-100",
          "80-90"
         ],
         "type": "bar",
         "uid": "aa118f2f-6a18-4aa6-ad54-7a379e1f291f",
         "x": [
          "0",
          "0-10",
          "10-20",
          "20-30",
          "30-40",
          "40-50",
          "50-60",
          "60-70",
          "70-80",
          "90-100",
          "80-90"
         ],
         "y": [
          3700,
          3291,
          2065,
          1499,
          738,
          628,
          363,
          281,
          231,
          203,
          120
         ]
        }
       ],
       "layout": {
        "hovermode": "closest",
        "title": "Approximately what percent of your data projects involved exploring unfair bias in the dataset and/or algorithm?",
        "xaxis": {
         "showticklabels": true,
         "tickangle": 15,
         "tickfont": {
          "color": "black",
          "size": 9
         },
         "title": "Option"
        },
        "yaxis": {
         "title": "Number of respondents"
        }
       }
      },
      "text/html": [
       "<div id=\"ffa18eda-09b0-43d1-918e-809768ea73ce\" style=\"height: 525px; width: 100%;\" class=\"plotly-graph-div\"></div><script type=\"text/javascript\">require([\"plotly\"], function(Plotly) { window.PLOTLYENV=window.PLOTLYENV || {};window.PLOTLYENV.BASE_URL=\"https://plot.ly\";Plotly.newPlot(\"ffa18eda-09b0-43d1-918e-809768ea73ce\", [{\"marker\": {\"color\": \"Tomato\"}, \"text\": [\"0\", \"0-10\", \"10-20\", \"20-30\", \"30-40\", \"40-50\", \"50-60\", \"60-70\", \"70-80\", \"90-100\", \"80-90\"], \"x\": [\"0\", \"0-10\", \"10-20\", \"20-30\", \"30-40\", \"40-50\", \"50-60\", \"60-70\", \"70-80\", \"90-100\", \"80-90\"], \"y\": [3700, 3291, 2065, 1499, 738, 628, 363, 281, 231, 203, 120], \"type\": \"bar\", \"uid\": \"57dc9033-cc91-4181-803f-13a9848ed174\"}], {\"hovermode\": \"closest\", \"title\": \"Approximately what percent of your data projects involved exploring unfair bias in the dataset and/or algorithm?\", \"xaxis\": {\"showticklabels\": true, \"tickangle\": 15, \"tickfont\": {\"color\": \"black\", \"size\": 9}, \"title\": \"Option\"}, \"yaxis\": {\"title\": \"Number of respondents\"}}, {\"showLink\": true, \"linkText\": \"Export to plot.ly\", \"plotlyServerURL\": \"https://plot.ly\"})});</script><script type=\"text/javascript\">window.addEventListener(\"resize\", function(){window._Plotly.Plots.resize(document.getElementById(\"ffa18eda-09b0-43d1-918e-809768ea73ce\"));});</script>"
      ],
      "text/vnd.plotly.v1+html": [
       "<div id=\"ffa18eda-09b0-43d1-918e-809768ea73ce\" style=\"height: 525px; width: 100%;\" class=\"plotly-graph-div\"></div><script type=\"text/javascript\">require([\"plotly\"], function(Plotly) { window.PLOTLYENV=window.PLOTLYENV || {};window.PLOTLYENV.BASE_URL=\"https://plot.ly\";Plotly.newPlot(\"ffa18eda-09b0-43d1-918e-809768ea73ce\", [{\"marker\": {\"color\": \"Tomato\"}, \"text\": [\"0\", \"0-10\", \"10-20\", \"20-30\", \"30-40\", \"40-50\", \"50-60\", \"60-70\", \"70-80\", \"90-100\", \"80-90\"], \"x\": [\"0\", \"0-10\", \"10-20\", \"20-30\", \"30-40\", \"40-50\", \"50-60\", \"60-70\", \"70-80\", \"90-100\", \"80-90\"], \"y\": [3700, 3291, 2065, 1499, 738, 628, 363, 281, 231, 203, 120], \"type\": \"bar\", \"uid\": \"57dc9033-cc91-4181-803f-13a9848ed174\"}], {\"hovermode\": \"closest\", \"title\": \"Approximately what percent of your data projects involved exploring unfair bias in the dataset and/or algorithm?\", \"xaxis\": {\"showticklabels\": true, \"tickangle\": 15, \"tickfont\": {\"color\": \"black\", \"size\": 9}, \"title\": \"Option\"}, \"yaxis\": {\"title\": \"Number of respondents\"}}, {\"showLink\": true, \"linkText\": \"Export to plot.ly\", \"plotlyServerURL\": \"https://plot.ly\"})});</script><script type=\"text/javascript\">window.addEventListener(\"resize\", function(){window._Plotly.Plots.resize(document.getElementById(\"ffa18eda-09b0-43d1-918e-809768ea73ce\"));});</script>"
      ]
     },
     "metadata": {},
     "output_type": "display_data"
    }
   ],
   "source": [
    "draw_trace_bar(get_categories(multiple_df,'Q43'), multiple_df['Q43'][0], \"Option\", \"Number of respondents\", \"Tomato\")"
   ]
  },
  {
   "cell_type": "code",
   "execution_count": 33,
   "metadata": {
    "_kg_hide-input": true,
    "_uuid": "010f53acb3ae9b0ad84c41d1926d13f3678e05a6",
    "execution": {
     "iopub.execute_input": "2022-12-14T05:39:52.793333Z",
     "iopub.status.busy": "2022-12-14T05:39:52.792578Z",
     "iopub.status.idle": "2022-12-14T05:39:52.921726Z",
     "shell.execute_reply": "2022-12-14T05:39:52.921044Z",
     "shell.execute_reply.started": "2022-12-14T05:39:52.793274Z"
    }
   },
   "outputs": [
    {
     "data": {
      "application/vnd.plotly.v1+json": {
       "config": {
        "linkText": "Export to plot.ly",
        "plotlyServerURL": "https://plot.ly",
        "showLink": true
       },
       "data": [
        {
         "marker": {
          "color": "Green"
         },
         "text": [
          "10-20",
          "0-10",
          "20-30",
          "0",
          "90-100",
          "30-40",
          "40-50",
          "70-80",
          "50-60",
          "60-70",
          "80-90"
         ],
         "type": "bar",
         "uid": "d737649e-e608-40e3-a557-b0fe40ac82f1",
         "x": [
          "10-20",
          "0-10",
          "20-30",
          "0",
          "90-100",
          "30-40",
          "40-50",
          "70-80",
          "50-60",
          "60-70",
          "80-90"
         ],
         "y": [
          2085,
          2068,
          1838,
          1555,
          1104,
          1083,
          996,
          716,
          691,
          663,
          490
         ]
        }
       ],
       "layout": {
        "hovermode": "closest",
        "title": "Approximately what percent of your data projects involve exploring model insights?",
        "xaxis": {
         "showticklabels": true,
         "tickangle": 15,
         "tickfont": {
          "color": "black",
          "size": 9
         },
         "title": "Option"
        },
        "yaxis": {
         "title": "Number of respondents"
        }
       }
      },
      "text/html": [
       "<div id=\"dd320b27-6e16-4b1b-a0b9-9a8ac7fe8918\" style=\"height: 525px; width: 100%;\" class=\"plotly-graph-div\"></div><script type=\"text/javascript\">require([\"plotly\"], function(Plotly) { window.PLOTLYENV=window.PLOTLYENV || {};window.PLOTLYENV.BASE_URL=\"https://plot.ly\";Plotly.newPlot(\"dd320b27-6e16-4b1b-a0b9-9a8ac7fe8918\", [{\"marker\": {\"color\": \"Green\"}, \"text\": [\"10-20\", \"0-10\", \"20-30\", \"0\", \"90-100\", \"30-40\", \"40-50\", \"70-80\", \"50-60\", \"60-70\", \"80-90\"], \"x\": [\"10-20\", \"0-10\", \"20-30\", \"0\", \"90-100\", \"30-40\", \"40-50\", \"70-80\", \"50-60\", \"60-70\", \"80-90\"], \"y\": [2085, 2068, 1838, 1555, 1104, 1083, 996, 716, 691, 663, 490], \"type\": \"bar\", \"uid\": \"532aa5b0-58a5-42df-a258-a4b32dd73e60\"}], {\"hovermode\": \"closest\", \"title\": \"Approximately what percent of your data projects involve exploring model insights?\", \"xaxis\": {\"showticklabels\": true, \"tickangle\": 15, \"tickfont\": {\"color\": \"black\", \"size\": 9}, \"title\": \"Option\"}, \"yaxis\": {\"title\": \"Number of respondents\"}}, {\"showLink\": true, \"linkText\": \"Export to plot.ly\", \"plotlyServerURL\": \"https://plot.ly\"})});</script><script type=\"text/javascript\">window.addEventListener(\"resize\", function(){window._Plotly.Plots.resize(document.getElementById(\"dd320b27-6e16-4b1b-a0b9-9a8ac7fe8918\"));});</script>"
      ],
      "text/vnd.plotly.v1+html": [
       "<div id=\"dd320b27-6e16-4b1b-a0b9-9a8ac7fe8918\" style=\"height: 525px; width: 100%;\" class=\"plotly-graph-div\"></div><script type=\"text/javascript\">require([\"plotly\"], function(Plotly) { window.PLOTLYENV=window.PLOTLYENV || {};window.PLOTLYENV.BASE_URL=\"https://plot.ly\";Plotly.newPlot(\"dd320b27-6e16-4b1b-a0b9-9a8ac7fe8918\", [{\"marker\": {\"color\": \"Green\"}, \"text\": [\"10-20\", \"0-10\", \"20-30\", \"0\", \"90-100\", \"30-40\", \"40-50\", \"70-80\", \"50-60\", \"60-70\", \"80-90\"], \"x\": [\"10-20\", \"0-10\", \"20-30\", \"0\", \"90-100\", \"30-40\", \"40-50\", \"70-80\", \"50-60\", \"60-70\", \"80-90\"], \"y\": [2085, 2068, 1838, 1555, 1104, 1083, 996, 716, 691, 663, 490], \"type\": \"bar\", \"uid\": \"532aa5b0-58a5-42df-a258-a4b32dd73e60\"}], {\"hovermode\": \"closest\", \"title\": \"Approximately what percent of your data projects involve exploring model insights?\", \"xaxis\": {\"showticklabels\": true, \"tickangle\": 15, \"tickfont\": {\"color\": \"black\", \"size\": 9}, \"title\": \"Option\"}, \"yaxis\": {\"title\": \"Number of respondents\"}}, {\"showLink\": true, \"linkText\": \"Export to plot.ly\", \"plotlyServerURL\": \"https://plot.ly\"})});</script><script type=\"text/javascript\">window.addEventListener(\"resize\", function(){window._Plotly.Plots.resize(document.getElementById(\"dd320b27-6e16-4b1b-a0b9-9a8ac7fe8918\"));});</script>"
      ]
     },
     "metadata": {},
     "output_type": "display_data"
    }
   ],
   "source": [
    "draw_trace_bar(get_categories(multiple_df,'Q46'), multiple_df['Q46'][0], \"Option\", \"Number of respondents\", \"Green\")"
   ]
  },
  {
   "cell_type": "code",
   "execution_count": 34,
   "metadata": {
    "_kg_hide-input": true,
    "_uuid": "781792ac5c254e4feb7deeaf324bdd295ea3a5d3",
    "execution": {
     "iopub.execute_input": "2022-12-14T05:39:56.789122Z",
     "iopub.status.busy": "2022-12-14T05:39:56.788438Z",
     "iopub.status.idle": "2022-12-14T05:39:56.917408Z",
     "shell.execute_reply": "2022-12-14T05:39:56.916301Z",
     "shell.execute_reply.started": "2022-12-14T05:39:56.789059Z"
    }
   },
   "outputs": [
    {
     "data": {
      "application/vnd.plotly.v1+json": {
       "config": {
        "linkText": "Export to plot.ly",
        "plotlyServerURL": "https://plot.ly",
        "showLink": true
       },
       "data": [
        {
         "marker": {
          "color": "Black"
         },
         "text": [
          "I am confident that I can understand and explain the outputs of many but not all ML models",
          "I view ML models as \"black boxes\" but I am confident that experts are able to explain model outputs",
          "Yes, most ML models are \"black boxes\"",
          "I am confident that I can explain the outputs of most if not all ML models",
          "I do not know; I have no opinion on the matter"
         ],
         "type": "bar",
         "uid": "43c3d305-324d-4207-a0ab-74ea5214703b",
         "x": [
          "I am confident that I can understand and explain the outputs of many but not all ML models",
          "I view ML models as \"black boxes\" but I am confident that experts are able to explain model outputs",
          "Yes, most ML models are \"black boxes\"",
          "I am confident that I can explain the outputs of most if not all ML models",
          "I do not know; I have no opinion on the matter"
         ],
         "y": [
          6411,
          2936,
          1635,
          1213,
          1173
         ]
        }
       ],
       "layout": {
        "hovermode": "closest",
        "title": "Are ML models `black boxes`?",
        "xaxis": {
         "showticklabels": true,
         "tickangle": 15,
         "tickfont": {
          "color": "black",
          "size": 9
         },
         "title": "Are ML models `black boxes`?"
        },
        "yaxis": {
         "title": "Number of respondents"
        }
       }
      },
      "text/html": [
       "<div id=\"d6fd60d8-99d9-4014-8310-1ca63999d921\" style=\"height: 525px; width: 100%;\" class=\"plotly-graph-div\"></div><script type=\"text/javascript\">require([\"plotly\"], function(Plotly) { window.PLOTLYENV=window.PLOTLYENV || {};window.PLOTLYENV.BASE_URL=\"https://plot.ly\";Plotly.newPlot(\"d6fd60d8-99d9-4014-8310-1ca63999d921\", [{\"marker\": {\"color\": \"Black\"}, \"text\": [\"I am confident that I can understand and explain the outputs of many but not all ML models\", \"I view ML models as \\\"black boxes\\\" but I am confident that experts are able to explain model outputs\", \"Yes, most ML models are \\\"black boxes\\\"\", \"I am confident that I can explain the outputs of most if not all ML models\", \"I do not know; I have no opinion on the matter\"], \"x\": [\"I am confident that I can understand and explain the outputs of many but not all ML models\", \"I view ML models as \\\"black boxes\\\" but I am confident that experts are able to explain model outputs\", \"Yes, most ML models are \\\"black boxes\\\"\", \"I am confident that I can explain the outputs of most if not all ML models\", \"I do not know; I have no opinion on the matter\"], \"y\": [6411, 2936, 1635, 1213, 1173], \"type\": \"bar\", \"uid\": \"8948f07d-07ad-4572-bf9a-8391fd0496a9\"}], {\"hovermode\": \"closest\", \"title\": \"Are ML models `black boxes`?\", \"xaxis\": {\"showticklabels\": true, \"tickangle\": 15, \"tickfont\": {\"color\": \"black\", \"size\": 9}, \"title\": \"Are ML models `black boxes`?\"}, \"yaxis\": {\"title\": \"Number of respondents\"}}, {\"showLink\": true, \"linkText\": \"Export to plot.ly\", \"plotlyServerURL\": \"https://plot.ly\"})});</script><script type=\"text/javascript\">window.addEventListener(\"resize\", function(){window._Plotly.Plots.resize(document.getElementById(\"d6fd60d8-99d9-4014-8310-1ca63999d921\"));});</script>"
      ],
      "text/vnd.plotly.v1+html": [
       "<div id=\"d6fd60d8-99d9-4014-8310-1ca63999d921\" style=\"height: 525px; width: 100%;\" class=\"plotly-graph-div\"></div><script type=\"text/javascript\">require([\"plotly\"], function(Plotly) { window.PLOTLYENV=window.PLOTLYENV || {};window.PLOTLYENV.BASE_URL=\"https://plot.ly\";Plotly.newPlot(\"d6fd60d8-99d9-4014-8310-1ca63999d921\", [{\"marker\": {\"color\": \"Black\"}, \"text\": [\"I am confident that I can understand and explain the outputs of many but not all ML models\", \"I view ML models as \\\"black boxes\\\" but I am confident that experts are able to explain model outputs\", \"Yes, most ML models are \\\"black boxes\\\"\", \"I am confident that I can explain the outputs of most if not all ML models\", \"I do not know; I have no opinion on the matter\"], \"x\": [\"I am confident that I can understand and explain the outputs of many but not all ML models\", \"I view ML models as \\\"black boxes\\\" but I am confident that experts are able to explain model outputs\", \"Yes, most ML models are \\\"black boxes\\\"\", \"I am confident that I can explain the outputs of most if not all ML models\", \"I do not know; I have no opinion on the matter\"], \"y\": [6411, 2936, 1635, 1213, 1173], \"type\": \"bar\", \"uid\": \"8948f07d-07ad-4572-bf9a-8391fd0496a9\"}], {\"hovermode\": \"closest\", \"title\": \"Are ML models `black boxes`?\", \"xaxis\": {\"showticklabels\": true, \"tickangle\": 15, \"tickfont\": {\"color\": \"black\", \"size\": 9}, \"title\": \"Are ML models `black boxes`?\"}, \"yaxis\": {\"title\": \"Number of respondents\"}}, {\"showLink\": true, \"linkText\": \"Export to plot.ly\", \"plotlyServerURL\": \"https://plot.ly\"})});</script><script type=\"text/javascript\">window.addEventListener(\"resize\", function(){window._Plotly.Plots.resize(document.getElementById(\"d6fd60d8-99d9-4014-8310-1ca63999d921\"));});</script>"
      ]
     },
     "metadata": {},
     "output_type": "display_data"
    }
   ],
   "source": [
    "draw_trace_bar(get_categories(multiple_df,'Q48'), \"Are ML models `black boxes`?\", \"Are ML models `black boxes`?\", \"Number of respondents\", \"Black\")"
   ]
  },
  {
   "cell_type": "code",
   "execution_count": 35,
   "metadata": {
    "_kg_hide-input": true,
    "_uuid": "7a842cf3cc14b4971f5b54b5b71b5e0564df3f3d",
    "execution": {
     "iopub.execute_input": "2022-12-14T05:40:23.707357Z",
     "iopub.status.busy": "2022-12-14T05:40:23.707019Z",
     "iopub.status.idle": "2022-12-14T05:40:23.713188Z",
     "shell.execute_reply": "2022-12-14T05:40:23.712136Z",
     "shell.execute_reply.started": "2022-12-14T05:40:23.707304Z"
    }
   },
   "outputs": [],
   "source": [
    "def get_categories_group(data, val_group, val):\n",
    "    tmp = data[1::].groupby(val_group)[val].value_counts()\n",
    "    return pd.DataFrame(data={'Number': tmp.values}, index=tmp.index).reset_index()"
   ]
  },
  {
   "cell_type": "code",
   "execution_count": 36,
   "metadata": {
    "_kg_hide-input": true,
    "_uuid": "bf468ed6b0defca486f65d944f5fbb629f884907",
    "execution": {
     "iopub.execute_input": "2022-12-14T05:40:28.451255Z",
     "iopub.status.busy": "2022-12-14T05:40:28.450849Z",
     "iopub.status.idle": "2022-12-14T05:40:28.459704Z",
     "shell.execute_reply": "2022-12-14T05:40:28.458420Z",
     "shell.execute_reply.started": "2022-12-14T05:40:28.451173Z"
    }
   },
   "outputs": [],
   "source": [
    "def draw_trace_group_bar(data_df, val_group, val, title, xlab, ylab,color='Blue'):\n",
    "    data = list()\n",
    "    groups = (data_df.groupby([val_group])[val_group].nunique()).index\n",
    "    for group in groups:\n",
    "        data_group_df = data_df[data_df[val_group]==group]\n",
    "        trace = go.Bar(\n",
    "                x = data_group_df[val],\n",
    "                y = data_group_df['Number'],\n",
    "                name = group,\n",
    "                #marker=dict(color=color),\n",
    "                text=data_group_df[val]\n",
    "            )\n",
    "        data.append(trace)\n",
    "\n",
    "    layout = dict(title = title,\n",
    "              xaxis = dict(title = xlab, showticklabels=True, tickangle=15,\n",
    "                          tickfont=dict(\n",
    "                            size=9,\n",
    "                            color='black'),), \n",
    "              yaxis = dict(title = ylab),\n",
    "              hovermode = 'closest'\n",
    "             )\n",
    "    fig = dict(data = data, layout = layout)\n",
    "    iplot(fig, filename='draw_trace')"
   ]
  },
  {
   "cell_type": "code",
   "execution_count": 37,
   "metadata": {
    "_kg_hide-input": true,
    "_uuid": "ab27d28db53158048c22f94ffcf2f469f6ce1016",
    "execution": {
     "iopub.execute_input": "2022-12-14T05:40:31.915235Z",
     "iopub.status.busy": "2022-12-14T05:40:31.914911Z",
     "iopub.status.idle": "2022-12-14T05:40:32.086664Z",
     "shell.execute_reply": "2022-12-14T05:40:32.085729Z",
     "shell.execute_reply.started": "2022-12-14T05:40:31.915184Z"
    }
   },
   "outputs": [
    {
     "data": {
      "application/vnd.plotly.v1+json": {
       "config": {
        "linkText": "Export to plot.ly",
        "plotlyServerURL": "https://plot.ly",
        "showLink": true
       },
       "data": [
        {
         "name": "Female",
         "text": [
          "25-29",
          "22-24",
          "30-34",
          "18-21",
          "35-39",
          "40-44",
          "45-49",
          "50-54",
          "55-59",
          "60-69",
          "70-79",
          "80+"
         ],
         "type": "bar",
         "uid": "05a26e0f-6626-4be4-8a0d-fbeda7ca67f2",
         "x": [
          "25-29",
          "22-24",
          "30-34",
          "18-21",
          "35-39",
          "40-44",
          "45-49",
          "50-54",
          "55-59",
          "60-69",
          "70-79",
          "80+"
         ],
         "y": [
          1115,
          1024,
          622,
          491,
          353,
          171,
          106,
          69,
          41,
          13,
          4,
          1
         ]
        },
        {
         "name": "Male",
         "text": [
          "25-29",
          "22-24",
          "30-34",
          "18-21",
          "35-39",
          "40-44",
          "45-49",
          "50-54",
          "55-59",
          "60-69",
          "70-79",
          "80+"
         ],
         "type": "bar",
         "uid": "e2feebf7-d4ef-4e35-91f1-fb15687ae718",
         "x": [
          "25-29",
          "22-24",
          "30-34",
          "18-21",
          "35-39",
          "40-44",
          "45-49",
          "50-54",
          "55-59",
          "60-69",
          "70-79",
          "80+"
         ],
         "y": [
          4955,
          4046,
          3081,
          2509,
          1855,
          1163,
          733,
          498,
          279,
          256,
          46,
          9
         ]
        },
        {
         "name": "Prefer not to say",
         "text": [
          "25-29",
          "22-24",
          "30-34",
          "35-39",
          "18-21",
          "40-44",
          "80+",
          "45-49",
          "50-54",
          "55-59",
          "60-69",
          "70-79"
         ],
         "type": "bar",
         "uid": "0e0b8ec1-9e4a-4f0f-94b4-c22620c7235c",
         "x": [
          "25-29",
          "22-24",
          "30-34",
          "35-39",
          "18-21",
          "40-44",
          "80+",
          "45-49",
          "50-54",
          "55-59",
          "60-69",
          "70-79"
         ],
         "y": [
          71,
          60,
          52,
          40,
          30,
          24,
          22,
          17,
          14,
          4,
          3,
          3
         ]
        },
        {
         "name": "Prefer to self-describe",
         "text": [
          "30-34",
          "25-29",
          "22-24",
          "18-21",
          "80+",
          "35-39",
          "55-59",
          "40-44",
          "45-49",
          "50-54",
          "60-69"
         ],
         "type": "bar",
         "uid": "4d36cd1c-d80a-43f9-bc96-90740a9d9300",
         "x": [
          "30-34",
          "25-29",
          "22-24",
          "18-21",
          "80+",
          "35-39",
          "55-59",
          "40-44",
          "45-49",
          "50-54",
          "60-69"
         ],
         "y": [
          21,
          18,
          11,
          7,
          7,
          5,
          4,
          2,
          2,
          1,
          1
         ]
        }
       ],
       "layout": {
        "hovermode": "closest",
        "title": "Number of respondents by Sex and age",
        "xaxis": {
         "showticklabels": true,
         "tickangle": 15,
         "tickfont": {
          "color": "black",
          "size": 9
         },
         "title": "Age"
        },
        "yaxis": {
         "title": "Number of respondents"
        }
       }
      },
      "text/html": [
       "<div id=\"436cea2c-fb4d-44ca-bfbf-cc371875f503\" style=\"height: 525px; width: 100%;\" class=\"plotly-graph-div\"></div><script type=\"text/javascript\">require([\"plotly\"], function(Plotly) { window.PLOTLYENV=window.PLOTLYENV || {};window.PLOTLYENV.BASE_URL=\"https://plot.ly\";Plotly.newPlot(\"436cea2c-fb4d-44ca-bfbf-cc371875f503\", [{\"name\": \"Female\", \"text\": [\"25-29\", \"22-24\", \"30-34\", \"18-21\", \"35-39\", \"40-44\", \"45-49\", \"50-54\", \"55-59\", \"60-69\", \"70-79\", \"80+\"], \"x\": [\"25-29\", \"22-24\", \"30-34\", \"18-21\", \"35-39\", \"40-44\", \"45-49\", \"50-54\", \"55-59\", \"60-69\", \"70-79\", \"80+\"], \"y\": [1115, 1024, 622, 491, 353, 171, 106, 69, 41, 13, 4, 1], \"type\": \"bar\", \"uid\": \"43eeb3f9-8dba-4318-8a47-fa505e8a68b8\"}, {\"name\": \"Male\", \"text\": [\"25-29\", \"22-24\", \"30-34\", \"18-21\", \"35-39\", \"40-44\", \"45-49\", \"50-54\", \"55-59\", \"60-69\", \"70-79\", \"80+\"], \"x\": [\"25-29\", \"22-24\", \"30-34\", \"18-21\", \"35-39\", \"40-44\", \"45-49\", \"50-54\", \"55-59\", \"60-69\", \"70-79\", \"80+\"], \"y\": [4955, 4046, 3081, 2509, 1855, 1163, 733, 498, 279, 256, 46, 9], \"type\": \"bar\", \"uid\": \"aadb05e6-4184-4e9a-b162-4ce6b7e502a7\"}, {\"name\": \"Prefer not to say\", \"text\": [\"25-29\", \"22-24\", \"30-34\", \"35-39\", \"18-21\", \"40-44\", \"80+\", \"45-49\", \"50-54\", \"55-59\", \"60-69\", \"70-79\"], \"x\": [\"25-29\", \"22-24\", \"30-34\", \"35-39\", \"18-21\", \"40-44\", \"80+\", \"45-49\", \"50-54\", \"55-59\", \"60-69\", \"70-79\"], \"y\": [71, 60, 52, 40, 30, 24, 22, 17, 14, 4, 3, 3], \"type\": \"bar\", \"uid\": \"bac3f1ee-22f3-4339-9e8a-8d43c84602c5\"}, {\"name\": \"Prefer to self-describe\", \"text\": [\"30-34\", \"25-29\", \"22-24\", \"18-21\", \"80+\", \"35-39\", \"55-59\", \"40-44\", \"45-49\", \"50-54\", \"60-69\"], \"x\": [\"30-34\", \"25-29\", \"22-24\", \"18-21\", \"80+\", \"35-39\", \"55-59\", \"40-44\", \"45-49\", \"50-54\", \"60-69\"], \"y\": [21, 18, 11, 7, 7, 5, 4, 2, 2, 1, 1], \"type\": \"bar\", \"uid\": \"c16c2c32-e2b9-4d24-b3a0-269cae329ad3\"}], {\"hovermode\": \"closest\", \"title\": \"Number of respondents by Sex and age\", \"xaxis\": {\"showticklabels\": true, \"tickangle\": 15, \"tickfont\": {\"color\": \"black\", \"size\": 9}, \"title\": \"Age\"}, \"yaxis\": {\"title\": \"Number of respondents\"}}, {\"showLink\": true, \"linkText\": \"Export to plot.ly\", \"plotlyServerURL\": \"https://plot.ly\"})});</script><script type=\"text/javascript\">window.addEventListener(\"resize\", function(){window._Plotly.Plots.resize(document.getElementById(\"436cea2c-fb4d-44ca-bfbf-cc371875f503\"));});</script>"
      ],
      "text/vnd.plotly.v1+html": [
       "<div id=\"436cea2c-fb4d-44ca-bfbf-cc371875f503\" style=\"height: 525px; width: 100%;\" class=\"plotly-graph-div\"></div><script type=\"text/javascript\">require([\"plotly\"], function(Plotly) { window.PLOTLYENV=window.PLOTLYENV || {};window.PLOTLYENV.BASE_URL=\"https://plot.ly\";Plotly.newPlot(\"436cea2c-fb4d-44ca-bfbf-cc371875f503\", [{\"name\": \"Female\", \"text\": [\"25-29\", \"22-24\", \"30-34\", \"18-21\", \"35-39\", \"40-44\", \"45-49\", \"50-54\", \"55-59\", \"60-69\", \"70-79\", \"80+\"], \"x\": [\"25-29\", \"22-24\", \"30-34\", \"18-21\", \"35-39\", \"40-44\", \"45-49\", \"50-54\", \"55-59\", \"60-69\", \"70-79\", \"80+\"], \"y\": [1115, 1024, 622, 491, 353, 171, 106, 69, 41, 13, 4, 1], \"type\": \"bar\", \"uid\": \"43eeb3f9-8dba-4318-8a47-fa505e8a68b8\"}, {\"name\": \"Male\", \"text\": [\"25-29\", \"22-24\", \"30-34\", \"18-21\", \"35-39\", \"40-44\", \"45-49\", \"50-54\", \"55-59\", \"60-69\", \"70-79\", \"80+\"], \"x\": [\"25-29\", \"22-24\", \"30-34\", \"18-21\", \"35-39\", \"40-44\", \"45-49\", \"50-54\", \"55-59\", \"60-69\", \"70-79\", \"80+\"], \"y\": [4955, 4046, 3081, 2509, 1855, 1163, 733, 498, 279, 256, 46, 9], \"type\": \"bar\", \"uid\": \"aadb05e6-4184-4e9a-b162-4ce6b7e502a7\"}, {\"name\": \"Prefer not to say\", \"text\": [\"25-29\", \"22-24\", \"30-34\", \"35-39\", \"18-21\", \"40-44\", \"80+\", \"45-49\", \"50-54\", \"55-59\", \"60-69\", \"70-79\"], \"x\": [\"25-29\", \"22-24\", \"30-34\", \"35-39\", \"18-21\", \"40-44\", \"80+\", \"45-49\", \"50-54\", \"55-59\", \"60-69\", \"70-79\"], \"y\": [71, 60, 52, 40, 30, 24, 22, 17, 14, 4, 3, 3], \"type\": \"bar\", \"uid\": \"bac3f1ee-22f3-4339-9e8a-8d43c84602c5\"}, {\"name\": \"Prefer to self-describe\", \"text\": [\"30-34\", \"25-29\", \"22-24\", \"18-21\", \"80+\", \"35-39\", \"55-59\", \"40-44\", \"45-49\", \"50-54\", \"60-69\"], \"x\": [\"30-34\", \"25-29\", \"22-24\", \"18-21\", \"80+\", \"35-39\", \"55-59\", \"40-44\", \"45-49\", \"50-54\", \"60-69\"], \"y\": [21, 18, 11, 7, 7, 5, 4, 2, 2, 1, 1], \"type\": \"bar\", \"uid\": \"c16c2c32-e2b9-4d24-b3a0-269cae329ad3\"}], {\"hovermode\": \"closest\", \"title\": \"Number of respondents by Sex and age\", \"xaxis\": {\"showticklabels\": true, \"tickangle\": 15, \"tickfont\": {\"color\": \"black\", \"size\": 9}, \"title\": \"Age\"}, \"yaxis\": {\"title\": \"Number of respondents\"}}, {\"showLink\": true, \"linkText\": \"Export to plot.ly\", \"plotlyServerURL\": \"https://plot.ly\"})});</script><script type=\"text/javascript\">window.addEventListener(\"resize\", function(){window._Plotly.Plots.resize(document.getElementById(\"436cea2c-fb4d-44ca-bfbf-cc371875f503\"));});</script>"
      ]
     },
     "metadata": {},
     "output_type": "display_data"
    }
   ],
   "source": [
    "df = get_categories_group(multiple_df, 'Q1', 'Q2')\n",
    "draw_trace_group_bar(df, 'Q1', 'Q2', 'Number of respondents by Sex and age', 'Age', 'Number of respondents')"
   ]
  },
  {
   "cell_type": "code",
   "execution_count": 38,
   "metadata": {
    "_kg_hide-input": true,
    "_uuid": "9a8f64d567b0f4f25d8e2b343981304e90a73b26",
    "execution": {
     "iopub.execute_input": "2022-12-14T05:40:35.955418Z",
     "iopub.status.busy": "2022-12-14T05:40:35.955106Z",
     "iopub.status.idle": "2022-12-14T05:40:36.363027Z",
     "shell.execute_reply": "2022-12-14T05:40:36.361685Z",
     "shell.execute_reply.started": "2022-12-14T05:40:35.955363Z"
    }
   },
   "outputs": [
    {
     "data": {
      "application/vnd.plotly.v1+json": {
       "config": {
        "linkText": "Export to plot.ly",
        "plotlyServerURL": "https://plot.ly",
        "showLink": true
       },
       "data": [
        {
         "name": "18-21",
         "text": [
          "Bachelor’s degree",
          "Master’s degree",
          "Some college/university study without earning a bachelor’s degree",
          "No formal education past high school",
          "I prefer not to answer",
          "Professional degree",
          "Doctoral degree"
         ],
         "type": "bar",
         "uid": "2a50e71a-b7af-495d-bcae-f4102b06e706",
         "x": [
          "Bachelor’s degree",
          "Master’s degree",
          "Some college/university study without earning a bachelor’s degree",
          "No formal education past high school",
          "I prefer not to answer",
          "Professional degree",
          "Doctoral degree"
         ],
         "y": [
          1896,
          544,
          369,
          56,
          40,
          35,
          19
         ]
        },
        {
         "name": "22-24",
         "text": [
          "Master’s degree",
          "Bachelor’s degree",
          "Some college/university study without earning a bachelor’s degree",
          "Doctoral degree",
          "I prefer not to answer",
          "Professional degree",
          "No formal education past high school"
         ],
         "type": "bar",
         "uid": "0f34e134-77e6-4d34-8f7e-2682c2752425",
         "x": [
          "Master’s degree",
          "Bachelor’s degree",
          "Some college/university study without earning a bachelor’s degree",
          "Doctoral degree",
          "I prefer not to answer",
          "Professional degree",
          "No formal education past high school"
         ],
         "y": [
          2592,
          1956,
          167,
          165,
          63,
          62,
          24
         ]
        },
        {
         "name": "25-29",
         "text": [
          "Master’s degree",
          "Bachelor’s degree",
          "Doctoral degree",
          "Professional degree",
          "Some college/university study without earning a bachelor’s degree",
          "I prefer not to answer",
          "No formal education past high school"
         ],
         "type": "bar",
         "uid": "a6c6d5ee-ef93-4415-ace8-47fa352acc09",
         "x": [
          "Master’s degree",
          "Bachelor’s degree",
          "Doctoral degree",
          "Professional degree",
          "Some college/university study without earning a bachelor’s degree",
          "I prefer not to answer",
          "No formal education past high school"
         ],
         "y": [
          3470,
          1449,
          767,
          131,
          129,
          75,
          38
         ]
        },
        {
         "name": "30-34",
         "text": [
          "Master’s degree",
          "Doctoral degree",
          "Bachelor’s degree",
          "Professional degree",
          "Some college/university study without earning a bachelor’s degree",
          "I prefer not to answer",
          "No formal education past high school"
         ],
         "type": "bar",
         "uid": "e355c24c-9aa9-4d3b-8b97-6b3664c4fba5",
         "x": [
          "Master’s degree",
          "Doctoral degree",
          "Bachelor’s degree",
          "Professional degree",
          "Some college/university study without earning a bachelor’s degree",
          "I prefer not to answer",
          "No formal education past high school"
         ],
         "y": [
          1792,
          884,
          759,
          109,
          90,
          68,
          26
         ]
        },
        {
         "name": "35-39",
         "text": [
          "Master’s degree",
          "Doctoral degree",
          "Bachelor’s degree",
          "Professional degree",
          "Some college/university study without earning a bachelor’s degree",
          "I prefer not to answer",
          "No formal education past high school"
         ],
         "type": "bar",
         "uid": "625e6e3f-a9c3-41a1-903e-41148806a7c1",
         "x": [
          "Master’s degree",
          "Doctoral degree",
          "Bachelor’s degree",
          "Professional degree",
          "Some college/university study without earning a bachelor’s degree",
          "I prefer not to answer",
          "No formal education past high school"
         ],
         "y": [
          994,
          574,
          413,
          98,
          62,
          44,
          29
         ]
        },
        {
         "name": "40-44",
         "text": [
          "Master’s degree",
          "Doctoral degree",
          "Bachelor’s degree",
          "Professional degree",
          "Some college/university study without earning a bachelor’s degree",
          "No formal education past high school",
          "I prefer not to answer"
         ],
         "type": "bar",
         "uid": "fbd47625-e5c0-4fb6-b280-020f72872f0e",
         "x": [
          "Master’s degree",
          "Doctoral degree",
          "Bachelor’s degree",
          "Professional degree",
          "Some college/university study without earning a bachelor’s degree",
          "No formal education past high school",
          "I prefer not to answer"
         ],
         "y": [
          589,
          368,
          233,
          64,
          55,
          18,
          14
         ]
        },
        {
         "name": "45-49",
         "text": [
          "Master’s degree",
          "Doctoral degree",
          "Bachelor’s degree",
          "Professional degree",
          "Some college/university study without earning a bachelor’s degree",
          "No formal education past high school",
          "I prefer not to answer"
         ],
         "type": "bar",
         "uid": "7cd2f499-4d98-4711-8ca9-a3f7d4b552e4",
         "x": [
          "Master’s degree",
          "Doctoral degree",
          "Bachelor’s degree",
          "Professional degree",
          "Some college/university study without earning a bachelor’s degree",
          "No formal education past high school",
          "I prefer not to answer"
         ],
         "y": [
          358,
          211,
          173,
          39,
          34,
          18,
          13
         ]
        },
        {
         "name": "50-54",
         "text": [
          "Master’s degree",
          "Doctoral degree",
          "Bachelor’s degree",
          "Some college/university study without earning a bachelor’s degree",
          "Professional degree",
          "No formal education past high school",
          "I prefer not to answer"
         ],
         "type": "bar",
         "uid": "9c2263d8-61f7-4736-82e7-f3ba5192f5ea",
         "x": [
          "Master’s degree",
          "Doctoral degree",
          "Bachelor’s degree",
          "Some college/university study without earning a bachelor’s degree",
          "Professional degree",
          "No formal education past high school",
          "I prefer not to answer"
         ],
         "y": [
          251,
          161,
          92,
          29,
          24,
          9,
          8
         ]
        },
        {
         "name": "55-59",
         "text": [
          "Master’s degree",
          "Doctoral degree",
          "Bachelor’s degree",
          "Some college/university study without earning a bachelor’s degree",
          "Professional degree",
          "I prefer not to answer",
          "No formal education past high school"
         ],
         "type": "bar",
         "uid": "65486bdd-aa5c-4b2f-abc6-668693cfdd9b",
         "x": [
          "Master’s degree",
          "Doctoral degree",
          "Bachelor’s degree",
          "Some college/university study without earning a bachelor’s degree",
          "Professional degree",
          "I prefer not to answer",
          "No formal education past high school"
         ],
         "y": [
          140,
          92,
          62,
          16,
          10,
          4,
          4
         ]
        },
        {
         "name": "60-69",
         "text": [
          "Master’s degree",
          "Doctoral degree",
          "Bachelor’s degree",
          "Professional degree",
          "Some college/university study without earning a bachelor’s degree",
          "I prefer not to answer",
          "No formal education past high school"
         ],
         "type": "bar",
         "uid": "c8fd558b-8fc7-490c-8ed9-4dc7dcf2c4df",
         "x": [
          "Master’s degree",
          "Doctoral degree",
          "Bachelor’s degree",
          "Professional degree",
          "Some college/university study without earning a bachelor’s degree",
          "I prefer not to answer",
          "No formal education past high school"
         ],
         "y": [
          104,
          88,
          42,
          20,
          15,
          2,
          2
         ]
        },
        {
         "name": "70-79",
         "text": [
          "Doctoral degree",
          "Master’s degree",
          "Bachelor’s degree",
          "I prefer not to answer",
          "Professional degree"
         ],
         "type": "bar",
         "uid": "30e0a8f7-d954-4cef-b0f5-e0af233f344d",
         "x": [
          "Doctoral degree",
          "Master’s degree",
          "Bachelor’s degree",
          "I prefer not to answer",
          "Professional degree"
         ],
         "y": [
          23,
          13,
          6,
          4,
          4
         ]
        },
        {
         "name": "80+",
         "text": [
          "I prefer not to answer",
          "Master’s degree",
          "No formal education past high school",
          "Doctoral degree",
          "Professional degree",
          "Bachelor’s degree",
          "Some college/university study without earning a bachelor’s degree"
         ],
         "type": "bar",
         "uid": "66371322-13d5-49d8-a8e7-f5de67ac7524",
         "x": [
          "I prefer not to answer",
          "Master’s degree",
          "No formal education past high school",
          "Doctoral degree",
          "Professional degree",
          "Bachelor’s degree",
          "Some college/university study without earning a bachelor’s degree"
         ],
         "y": [
          10,
          8,
          8,
          5,
          3,
          2,
          1
         ]
        }
       ],
       "layout": {
        "hovermode": "closest",
        "title": "Number of respondents by Age and Highest level of formal education",
        "xaxis": {
         "showticklabels": true,
         "tickangle": 15,
         "tickfont": {
          "color": "black",
          "size": 9
         },
         "title": "Highest level of formal education"
        },
        "yaxis": {
         "title": "Number of respondents"
        }
       }
      },
      "text/html": [
       "<div id=\"843ec0ed-ab87-40d9-9bc5-4e3f6c0b5e82\" style=\"height: 525px; width: 100%;\" class=\"plotly-graph-div\"></div><script type=\"text/javascript\">require([\"plotly\"], function(Plotly) { window.PLOTLYENV=window.PLOTLYENV || {};window.PLOTLYENV.BASE_URL=\"https://plot.ly\";Plotly.newPlot(\"843ec0ed-ab87-40d9-9bc5-4e3f6c0b5e82\", [{\"name\": \"18-21\", \"text\": [\"Bachelor\\u2019s degree\", \"Master\\u2019s degree\", \"Some college/university study without earning a bachelor\\u2019s degree\", \"No formal education past high school\", \"I prefer not to answer\", \"Professional degree\", \"Doctoral degree\"], \"x\": [\"Bachelor\\u2019s degree\", \"Master\\u2019s degree\", \"Some college/university study without earning a bachelor\\u2019s degree\", \"No formal education past high school\", \"I prefer not to answer\", \"Professional degree\", \"Doctoral degree\"], \"y\": [1896, 544, 369, 56, 40, 35, 19], \"type\": \"bar\", \"uid\": \"f0677135-5f88-43f7-b04a-903ddac56e5f\"}, {\"name\": \"22-24\", \"text\": [\"Master\\u2019s degree\", \"Bachelor\\u2019s degree\", \"Some college/university study without earning a bachelor\\u2019s degree\", \"Doctoral degree\", \"I prefer not to answer\", \"Professional degree\", \"No formal education past high school\"], \"x\": [\"Master\\u2019s degree\", \"Bachelor\\u2019s degree\", \"Some college/university study without earning a bachelor\\u2019s degree\", \"Doctoral degree\", \"I prefer not to answer\", \"Professional degree\", \"No formal education past high school\"], \"y\": [2592, 1956, 167, 165, 63, 62, 24], \"type\": \"bar\", \"uid\": \"337bae13-39a3-485b-b929-90525b5e209a\"}, {\"name\": \"25-29\", \"text\": [\"Master\\u2019s degree\", \"Bachelor\\u2019s degree\", \"Doctoral degree\", \"Professional degree\", \"Some college/university study without earning a bachelor\\u2019s degree\", \"I prefer not to answer\", \"No formal education past high school\"], \"x\": [\"Master\\u2019s degree\", \"Bachelor\\u2019s degree\", \"Doctoral degree\", \"Professional degree\", \"Some college/university study without earning a bachelor\\u2019s degree\", \"I prefer not to answer\", \"No formal education past high school\"], \"y\": [3470, 1449, 767, 131, 129, 75, 38], \"type\": \"bar\", \"uid\": \"5a21b5de-1d7c-41ec-8304-0600f88c7af0\"}, {\"name\": \"30-34\", \"text\": [\"Master\\u2019s degree\", \"Doctoral degree\", \"Bachelor\\u2019s degree\", \"Professional degree\", \"Some college/university study without earning a bachelor\\u2019s degree\", \"I prefer not to answer\", \"No formal education past high school\"], \"x\": [\"Master\\u2019s degree\", \"Doctoral degree\", \"Bachelor\\u2019s degree\", \"Professional degree\", \"Some college/university study without earning a bachelor\\u2019s degree\", \"I prefer not to answer\", \"No formal education past high school\"], \"y\": [1792, 884, 759, 109, 90, 68, 26], \"type\": \"bar\", \"uid\": \"22215e8c-ac2b-4387-8d0a-c4ff21e964f0\"}, {\"name\": \"35-39\", \"text\": [\"Master\\u2019s degree\", \"Doctoral degree\", \"Bachelor\\u2019s degree\", \"Professional degree\", \"Some college/university study without earning a bachelor\\u2019s degree\", \"I prefer not to answer\", \"No formal education past high school\"], \"x\": [\"Master\\u2019s degree\", \"Doctoral degree\", \"Bachelor\\u2019s degree\", \"Professional degree\", \"Some college/university study without earning a bachelor\\u2019s degree\", \"I prefer not to answer\", \"No formal education past high school\"], \"y\": [994, 574, 413, 98, 62, 44, 29], \"type\": \"bar\", \"uid\": \"2ae75e16-3508-4a3a-b5db-3fd3363909c7\"}, {\"name\": \"40-44\", \"text\": [\"Master\\u2019s degree\", \"Doctoral degree\", \"Bachelor\\u2019s degree\", \"Professional degree\", \"Some college/university study without earning a bachelor\\u2019s degree\", \"No formal education past high school\", \"I prefer not to answer\"], \"x\": [\"Master\\u2019s degree\", \"Doctoral degree\", \"Bachelor\\u2019s degree\", \"Professional degree\", \"Some college/university study without earning a bachelor\\u2019s degree\", \"No formal education past high school\", \"I prefer not to answer\"], \"y\": [589, 368, 233, 64, 55, 18, 14], \"type\": \"bar\", \"uid\": \"91c486b6-b2d6-4b88-a9e1-82c78b991a2f\"}, {\"name\": \"45-49\", \"text\": [\"Master\\u2019s degree\", \"Doctoral degree\", \"Bachelor\\u2019s degree\", \"Professional degree\", \"Some college/university study without earning a bachelor\\u2019s degree\", \"No formal education past high school\", \"I prefer not to answer\"], \"x\": [\"Master\\u2019s degree\", \"Doctoral degree\", \"Bachelor\\u2019s degree\", \"Professional degree\", \"Some college/university study without earning a bachelor\\u2019s degree\", \"No formal education past high school\", \"I prefer not to answer\"], \"y\": [358, 211, 173, 39, 34, 18, 13], \"type\": \"bar\", \"uid\": \"f941e343-6d3a-4c09-ba75-737bcde4dc67\"}, {\"name\": \"50-54\", \"text\": [\"Master\\u2019s degree\", \"Doctoral degree\", \"Bachelor\\u2019s degree\", \"Some college/university study without earning a bachelor\\u2019s degree\", \"Professional degree\", \"No formal education past high school\", \"I prefer not to answer\"], \"x\": [\"Master\\u2019s degree\", \"Doctoral degree\", \"Bachelor\\u2019s degree\", \"Some college/university study without earning a bachelor\\u2019s degree\", \"Professional degree\", \"No formal education past high school\", \"I prefer not to answer\"], \"y\": [251, 161, 92, 29, 24, 9, 8], \"type\": \"bar\", \"uid\": \"5ee60bf0-eee3-46db-aff8-0b8dce23ee27\"}, {\"name\": \"55-59\", \"text\": [\"Master\\u2019s degree\", \"Doctoral degree\", \"Bachelor\\u2019s degree\", \"Some college/university study without earning a bachelor\\u2019s degree\", \"Professional degree\", \"I prefer not to answer\", \"No formal education past high school\"], \"x\": [\"Master\\u2019s degree\", \"Doctoral degree\", \"Bachelor\\u2019s degree\", \"Some college/university study without earning a bachelor\\u2019s degree\", \"Professional degree\", \"I prefer not to answer\", \"No formal education past high school\"], \"y\": [140, 92, 62, 16, 10, 4, 4], \"type\": \"bar\", \"uid\": \"70871f87-7560-41c4-ad62-374fd2cd32e9\"}, {\"name\": \"60-69\", \"text\": [\"Master\\u2019s degree\", \"Doctoral degree\", \"Bachelor\\u2019s degree\", \"Professional degree\", \"Some college/university study without earning a bachelor\\u2019s degree\", \"I prefer not to answer\", \"No formal education past high school\"], \"x\": [\"Master\\u2019s degree\", \"Doctoral degree\", \"Bachelor\\u2019s degree\", \"Professional degree\", \"Some college/university study without earning a bachelor\\u2019s degree\", \"I prefer not to answer\", \"No formal education past high school\"], \"y\": [104, 88, 42, 20, 15, 2, 2], \"type\": \"bar\", \"uid\": \"e6e89976-380c-41c6-8ec7-11686059a0b8\"}, {\"name\": \"70-79\", \"text\": [\"Doctoral degree\", \"Master\\u2019s degree\", \"Bachelor\\u2019s degree\", \"I prefer not to answer\", \"Professional degree\"], \"x\": [\"Doctoral degree\", \"Master\\u2019s degree\", \"Bachelor\\u2019s degree\", \"I prefer not to answer\", \"Professional degree\"], \"y\": [23, 13, 6, 4, 4], \"type\": \"bar\", \"uid\": \"856a6839-b252-42a0-9ca8-60fb6ab60925\"}, {\"name\": \"80+\", \"text\": [\"I prefer not to answer\", \"Master\\u2019s degree\", \"No formal education past high school\", \"Doctoral degree\", \"Professional degree\", \"Bachelor\\u2019s degree\", \"Some college/university study without earning a bachelor\\u2019s degree\"], \"x\": [\"I prefer not to answer\", \"Master\\u2019s degree\", \"No formal education past high school\", \"Doctoral degree\", \"Professional degree\", \"Bachelor\\u2019s degree\", \"Some college/university study without earning a bachelor\\u2019s degree\"], \"y\": [10, 8, 8, 5, 3, 2, 1], \"type\": \"bar\", \"uid\": \"d6d7d618-2f5a-4a7a-8f13-bbfd644f7945\"}], {\"hovermode\": \"closest\", \"title\": \"Number of respondents by Age and Highest level of formal education\", \"xaxis\": {\"showticklabels\": true, \"tickangle\": 15, \"tickfont\": {\"color\": \"black\", \"size\": 9}, \"title\": \"Highest level of formal education\"}, \"yaxis\": {\"title\": \"Number of respondents\"}}, {\"showLink\": true, \"linkText\": \"Export to plot.ly\", \"plotlyServerURL\": \"https://plot.ly\"})});</script><script type=\"text/javascript\">window.addEventListener(\"resize\", function(){window._Plotly.Plots.resize(document.getElementById(\"843ec0ed-ab87-40d9-9bc5-4e3f6c0b5e82\"));});</script>"
      ],
      "text/vnd.plotly.v1+html": [
       "<div id=\"843ec0ed-ab87-40d9-9bc5-4e3f6c0b5e82\" style=\"height: 525px; width: 100%;\" class=\"plotly-graph-div\"></div><script type=\"text/javascript\">require([\"plotly\"], function(Plotly) { window.PLOTLYENV=window.PLOTLYENV || {};window.PLOTLYENV.BASE_URL=\"https://plot.ly\";Plotly.newPlot(\"843ec0ed-ab87-40d9-9bc5-4e3f6c0b5e82\", [{\"name\": \"18-21\", \"text\": [\"Bachelor\\u2019s degree\", \"Master\\u2019s degree\", \"Some college/university study without earning a bachelor\\u2019s degree\", \"No formal education past high school\", \"I prefer not to answer\", \"Professional degree\", \"Doctoral degree\"], \"x\": [\"Bachelor\\u2019s degree\", \"Master\\u2019s degree\", \"Some college/university study without earning a bachelor\\u2019s degree\", \"No formal education past high school\", \"I prefer not to answer\", \"Professional degree\", \"Doctoral degree\"], \"y\": [1896, 544, 369, 56, 40, 35, 19], \"type\": \"bar\", \"uid\": \"f0677135-5f88-43f7-b04a-903ddac56e5f\"}, {\"name\": \"22-24\", \"text\": [\"Master\\u2019s degree\", \"Bachelor\\u2019s degree\", \"Some college/university study without earning a bachelor\\u2019s degree\", \"Doctoral degree\", \"I prefer not to answer\", \"Professional degree\", \"No formal education past high school\"], \"x\": [\"Master\\u2019s degree\", \"Bachelor\\u2019s degree\", \"Some college/university study without earning a bachelor\\u2019s degree\", \"Doctoral degree\", \"I prefer not to answer\", \"Professional degree\", \"No formal education past high school\"], \"y\": [2592, 1956, 167, 165, 63, 62, 24], \"type\": \"bar\", \"uid\": \"337bae13-39a3-485b-b929-90525b5e209a\"}, {\"name\": \"25-29\", \"text\": [\"Master\\u2019s degree\", \"Bachelor\\u2019s degree\", \"Doctoral degree\", \"Professional degree\", \"Some college/university study without earning a bachelor\\u2019s degree\", \"I prefer not to answer\", \"No formal education past high school\"], \"x\": [\"Master\\u2019s degree\", \"Bachelor\\u2019s degree\", \"Doctoral degree\", \"Professional degree\", \"Some college/university study without earning a bachelor\\u2019s degree\", \"I prefer not to answer\", \"No formal education past high school\"], \"y\": [3470, 1449, 767, 131, 129, 75, 38], \"type\": \"bar\", \"uid\": \"5a21b5de-1d7c-41ec-8304-0600f88c7af0\"}, {\"name\": \"30-34\", \"text\": [\"Master\\u2019s degree\", \"Doctoral degree\", \"Bachelor\\u2019s degree\", \"Professional degree\", \"Some college/university study without earning a bachelor\\u2019s degree\", \"I prefer not to answer\", \"No formal education past high school\"], \"x\": [\"Master\\u2019s degree\", \"Doctoral degree\", \"Bachelor\\u2019s degree\", \"Professional degree\", \"Some college/university study without earning a bachelor\\u2019s degree\", \"I prefer not to answer\", \"No formal education past high school\"], \"y\": [1792, 884, 759, 109, 90, 68, 26], \"type\": \"bar\", \"uid\": \"22215e8c-ac2b-4387-8d0a-c4ff21e964f0\"}, {\"name\": \"35-39\", \"text\": [\"Master\\u2019s degree\", \"Doctoral degree\", \"Bachelor\\u2019s degree\", \"Professional degree\", \"Some college/university study without earning a bachelor\\u2019s degree\", \"I prefer not to answer\", \"No formal education past high school\"], \"x\": [\"Master\\u2019s degree\", \"Doctoral degree\", \"Bachelor\\u2019s degree\", \"Professional degree\", \"Some college/university study without earning a bachelor\\u2019s degree\", \"I prefer not to answer\", \"No formal education past high school\"], \"y\": [994, 574, 413, 98, 62, 44, 29], \"type\": \"bar\", \"uid\": \"2ae75e16-3508-4a3a-b5db-3fd3363909c7\"}, {\"name\": \"40-44\", \"text\": [\"Master\\u2019s degree\", \"Doctoral degree\", \"Bachelor\\u2019s degree\", \"Professional degree\", \"Some college/university study without earning a bachelor\\u2019s degree\", \"No formal education past high school\", \"I prefer not to answer\"], \"x\": [\"Master\\u2019s degree\", \"Doctoral degree\", \"Bachelor\\u2019s degree\", \"Professional degree\", \"Some college/university study without earning a bachelor\\u2019s degree\", \"No formal education past high school\", \"I prefer not to answer\"], \"y\": [589, 368, 233, 64, 55, 18, 14], \"type\": \"bar\", \"uid\": \"91c486b6-b2d6-4b88-a9e1-82c78b991a2f\"}, {\"name\": \"45-49\", \"text\": [\"Master\\u2019s degree\", \"Doctoral degree\", \"Bachelor\\u2019s degree\", \"Professional degree\", \"Some college/university study without earning a bachelor\\u2019s degree\", \"No formal education past high school\", \"I prefer not to answer\"], \"x\": [\"Master\\u2019s degree\", \"Doctoral degree\", \"Bachelor\\u2019s degree\", \"Professional degree\", \"Some college/university study without earning a bachelor\\u2019s degree\", \"No formal education past high school\", \"I prefer not to answer\"], \"y\": [358, 211, 173, 39, 34, 18, 13], \"type\": \"bar\", \"uid\": \"f941e343-6d3a-4c09-ba75-737bcde4dc67\"}, {\"name\": \"50-54\", \"text\": [\"Master\\u2019s degree\", \"Doctoral degree\", \"Bachelor\\u2019s degree\", \"Some college/university study without earning a bachelor\\u2019s degree\", \"Professional degree\", \"No formal education past high school\", \"I prefer not to answer\"], \"x\": [\"Master\\u2019s degree\", \"Doctoral degree\", \"Bachelor\\u2019s degree\", \"Some college/university study without earning a bachelor\\u2019s degree\", \"Professional degree\", \"No formal education past high school\", \"I prefer not to answer\"], \"y\": [251, 161, 92, 29, 24, 9, 8], \"type\": \"bar\", \"uid\": \"5ee60bf0-eee3-46db-aff8-0b8dce23ee27\"}, {\"name\": \"55-59\", \"text\": [\"Master\\u2019s degree\", \"Doctoral degree\", \"Bachelor\\u2019s degree\", \"Some college/university study without earning a bachelor\\u2019s degree\", \"Professional degree\", \"I prefer not to answer\", \"No formal education past high school\"], \"x\": [\"Master\\u2019s degree\", \"Doctoral degree\", \"Bachelor\\u2019s degree\", \"Some college/university study without earning a bachelor\\u2019s degree\", \"Professional degree\", \"I prefer not to answer\", \"No formal education past high school\"], \"y\": [140, 92, 62, 16, 10, 4, 4], \"type\": \"bar\", \"uid\": \"70871f87-7560-41c4-ad62-374fd2cd32e9\"}, {\"name\": \"60-69\", \"text\": [\"Master\\u2019s degree\", \"Doctoral degree\", \"Bachelor\\u2019s degree\", \"Professional degree\", \"Some college/university study without earning a bachelor\\u2019s degree\", \"I prefer not to answer\", \"No formal education past high school\"], \"x\": [\"Master\\u2019s degree\", \"Doctoral degree\", \"Bachelor\\u2019s degree\", \"Professional degree\", \"Some college/university study without earning a bachelor\\u2019s degree\", \"I prefer not to answer\", \"No formal education past high school\"], \"y\": [104, 88, 42, 20, 15, 2, 2], \"type\": \"bar\", \"uid\": \"e6e89976-380c-41c6-8ec7-11686059a0b8\"}, {\"name\": \"70-79\", \"text\": [\"Doctoral degree\", \"Master\\u2019s degree\", \"Bachelor\\u2019s degree\", \"I prefer not to answer\", \"Professional degree\"], \"x\": [\"Doctoral degree\", \"Master\\u2019s degree\", \"Bachelor\\u2019s degree\", \"I prefer not to answer\", \"Professional degree\"], \"y\": [23, 13, 6, 4, 4], \"type\": \"bar\", \"uid\": \"856a6839-b252-42a0-9ca8-60fb6ab60925\"}, {\"name\": \"80+\", \"text\": [\"I prefer not to answer\", \"Master\\u2019s degree\", \"No formal education past high school\", \"Doctoral degree\", \"Professional degree\", \"Bachelor\\u2019s degree\", \"Some college/university study without earning a bachelor\\u2019s degree\"], \"x\": [\"I prefer not to answer\", \"Master\\u2019s degree\", \"No formal education past high school\", \"Doctoral degree\", \"Professional degree\", \"Bachelor\\u2019s degree\", \"Some college/university study without earning a bachelor\\u2019s degree\"], \"y\": [10, 8, 8, 5, 3, 2, 1], \"type\": \"bar\", \"uid\": \"d6d7d618-2f5a-4a7a-8f13-bbfd644f7945\"}], {\"hovermode\": \"closest\", \"title\": \"Number of respondents by Age and Highest level of formal education\", \"xaxis\": {\"showticklabels\": true, \"tickangle\": 15, \"tickfont\": {\"color\": \"black\", \"size\": 9}, \"title\": \"Highest level of formal education\"}, \"yaxis\": {\"title\": \"Number of respondents\"}}, {\"showLink\": true, \"linkText\": \"Export to plot.ly\", \"plotlyServerURL\": \"https://plot.ly\"})});</script><script type=\"text/javascript\">window.addEventListener(\"resize\", function(){window._Plotly.Plots.resize(document.getElementById(\"843ec0ed-ab87-40d9-9bc5-4e3f6c0b5e82\"));});</script>"
      ]
     },
     "metadata": {},
     "output_type": "display_data"
    }
   ],
   "source": [
    "df = get_categories_group(multiple_df, 'Q2', 'Q4')\n",
    "draw_trace_group_bar(df, 'Q2', 'Q4', 'Number of respondents by Age and Highest level of formal education', 'Highest level of formal education', 'Number of respondents')"
   ]
  },
  {
   "cell_type": "code",
   "execution_count": 39,
   "metadata": {
    "_kg_hide-input": true,
    "_uuid": "954f9e4f279d081de3d0ce238bdd84024c579ead",
    "execution": {
     "iopub.execute_input": "2022-12-14T05:40:40.215032Z",
     "iopub.status.busy": "2022-12-14T05:40:40.214697Z",
     "iopub.status.idle": "2022-12-14T05:40:40.490669Z",
     "shell.execute_reply": "2022-12-14T05:40:40.489515Z",
     "shell.execute_reply.started": "2022-12-14T05:40:40.214975Z"
    }
   },
   "outputs": [
    {
     "data": {
      "application/vnd.plotly.v1+json": {
       "config": {
        "linkText": "Export to plot.ly",
        "plotlyServerURL": "https://plot.ly",
        "showLink": true
       },
       "data": [
        {
         "name": "18-21",
         "text": [
          "0-10,000",
          "I do not wish to disclose my approximate yearly compensation",
          "10-20,000",
          "20-30,000",
          "30-40,000",
          "40-50,000",
          "50-60,000",
          "100-125,000",
          "90-100,000",
          "80-90,000",
          "70-80,000",
          "500,000+",
          "60-70,000",
          "150-200,000",
          "250-300,000",
          "125-150,000",
          "200-250,000"
         ],
         "type": "bar",
         "uid": "499b4e17-7f61-4942-a86e-2e258eda7cd5",
         "x": [
          "0-10,000",
          "I do not wish to disclose my approximate yearly compensation",
          "10-20,000",
          "20-30,000",
          "30-40,000",
          "40-50,000",
          "50-60,000",
          "100-125,000",
          "90-100,000",
          "80-90,000",
          "70-80,000",
          "500,000+",
          "60-70,000",
          "150-200,000",
          "250-300,000",
          "125-150,000",
          "200-250,000"
         ],
         "y": [
          1119,
          916,
          100,
          40,
          20,
          18,
          16,
          13,
          11,
          7,
          6,
          4,
          3,
          2,
          2,
          1,
          1
         ]
        },
        {
         "name": "22-24",
         "text": [
          "0-10,000",
          "I do not wish to disclose my approximate yearly compensation",
          "10-20,000",
          "20-30,000",
          "30-40,000",
          "40-50,000",
          "50-60,000",
          "60-70,000",
          "70-80,000",
          "80-90,000",
          "100-125,000",
          "90-100,000",
          "125-150,000",
          "150-200,000",
          "250-300,000",
          "300-400,000",
          "500,000+",
          "400-500,000",
          "200-250,000"
         ],
         "type": "bar",
         "uid": "dc0909c9-1419-458f-a2a7-6e7b0ae14327",
         "x": [
          "0-10,000",
          "I do not wish to disclose my approximate yearly compensation",
          "10-20,000",
          "20-30,000",
          "30-40,000",
          "40-50,000",
          "50-60,000",
          "60-70,000",
          "70-80,000",
          "80-90,000",
          "100-125,000",
          "90-100,000",
          "125-150,000",
          "150-200,000",
          "250-300,000",
          "300-400,000",
          "500,000+",
          "400-500,000",
          "200-250,000"
         ],
         "y": [
          1574,
          1281,
          427,
          220,
          168,
          112,
          93,
          71,
          63,
          44,
          40,
          34,
          20,
          9,
          6,
          4,
          4,
          3,
          2
         ]
        },
        {
         "name": "25-29",
         "text": [
          "0-10,000",
          "I do not wish to disclose my approximate yearly compensation",
          "10-20,000",
          "20-30,000",
          "30-40,000",
          "40-50,000",
          "50-60,000",
          "60-70,000",
          "70-80,000",
          "100-125,000",
          "80-90,000",
          "90-100,000",
          "125-150,000",
          "150-200,000",
          "200-250,000",
          "500,000+",
          "250-300,000",
          "300-400,000",
          "400-500,000"
         ],
         "type": "bar",
         "uid": "66de7bd6-aec8-413e-9ba2-0d821ec888ba",
         "x": [
          "0-10,000",
          "I do not wish to disclose my approximate yearly compensation",
          "10-20,000",
          "20-30,000",
          "30-40,000",
          "40-50,000",
          "50-60,000",
          "60-70,000",
          "70-80,000",
          "100-125,000",
          "80-90,000",
          "90-100,000",
          "125-150,000",
          "150-200,000",
          "200-250,000",
          "500,000+",
          "250-300,000",
          "300-400,000",
          "400-500,000"
         ],
         "y": [
          1057,
          1047,
          747,
          539,
          371,
          318,
          291,
          201,
          166,
          154,
          140,
          112,
          85,
          49,
          17,
          13,
          8,
          6,
          4
         ]
        },
        {
         "name": "30-34",
         "text": [
          "I do not wish to disclose my approximate yearly compensation",
          "0-10,000",
          "10-20,000",
          "20-30,000",
          "30-40,000",
          "40-50,000",
          "50-60,000",
          "100-125,000",
          "60-70,000",
          "70-80,000",
          "90-100,000",
          "125-150,000",
          "80-90,000",
          "150-200,000",
          "200-250,000",
          "250-300,000",
          "300-400,000",
          "500,000+",
          "400-500,000"
         ],
         "type": "bar",
         "uid": "db7467d0-c1fa-4834-8797-52daa1ea08a0",
         "x": [
          "I do not wish to disclose my approximate yearly compensation",
          "0-10,000",
          "10-20,000",
          "20-30,000",
          "30-40,000",
          "40-50,000",
          "50-60,000",
          "100-125,000",
          "60-70,000",
          "70-80,000",
          "90-100,000",
          "125-150,000",
          "80-90,000",
          "150-200,000",
          "200-250,000",
          "250-300,000",
          "300-400,000",
          "500,000+",
          "400-500,000"
         ],
         "y": [
          534,
          360,
          329,
          302,
          262,
          223,
          214,
          209,
          189,
          173,
          146,
          128,
          119,
          101,
          37,
          9,
          7,
          7,
          4
         ]
        },
        {
         "name": "35-39",
         "text": [
          "I do not wish to disclose my approximate yearly compensation",
          "100-125,000",
          "10-20,000",
          "0-10,000",
          "20-30,000",
          "30-40,000",
          "40-50,000",
          "50-60,000",
          "60-70,000",
          "90-100,000",
          "125-150,000",
          "70-80,000",
          "150-200,000",
          "80-90,000",
          "200-250,000",
          "300-400,000",
          "500,000+",
          "250-300,000",
          "400-500,000"
         ],
         "type": "bar",
         "uid": "25ec812c-7c77-4e53-a4f9-fdecbcc9949f",
         "x": [
          "I do not wish to disclose my approximate yearly compensation",
          "100-125,000",
          "10-20,000",
          "0-10,000",
          "20-30,000",
          "30-40,000",
          "40-50,000",
          "50-60,000",
          "60-70,000",
          "90-100,000",
          "125-150,000",
          "70-80,000",
          "150-200,000",
          "80-90,000",
          "200-250,000",
          "300-400,000",
          "500,000+",
          "250-300,000",
          "400-500,000"
         ],
         "y": [
          358,
          168,
          154,
          149,
          145,
          137,
          134,
          131,
          110,
          108,
          101,
          91,
          84,
          72,
          18,
          11,
          10,
          9,
          5
         ]
        },
        {
         "name": "40-44",
         "text": [
          "I do not wish to disclose my approximate yearly compensation",
          "10-20,000",
          "100-125,000",
          "30-40,000",
          "50-60,000",
          "20-30,000",
          "60-70,000",
          "40-50,000",
          "0-10,000",
          "150-200,000",
          "125-150,000",
          "70-80,000",
          "90-100,000",
          "80-90,000",
          "200-250,000",
          "250-300,000",
          "300-400,000",
          "400-500,000"
         ],
         "type": "bar",
         "uid": "4a90b05d-4077-497e-84dd-a32f7b955257",
         "x": [
          "I do not wish to disclose my approximate yearly compensation",
          "10-20,000",
          "100-125,000",
          "30-40,000",
          "50-60,000",
          "20-30,000",
          "60-70,000",
          "40-50,000",
          "0-10,000",
          "150-200,000",
          "125-150,000",
          "70-80,000",
          "90-100,000",
          "80-90,000",
          "200-250,000",
          "250-300,000",
          "300-400,000",
          "400-500,000"
         ],
         "y": [
          225,
          94,
          89,
          83,
          80,
          73,
          73,
          72,
          69,
          69,
          68,
          66,
          65,
          49,
          23,
          8,
          5,
          3
         ]
        },
        {
         "name": "45-49",
         "text": [
          "I do not wish to disclose my approximate yearly compensation",
          "100-125,000",
          "125-150,000",
          "70-80,000",
          "150-200,000",
          "40-50,000",
          "20-30,000",
          "50-60,000",
          "10-20,000",
          "30-40,000",
          "0-10,000",
          "60-70,000",
          "80-90,000",
          "90-100,000",
          "200-250,000",
          "250-300,000",
          "300-400,000",
          "500,000+",
          "400-500,000"
         ],
         "type": "bar",
         "uid": "7da82271-ba3a-4110-a8da-35633a2f0e8f",
         "x": [
          "I do not wish to disclose my approximate yearly compensation",
          "100-125,000",
          "125-150,000",
          "70-80,000",
          "150-200,000",
          "40-50,000",
          "20-30,000",
          "50-60,000",
          "10-20,000",
          "30-40,000",
          "0-10,000",
          "60-70,000",
          "80-90,000",
          "90-100,000",
          "200-250,000",
          "250-300,000",
          "300-400,000",
          "500,000+",
          "400-500,000"
         ],
         "y": [
          154,
          56,
          52,
          52,
          49,
          44,
          42,
          42,
          41,
          37,
          36,
          36,
          35,
          28,
          27,
          12,
          6,
          5,
          2
         ]
        },
        {
         "name": "50-54",
         "text": [
          "I do not wish to disclose my approximate yearly compensation",
          "100-125,000",
          "125-150,000",
          "150-200,000",
          "90-100,000",
          "70-80,000",
          "50-60,000",
          "10-20,000",
          "60-70,000",
          "40-50,000",
          "80-90,000",
          "0-10,000",
          "20-30,000",
          "30-40,000",
          "200-250,000",
          "250-300,000",
          "500,000+",
          "300-400,000"
         ],
         "type": "bar",
         "uid": "03a749bc-1538-4177-bcfe-1bf585aba674",
         "x": [
          "I do not wish to disclose my approximate yearly compensation",
          "100-125,000",
          "125-150,000",
          "150-200,000",
          "90-100,000",
          "70-80,000",
          "50-60,000",
          "10-20,000",
          "60-70,000",
          "40-50,000",
          "80-90,000",
          "0-10,000",
          "20-30,000",
          "30-40,000",
          "200-250,000",
          "250-300,000",
          "500,000+",
          "300-400,000"
         ],
         "y": [
          101,
          43,
          41,
          41,
          30,
          29,
          27,
          25,
          25,
          24,
          23,
          19,
          19,
          19,
          18,
          9,
          6,
          5
         ]
        },
        {
         "name": "55-59",
         "text": [
          "I do not wish to disclose my approximate yearly compensation",
          "100-125,000",
          "150-200,000",
          "90-100,000",
          "125-150,000",
          "200-250,000",
          "70-80,000",
          "50-60,000",
          "60-70,000",
          "10-20,000",
          "20-30,000",
          "40-50,000",
          "80-90,000",
          "0-10,000",
          "30-40,000",
          "250-300,000",
          "500,000+",
          "300-400,000",
          "400-500,000"
         ],
         "type": "bar",
         "uid": "c493c99f-b51f-4bf2-a4cf-9fe5f2ce3494",
         "x": [
          "I do not wish to disclose my approximate yearly compensation",
          "100-125,000",
          "150-200,000",
          "90-100,000",
          "125-150,000",
          "200-250,000",
          "70-80,000",
          "50-60,000",
          "60-70,000",
          "10-20,000",
          "20-30,000",
          "40-50,000",
          "80-90,000",
          "0-10,000",
          "30-40,000",
          "250-300,000",
          "500,000+",
          "300-400,000",
          "400-500,000"
         ],
         "y": [
          64,
          37,
          28,
          19,
          18,
          18,
          17,
          15,
          11,
          9,
          8,
          8,
          8,
          7,
          7,
          5,
          4,
          2,
          1
         ]
        },
        {
         "name": "60-69",
         "text": [
          "I do not wish to disclose my approximate yearly compensation",
          "100-125,000",
          "150-200,000",
          "125-150,000",
          "70-80,000",
          "200-250,000",
          "30-40,000",
          "90-100,000",
          "60-70,000",
          "10-20,000",
          "40-50,000",
          "50-60,000",
          "80-90,000",
          "250-300,000",
          "20-30,000",
          "0-10,000",
          "300-400,000",
          "500,000+"
         ],
         "type": "bar",
         "uid": "d8bce206-fdcf-4fd8-a047-95fd019025fb",
         "x": [
          "I do not wish to disclose my approximate yearly compensation",
          "100-125,000",
          "150-200,000",
          "125-150,000",
          "70-80,000",
          "200-250,000",
          "30-40,000",
          "90-100,000",
          "60-70,000",
          "10-20,000",
          "40-50,000",
          "50-60,000",
          "80-90,000",
          "250-300,000",
          "20-30,000",
          "0-10,000",
          "300-400,000",
          "500,000+"
         ],
         "y": [
          54,
          31,
          21,
          17,
          12,
          11,
          11,
          11,
          9,
          8,
          8,
          8,
          8,
          7,
          6,
          5,
          4,
          3
         ]
        },
        {
         "name": "70-79",
         "text": [
          "I do not wish to disclose my approximate yearly compensation",
          "150-200,000",
          "30-40,000",
          "40-50,000",
          "0-10,000",
          "10-20,000",
          "100-125,000",
          "50-60,000",
          "70-80,000",
          "125-150,000",
          "300-400,000",
          "400-500,000",
          "60-70,000",
          "90-100,000"
         ],
         "type": "bar",
         "uid": "25f8ebcf-ee11-40e2-9c19-7a8e21aa08e2",
         "x": [
          "I do not wish to disclose my approximate yearly compensation",
          "150-200,000",
          "30-40,000",
          "40-50,000",
          "0-10,000",
          "10-20,000",
          "100-125,000",
          "50-60,000",
          "70-80,000",
          "125-150,000",
          "300-400,000",
          "400-500,000",
          "60-70,000",
          "90-100,000"
         ],
         "y": [
          15,
          4,
          4,
          3,
          2,
          2,
          2,
          2,
          2,
          1,
          1,
          1,
          1,
          1
         ]
        },
        {
         "name": "80+",
         "text": [
          "500,000+",
          "I do not wish to disclose my approximate yearly compensation",
          "0-10,000",
          "10-20,000",
          "100-125,000",
          "125-150,000",
          "20-30,000",
          "300-400,000",
          "40-50,000",
          "80-90,000",
          "90-100,000"
         ],
         "type": "bar",
         "uid": "105c56db-cd90-4dfa-a50b-134e760fda1a",
         "x": [
          "500,000+",
          "I do not wish to disclose my approximate yearly compensation",
          "0-10,000",
          "10-20,000",
          "100-125,000",
          "125-150,000",
          "20-30,000",
          "300-400,000",
          "40-50,000",
          "80-90,000",
          "90-100,000"
         ],
         "y": [
          7,
          7,
          1,
          1,
          1,
          1,
          1,
          1,
          1,
          1,
          1
         ]
        }
       ],
       "layout": {
        "hovermode": "closest",
        "title": "Number of respondents by Age and Current yearly compensation",
        "xaxis": {
         "showticklabels": true,
         "tickangle": 15,
         "tickfont": {
          "color": "black",
          "size": 9
         },
         "title": "Current yearly compensation"
        },
        "yaxis": {
         "title": "Number of respondents"
        }
       }
      },
      "text/html": [
       "<div id=\"2407a03a-37b5-4304-9bf5-7fd27c9417ec\" style=\"height: 525px; width: 100%;\" class=\"plotly-graph-div\"></div><script type=\"text/javascript\">require([\"plotly\"], function(Plotly) { window.PLOTLYENV=window.PLOTLYENV || {};window.PLOTLYENV.BASE_URL=\"https://plot.ly\";Plotly.newPlot(\"2407a03a-37b5-4304-9bf5-7fd27c9417ec\", [{\"name\": \"18-21\", \"text\": [\"0-10,000\", \"I do not wish to disclose my approximate yearly compensation\", \"10-20,000\", \"20-30,000\", \"30-40,000\", \"40-50,000\", \"50-60,000\", \"100-125,000\", \"90-100,000\", \"80-90,000\", \"70-80,000\", \"500,000+\", \"60-70,000\", \"150-200,000\", \"250-300,000\", \"125-150,000\", \"200-250,000\"], \"x\": [\"0-10,000\", \"I do not wish to disclose my approximate yearly compensation\", \"10-20,000\", \"20-30,000\", \"30-40,000\", \"40-50,000\", \"50-60,000\", \"100-125,000\", \"90-100,000\", \"80-90,000\", \"70-80,000\", \"500,000+\", \"60-70,000\", \"150-200,000\", \"250-300,000\", \"125-150,000\", \"200-250,000\"], \"y\": [1119, 916, 100, 40, 20, 18, 16, 13, 11, 7, 6, 4, 3, 2, 2, 1, 1], \"type\": \"bar\", \"uid\": \"dc5b903f-ba3c-421b-ac32-1d177fb0949b\"}, {\"name\": \"22-24\", \"text\": [\"0-10,000\", \"I do not wish to disclose my approximate yearly compensation\", \"10-20,000\", \"20-30,000\", \"30-40,000\", \"40-50,000\", \"50-60,000\", \"60-70,000\", \"70-80,000\", \"80-90,000\", \"100-125,000\", \"90-100,000\", \"125-150,000\", \"150-200,000\", \"250-300,000\", \"300-400,000\", \"500,000+\", \"400-500,000\", \"200-250,000\"], \"x\": [\"0-10,000\", \"I do not wish to disclose my approximate yearly compensation\", \"10-20,000\", \"20-30,000\", \"30-40,000\", \"40-50,000\", \"50-60,000\", \"60-70,000\", \"70-80,000\", \"80-90,000\", \"100-125,000\", \"90-100,000\", \"125-150,000\", \"150-200,000\", \"250-300,000\", \"300-400,000\", \"500,000+\", \"400-500,000\", \"200-250,000\"], \"y\": [1574, 1281, 427, 220, 168, 112, 93, 71, 63, 44, 40, 34, 20, 9, 6, 4, 4, 3, 2], \"type\": \"bar\", \"uid\": \"a83d306d-db5c-4bcf-ae71-4d4cfa8e41b1\"}, {\"name\": \"25-29\", \"text\": [\"0-10,000\", \"I do not wish to disclose my approximate yearly compensation\", \"10-20,000\", \"20-30,000\", \"30-40,000\", \"40-50,000\", \"50-60,000\", \"60-70,000\", \"70-80,000\", \"100-125,000\", \"80-90,000\", \"90-100,000\", \"125-150,000\", \"150-200,000\", \"200-250,000\", \"500,000+\", \"250-300,000\", \"300-400,000\", \"400-500,000\"], \"x\": [\"0-10,000\", \"I do not wish to disclose my approximate yearly compensation\", \"10-20,000\", \"20-30,000\", \"30-40,000\", \"40-50,000\", \"50-60,000\", \"60-70,000\", \"70-80,000\", \"100-125,000\", \"80-90,000\", \"90-100,000\", \"125-150,000\", \"150-200,000\", \"200-250,000\", \"500,000+\", \"250-300,000\", \"300-400,000\", \"400-500,000\"], \"y\": [1057, 1047, 747, 539, 371, 318, 291, 201, 166, 154, 140, 112, 85, 49, 17, 13, 8, 6, 4], \"type\": \"bar\", \"uid\": \"2dcdb06b-847f-42b8-b6f0-1dd5372e1fe2\"}, {\"name\": \"30-34\", \"text\": [\"I do not wish to disclose my approximate yearly compensation\", \"0-10,000\", \"10-20,000\", \"20-30,000\", \"30-40,000\", \"40-50,000\", \"50-60,000\", \"100-125,000\", \"60-70,000\", \"70-80,000\", \"90-100,000\", \"125-150,000\", \"80-90,000\", \"150-200,000\", \"200-250,000\", \"250-300,000\", \"300-400,000\", \"500,000+\", \"400-500,000\"], \"x\": [\"I do not wish to disclose my approximate yearly compensation\", \"0-10,000\", \"10-20,000\", \"20-30,000\", \"30-40,000\", \"40-50,000\", \"50-60,000\", \"100-125,000\", \"60-70,000\", \"70-80,000\", \"90-100,000\", \"125-150,000\", \"80-90,000\", \"150-200,000\", \"200-250,000\", \"250-300,000\", \"300-400,000\", \"500,000+\", \"400-500,000\"], \"y\": [534, 360, 329, 302, 262, 223, 214, 209, 189, 173, 146, 128, 119, 101, 37, 9, 7, 7, 4], \"type\": \"bar\", \"uid\": \"d5f38f66-b5a3-4ed0-a9d6-2dae03613b63\"}, {\"name\": \"35-39\", \"text\": [\"I do not wish to disclose my approximate yearly compensation\", \"100-125,000\", \"10-20,000\", \"0-10,000\", \"20-30,000\", \"30-40,000\", \"40-50,000\", \"50-60,000\", \"60-70,000\", \"90-100,000\", \"125-150,000\", \"70-80,000\", \"150-200,000\", \"80-90,000\", \"200-250,000\", \"300-400,000\", \"500,000+\", \"250-300,000\", \"400-500,000\"], \"x\": [\"I do not wish to disclose my approximate yearly compensation\", \"100-125,000\", \"10-20,000\", \"0-10,000\", \"20-30,000\", \"30-40,000\", \"40-50,000\", \"50-60,000\", \"60-70,000\", \"90-100,000\", \"125-150,000\", \"70-80,000\", \"150-200,000\", \"80-90,000\", \"200-250,000\", \"300-400,000\", \"500,000+\", \"250-300,000\", \"400-500,000\"], \"y\": [358, 168, 154, 149, 145, 137, 134, 131, 110, 108, 101, 91, 84, 72, 18, 11, 10, 9, 5], \"type\": \"bar\", \"uid\": \"415b51c0-c33f-44d5-a148-6590f8306bd2\"}, {\"name\": \"40-44\", \"text\": [\"I do not wish to disclose my approximate yearly compensation\", \"10-20,000\", \"100-125,000\", \"30-40,000\", \"50-60,000\", \"20-30,000\", \"60-70,000\", \"40-50,000\", \"0-10,000\", \"150-200,000\", \"125-150,000\", \"70-80,000\", \"90-100,000\", \"80-90,000\", \"200-250,000\", \"250-300,000\", \"300-400,000\", \"400-500,000\"], \"x\": [\"I do not wish to disclose my approximate yearly compensation\", \"10-20,000\", \"100-125,000\", \"30-40,000\", \"50-60,000\", \"20-30,000\", \"60-70,000\", \"40-50,000\", \"0-10,000\", \"150-200,000\", \"125-150,000\", \"70-80,000\", \"90-100,000\", \"80-90,000\", \"200-250,000\", \"250-300,000\", \"300-400,000\", \"400-500,000\"], \"y\": [225, 94, 89, 83, 80, 73, 73, 72, 69, 69, 68, 66, 65, 49, 23, 8, 5, 3], \"type\": \"bar\", \"uid\": \"c0d6aa0f-abbd-41d0-95ef-5f4dc611aad5\"}, {\"name\": \"45-49\", \"text\": [\"I do not wish to disclose my approximate yearly compensation\", \"100-125,000\", \"125-150,000\", \"70-80,000\", \"150-200,000\", \"40-50,000\", \"20-30,000\", \"50-60,000\", \"10-20,000\", \"30-40,000\", \"0-10,000\", \"60-70,000\", \"80-90,000\", \"90-100,000\", \"200-250,000\", \"250-300,000\", \"300-400,000\", \"500,000+\", \"400-500,000\"], \"x\": [\"I do not wish to disclose my approximate yearly compensation\", \"100-125,000\", \"125-150,000\", \"70-80,000\", \"150-200,000\", \"40-50,000\", \"20-30,000\", \"50-60,000\", \"10-20,000\", \"30-40,000\", \"0-10,000\", \"60-70,000\", \"80-90,000\", \"90-100,000\", \"200-250,000\", \"250-300,000\", \"300-400,000\", \"500,000+\", \"400-500,000\"], \"y\": [154, 56, 52, 52, 49, 44, 42, 42, 41, 37, 36, 36, 35, 28, 27, 12, 6, 5, 2], \"type\": \"bar\", \"uid\": \"799665d2-fee9-4865-903d-d17d729700e7\"}, {\"name\": \"50-54\", \"text\": [\"I do not wish to disclose my approximate yearly compensation\", \"100-125,000\", \"125-150,000\", \"150-200,000\", \"90-100,000\", \"70-80,000\", \"50-60,000\", \"10-20,000\", \"60-70,000\", \"40-50,000\", \"80-90,000\", \"0-10,000\", \"20-30,000\", \"30-40,000\", \"200-250,000\", \"250-300,000\", \"500,000+\", \"300-400,000\"], \"x\": [\"I do not wish to disclose my approximate yearly compensation\", \"100-125,000\", \"125-150,000\", \"150-200,000\", \"90-100,000\", \"70-80,000\", \"50-60,000\", \"10-20,000\", \"60-70,000\", \"40-50,000\", \"80-90,000\", \"0-10,000\", \"20-30,000\", \"30-40,000\", \"200-250,000\", \"250-300,000\", \"500,000+\", \"300-400,000\"], \"y\": [101, 43, 41, 41, 30, 29, 27, 25, 25, 24, 23, 19, 19, 19, 18, 9, 6, 5], \"type\": \"bar\", \"uid\": \"081401fe-1f6b-4650-9113-379e04703e92\"}, {\"name\": \"55-59\", \"text\": [\"I do not wish to disclose my approximate yearly compensation\", \"100-125,000\", \"150-200,000\", \"90-100,000\", \"125-150,000\", \"200-250,000\", \"70-80,000\", \"50-60,000\", \"60-70,000\", \"10-20,000\", \"20-30,000\", \"40-50,000\", \"80-90,000\", \"0-10,000\", \"30-40,000\", \"250-300,000\", \"500,000+\", \"300-400,000\", \"400-500,000\"], \"x\": [\"I do not wish to disclose my approximate yearly compensation\", \"100-125,000\", \"150-200,000\", \"90-100,000\", \"125-150,000\", \"200-250,000\", \"70-80,000\", \"50-60,000\", \"60-70,000\", \"10-20,000\", \"20-30,000\", \"40-50,000\", \"80-90,000\", \"0-10,000\", \"30-40,000\", \"250-300,000\", \"500,000+\", \"300-400,000\", \"400-500,000\"], \"y\": [64, 37, 28, 19, 18, 18, 17, 15, 11, 9, 8, 8, 8, 7, 7, 5, 4, 2, 1], \"type\": \"bar\", \"uid\": \"f33e73c3-e7c4-44b3-a8ca-e1284cfd39b2\"}, {\"name\": \"60-69\", \"text\": [\"I do not wish to disclose my approximate yearly compensation\", \"100-125,000\", \"150-200,000\", \"125-150,000\", \"70-80,000\", \"200-250,000\", \"30-40,000\", \"90-100,000\", \"60-70,000\", \"10-20,000\", \"40-50,000\", \"50-60,000\", \"80-90,000\", \"250-300,000\", \"20-30,000\", \"0-10,000\", \"300-400,000\", \"500,000+\"], \"x\": [\"I do not wish to disclose my approximate yearly compensation\", \"100-125,000\", \"150-200,000\", \"125-150,000\", \"70-80,000\", \"200-250,000\", \"30-40,000\", \"90-100,000\", \"60-70,000\", \"10-20,000\", \"40-50,000\", \"50-60,000\", \"80-90,000\", \"250-300,000\", \"20-30,000\", \"0-10,000\", \"300-400,000\", \"500,000+\"], \"y\": [54, 31, 21, 17, 12, 11, 11, 11, 9, 8, 8, 8, 8, 7, 6, 5, 4, 3], \"type\": \"bar\", \"uid\": \"102fd020-9775-4049-ab4f-ae3d5e3a5726\"}, {\"name\": \"70-79\", \"text\": [\"I do not wish to disclose my approximate yearly compensation\", \"150-200,000\", \"30-40,000\", \"40-50,000\", \"0-10,000\", \"10-20,000\", \"100-125,000\", \"50-60,000\", \"70-80,000\", \"125-150,000\", \"300-400,000\", \"400-500,000\", \"60-70,000\", \"90-100,000\"], \"x\": [\"I do not wish to disclose my approximate yearly compensation\", \"150-200,000\", \"30-40,000\", \"40-50,000\", \"0-10,000\", \"10-20,000\", \"100-125,000\", \"50-60,000\", \"70-80,000\", \"125-150,000\", \"300-400,000\", \"400-500,000\", \"60-70,000\", \"90-100,000\"], \"y\": [15, 4, 4, 3, 2, 2, 2, 2, 2, 1, 1, 1, 1, 1], \"type\": \"bar\", \"uid\": \"440e44b5-aeb2-4e8a-a244-feaf10046ff9\"}, {\"name\": \"80+\", \"text\": [\"500,000+\", \"I do not wish to disclose my approximate yearly compensation\", \"0-10,000\", \"10-20,000\", \"100-125,000\", \"125-150,000\", \"20-30,000\", \"300-400,000\", \"40-50,000\", \"80-90,000\", \"90-100,000\"], \"x\": [\"500,000+\", \"I do not wish to disclose my approximate yearly compensation\", \"0-10,000\", \"10-20,000\", \"100-125,000\", \"125-150,000\", \"20-30,000\", \"300-400,000\", \"40-50,000\", \"80-90,000\", \"90-100,000\"], \"y\": [7, 7, 1, 1, 1, 1, 1, 1, 1, 1, 1], \"type\": \"bar\", \"uid\": \"15740316-4814-4522-aad9-ccf9b03b2c3c\"}], {\"hovermode\": \"closest\", \"title\": \"Number of respondents by Age and Current yearly compensation\", \"xaxis\": {\"showticklabels\": true, \"tickangle\": 15, \"tickfont\": {\"color\": \"black\", \"size\": 9}, \"title\": \"Current yearly compensation\"}, \"yaxis\": {\"title\": \"Number of respondents\"}}, {\"showLink\": true, \"linkText\": \"Export to plot.ly\", \"plotlyServerURL\": \"https://plot.ly\"})});</script><script type=\"text/javascript\">window.addEventListener(\"resize\", function(){window._Plotly.Plots.resize(document.getElementById(\"2407a03a-37b5-4304-9bf5-7fd27c9417ec\"));});</script>"
      ],
      "text/vnd.plotly.v1+html": [
       "<div id=\"2407a03a-37b5-4304-9bf5-7fd27c9417ec\" style=\"height: 525px; width: 100%;\" class=\"plotly-graph-div\"></div><script type=\"text/javascript\">require([\"plotly\"], function(Plotly) { window.PLOTLYENV=window.PLOTLYENV || {};window.PLOTLYENV.BASE_URL=\"https://plot.ly\";Plotly.newPlot(\"2407a03a-37b5-4304-9bf5-7fd27c9417ec\", [{\"name\": \"18-21\", \"text\": [\"0-10,000\", \"I do not wish to disclose my approximate yearly compensation\", \"10-20,000\", \"20-30,000\", \"30-40,000\", \"40-50,000\", \"50-60,000\", \"100-125,000\", \"90-100,000\", \"80-90,000\", \"70-80,000\", \"500,000+\", \"60-70,000\", \"150-200,000\", \"250-300,000\", \"125-150,000\", \"200-250,000\"], \"x\": [\"0-10,000\", \"I do not wish to disclose my approximate yearly compensation\", \"10-20,000\", \"20-30,000\", \"30-40,000\", \"40-50,000\", \"50-60,000\", \"100-125,000\", \"90-100,000\", \"80-90,000\", \"70-80,000\", \"500,000+\", \"60-70,000\", \"150-200,000\", \"250-300,000\", \"125-150,000\", \"200-250,000\"], \"y\": [1119, 916, 100, 40, 20, 18, 16, 13, 11, 7, 6, 4, 3, 2, 2, 1, 1], \"type\": \"bar\", \"uid\": \"dc5b903f-ba3c-421b-ac32-1d177fb0949b\"}, {\"name\": \"22-24\", \"text\": [\"0-10,000\", \"I do not wish to disclose my approximate yearly compensation\", \"10-20,000\", \"20-30,000\", \"30-40,000\", \"40-50,000\", \"50-60,000\", \"60-70,000\", \"70-80,000\", \"80-90,000\", \"100-125,000\", \"90-100,000\", \"125-150,000\", \"150-200,000\", \"250-300,000\", \"300-400,000\", \"500,000+\", \"400-500,000\", \"200-250,000\"], \"x\": [\"0-10,000\", \"I do not wish to disclose my approximate yearly compensation\", \"10-20,000\", \"20-30,000\", \"30-40,000\", \"40-50,000\", \"50-60,000\", \"60-70,000\", \"70-80,000\", \"80-90,000\", \"100-125,000\", \"90-100,000\", \"125-150,000\", \"150-200,000\", \"250-300,000\", \"300-400,000\", \"500,000+\", \"400-500,000\", \"200-250,000\"], \"y\": [1574, 1281, 427, 220, 168, 112, 93, 71, 63, 44, 40, 34, 20, 9, 6, 4, 4, 3, 2], \"type\": \"bar\", \"uid\": \"a83d306d-db5c-4bcf-ae71-4d4cfa8e41b1\"}, {\"name\": \"25-29\", \"text\": [\"0-10,000\", \"I do not wish to disclose my approximate yearly compensation\", \"10-20,000\", \"20-30,000\", \"30-40,000\", \"40-50,000\", \"50-60,000\", \"60-70,000\", \"70-80,000\", \"100-125,000\", \"80-90,000\", \"90-100,000\", \"125-150,000\", \"150-200,000\", \"200-250,000\", \"500,000+\", \"250-300,000\", \"300-400,000\", \"400-500,000\"], \"x\": [\"0-10,000\", \"I do not wish to disclose my approximate yearly compensation\", \"10-20,000\", \"20-30,000\", \"30-40,000\", \"40-50,000\", \"50-60,000\", \"60-70,000\", \"70-80,000\", \"100-125,000\", \"80-90,000\", \"90-100,000\", \"125-150,000\", \"150-200,000\", \"200-250,000\", \"500,000+\", \"250-300,000\", \"300-400,000\", \"400-500,000\"], \"y\": [1057, 1047, 747, 539, 371, 318, 291, 201, 166, 154, 140, 112, 85, 49, 17, 13, 8, 6, 4], \"type\": \"bar\", \"uid\": \"2dcdb06b-847f-42b8-b6f0-1dd5372e1fe2\"}, {\"name\": \"30-34\", \"text\": [\"I do not wish to disclose my approximate yearly compensation\", \"0-10,000\", \"10-20,000\", \"20-30,000\", \"30-40,000\", \"40-50,000\", \"50-60,000\", \"100-125,000\", \"60-70,000\", \"70-80,000\", \"90-100,000\", \"125-150,000\", \"80-90,000\", \"150-200,000\", \"200-250,000\", \"250-300,000\", \"300-400,000\", \"500,000+\", \"400-500,000\"], \"x\": [\"I do not wish to disclose my approximate yearly compensation\", \"0-10,000\", \"10-20,000\", \"20-30,000\", \"30-40,000\", \"40-50,000\", \"50-60,000\", \"100-125,000\", \"60-70,000\", \"70-80,000\", \"90-100,000\", \"125-150,000\", \"80-90,000\", \"150-200,000\", \"200-250,000\", \"250-300,000\", \"300-400,000\", \"500,000+\", \"400-500,000\"], \"y\": [534, 360, 329, 302, 262, 223, 214, 209, 189, 173, 146, 128, 119, 101, 37, 9, 7, 7, 4], \"type\": \"bar\", \"uid\": \"d5f38f66-b5a3-4ed0-a9d6-2dae03613b63\"}, {\"name\": \"35-39\", \"text\": [\"I do not wish to disclose my approximate yearly compensation\", \"100-125,000\", \"10-20,000\", \"0-10,000\", \"20-30,000\", \"30-40,000\", \"40-50,000\", \"50-60,000\", \"60-70,000\", \"90-100,000\", \"125-150,000\", \"70-80,000\", \"150-200,000\", \"80-90,000\", \"200-250,000\", \"300-400,000\", \"500,000+\", \"250-300,000\", \"400-500,000\"], \"x\": [\"I do not wish to disclose my approximate yearly compensation\", \"100-125,000\", \"10-20,000\", \"0-10,000\", \"20-30,000\", \"30-40,000\", \"40-50,000\", \"50-60,000\", \"60-70,000\", \"90-100,000\", \"125-150,000\", \"70-80,000\", \"150-200,000\", \"80-90,000\", \"200-250,000\", \"300-400,000\", \"500,000+\", \"250-300,000\", \"400-500,000\"], \"y\": [358, 168, 154, 149, 145, 137, 134, 131, 110, 108, 101, 91, 84, 72, 18, 11, 10, 9, 5], \"type\": \"bar\", \"uid\": \"415b51c0-c33f-44d5-a148-6590f8306bd2\"}, {\"name\": \"40-44\", \"text\": [\"I do not wish to disclose my approximate yearly compensation\", \"10-20,000\", \"100-125,000\", \"30-40,000\", \"50-60,000\", \"20-30,000\", \"60-70,000\", \"40-50,000\", \"0-10,000\", \"150-200,000\", \"125-150,000\", \"70-80,000\", \"90-100,000\", \"80-90,000\", \"200-250,000\", \"250-300,000\", \"300-400,000\", \"400-500,000\"], \"x\": [\"I do not wish to disclose my approximate yearly compensation\", \"10-20,000\", \"100-125,000\", \"30-40,000\", \"50-60,000\", \"20-30,000\", \"60-70,000\", \"40-50,000\", \"0-10,000\", \"150-200,000\", \"125-150,000\", \"70-80,000\", \"90-100,000\", \"80-90,000\", \"200-250,000\", \"250-300,000\", \"300-400,000\", \"400-500,000\"], \"y\": [225, 94, 89, 83, 80, 73, 73, 72, 69, 69, 68, 66, 65, 49, 23, 8, 5, 3], \"type\": \"bar\", \"uid\": \"c0d6aa0f-abbd-41d0-95ef-5f4dc611aad5\"}, {\"name\": \"45-49\", \"text\": [\"I do not wish to disclose my approximate yearly compensation\", \"100-125,000\", \"125-150,000\", \"70-80,000\", \"150-200,000\", \"40-50,000\", \"20-30,000\", \"50-60,000\", \"10-20,000\", \"30-40,000\", \"0-10,000\", \"60-70,000\", \"80-90,000\", \"90-100,000\", \"200-250,000\", \"250-300,000\", \"300-400,000\", \"500,000+\", \"400-500,000\"], \"x\": [\"I do not wish to disclose my approximate yearly compensation\", \"100-125,000\", \"125-150,000\", \"70-80,000\", \"150-200,000\", \"40-50,000\", \"20-30,000\", \"50-60,000\", \"10-20,000\", \"30-40,000\", \"0-10,000\", \"60-70,000\", \"80-90,000\", \"90-100,000\", \"200-250,000\", \"250-300,000\", \"300-400,000\", \"500,000+\", \"400-500,000\"], \"y\": [154, 56, 52, 52, 49, 44, 42, 42, 41, 37, 36, 36, 35, 28, 27, 12, 6, 5, 2], \"type\": \"bar\", \"uid\": \"799665d2-fee9-4865-903d-d17d729700e7\"}, {\"name\": \"50-54\", \"text\": [\"I do not wish to disclose my approximate yearly compensation\", \"100-125,000\", \"125-150,000\", \"150-200,000\", \"90-100,000\", \"70-80,000\", \"50-60,000\", \"10-20,000\", \"60-70,000\", \"40-50,000\", \"80-90,000\", \"0-10,000\", \"20-30,000\", \"30-40,000\", \"200-250,000\", \"250-300,000\", \"500,000+\", \"300-400,000\"], \"x\": [\"I do not wish to disclose my approximate yearly compensation\", \"100-125,000\", \"125-150,000\", \"150-200,000\", \"90-100,000\", \"70-80,000\", \"50-60,000\", \"10-20,000\", \"60-70,000\", \"40-50,000\", \"80-90,000\", \"0-10,000\", \"20-30,000\", \"30-40,000\", \"200-250,000\", \"250-300,000\", \"500,000+\", \"300-400,000\"], \"y\": [101, 43, 41, 41, 30, 29, 27, 25, 25, 24, 23, 19, 19, 19, 18, 9, 6, 5], \"type\": \"bar\", \"uid\": \"081401fe-1f6b-4650-9113-379e04703e92\"}, {\"name\": \"55-59\", \"text\": [\"I do not wish to disclose my approximate yearly compensation\", \"100-125,000\", \"150-200,000\", \"90-100,000\", \"125-150,000\", \"200-250,000\", \"70-80,000\", \"50-60,000\", \"60-70,000\", \"10-20,000\", \"20-30,000\", \"40-50,000\", \"80-90,000\", \"0-10,000\", \"30-40,000\", \"250-300,000\", \"500,000+\", \"300-400,000\", \"400-500,000\"], \"x\": [\"I do not wish to disclose my approximate yearly compensation\", \"100-125,000\", \"150-200,000\", \"90-100,000\", \"125-150,000\", \"200-250,000\", \"70-80,000\", \"50-60,000\", \"60-70,000\", \"10-20,000\", \"20-30,000\", \"40-50,000\", \"80-90,000\", \"0-10,000\", \"30-40,000\", \"250-300,000\", \"500,000+\", \"300-400,000\", \"400-500,000\"], \"y\": [64, 37, 28, 19, 18, 18, 17, 15, 11, 9, 8, 8, 8, 7, 7, 5, 4, 2, 1], \"type\": \"bar\", \"uid\": \"f33e73c3-e7c4-44b3-a8ca-e1284cfd39b2\"}, {\"name\": \"60-69\", \"text\": [\"I do not wish to disclose my approximate yearly compensation\", \"100-125,000\", \"150-200,000\", \"125-150,000\", \"70-80,000\", \"200-250,000\", \"30-40,000\", \"90-100,000\", \"60-70,000\", \"10-20,000\", \"40-50,000\", \"50-60,000\", \"80-90,000\", \"250-300,000\", \"20-30,000\", \"0-10,000\", \"300-400,000\", \"500,000+\"], \"x\": [\"I do not wish to disclose my approximate yearly compensation\", \"100-125,000\", \"150-200,000\", \"125-150,000\", \"70-80,000\", \"200-250,000\", \"30-40,000\", \"90-100,000\", \"60-70,000\", \"10-20,000\", \"40-50,000\", \"50-60,000\", \"80-90,000\", \"250-300,000\", \"20-30,000\", \"0-10,000\", \"300-400,000\", \"500,000+\"], \"y\": [54, 31, 21, 17, 12, 11, 11, 11, 9, 8, 8, 8, 8, 7, 6, 5, 4, 3], \"type\": \"bar\", \"uid\": \"102fd020-9775-4049-ab4f-ae3d5e3a5726\"}, {\"name\": \"70-79\", \"text\": [\"I do not wish to disclose my approximate yearly compensation\", \"150-200,000\", \"30-40,000\", \"40-50,000\", \"0-10,000\", \"10-20,000\", \"100-125,000\", \"50-60,000\", \"70-80,000\", \"125-150,000\", \"300-400,000\", \"400-500,000\", \"60-70,000\", \"90-100,000\"], \"x\": [\"I do not wish to disclose my approximate yearly compensation\", \"150-200,000\", \"30-40,000\", \"40-50,000\", \"0-10,000\", \"10-20,000\", \"100-125,000\", \"50-60,000\", \"70-80,000\", \"125-150,000\", \"300-400,000\", \"400-500,000\", \"60-70,000\", \"90-100,000\"], \"y\": [15, 4, 4, 3, 2, 2, 2, 2, 2, 1, 1, 1, 1, 1], \"type\": \"bar\", \"uid\": \"440e44b5-aeb2-4e8a-a244-feaf10046ff9\"}, {\"name\": \"80+\", \"text\": [\"500,000+\", \"I do not wish to disclose my approximate yearly compensation\", \"0-10,000\", \"10-20,000\", \"100-125,000\", \"125-150,000\", \"20-30,000\", \"300-400,000\", \"40-50,000\", \"80-90,000\", \"90-100,000\"], \"x\": [\"500,000+\", \"I do not wish to disclose my approximate yearly compensation\", \"0-10,000\", \"10-20,000\", \"100-125,000\", \"125-150,000\", \"20-30,000\", \"300-400,000\", \"40-50,000\", \"80-90,000\", \"90-100,000\"], \"y\": [7, 7, 1, 1, 1, 1, 1, 1, 1, 1, 1], \"type\": \"bar\", \"uid\": \"15740316-4814-4522-aad9-ccf9b03b2c3c\"}], {\"hovermode\": \"closest\", \"title\": \"Number of respondents by Age and Current yearly compensation\", \"xaxis\": {\"showticklabels\": true, \"tickangle\": 15, \"tickfont\": {\"color\": \"black\", \"size\": 9}, \"title\": \"Current yearly compensation\"}, \"yaxis\": {\"title\": \"Number of respondents\"}}, {\"showLink\": true, \"linkText\": \"Export to plot.ly\", \"plotlyServerURL\": \"https://plot.ly\"})});</script><script type=\"text/javascript\">window.addEventListener(\"resize\", function(){window._Plotly.Plots.resize(document.getElementById(\"2407a03a-37b5-4304-9bf5-7fd27c9417ec\"));});</script>"
      ]
     },
     "metadata": {},
     "output_type": "display_data"
    }
   ],
   "source": [
    "df = get_categories_group(multiple_df, 'Q2', 'Q9')\n",
    "draw_trace_group_bar(df, 'Q2', 'Q9', 'Number of respondents by Age and Current yearly compensation', 'Current yearly compensation', 'Number of respondents')"
   ]
  },
  {
   "cell_type": "code",
   "execution_count": 40,
   "metadata": {
    "_kg_hide-input": true,
    "_uuid": "a18fc8eef5b8e568eec5cb23b558daa30417577b",
    "execution": {
     "iopub.execute_input": "2022-12-14T05:40:44.021009Z",
     "iopub.status.busy": "2022-12-14T05:40:44.020631Z",
     "iopub.status.idle": "2022-12-14T05:40:44.277927Z",
     "shell.execute_reply": "2022-12-14T05:40:44.276697Z",
     "shell.execute_reply.started": "2022-12-14T05:40:44.020944Z"
    }
   },
   "outputs": [
    {
     "data": {
      "application/vnd.plotly.v1+json": {
       "config": {
        "linkText": "Export to plot.ly",
        "plotlyServerURL": "https://plot.ly",
        "showLink": true
       },
       "data": [
        {
         "name": "Bachelor’s degree",
         "text": [
          "0-10,000",
          "I do not wish to disclose my approximate yearly compensation",
          "10-20,000",
          "20-30,000",
          "30-40,000",
          "40-50,000",
          "50-60,000",
          "60-70,000",
          "100-125,000",
          "70-80,000",
          "90-100,000",
          "80-90,000",
          "125-150,000",
          "150-200,000",
          "200-250,000",
          "500,000+",
          "250-300,000",
          "300-400,000",
          "400-500,000"
         ],
         "type": "bar",
         "uid": "cd279029-d527-4653-bc57-52ac5cbae241",
         "x": [
          "0-10,000",
          "I do not wish to disclose my approximate yearly compensation",
          "10-20,000",
          "20-30,000",
          "30-40,000",
          "40-50,000",
          "50-60,000",
          "60-70,000",
          "100-125,000",
          "70-80,000",
          "90-100,000",
          "80-90,000",
          "125-150,000",
          "150-200,000",
          "200-250,000",
          "500,000+",
          "250-300,000",
          "300-400,000",
          "400-500,000"
         ],
         "y": [
          1790,
          1544,
          567,
          341,
          259,
          223,
          183,
          176,
          166,
          159,
          124,
          118,
          115,
          89,
          23,
          19,
          15,
          12,
          4
         ]
        },
        {
         "name": "Doctoral degree",
         "text": [
          "I do not wish to disclose my approximate yearly compensation",
          "0-10,000",
          "10-20,000",
          "20-30,000",
          "30-40,000",
          "100-125,000",
          "40-50,000",
          "50-60,000",
          "60-70,000",
          "125-150,000",
          "150-200,000",
          "70-80,000",
          "90-100,000",
          "80-90,000",
          "200-250,000",
          "250-300,000",
          "300-400,000",
          "500,000+",
          "400-500,000"
         ],
         "type": "bar",
         "uid": "a52eec00-17e4-468c-a8b9-96f0751c42e9",
         "x": [
          "I do not wish to disclose my approximate yearly compensation",
          "0-10,000",
          "10-20,000",
          "20-30,000",
          "30-40,000",
          "100-125,000",
          "40-50,000",
          "50-60,000",
          "60-70,000",
          "125-150,000",
          "150-200,000",
          "70-80,000",
          "90-100,000",
          "80-90,000",
          "200-250,000",
          "250-300,000",
          "300-400,000",
          "500,000+",
          "400-500,000"
         ],
         "y": [
          548,
          343,
          307,
          255,
          223,
          185,
          183,
          179,
          157,
          124,
          120,
          120,
          110,
          102,
          55,
          25,
          18,
          9,
          7
         ]
        },
        {
         "name": "I prefer not to answer",
         "text": [
          "I do not wish to disclose my approximate yearly compensation",
          "0-10,000",
          "10-20,000",
          "20-30,000",
          "50-60,000",
          "30-40,000",
          "60-70,000",
          "40-50,000",
          "100-125,000",
          "500,000+",
          "70-80,000",
          "150-200,000",
          "90-100,000",
          "125-150,000",
          "200-250,000",
          "250-300,000",
          "400-500,000",
          "80-90,000"
         ],
         "type": "bar",
         "uid": "0f6d4e4a-b366-435c-b13b-d16e67bd8ad3",
         "x": [
          "I do not wish to disclose my approximate yearly compensation",
          "0-10,000",
          "10-20,000",
          "20-30,000",
          "50-60,000",
          "30-40,000",
          "60-70,000",
          "40-50,000",
          "100-125,000",
          "500,000+",
          "70-80,000",
          "150-200,000",
          "90-100,000",
          "125-150,000",
          "200-250,000",
          "250-300,000",
          "400-500,000",
          "80-90,000"
         ],
         "y": [
          111,
          38,
          32,
          9,
          9,
          8,
          7,
          6,
          5,
          4,
          3,
          2,
          2,
          1,
          1,
          1,
          1,
          1
         ]
        },
        {
         "name": "Master’s degree",
         "text": [
          "I do not wish to disclose my approximate yearly compensation",
          "0-10,000",
          "10-20,000",
          "20-30,000",
          "30-40,000",
          "40-50,000",
          "50-60,000",
          "100-125,000",
          "60-70,000",
          "70-80,000",
          "90-100,000",
          "125-150,000",
          "80-90,000",
          "150-200,000",
          "200-250,000",
          "250-300,000",
          "300-400,000",
          "500,000+",
          "400-500,000"
         ],
         "type": "bar",
         "uid": "61ab1c73-0e67-448d-afb3-e401d14e506b",
         "x": [
          "I do not wish to disclose my approximate yearly compensation",
          "0-10,000",
          "10-20,000",
          "20-30,000",
          "30-40,000",
          "40-50,000",
          "50-60,000",
          "100-125,000",
          "60-70,000",
          "70-80,000",
          "90-100,000",
          "125-150,000",
          "80-90,000",
          "150-200,000",
          "200-250,000",
          "250-300,000",
          "300-400,000",
          "500,000+",
          "400-500,000"
         ],
         "y": [
          2166,
          1812,
          909,
          672,
          546,
          491,
          491,
          449,
          353,
          353,
          304,
          265,
          260,
          223,
          77,
          32,
          20,
          20,
          9
         ]
        },
        {
         "name": "No formal education past high school",
         "text": [
          "I do not wish to disclose my approximate yearly compensation",
          "0-10,000",
          "10-20,000",
          "30-40,000",
          "50-60,000",
          "40-50,000",
          "20-30,000",
          "70-80,000",
          "500,000+",
          "100-125,000",
          "80-90,000",
          "90-100,000",
          "150-200,000",
          "125-150,000",
          "200-250,000",
          "400-500,000",
          "60-70,000"
         ],
         "type": "bar",
         "uid": "e7c57bb3-41c9-4ccb-b87f-bf49adc7e002",
         "x": [
          "I do not wish to disclose my approximate yearly compensation",
          "0-10,000",
          "10-20,000",
          "30-40,000",
          "50-60,000",
          "40-50,000",
          "20-30,000",
          "70-80,000",
          "500,000+",
          "100-125,000",
          "80-90,000",
          "90-100,000",
          "150-200,000",
          "125-150,000",
          "200-250,000",
          "400-500,000",
          "60-70,000"
         ],
         "y": [
          41,
          32,
          20,
          16,
          15,
          10,
          8,
          7,
          6,
          4,
          4,
          4,
          3,
          2,
          2,
          1,
          1
         ]
        },
        {
         "name": "Professional degree",
         "text": [
          "I do not wish to disclose my approximate yearly compensation",
          "0-10,000",
          "10-20,000",
          "20-30,000",
          "30-40,000",
          "40-50,000",
          "50-60,000",
          "60-70,000",
          "100-125,000",
          "70-80,000",
          "90-100,000",
          "200-250,000",
          "150-200,000",
          "125-150,000",
          "80-90,000",
          "300-400,000",
          "500,000+"
         ],
         "type": "bar",
         "uid": "7a3add83-2f1a-40a1-abd3-e4e206f27b85",
         "x": [
          "I do not wish to disclose my approximate yearly compensation",
          "0-10,000",
          "10-20,000",
          "20-30,000",
          "30-40,000",
          "40-50,000",
          "50-60,000",
          "60-70,000",
          "100-125,000",
          "70-80,000",
          "90-100,000",
          "200-250,000",
          "150-200,000",
          "125-150,000",
          "80-90,000",
          "300-400,000",
          "500,000+"
         ],
         "y": [
          130,
          112,
          61,
          56,
          34,
          21,
          18,
          15,
          11,
          11,
          11,
          9,
          8,
          7,
          6,
          2,
          2
         ]
        },
        {
         "name": "Some college/university study without earning a bachelor’s degree",
         "text": [
          "0-10,000",
          "I do not wish to disclose my approximate yearly compensation",
          "20-30,000",
          "10-20,000",
          "30-40,000",
          "40-50,000",
          "50-60,000",
          "70-80,000",
          "100-125,000",
          "60-70,000",
          "125-150,000",
          "80-90,000",
          "150-200,000",
          "90-100,000",
          "200-250,000",
          "500,000+",
          "250-300,000",
          "400-500,000"
         ],
         "type": "bar",
         "uid": "112c52aa-ca97-47d0-91d7-1a68d64f2df9",
         "x": [
          "0-10,000",
          "I do not wish to disclose my approximate yearly compensation",
          "20-30,000",
          "10-20,000",
          "30-40,000",
          "40-50,000",
          "50-60,000",
          "70-80,000",
          "100-125,000",
          "60-70,000",
          "125-150,000",
          "80-90,000",
          "150-200,000",
          "90-100,000",
          "200-250,000",
          "500,000+",
          "250-300,000",
          "400-500,000"
         ],
         "y": [
          271,
          216,
          54,
          41,
          33,
          31,
          24,
          24,
          23,
          20,
          19,
          15,
          12,
          11,
          5,
          3,
          2,
          1
         ]
        }
       ],
       "layout": {
        "hovermode": "closest",
        "title": "Number of respondents by Highest level of formal education and Current yearly compensation",
        "xaxis": {
         "showticklabels": true,
         "tickangle": 15,
         "tickfont": {
          "color": "black",
          "size": 9
         },
         "title": "Current yearly compensation"
        },
        "yaxis": {
         "title": "Number of respondents"
        }
       }
      },
      "text/html": [
       "<div id=\"a4a7e663-cc5b-4e65-ba11-a87f7f03b6bf\" style=\"height: 525px; width: 100%;\" class=\"plotly-graph-div\"></div><script type=\"text/javascript\">require([\"plotly\"], function(Plotly) { window.PLOTLYENV=window.PLOTLYENV || {};window.PLOTLYENV.BASE_URL=\"https://plot.ly\";Plotly.newPlot(\"a4a7e663-cc5b-4e65-ba11-a87f7f03b6bf\", [{\"name\": \"Bachelor\\u2019s degree\", \"text\": [\"0-10,000\", \"I do not wish to disclose my approximate yearly compensation\", \"10-20,000\", \"20-30,000\", \"30-40,000\", \"40-50,000\", \"50-60,000\", \"60-70,000\", \"100-125,000\", \"70-80,000\", \"90-100,000\", \"80-90,000\", \"125-150,000\", \"150-200,000\", \"200-250,000\", \"500,000+\", \"250-300,000\", \"300-400,000\", \"400-500,000\"], \"x\": [\"0-10,000\", \"I do not wish to disclose my approximate yearly compensation\", \"10-20,000\", \"20-30,000\", \"30-40,000\", \"40-50,000\", \"50-60,000\", \"60-70,000\", \"100-125,000\", \"70-80,000\", \"90-100,000\", \"80-90,000\", \"125-150,000\", \"150-200,000\", \"200-250,000\", \"500,000+\", \"250-300,000\", \"300-400,000\", \"400-500,000\"], \"y\": [1790, 1544, 567, 341, 259, 223, 183, 176, 166, 159, 124, 118, 115, 89, 23, 19, 15, 12, 4], \"type\": \"bar\", \"uid\": \"5efa12a3-c9b6-4321-a9f8-23931c8c76b0\"}, {\"name\": \"Doctoral degree\", \"text\": [\"I do not wish to disclose my approximate yearly compensation\", \"0-10,000\", \"10-20,000\", \"20-30,000\", \"30-40,000\", \"100-125,000\", \"40-50,000\", \"50-60,000\", \"60-70,000\", \"125-150,000\", \"150-200,000\", \"70-80,000\", \"90-100,000\", \"80-90,000\", \"200-250,000\", \"250-300,000\", \"300-400,000\", \"500,000+\", \"400-500,000\"], \"x\": [\"I do not wish to disclose my approximate yearly compensation\", \"0-10,000\", \"10-20,000\", \"20-30,000\", \"30-40,000\", \"100-125,000\", \"40-50,000\", \"50-60,000\", \"60-70,000\", \"125-150,000\", \"150-200,000\", \"70-80,000\", \"90-100,000\", \"80-90,000\", \"200-250,000\", \"250-300,000\", \"300-400,000\", \"500,000+\", \"400-500,000\"], \"y\": [548, 343, 307, 255, 223, 185, 183, 179, 157, 124, 120, 120, 110, 102, 55, 25, 18, 9, 7], \"type\": \"bar\", \"uid\": \"6fcecb94-4e57-4297-9173-b87850c2835c\"}, {\"name\": \"I prefer not to answer\", \"text\": [\"I do not wish to disclose my approximate yearly compensation\", \"0-10,000\", \"10-20,000\", \"20-30,000\", \"50-60,000\", \"30-40,000\", \"60-70,000\", \"40-50,000\", \"100-125,000\", \"500,000+\", \"70-80,000\", \"150-200,000\", \"90-100,000\", \"125-150,000\", \"200-250,000\", \"250-300,000\", \"400-500,000\", \"80-90,000\"], \"x\": [\"I do not wish to disclose my approximate yearly compensation\", \"0-10,000\", \"10-20,000\", \"20-30,000\", \"50-60,000\", \"30-40,000\", \"60-70,000\", \"40-50,000\", \"100-125,000\", \"500,000+\", \"70-80,000\", \"150-200,000\", \"90-100,000\", \"125-150,000\", \"200-250,000\", \"250-300,000\", \"400-500,000\", \"80-90,000\"], \"y\": [111, 38, 32, 9, 9, 8, 7, 6, 5, 4, 3, 2, 2, 1, 1, 1, 1, 1], \"type\": \"bar\", \"uid\": \"776f2045-4e48-442b-8876-5d615530dcac\"}, {\"name\": \"Master\\u2019s degree\", \"text\": [\"I do not wish to disclose my approximate yearly compensation\", \"0-10,000\", \"10-20,000\", \"20-30,000\", \"30-40,000\", \"40-50,000\", \"50-60,000\", \"100-125,000\", \"60-70,000\", \"70-80,000\", \"90-100,000\", \"125-150,000\", \"80-90,000\", \"150-200,000\", \"200-250,000\", \"250-300,000\", \"300-400,000\", \"500,000+\", \"400-500,000\"], \"x\": [\"I do not wish to disclose my approximate yearly compensation\", \"0-10,000\", \"10-20,000\", \"20-30,000\", \"30-40,000\", \"40-50,000\", \"50-60,000\", \"100-125,000\", \"60-70,000\", \"70-80,000\", \"90-100,000\", \"125-150,000\", \"80-90,000\", \"150-200,000\", \"200-250,000\", \"250-300,000\", \"300-400,000\", \"500,000+\", \"400-500,000\"], \"y\": [2166, 1812, 909, 672, 546, 491, 491, 449, 353, 353, 304, 265, 260, 223, 77, 32, 20, 20, 9], \"type\": \"bar\", \"uid\": \"95d2beee-b33d-4b96-b99a-34ff5e51b564\"}, {\"name\": \"No formal education past high school\", \"text\": [\"I do not wish to disclose my approximate yearly compensation\", \"0-10,000\", \"10-20,000\", \"30-40,000\", \"50-60,000\", \"40-50,000\", \"20-30,000\", \"70-80,000\", \"500,000+\", \"100-125,000\", \"80-90,000\", \"90-100,000\", \"150-200,000\", \"125-150,000\", \"200-250,000\", \"400-500,000\", \"60-70,000\"], \"x\": [\"I do not wish to disclose my approximate yearly compensation\", \"0-10,000\", \"10-20,000\", \"30-40,000\", \"50-60,000\", \"40-50,000\", \"20-30,000\", \"70-80,000\", \"500,000+\", \"100-125,000\", \"80-90,000\", \"90-100,000\", \"150-200,000\", \"125-150,000\", \"200-250,000\", \"400-500,000\", \"60-70,000\"], \"y\": [41, 32, 20, 16, 15, 10, 8, 7, 6, 4, 4, 4, 3, 2, 2, 1, 1], \"type\": \"bar\", \"uid\": \"ab7c07d8-4b7e-4fdd-a9d4-cacbfcabc0d8\"}, {\"name\": \"Professional degree\", \"text\": [\"I do not wish to disclose my approximate yearly compensation\", \"0-10,000\", \"10-20,000\", \"20-30,000\", \"30-40,000\", \"40-50,000\", \"50-60,000\", \"60-70,000\", \"100-125,000\", \"70-80,000\", \"90-100,000\", \"200-250,000\", \"150-200,000\", \"125-150,000\", \"80-90,000\", \"300-400,000\", \"500,000+\"], \"x\": [\"I do not wish to disclose my approximate yearly compensation\", \"0-10,000\", \"10-20,000\", \"20-30,000\", \"30-40,000\", \"40-50,000\", \"50-60,000\", \"60-70,000\", \"100-125,000\", \"70-80,000\", \"90-100,000\", \"200-250,000\", \"150-200,000\", \"125-150,000\", \"80-90,000\", \"300-400,000\", \"500,000+\"], \"y\": [130, 112, 61, 56, 34, 21, 18, 15, 11, 11, 11, 9, 8, 7, 6, 2, 2], \"type\": \"bar\", \"uid\": \"edafcf6a-b736-4bd8-b875-fc48e98ef58b\"}, {\"name\": \"Some college/university study without earning a bachelor\\u2019s degree\", \"text\": [\"0-10,000\", \"I do not wish to disclose my approximate yearly compensation\", \"20-30,000\", \"10-20,000\", \"30-40,000\", \"40-50,000\", \"50-60,000\", \"70-80,000\", \"100-125,000\", \"60-70,000\", \"125-150,000\", \"80-90,000\", \"150-200,000\", \"90-100,000\", \"200-250,000\", \"500,000+\", \"250-300,000\", \"400-500,000\"], \"x\": [\"0-10,000\", \"I do not wish to disclose my approximate yearly compensation\", \"20-30,000\", \"10-20,000\", \"30-40,000\", \"40-50,000\", \"50-60,000\", \"70-80,000\", \"100-125,000\", \"60-70,000\", \"125-150,000\", \"80-90,000\", \"150-200,000\", \"90-100,000\", \"200-250,000\", \"500,000+\", \"250-300,000\", \"400-500,000\"], \"y\": [271, 216, 54, 41, 33, 31, 24, 24, 23, 20, 19, 15, 12, 11, 5, 3, 2, 1], \"type\": \"bar\", \"uid\": \"b1643d3f-30ad-4726-82e4-137318cfca60\"}], {\"hovermode\": \"closest\", \"title\": \"Number of respondents by Highest level of formal education and Current yearly compensation\", \"xaxis\": {\"showticklabels\": true, \"tickangle\": 15, \"tickfont\": {\"color\": \"black\", \"size\": 9}, \"title\": \"Current yearly compensation\"}, \"yaxis\": {\"title\": \"Number of respondents\"}}, {\"showLink\": true, \"linkText\": \"Export to plot.ly\", \"plotlyServerURL\": \"https://plot.ly\"})});</script><script type=\"text/javascript\">window.addEventListener(\"resize\", function(){window._Plotly.Plots.resize(document.getElementById(\"a4a7e663-cc5b-4e65-ba11-a87f7f03b6bf\"));});</script>"
      ],
      "text/vnd.plotly.v1+html": [
       "<div id=\"a4a7e663-cc5b-4e65-ba11-a87f7f03b6bf\" style=\"height: 525px; width: 100%;\" class=\"plotly-graph-div\"></div><script type=\"text/javascript\">require([\"plotly\"], function(Plotly) { window.PLOTLYENV=window.PLOTLYENV || {};window.PLOTLYENV.BASE_URL=\"https://plot.ly\";Plotly.newPlot(\"a4a7e663-cc5b-4e65-ba11-a87f7f03b6bf\", [{\"name\": \"Bachelor\\u2019s degree\", \"text\": [\"0-10,000\", \"I do not wish to disclose my approximate yearly compensation\", \"10-20,000\", \"20-30,000\", \"30-40,000\", \"40-50,000\", \"50-60,000\", \"60-70,000\", \"100-125,000\", \"70-80,000\", \"90-100,000\", \"80-90,000\", \"125-150,000\", \"150-200,000\", \"200-250,000\", \"500,000+\", \"250-300,000\", \"300-400,000\", \"400-500,000\"], \"x\": [\"0-10,000\", \"I do not wish to disclose my approximate yearly compensation\", \"10-20,000\", \"20-30,000\", \"30-40,000\", \"40-50,000\", \"50-60,000\", \"60-70,000\", \"100-125,000\", \"70-80,000\", \"90-100,000\", \"80-90,000\", \"125-150,000\", \"150-200,000\", \"200-250,000\", \"500,000+\", \"250-300,000\", \"300-400,000\", \"400-500,000\"], \"y\": [1790, 1544, 567, 341, 259, 223, 183, 176, 166, 159, 124, 118, 115, 89, 23, 19, 15, 12, 4], \"type\": \"bar\", \"uid\": \"5efa12a3-c9b6-4321-a9f8-23931c8c76b0\"}, {\"name\": \"Doctoral degree\", \"text\": [\"I do not wish to disclose my approximate yearly compensation\", \"0-10,000\", \"10-20,000\", \"20-30,000\", \"30-40,000\", \"100-125,000\", \"40-50,000\", \"50-60,000\", \"60-70,000\", \"125-150,000\", \"150-200,000\", \"70-80,000\", \"90-100,000\", \"80-90,000\", \"200-250,000\", \"250-300,000\", \"300-400,000\", \"500,000+\", \"400-500,000\"], \"x\": [\"I do not wish to disclose my approximate yearly compensation\", \"0-10,000\", \"10-20,000\", \"20-30,000\", \"30-40,000\", \"100-125,000\", \"40-50,000\", \"50-60,000\", \"60-70,000\", \"125-150,000\", \"150-200,000\", \"70-80,000\", \"90-100,000\", \"80-90,000\", \"200-250,000\", \"250-300,000\", \"300-400,000\", \"500,000+\", \"400-500,000\"], \"y\": [548, 343, 307, 255, 223, 185, 183, 179, 157, 124, 120, 120, 110, 102, 55, 25, 18, 9, 7], \"type\": \"bar\", \"uid\": \"6fcecb94-4e57-4297-9173-b87850c2835c\"}, {\"name\": \"I prefer not to answer\", \"text\": [\"I do not wish to disclose my approximate yearly compensation\", \"0-10,000\", \"10-20,000\", \"20-30,000\", \"50-60,000\", \"30-40,000\", \"60-70,000\", \"40-50,000\", \"100-125,000\", \"500,000+\", \"70-80,000\", \"150-200,000\", \"90-100,000\", \"125-150,000\", \"200-250,000\", \"250-300,000\", \"400-500,000\", \"80-90,000\"], \"x\": [\"I do not wish to disclose my approximate yearly compensation\", \"0-10,000\", \"10-20,000\", \"20-30,000\", \"50-60,000\", \"30-40,000\", \"60-70,000\", \"40-50,000\", \"100-125,000\", \"500,000+\", \"70-80,000\", \"150-200,000\", \"90-100,000\", \"125-150,000\", \"200-250,000\", \"250-300,000\", \"400-500,000\", \"80-90,000\"], \"y\": [111, 38, 32, 9, 9, 8, 7, 6, 5, 4, 3, 2, 2, 1, 1, 1, 1, 1], \"type\": \"bar\", \"uid\": \"776f2045-4e48-442b-8876-5d615530dcac\"}, {\"name\": \"Master\\u2019s degree\", \"text\": [\"I do not wish to disclose my approximate yearly compensation\", \"0-10,000\", \"10-20,000\", \"20-30,000\", \"30-40,000\", \"40-50,000\", \"50-60,000\", \"100-125,000\", \"60-70,000\", \"70-80,000\", \"90-100,000\", \"125-150,000\", \"80-90,000\", \"150-200,000\", \"200-250,000\", \"250-300,000\", \"300-400,000\", \"500,000+\", \"400-500,000\"], \"x\": [\"I do not wish to disclose my approximate yearly compensation\", \"0-10,000\", \"10-20,000\", \"20-30,000\", \"30-40,000\", \"40-50,000\", \"50-60,000\", \"100-125,000\", \"60-70,000\", \"70-80,000\", \"90-100,000\", \"125-150,000\", \"80-90,000\", \"150-200,000\", \"200-250,000\", \"250-300,000\", \"300-400,000\", \"500,000+\", \"400-500,000\"], \"y\": [2166, 1812, 909, 672, 546, 491, 491, 449, 353, 353, 304, 265, 260, 223, 77, 32, 20, 20, 9], \"type\": \"bar\", \"uid\": \"95d2beee-b33d-4b96-b99a-34ff5e51b564\"}, {\"name\": \"No formal education past high school\", \"text\": [\"I do not wish to disclose my approximate yearly compensation\", \"0-10,000\", \"10-20,000\", \"30-40,000\", \"50-60,000\", \"40-50,000\", \"20-30,000\", \"70-80,000\", \"500,000+\", \"100-125,000\", \"80-90,000\", \"90-100,000\", \"150-200,000\", \"125-150,000\", \"200-250,000\", \"400-500,000\", \"60-70,000\"], \"x\": [\"I do not wish to disclose my approximate yearly compensation\", \"0-10,000\", \"10-20,000\", \"30-40,000\", \"50-60,000\", \"40-50,000\", \"20-30,000\", \"70-80,000\", \"500,000+\", \"100-125,000\", \"80-90,000\", \"90-100,000\", \"150-200,000\", \"125-150,000\", \"200-250,000\", \"400-500,000\", \"60-70,000\"], \"y\": [41, 32, 20, 16, 15, 10, 8, 7, 6, 4, 4, 4, 3, 2, 2, 1, 1], \"type\": \"bar\", \"uid\": \"ab7c07d8-4b7e-4fdd-a9d4-cacbfcabc0d8\"}, {\"name\": \"Professional degree\", \"text\": [\"I do not wish to disclose my approximate yearly compensation\", \"0-10,000\", \"10-20,000\", \"20-30,000\", \"30-40,000\", \"40-50,000\", \"50-60,000\", \"60-70,000\", \"100-125,000\", \"70-80,000\", \"90-100,000\", \"200-250,000\", \"150-200,000\", \"125-150,000\", \"80-90,000\", \"300-400,000\", \"500,000+\"], \"x\": [\"I do not wish to disclose my approximate yearly compensation\", \"0-10,000\", \"10-20,000\", \"20-30,000\", \"30-40,000\", \"40-50,000\", \"50-60,000\", \"60-70,000\", \"100-125,000\", \"70-80,000\", \"90-100,000\", \"200-250,000\", \"150-200,000\", \"125-150,000\", \"80-90,000\", \"300-400,000\", \"500,000+\"], \"y\": [130, 112, 61, 56, 34, 21, 18, 15, 11, 11, 11, 9, 8, 7, 6, 2, 2], \"type\": \"bar\", \"uid\": \"edafcf6a-b736-4bd8-b875-fc48e98ef58b\"}, {\"name\": \"Some college/university study without earning a bachelor\\u2019s degree\", \"text\": [\"0-10,000\", \"I do not wish to disclose my approximate yearly compensation\", \"20-30,000\", \"10-20,000\", \"30-40,000\", \"40-50,000\", \"50-60,000\", \"70-80,000\", \"100-125,000\", \"60-70,000\", \"125-150,000\", \"80-90,000\", \"150-200,000\", \"90-100,000\", \"200-250,000\", \"500,000+\", \"250-300,000\", \"400-500,000\"], \"x\": [\"0-10,000\", \"I do not wish to disclose my approximate yearly compensation\", \"20-30,000\", \"10-20,000\", \"30-40,000\", \"40-50,000\", \"50-60,000\", \"70-80,000\", \"100-125,000\", \"60-70,000\", \"125-150,000\", \"80-90,000\", \"150-200,000\", \"90-100,000\", \"200-250,000\", \"500,000+\", \"250-300,000\", \"400-500,000\"], \"y\": [271, 216, 54, 41, 33, 31, 24, 24, 23, 20, 19, 15, 12, 11, 5, 3, 2, 1], \"type\": \"bar\", \"uid\": \"b1643d3f-30ad-4726-82e4-137318cfca60\"}], {\"hovermode\": \"closest\", \"title\": \"Number of respondents by Highest level of formal education and Current yearly compensation\", \"xaxis\": {\"showticklabels\": true, \"tickangle\": 15, \"tickfont\": {\"color\": \"black\", \"size\": 9}, \"title\": \"Current yearly compensation\"}, \"yaxis\": {\"title\": \"Number of respondents\"}}, {\"showLink\": true, \"linkText\": \"Export to plot.ly\", \"plotlyServerURL\": \"https://plot.ly\"})});</script><script type=\"text/javascript\">window.addEventListener(\"resize\", function(){window._Plotly.Plots.resize(document.getElementById(\"a4a7e663-cc5b-4e65-ba11-a87f7f03b6bf\"));});</script>"
      ]
     },
     "metadata": {},
     "output_type": "display_data"
    }
   ],
   "source": [
    "df = get_categories_group(multiple_df, 'Q4', 'Q9')\n",
    "draw_trace_group_bar(df, 'Q4', 'Q9', 'Number of respondents by Highest level of formal education and Current yearly compensation', 'Current yearly compensation', 'Number of respondents')"
   ]
  },
  {
   "cell_type": "code",
   "execution_count": 41,
   "metadata": {
    "_kg_hide-input": true,
    "_uuid": "c403624b5ac685b97e083fd87eb4360142f6697c",
    "execution": {
     "iopub.execute_input": "2022-12-14T05:40:47.771125Z",
     "iopub.status.busy": "2022-12-14T05:40:47.770716Z",
     "iopub.status.idle": "2022-12-14T05:40:48.154744Z",
     "shell.execute_reply": "2022-12-14T05:40:48.153847Z",
     "shell.execute_reply.started": "2022-12-14T05:40:47.771054Z"
    }
   },
   "outputs": [
    {
     "data": {
      "application/vnd.plotly.v1+json": {
       "config": {
        "linkText": "Export to plot.ly",
        "plotlyServerURL": "https://plot.ly",
        "showLink": true
       },
       "data": [
        {
         "name": "0-1",
         "text": [
          "0-10,000",
          "I do not wish to disclose my approximate yearly compensation",
          "10-20,000",
          "20-30,000",
          "30-40,000",
          "50-60,000",
          "40-50,000",
          "60-70,000",
          "70-80,000",
          "100-125,000",
          "80-90,000",
          "90-100,000",
          "125-150,000",
          "150-200,000",
          "200-250,000",
          "300-400,000",
          "250-300,000",
          "500,000+"
         ],
         "type": "bar",
         "uid": "97e10ccd-990d-467b-88b5-dbeab09a93d1",
         "x": [
          "0-10,000",
          "I do not wish to disclose my approximate yearly compensation",
          "10-20,000",
          "20-30,000",
          "30-40,000",
          "50-60,000",
          "40-50,000",
          "60-70,000",
          "70-80,000",
          "100-125,000",
          "80-90,000",
          "90-100,000",
          "125-150,000",
          "150-200,000",
          "200-250,000",
          "300-400,000",
          "250-300,000",
          "500,000+"
         ],
         "y": [
          1806,
          1620,
          432,
          262,
          246,
          221,
          191,
          151,
          128,
          113,
          103,
          89,
          55,
          47,
          11,
          9,
          8,
          7
         ]
        },
        {
         "name": "1-2",
         "text": [
          "0-10,000",
          "I do not wish to disclose my approximate yearly compensation",
          "10-20,000",
          "20-30,000",
          "30-40,000",
          "40-50,000",
          "50-60,000",
          "60-70,000",
          "70-80,000",
          "100-125,000",
          "90-100,000",
          "80-90,000",
          "125-150,000",
          "150-200,000",
          "200-250,000",
          "250-300,000",
          "300-400,000",
          "500,000+",
          "400-500,000"
         ],
         "type": "bar",
         "uid": "e42368e1-4031-4589-8ca0-24ff740b40f2",
         "x": [
          "0-10,000",
          "I do not wish to disclose my approximate yearly compensation",
          "10-20,000",
          "20-30,000",
          "30-40,000",
          "40-50,000",
          "50-60,000",
          "60-70,000",
          "70-80,000",
          "100-125,000",
          "90-100,000",
          "80-90,000",
          "125-150,000",
          "150-200,000",
          "200-250,000",
          "250-300,000",
          "300-400,000",
          "500,000+",
          "400-500,000"
         ],
         "y": [
          852,
          777,
          431,
          290,
          215,
          193,
          157,
          139,
          129,
          106,
          94,
          84,
          72,
          38,
          12,
          6,
          4,
          3,
          1
         ]
        },
        {
         "name": "10-15",
         "text": [
          "I do not wish to disclose my approximate yearly compensation",
          "0-10,000",
          "10-20,000",
          "100-125,000",
          "20-30,000",
          "30-40,000",
          "150-200,000",
          "40-50,000",
          "50-60,000",
          "60-70,000",
          "90-100,000",
          "125-150,000",
          "70-80,000",
          "80-90,000",
          "200-250,000",
          "250-300,000",
          "400-500,000",
          "500,000+",
          "300-400,000"
         ],
         "type": "bar",
         "uid": "2643ac53-3f66-4872-8252-e241a9c8fcaf",
         "x": [
          "I do not wish to disclose my approximate yearly compensation",
          "0-10,000",
          "10-20,000",
          "100-125,000",
          "20-30,000",
          "30-40,000",
          "150-200,000",
          "40-50,000",
          "50-60,000",
          "60-70,000",
          "90-100,000",
          "125-150,000",
          "70-80,000",
          "80-90,000",
          "200-250,000",
          "250-300,000",
          "400-500,000",
          "500,000+",
          "300-400,000"
         ],
         "y": [
          335,
          170,
          114,
          105,
          99,
          82,
          72,
          69,
          66,
          64,
          64,
          63,
          55,
          40,
          23,
          17,
          7,
          7,
          6
         ]
        },
        {
         "name": "15-20",
         "text": [
          "I do not wish to disclose my approximate yearly compensation",
          "0-10,000",
          "100-125,000",
          "50-60,000",
          "125-150,000",
          "30-40,000",
          "150-200,000",
          "10-20,000",
          "70-80,000",
          "40-50,000",
          "20-30,000",
          "200-250,000",
          "90-100,000",
          "60-70,000",
          "80-90,000",
          "250-300,000",
          "500,000+",
          "300-400,000"
         ],
         "type": "bar",
         "uid": "df601af4-48e7-468d-aa8c-c20299ad2925",
         "x": [
          "I do not wish to disclose my approximate yearly compensation",
          "0-10,000",
          "100-125,000",
          "50-60,000",
          "125-150,000",
          "30-40,000",
          "150-200,000",
          "10-20,000",
          "70-80,000",
          "40-50,000",
          "20-30,000",
          "200-250,000",
          "90-100,000",
          "60-70,000",
          "80-90,000",
          "250-300,000",
          "500,000+",
          "300-400,000"
         ],
         "y": [
          217,
          135,
          49,
          49,
          45,
          39,
          37,
          36,
          35,
          33,
          31,
          25,
          24,
          22,
          17,
          11,
          5,
          2
         ]
        },
        {
         "name": "2-3",
         "text": [
          "0-10,000",
          "I do not wish to disclose my approximate yearly compensation",
          "10-20,000",
          "20-30,000",
          "30-40,000",
          "40-50,000",
          "50-60,000",
          "100-125,000",
          "60-70,000",
          "70-80,000",
          "80-90,000",
          "90-100,000",
          "125-150,000",
          "150-200,000",
          "200-250,000",
          "400-500,000",
          "250-300,000",
          "500,000+",
          "300-400,000"
         ],
         "type": "bar",
         "uid": "8c60df72-428a-41e6-b329-9fdd67659386",
         "x": [
          "0-10,000",
          "I do not wish to disclose my approximate yearly compensation",
          "10-20,000",
          "20-30,000",
          "30-40,000",
          "40-50,000",
          "50-60,000",
          "100-125,000",
          "60-70,000",
          "70-80,000",
          "80-90,000",
          "90-100,000",
          "125-150,000",
          "150-200,000",
          "200-250,000",
          "400-500,000",
          "250-300,000",
          "500,000+",
          "300-400,000"
         ],
         "y": [
          503,
          498,
          289,
          215,
          155,
          125,
          115,
          109,
          104,
          92,
          68,
          68,
          63,
          33,
          12,
          5,
          4,
          4,
          1
         ]
        },
        {
         "name": "20-25",
         "text": [
          "I do not wish to disclose my approximate yearly compensation",
          "100-125,000",
          "125-150,000",
          "150-200,000",
          "70-80,000",
          "90-100,000",
          "20-30,000",
          "10-20,000",
          "40-50,000",
          "200-250,000",
          "0-10,000",
          "30-40,000",
          "60-70,000",
          "50-60,000",
          "80-90,000",
          "250-300,000",
          "300-400,000",
          "500,000+",
          "400-500,000"
         ],
         "type": "bar",
         "uid": "59562ece-ebd6-4a71-9b7c-2bacb78ae1f6",
         "x": [
          "I do not wish to disclose my approximate yearly compensation",
          "100-125,000",
          "125-150,000",
          "150-200,000",
          "70-80,000",
          "90-100,000",
          "20-30,000",
          "10-20,000",
          "40-50,000",
          "200-250,000",
          "0-10,000",
          "30-40,000",
          "60-70,000",
          "50-60,000",
          "80-90,000",
          "250-300,000",
          "300-400,000",
          "500,000+",
          "400-500,000"
         ],
         "y": [
          92,
          28,
          26,
          26,
          21,
          21,
          20,
          19,
          18,
          17,
          14,
          14,
          13,
          11,
          9,
          6,
          5,
          2,
          1
         ]
        },
        {
         "name": "25-30",
         "text": [
          "I do not wish to disclose my approximate yearly compensation",
          "150-200,000",
          "100-125,000",
          "10-20,000",
          "125-150,000",
          "90-100,000",
          "70-80,000",
          "200-250,000",
          "20-30,000",
          "40-50,000",
          "80-90,000",
          "0-10,000",
          "50-60,000",
          "500,000+",
          "250-300,000",
          "30-40,000",
          "60-70,000",
          "300-400,000"
         ],
         "type": "bar",
         "uid": "d44d0544-2122-4d08-932f-4bd5ed3d8d48",
         "x": [
          "I do not wish to disclose my approximate yearly compensation",
          "150-200,000",
          "100-125,000",
          "10-20,000",
          "125-150,000",
          "90-100,000",
          "70-80,000",
          "200-250,000",
          "20-30,000",
          "40-50,000",
          "80-90,000",
          "0-10,000",
          "50-60,000",
          "500,000+",
          "250-300,000",
          "30-40,000",
          "60-70,000",
          "300-400,000"
         ],
         "y": [
          36,
          20,
          17,
          12,
          12,
          9,
          8,
          7,
          6,
          5,
          5,
          4,
          4,
          4,
          3,
          3,
          3,
          2
         ]
        },
        {
         "name": "3-4",
         "text": [
          "I do not wish to disclose my approximate yearly compensation",
          "0-10,000",
          "10-20,000",
          "20-30,000",
          "30-40,000",
          "50-60,000",
          "40-50,000",
          "60-70,000",
          "70-80,000",
          "100-125,000",
          "90-100,000",
          "125-150,000",
          "80-90,000",
          "150-200,000",
          "200-250,000",
          "300-400,000",
          "500,000+",
          "250-300,000",
          "400-500,000"
         ],
         "type": "bar",
         "uid": "eaeb02e4-6090-4a47-81e9-167e4117c6b2",
         "x": [
          "I do not wish to disclose my approximate yearly compensation",
          "0-10,000",
          "10-20,000",
          "20-30,000",
          "30-40,000",
          "50-60,000",
          "40-50,000",
          "60-70,000",
          "70-80,000",
          "100-125,000",
          "90-100,000",
          "125-150,000",
          "80-90,000",
          "150-200,000",
          "200-250,000",
          "300-400,000",
          "500,000+",
          "250-300,000",
          "400-500,000"
         ],
         "y": [
          355,
          339,
          186,
          128,
          105,
          91,
          83,
          65,
          59,
          58,
          50,
          43,
          42,
          37,
          10,
          4,
          4,
          2,
          2
         ]
        },
        {
         "name": "30 +",
         "text": [
          "I do not wish to disclose my approximate yearly compensation",
          "100-125,000",
          "150-200,000",
          "50-60,000",
          "500,000+",
          "125-150,000",
          "200-250,000",
          "60-70,000",
          "70-80,000",
          "80-90,000",
          "30-40,000",
          "300-400,000",
          "90-100,000",
          "0-10,000",
          "10-20,000",
          "250-300,000",
          "20-30,000",
          "40-50,000",
          "400-500,000"
         ],
         "type": "bar",
         "uid": "b08706ca-0368-4b55-818b-6d4fc45964ce",
         "x": [
          "I do not wish to disclose my approximate yearly compensation",
          "100-125,000",
          "150-200,000",
          "50-60,000",
          "500,000+",
          "125-150,000",
          "200-250,000",
          "60-70,000",
          "70-80,000",
          "80-90,000",
          "30-40,000",
          "300-400,000",
          "90-100,000",
          "0-10,000",
          "10-20,000",
          "250-300,000",
          "20-30,000",
          "40-50,000",
          "400-500,000"
         ],
         "y": [
          41,
          19,
          16,
          14,
          12,
          11,
          9,
          8,
          8,
          8,
          7,
          6,
          6,
          5,
          5,
          4,
          3,
          2,
          1
         ]
        },
        {
         "name": "4-5",
         "text": [
          "I do not wish to disclose my approximate yearly compensation",
          "0-10,000",
          "10-20,000",
          "20-30,000",
          "40-50,000",
          "30-40,000",
          "100-125,000",
          "50-60,000",
          "60-70,000",
          "125-150,000",
          "70-80,000",
          "150-200,000",
          "80-90,000",
          "90-100,000",
          "200-250,000",
          "300-400,000",
          "250-300,000",
          "400-500,000",
          "500,000+"
         ],
         "type": "bar",
         "uid": "8ff490fb-8493-4ae6-96bc-0ff002f961c0",
         "x": [
          "I do not wish to disclose my approximate yearly compensation",
          "0-10,000",
          "10-20,000",
          "20-30,000",
          "40-50,000",
          "30-40,000",
          "100-125,000",
          "50-60,000",
          "60-70,000",
          "125-150,000",
          "70-80,000",
          "150-200,000",
          "80-90,000",
          "90-100,000",
          "200-250,000",
          "300-400,000",
          "250-300,000",
          "400-500,000",
          "500,000+"
         ],
         "y": [
          271,
          236,
          148,
          114,
          100,
          81,
          76,
          73,
          57,
          51,
          50,
          46,
          45,
          44,
          14,
          4,
          3,
          2,
          1
         ]
        },
        {
         "name": "5-10",
         "text": [
          "I do not wish to disclose my approximate yearly compensation",
          "0-10,000",
          "10-20,000",
          "20-30,000",
          "30-40,000",
          "100-125,000",
          "40-50,000",
          "50-60,000",
          "60-70,000",
          "90-100,000",
          "125-150,000",
          "70-80,000",
          "150-200,000",
          "80-90,000",
          "200-250,000",
          "500,000+",
          "250-300,000",
          "300-400,000",
          "400-500,000"
         ],
         "type": "bar",
         "uid": "16f16d06-5617-4c69-ae29-7e83d541ed37",
         "x": [
          "I do not wish to disclose my approximate yearly compensation",
          "0-10,000",
          "10-20,000",
          "20-30,000",
          "30-40,000",
          "100-125,000",
          "40-50,000",
          "50-60,000",
          "60-70,000",
          "90-100,000",
          "125-150,000",
          "70-80,000",
          "150-200,000",
          "80-90,000",
          "200-250,000",
          "500,000+",
          "250-300,000",
          "300-400,000",
          "400-500,000"
         ],
         "y": [
          457,
          272,
          259,
          225,
          169,
          162,
          144,
          118,
          103,
          97,
          92,
          92,
          85,
          85,
          32,
          14,
          11,
          9,
          4
         ]
        }
       ],
       "layout": {
        "hovermode": "closest",
        "title": "Number of respondents by Years of experience and Current yearly compensation",
        "xaxis": {
         "showticklabels": true,
         "tickangle": 15,
         "tickfont": {
          "color": "black",
          "size": 9
         },
         "title": "Current yearly compensation"
        },
        "yaxis": {
         "title": "Number of respondents"
        }
       }
      },
      "text/html": [
       "<div id=\"14d53aa2-ea5a-468c-a0e8-c42b7a5ba6ca\" style=\"height: 525px; width: 100%;\" class=\"plotly-graph-div\"></div><script type=\"text/javascript\">require([\"plotly\"], function(Plotly) { window.PLOTLYENV=window.PLOTLYENV || {};window.PLOTLYENV.BASE_URL=\"https://plot.ly\";Plotly.newPlot(\"14d53aa2-ea5a-468c-a0e8-c42b7a5ba6ca\", [{\"name\": \"0-1\", \"text\": [\"0-10,000\", \"I do not wish to disclose my approximate yearly compensation\", \"10-20,000\", \"20-30,000\", \"30-40,000\", \"50-60,000\", \"40-50,000\", \"60-70,000\", \"70-80,000\", \"100-125,000\", \"80-90,000\", \"90-100,000\", \"125-150,000\", \"150-200,000\", \"200-250,000\", \"300-400,000\", \"250-300,000\", \"500,000+\"], \"x\": [\"0-10,000\", \"I do not wish to disclose my approximate yearly compensation\", \"10-20,000\", \"20-30,000\", \"30-40,000\", \"50-60,000\", \"40-50,000\", \"60-70,000\", \"70-80,000\", \"100-125,000\", \"80-90,000\", \"90-100,000\", \"125-150,000\", \"150-200,000\", \"200-250,000\", \"300-400,000\", \"250-300,000\", \"500,000+\"], \"y\": [1806, 1620, 432, 262, 246, 221, 191, 151, 128, 113, 103, 89, 55, 47, 11, 9, 8, 7], \"type\": \"bar\", \"uid\": \"06d032ef-c8f8-46c3-8b04-dfe7488eb9dd\"}, {\"name\": \"1-2\", \"text\": [\"0-10,000\", \"I do not wish to disclose my approximate yearly compensation\", \"10-20,000\", \"20-30,000\", \"30-40,000\", \"40-50,000\", \"50-60,000\", \"60-70,000\", \"70-80,000\", \"100-125,000\", \"90-100,000\", \"80-90,000\", \"125-150,000\", \"150-200,000\", \"200-250,000\", \"250-300,000\", \"300-400,000\", \"500,000+\", \"400-500,000\"], \"x\": [\"0-10,000\", \"I do not wish to disclose my approximate yearly compensation\", \"10-20,000\", \"20-30,000\", \"30-40,000\", \"40-50,000\", \"50-60,000\", \"60-70,000\", \"70-80,000\", \"100-125,000\", \"90-100,000\", \"80-90,000\", \"125-150,000\", \"150-200,000\", \"200-250,000\", \"250-300,000\", \"300-400,000\", \"500,000+\", \"400-500,000\"], \"y\": [852, 777, 431, 290, 215, 193, 157, 139, 129, 106, 94, 84, 72, 38, 12, 6, 4, 3, 1], \"type\": \"bar\", \"uid\": \"099a4037-996c-4ac2-83c9-ace379eada69\"}, {\"name\": \"10-15\", \"text\": [\"I do not wish to disclose my approximate yearly compensation\", \"0-10,000\", \"10-20,000\", \"100-125,000\", \"20-30,000\", \"30-40,000\", \"150-200,000\", \"40-50,000\", \"50-60,000\", \"60-70,000\", \"90-100,000\", \"125-150,000\", \"70-80,000\", \"80-90,000\", \"200-250,000\", \"250-300,000\", \"400-500,000\", \"500,000+\", \"300-400,000\"], \"x\": [\"I do not wish to disclose my approximate yearly compensation\", \"0-10,000\", \"10-20,000\", \"100-125,000\", \"20-30,000\", \"30-40,000\", \"150-200,000\", \"40-50,000\", \"50-60,000\", \"60-70,000\", \"90-100,000\", \"125-150,000\", \"70-80,000\", \"80-90,000\", \"200-250,000\", \"250-300,000\", \"400-500,000\", \"500,000+\", \"300-400,000\"], \"y\": [335, 170, 114, 105, 99, 82, 72, 69, 66, 64, 64, 63, 55, 40, 23, 17, 7, 7, 6], \"type\": \"bar\", \"uid\": \"75e53ca1-8fbb-487a-bdeb-f4164f0c2f76\"}, {\"name\": \"15-20\", \"text\": [\"I do not wish to disclose my approximate yearly compensation\", \"0-10,000\", \"100-125,000\", \"50-60,000\", \"125-150,000\", \"30-40,000\", \"150-200,000\", \"10-20,000\", \"70-80,000\", \"40-50,000\", \"20-30,000\", \"200-250,000\", \"90-100,000\", \"60-70,000\", \"80-90,000\", \"250-300,000\", \"500,000+\", \"300-400,000\"], \"x\": [\"I do not wish to disclose my approximate yearly compensation\", \"0-10,000\", \"100-125,000\", \"50-60,000\", \"125-150,000\", \"30-40,000\", \"150-200,000\", \"10-20,000\", \"70-80,000\", \"40-50,000\", \"20-30,000\", \"200-250,000\", \"90-100,000\", \"60-70,000\", \"80-90,000\", \"250-300,000\", \"500,000+\", \"300-400,000\"], \"y\": [217, 135, 49, 49, 45, 39, 37, 36, 35, 33, 31, 25, 24, 22, 17, 11, 5, 2], \"type\": \"bar\", \"uid\": \"d2931324-e0a6-40bf-a733-5e4000c3e0dc\"}, {\"name\": \"2-3\", \"text\": [\"0-10,000\", \"I do not wish to disclose my approximate yearly compensation\", \"10-20,000\", \"20-30,000\", \"30-40,000\", \"40-50,000\", \"50-60,000\", \"100-125,000\", \"60-70,000\", \"70-80,000\", \"80-90,000\", \"90-100,000\", \"125-150,000\", \"150-200,000\", \"200-250,000\", \"400-500,000\", \"250-300,000\", \"500,000+\", \"300-400,000\"], \"x\": [\"0-10,000\", \"I do not wish to disclose my approximate yearly compensation\", \"10-20,000\", \"20-30,000\", \"30-40,000\", \"40-50,000\", \"50-60,000\", \"100-125,000\", \"60-70,000\", \"70-80,000\", \"80-90,000\", \"90-100,000\", \"125-150,000\", \"150-200,000\", \"200-250,000\", \"400-500,000\", \"250-300,000\", \"500,000+\", \"300-400,000\"], \"y\": [503, 498, 289, 215, 155, 125, 115, 109, 104, 92, 68, 68, 63, 33, 12, 5, 4, 4, 1], \"type\": \"bar\", \"uid\": \"80dc704f-5128-432a-b9bd-8074cc136b4c\"}, {\"name\": \"20-25\", \"text\": [\"I do not wish to disclose my approximate yearly compensation\", \"100-125,000\", \"125-150,000\", \"150-200,000\", \"70-80,000\", \"90-100,000\", \"20-30,000\", \"10-20,000\", \"40-50,000\", \"200-250,000\", \"0-10,000\", \"30-40,000\", \"60-70,000\", \"50-60,000\", \"80-90,000\", \"250-300,000\", \"300-400,000\", \"500,000+\", \"400-500,000\"], \"x\": [\"I do not wish to disclose my approximate yearly compensation\", \"100-125,000\", \"125-150,000\", \"150-200,000\", \"70-80,000\", \"90-100,000\", \"20-30,000\", \"10-20,000\", \"40-50,000\", \"200-250,000\", \"0-10,000\", \"30-40,000\", \"60-70,000\", \"50-60,000\", \"80-90,000\", \"250-300,000\", \"300-400,000\", \"500,000+\", \"400-500,000\"], \"y\": [92, 28, 26, 26, 21, 21, 20, 19, 18, 17, 14, 14, 13, 11, 9, 6, 5, 2, 1], \"type\": \"bar\", \"uid\": \"0a25afb4-81e2-4394-b332-d9b72d232740\"}, {\"name\": \"25-30\", \"text\": [\"I do not wish to disclose my approximate yearly compensation\", \"150-200,000\", \"100-125,000\", \"10-20,000\", \"125-150,000\", \"90-100,000\", \"70-80,000\", \"200-250,000\", \"20-30,000\", \"40-50,000\", \"80-90,000\", \"0-10,000\", \"50-60,000\", \"500,000+\", \"250-300,000\", \"30-40,000\", \"60-70,000\", \"300-400,000\"], \"x\": [\"I do not wish to disclose my approximate yearly compensation\", \"150-200,000\", \"100-125,000\", \"10-20,000\", \"125-150,000\", \"90-100,000\", \"70-80,000\", \"200-250,000\", \"20-30,000\", \"40-50,000\", \"80-90,000\", \"0-10,000\", \"50-60,000\", \"500,000+\", \"250-300,000\", \"30-40,000\", \"60-70,000\", \"300-400,000\"], \"y\": [36, 20, 17, 12, 12, 9, 8, 7, 6, 5, 5, 4, 4, 4, 3, 3, 3, 2], \"type\": \"bar\", \"uid\": \"f15262a0-c68a-44fc-822a-1044583ebdfd\"}, {\"name\": \"3-4\", \"text\": [\"I do not wish to disclose my approximate yearly compensation\", \"0-10,000\", \"10-20,000\", \"20-30,000\", \"30-40,000\", \"50-60,000\", \"40-50,000\", \"60-70,000\", \"70-80,000\", \"100-125,000\", \"90-100,000\", \"125-150,000\", \"80-90,000\", \"150-200,000\", \"200-250,000\", \"300-400,000\", \"500,000+\", \"250-300,000\", \"400-500,000\"], \"x\": [\"I do not wish to disclose my approximate yearly compensation\", \"0-10,000\", \"10-20,000\", \"20-30,000\", \"30-40,000\", \"50-60,000\", \"40-50,000\", \"60-70,000\", \"70-80,000\", \"100-125,000\", \"90-100,000\", \"125-150,000\", \"80-90,000\", \"150-200,000\", \"200-250,000\", \"300-400,000\", \"500,000+\", \"250-300,000\", \"400-500,000\"], \"y\": [355, 339, 186, 128, 105, 91, 83, 65, 59, 58, 50, 43, 42, 37, 10, 4, 4, 2, 2], \"type\": \"bar\", \"uid\": \"fbc5c549-cece-4bea-a296-19f99b4f3d9f\"}, {\"name\": \"30 +\", \"text\": [\"I do not wish to disclose my approximate yearly compensation\", \"100-125,000\", \"150-200,000\", \"50-60,000\", \"500,000+\", \"125-150,000\", \"200-250,000\", \"60-70,000\", \"70-80,000\", \"80-90,000\", \"30-40,000\", \"300-400,000\", \"90-100,000\", \"0-10,000\", \"10-20,000\", \"250-300,000\", \"20-30,000\", \"40-50,000\", \"400-500,000\"], \"x\": [\"I do not wish to disclose my approximate yearly compensation\", \"100-125,000\", \"150-200,000\", \"50-60,000\", \"500,000+\", \"125-150,000\", \"200-250,000\", \"60-70,000\", \"70-80,000\", \"80-90,000\", \"30-40,000\", \"300-400,000\", \"90-100,000\", \"0-10,000\", \"10-20,000\", \"250-300,000\", \"20-30,000\", \"40-50,000\", \"400-500,000\"], \"y\": [41, 19, 16, 14, 12, 11, 9, 8, 8, 8, 7, 6, 6, 5, 5, 4, 3, 2, 1], \"type\": \"bar\", \"uid\": \"1d1067bd-5655-4795-b505-9e6340b46f2c\"}, {\"name\": \"4-5\", \"text\": [\"I do not wish to disclose my approximate yearly compensation\", \"0-10,000\", \"10-20,000\", \"20-30,000\", \"40-50,000\", \"30-40,000\", \"100-125,000\", \"50-60,000\", \"60-70,000\", \"125-150,000\", \"70-80,000\", \"150-200,000\", \"80-90,000\", \"90-100,000\", \"200-250,000\", \"300-400,000\", \"250-300,000\", \"400-500,000\", \"500,000+\"], \"x\": [\"I do not wish to disclose my approximate yearly compensation\", \"0-10,000\", \"10-20,000\", \"20-30,000\", \"40-50,000\", \"30-40,000\", \"100-125,000\", \"50-60,000\", \"60-70,000\", \"125-150,000\", \"70-80,000\", \"150-200,000\", \"80-90,000\", \"90-100,000\", \"200-250,000\", \"300-400,000\", \"250-300,000\", \"400-500,000\", \"500,000+\"], \"y\": [271, 236, 148, 114, 100, 81, 76, 73, 57, 51, 50, 46, 45, 44, 14, 4, 3, 2, 1], \"type\": \"bar\", \"uid\": \"269ea93a-9952-4e5c-a4e5-ee19a016306f\"}, {\"name\": \"5-10\", \"text\": [\"I do not wish to disclose my approximate yearly compensation\", \"0-10,000\", \"10-20,000\", \"20-30,000\", \"30-40,000\", \"100-125,000\", \"40-50,000\", \"50-60,000\", \"60-70,000\", \"90-100,000\", \"125-150,000\", \"70-80,000\", \"150-200,000\", \"80-90,000\", \"200-250,000\", \"500,000+\", \"250-300,000\", \"300-400,000\", \"400-500,000\"], \"x\": [\"I do not wish to disclose my approximate yearly compensation\", \"0-10,000\", \"10-20,000\", \"20-30,000\", \"30-40,000\", \"100-125,000\", \"40-50,000\", \"50-60,000\", \"60-70,000\", \"90-100,000\", \"125-150,000\", \"70-80,000\", \"150-200,000\", \"80-90,000\", \"200-250,000\", \"500,000+\", \"250-300,000\", \"300-400,000\", \"400-500,000\"], \"y\": [457, 272, 259, 225, 169, 162, 144, 118, 103, 97, 92, 92, 85, 85, 32, 14, 11, 9, 4], \"type\": \"bar\", \"uid\": \"f9770dc6-f094-491b-9dba-bc9b2893472e\"}], {\"hovermode\": \"closest\", \"title\": \"Number of respondents by Years of experience and Current yearly compensation\", \"xaxis\": {\"showticklabels\": true, \"tickangle\": 15, \"tickfont\": {\"color\": \"black\", \"size\": 9}, \"title\": \"Current yearly compensation\"}, \"yaxis\": {\"title\": \"Number of respondents\"}}, {\"showLink\": true, \"linkText\": \"Export to plot.ly\", \"plotlyServerURL\": \"https://plot.ly\"})});</script><script type=\"text/javascript\">window.addEventListener(\"resize\", function(){window._Plotly.Plots.resize(document.getElementById(\"14d53aa2-ea5a-468c-a0e8-c42b7a5ba6ca\"));});</script>"
      ],
      "text/vnd.plotly.v1+html": [
       "<div id=\"14d53aa2-ea5a-468c-a0e8-c42b7a5ba6ca\" style=\"height: 525px; width: 100%;\" class=\"plotly-graph-div\"></div><script type=\"text/javascript\">require([\"plotly\"], function(Plotly) { window.PLOTLYENV=window.PLOTLYENV || {};window.PLOTLYENV.BASE_URL=\"https://plot.ly\";Plotly.newPlot(\"14d53aa2-ea5a-468c-a0e8-c42b7a5ba6ca\", [{\"name\": \"0-1\", \"text\": [\"0-10,000\", \"I do not wish to disclose my approximate yearly compensation\", \"10-20,000\", \"20-30,000\", \"30-40,000\", \"50-60,000\", \"40-50,000\", \"60-70,000\", \"70-80,000\", \"100-125,000\", \"80-90,000\", \"90-100,000\", \"125-150,000\", \"150-200,000\", \"200-250,000\", \"300-400,000\", \"250-300,000\", \"500,000+\"], \"x\": [\"0-10,000\", \"I do not wish to disclose my approximate yearly compensation\", \"10-20,000\", \"20-30,000\", \"30-40,000\", \"50-60,000\", \"40-50,000\", \"60-70,000\", \"70-80,000\", \"100-125,000\", \"80-90,000\", \"90-100,000\", \"125-150,000\", \"150-200,000\", \"200-250,000\", \"300-400,000\", \"250-300,000\", \"500,000+\"], \"y\": [1806, 1620, 432, 262, 246, 221, 191, 151, 128, 113, 103, 89, 55, 47, 11, 9, 8, 7], \"type\": \"bar\", \"uid\": \"06d032ef-c8f8-46c3-8b04-dfe7488eb9dd\"}, {\"name\": \"1-2\", \"text\": [\"0-10,000\", \"I do not wish to disclose my approximate yearly compensation\", \"10-20,000\", \"20-30,000\", \"30-40,000\", \"40-50,000\", \"50-60,000\", \"60-70,000\", \"70-80,000\", \"100-125,000\", \"90-100,000\", \"80-90,000\", \"125-150,000\", \"150-200,000\", \"200-250,000\", \"250-300,000\", \"300-400,000\", \"500,000+\", \"400-500,000\"], \"x\": [\"0-10,000\", \"I do not wish to disclose my approximate yearly compensation\", \"10-20,000\", \"20-30,000\", \"30-40,000\", \"40-50,000\", \"50-60,000\", \"60-70,000\", \"70-80,000\", \"100-125,000\", \"90-100,000\", \"80-90,000\", \"125-150,000\", \"150-200,000\", \"200-250,000\", \"250-300,000\", \"300-400,000\", \"500,000+\", \"400-500,000\"], \"y\": [852, 777, 431, 290, 215, 193, 157, 139, 129, 106, 94, 84, 72, 38, 12, 6, 4, 3, 1], \"type\": \"bar\", \"uid\": \"099a4037-996c-4ac2-83c9-ace379eada69\"}, {\"name\": \"10-15\", \"text\": [\"I do not wish to disclose my approximate yearly compensation\", \"0-10,000\", \"10-20,000\", \"100-125,000\", \"20-30,000\", \"30-40,000\", \"150-200,000\", \"40-50,000\", \"50-60,000\", \"60-70,000\", \"90-100,000\", \"125-150,000\", \"70-80,000\", \"80-90,000\", \"200-250,000\", \"250-300,000\", \"400-500,000\", \"500,000+\", \"300-400,000\"], \"x\": [\"I do not wish to disclose my approximate yearly compensation\", \"0-10,000\", \"10-20,000\", \"100-125,000\", \"20-30,000\", \"30-40,000\", \"150-200,000\", \"40-50,000\", \"50-60,000\", \"60-70,000\", \"90-100,000\", \"125-150,000\", \"70-80,000\", \"80-90,000\", \"200-250,000\", \"250-300,000\", \"400-500,000\", \"500,000+\", \"300-400,000\"], \"y\": [335, 170, 114, 105, 99, 82, 72, 69, 66, 64, 64, 63, 55, 40, 23, 17, 7, 7, 6], \"type\": \"bar\", \"uid\": \"75e53ca1-8fbb-487a-bdeb-f4164f0c2f76\"}, {\"name\": \"15-20\", \"text\": [\"I do not wish to disclose my approximate yearly compensation\", \"0-10,000\", \"100-125,000\", \"50-60,000\", \"125-150,000\", \"30-40,000\", \"150-200,000\", \"10-20,000\", \"70-80,000\", \"40-50,000\", \"20-30,000\", \"200-250,000\", \"90-100,000\", \"60-70,000\", \"80-90,000\", \"250-300,000\", \"500,000+\", \"300-400,000\"], \"x\": [\"I do not wish to disclose my approximate yearly compensation\", \"0-10,000\", \"100-125,000\", \"50-60,000\", \"125-150,000\", \"30-40,000\", \"150-200,000\", \"10-20,000\", \"70-80,000\", \"40-50,000\", \"20-30,000\", \"200-250,000\", \"90-100,000\", \"60-70,000\", \"80-90,000\", \"250-300,000\", \"500,000+\", \"300-400,000\"], \"y\": [217, 135, 49, 49, 45, 39, 37, 36, 35, 33, 31, 25, 24, 22, 17, 11, 5, 2], \"type\": \"bar\", \"uid\": \"d2931324-e0a6-40bf-a733-5e4000c3e0dc\"}, {\"name\": \"2-3\", \"text\": [\"0-10,000\", \"I do not wish to disclose my approximate yearly compensation\", \"10-20,000\", \"20-30,000\", \"30-40,000\", \"40-50,000\", \"50-60,000\", \"100-125,000\", \"60-70,000\", \"70-80,000\", \"80-90,000\", \"90-100,000\", \"125-150,000\", \"150-200,000\", \"200-250,000\", \"400-500,000\", \"250-300,000\", \"500,000+\", \"300-400,000\"], \"x\": [\"0-10,000\", \"I do not wish to disclose my approximate yearly compensation\", \"10-20,000\", \"20-30,000\", \"30-40,000\", \"40-50,000\", \"50-60,000\", \"100-125,000\", \"60-70,000\", \"70-80,000\", \"80-90,000\", \"90-100,000\", \"125-150,000\", \"150-200,000\", \"200-250,000\", \"400-500,000\", \"250-300,000\", \"500,000+\", \"300-400,000\"], \"y\": [503, 498, 289, 215, 155, 125, 115, 109, 104, 92, 68, 68, 63, 33, 12, 5, 4, 4, 1], \"type\": \"bar\", \"uid\": \"80dc704f-5128-432a-b9bd-8074cc136b4c\"}, {\"name\": \"20-25\", \"text\": [\"I do not wish to disclose my approximate yearly compensation\", \"100-125,000\", \"125-150,000\", \"150-200,000\", \"70-80,000\", \"90-100,000\", \"20-30,000\", \"10-20,000\", \"40-50,000\", \"200-250,000\", \"0-10,000\", \"30-40,000\", \"60-70,000\", \"50-60,000\", \"80-90,000\", \"250-300,000\", \"300-400,000\", \"500,000+\", \"400-500,000\"], \"x\": [\"I do not wish to disclose my approximate yearly compensation\", \"100-125,000\", \"125-150,000\", \"150-200,000\", \"70-80,000\", \"90-100,000\", \"20-30,000\", \"10-20,000\", \"40-50,000\", \"200-250,000\", \"0-10,000\", \"30-40,000\", \"60-70,000\", \"50-60,000\", \"80-90,000\", \"250-300,000\", \"300-400,000\", \"500,000+\", \"400-500,000\"], \"y\": [92, 28, 26, 26, 21, 21, 20, 19, 18, 17, 14, 14, 13, 11, 9, 6, 5, 2, 1], \"type\": \"bar\", \"uid\": \"0a25afb4-81e2-4394-b332-d9b72d232740\"}, {\"name\": \"25-30\", \"text\": [\"I do not wish to disclose my approximate yearly compensation\", \"150-200,000\", \"100-125,000\", \"10-20,000\", \"125-150,000\", \"90-100,000\", \"70-80,000\", \"200-250,000\", \"20-30,000\", \"40-50,000\", \"80-90,000\", \"0-10,000\", \"50-60,000\", \"500,000+\", \"250-300,000\", \"30-40,000\", \"60-70,000\", \"300-400,000\"], \"x\": [\"I do not wish to disclose my approximate yearly compensation\", \"150-200,000\", \"100-125,000\", \"10-20,000\", \"125-150,000\", \"90-100,000\", \"70-80,000\", \"200-250,000\", \"20-30,000\", \"40-50,000\", \"80-90,000\", \"0-10,000\", \"50-60,000\", \"500,000+\", \"250-300,000\", \"30-40,000\", \"60-70,000\", \"300-400,000\"], \"y\": [36, 20, 17, 12, 12, 9, 8, 7, 6, 5, 5, 4, 4, 4, 3, 3, 3, 2], \"type\": \"bar\", \"uid\": \"f15262a0-c68a-44fc-822a-1044583ebdfd\"}, {\"name\": \"3-4\", \"text\": [\"I do not wish to disclose my approximate yearly compensation\", \"0-10,000\", \"10-20,000\", \"20-30,000\", \"30-40,000\", \"50-60,000\", \"40-50,000\", \"60-70,000\", \"70-80,000\", \"100-125,000\", \"90-100,000\", \"125-150,000\", \"80-90,000\", \"150-200,000\", \"200-250,000\", \"300-400,000\", \"500,000+\", \"250-300,000\", \"400-500,000\"], \"x\": [\"I do not wish to disclose my approximate yearly compensation\", \"0-10,000\", \"10-20,000\", \"20-30,000\", \"30-40,000\", \"50-60,000\", \"40-50,000\", \"60-70,000\", \"70-80,000\", \"100-125,000\", \"90-100,000\", \"125-150,000\", \"80-90,000\", \"150-200,000\", \"200-250,000\", \"300-400,000\", \"500,000+\", \"250-300,000\", \"400-500,000\"], \"y\": [355, 339, 186, 128, 105, 91, 83, 65, 59, 58, 50, 43, 42, 37, 10, 4, 4, 2, 2], \"type\": \"bar\", \"uid\": \"fbc5c549-cece-4bea-a296-19f99b4f3d9f\"}, {\"name\": \"30 +\", \"text\": [\"I do not wish to disclose my approximate yearly compensation\", \"100-125,000\", \"150-200,000\", \"50-60,000\", \"500,000+\", \"125-150,000\", \"200-250,000\", \"60-70,000\", \"70-80,000\", \"80-90,000\", \"30-40,000\", \"300-400,000\", \"90-100,000\", \"0-10,000\", \"10-20,000\", \"250-300,000\", \"20-30,000\", \"40-50,000\", \"400-500,000\"], \"x\": [\"I do not wish to disclose my approximate yearly compensation\", \"100-125,000\", \"150-200,000\", \"50-60,000\", \"500,000+\", \"125-150,000\", \"200-250,000\", \"60-70,000\", \"70-80,000\", \"80-90,000\", \"30-40,000\", \"300-400,000\", \"90-100,000\", \"0-10,000\", \"10-20,000\", \"250-300,000\", \"20-30,000\", \"40-50,000\", \"400-500,000\"], \"y\": [41, 19, 16, 14, 12, 11, 9, 8, 8, 8, 7, 6, 6, 5, 5, 4, 3, 2, 1], \"type\": \"bar\", \"uid\": \"1d1067bd-5655-4795-b505-9e6340b46f2c\"}, {\"name\": \"4-5\", \"text\": [\"I do not wish to disclose my approximate yearly compensation\", \"0-10,000\", \"10-20,000\", \"20-30,000\", \"40-50,000\", \"30-40,000\", \"100-125,000\", \"50-60,000\", \"60-70,000\", \"125-150,000\", \"70-80,000\", \"150-200,000\", \"80-90,000\", \"90-100,000\", \"200-250,000\", \"300-400,000\", \"250-300,000\", \"400-500,000\", \"500,000+\"], \"x\": [\"I do not wish to disclose my approximate yearly compensation\", \"0-10,000\", \"10-20,000\", \"20-30,000\", \"40-50,000\", \"30-40,000\", \"100-125,000\", \"50-60,000\", \"60-70,000\", \"125-150,000\", \"70-80,000\", \"150-200,000\", \"80-90,000\", \"90-100,000\", \"200-250,000\", \"300-400,000\", \"250-300,000\", \"400-500,000\", \"500,000+\"], \"y\": [271, 236, 148, 114, 100, 81, 76, 73, 57, 51, 50, 46, 45, 44, 14, 4, 3, 2, 1], \"type\": \"bar\", \"uid\": \"269ea93a-9952-4e5c-a4e5-ee19a016306f\"}, {\"name\": \"5-10\", \"text\": [\"I do not wish to disclose my approximate yearly compensation\", \"0-10,000\", \"10-20,000\", \"20-30,000\", \"30-40,000\", \"100-125,000\", \"40-50,000\", \"50-60,000\", \"60-70,000\", \"90-100,000\", \"125-150,000\", \"70-80,000\", \"150-200,000\", \"80-90,000\", \"200-250,000\", \"500,000+\", \"250-300,000\", \"300-400,000\", \"400-500,000\"], \"x\": [\"I do not wish to disclose my approximate yearly compensation\", \"0-10,000\", \"10-20,000\", \"20-30,000\", \"30-40,000\", \"100-125,000\", \"40-50,000\", \"50-60,000\", \"60-70,000\", \"90-100,000\", \"125-150,000\", \"70-80,000\", \"150-200,000\", \"80-90,000\", \"200-250,000\", \"500,000+\", \"250-300,000\", \"300-400,000\", \"400-500,000\"], \"y\": [457, 272, 259, 225, 169, 162, 144, 118, 103, 97, 92, 92, 85, 85, 32, 14, 11, 9, 4], \"type\": \"bar\", \"uid\": \"f9770dc6-f094-491b-9dba-bc9b2893472e\"}], {\"hovermode\": \"closest\", \"title\": \"Number of respondents by Years of experience and Current yearly compensation\", \"xaxis\": {\"showticklabels\": true, \"tickangle\": 15, \"tickfont\": {\"color\": \"black\", \"size\": 9}, \"title\": \"Current yearly compensation\"}, \"yaxis\": {\"title\": \"Number of respondents\"}}, {\"showLink\": true, \"linkText\": \"Export to plot.ly\", \"plotlyServerURL\": \"https://plot.ly\"})});</script><script type=\"text/javascript\">window.addEventListener(\"resize\", function(){window._Plotly.Plots.resize(document.getElementById(\"14d53aa2-ea5a-468c-a0e8-c42b7a5ba6ca\"));});</script>"
      ]
     },
     "metadata": {},
     "output_type": "display_data"
    }
   ],
   "source": [
    "df = get_categories_group(multiple_df, 'Q8', 'Q9')\n",
    "draw_trace_group_bar(df, 'Q8', 'Q9', 'Number of respondents by Years of experience and Current yearly compensation', 'Current yearly compensation', 'Number of respondents')"
   ]
  },
  {
   "cell_type": "code",
   "execution_count": 42,
   "metadata": {
    "_kg_hide-input": true,
    "_uuid": "9f10d4200d9577e70141b7d6dbb8321a81c32406",
    "execution": {
     "iopub.execute_input": "2022-12-14T05:40:51.923995Z",
     "iopub.status.busy": "2022-12-14T05:40:51.923628Z",
     "iopub.status.idle": "2022-12-14T05:40:52.311282Z",
     "shell.execute_reply": "2022-12-14T05:40:52.310293Z",
     "shell.execute_reply.started": "2022-12-14T05:40:51.923935Z"
    }
   },
   "outputs": [
    {
     "data": {
      "application/vnd.plotly.v1+json": {
       "config": {
        "linkText": "Export to plot.ly",
        "plotlyServerURL": "https://plot.ly",
        "showLink": true
       },
       "data": [
        {
         "name": "Business Analyst",
         "text": [
          "Master’s degree",
          "Bachelor’s degree",
          "Professional degree",
          "Doctoral degree",
          "Some college/university study without earning a bachelor’s degree",
          "No formal education past high school",
          "I prefer not to answer"
         ],
         "type": "bar",
         "uid": "81559d20-db48-4b1b-9e85-a5d73f256aca",
         "x": [
          "Master’s degree",
          "Bachelor’s degree",
          "Professional degree",
          "Doctoral degree",
          "Some college/university study without earning a bachelor’s degree",
          "No formal education past high school",
          "I prefer not to answer"
         ],
         "y": [
          414,
          252,
          29,
          27,
          26,
          15,
          9
         ]
        },
        {
         "name": "Chief Officer",
         "text": [
          "Master’s degree",
          "Bachelor’s degree",
          "Doctoral degree",
          "Professional degree",
          "Some college/university study without earning a bachelor’s degree",
          "No formal education past high school",
          "I prefer not to answer"
         ],
         "type": "bar",
         "uid": "60a9ce56-070c-48e9-ab59-08a37faa4700",
         "x": [
          "Master’s degree",
          "Bachelor’s degree",
          "Doctoral degree",
          "Professional degree",
          "Some college/university study without earning a bachelor’s degree",
          "No formal education past high school",
          "I prefer not to answer"
         ],
         "y": [
          183,
          73,
          65,
          15,
          14,
          8,
          2
         ]
        },
        {
         "name": "Consultant",
         "text": [
          "Master’s degree",
          "Bachelor’s degree",
          "Doctoral degree",
          "Professional degree",
          "Some college/university study without earning a bachelor’s degree",
          "I prefer not to answer",
          "No formal education past high school"
         ],
         "type": "bar",
         "uid": "238c5112-29dd-461f-8f48-95b176d2764d",
         "x": [
          "Master’s degree",
          "Bachelor’s degree",
          "Doctoral degree",
          "Professional degree",
          "Some college/university study without earning a bachelor’s degree",
          "I prefer not to answer",
          "No formal education past high school"
         ],
         "y": [
          404,
          212,
          96,
          30,
          26,
          11,
          6
         ]
        },
        {
         "name": "DBA/Database Engineer",
         "text": [
          "Bachelor’s degree",
          "Master’s degree",
          "Some college/university study without earning a bachelor’s degree",
          "Doctoral degree",
          "Professional degree",
          "I prefer not to answer",
          "No formal education past high school"
         ],
         "type": "bar",
         "uid": "44f09a2f-f6f4-47de-b2be-0e51df0220b1",
         "x": [
          "Bachelor’s degree",
          "Master’s degree",
          "Some college/university study without earning a bachelor’s degree",
          "Doctoral degree",
          "Professional degree",
          "I prefer not to answer",
          "No formal education past high school"
         ],
         "y": [
          56,
          56,
          10,
          9,
          7,
          4,
          3
         ]
        },
        {
         "name": "Data Analyst",
         "text": [
          "Master’s degree",
          "Bachelor’s degree",
          "Doctoral degree",
          "Some college/university study without earning a bachelor’s degree",
          "Professional degree",
          "I prefer not to answer",
          "No formal education past high school"
         ],
         "type": "bar",
         "uid": "e1c96989-0d8e-4588-80cf-0bb44c38c80d",
         "x": [
          "Master’s degree",
          "Bachelor’s degree",
          "Doctoral degree",
          "Some college/university study without earning a bachelor’s degree",
          "Professional degree",
          "I prefer not to answer",
          "No formal education past high school"
         ],
         "y": [
          991,
          650,
          125,
          67,
          47,
          25,
          17
         ]
        },
        {
         "name": "Data Engineer",
         "text": [
          "Master’s degree",
          "Bachelor’s degree",
          "Doctoral degree",
          "Professional degree",
          "Some college/university study without earning a bachelor’s degree",
          "I prefer not to answer",
          "No formal education past high school"
         ],
         "type": "bar",
         "uid": "76e9ffec-e2d3-45d9-ad8c-32cc9fb08c11",
         "x": [
          "Master’s degree",
          "Bachelor’s degree",
          "Doctoral degree",
          "Professional degree",
          "Some college/university study without earning a bachelor’s degree",
          "I prefer not to answer",
          "No formal education past high school"
         ],
         "y": [
          411,
          218,
          54,
          18,
          17,
          13,
          6
         ]
        },
        {
         "name": "Data Journalist",
         "text": [
          "Bachelor’s degree",
          "Master’s degree",
          "Doctoral degree",
          "I prefer not to answer",
          "Professional degree"
         ],
         "type": "bar",
         "uid": "c2b67a32-cbfe-47b5-94dc-01128c1ec06a",
         "x": [
          "Bachelor’s degree",
          "Master’s degree",
          "Doctoral degree",
          "I prefer not to answer",
          "Professional degree"
         ],
         "y": [
          10,
          7,
          1,
          1,
          1
         ]
        },
        {
         "name": "Data Scientist",
         "text": [
          "Master’s degree",
          "Bachelor’s degree",
          "Doctoral degree",
          "Some college/university study without earning a bachelor’s degree",
          "Professional degree",
          "I prefer not to answer",
          "No formal education past high school"
         ],
         "type": "bar",
         "uid": "0d4311d6-2645-404a-8e1c-31352fde4af0",
         "x": [
          "Master’s degree",
          "Bachelor’s degree",
          "Doctoral degree",
          "Some college/university study without earning a bachelor’s degree",
          "Professional degree",
          "I prefer not to answer",
          "No formal education past high school"
         ],
         "y": [
          2296,
          835,
          778,
          91,
          80,
          35,
          22
         ]
        },
        {
         "name": "Developer Advocate",
         "text": [
          "Bachelor’s degree",
          "Master’s degree",
          "Doctoral degree",
          "Some college/university study without earning a bachelor’s degree",
          "Professional degree",
          "I prefer not to answer",
          "No formal education past high school"
         ],
         "type": "bar",
         "uid": "b0722b0b-0420-4ad0-a807-ed9aed7f3f41",
         "x": [
          "Bachelor’s degree",
          "Master’s degree",
          "Doctoral degree",
          "Some college/university study without earning a bachelor’s degree",
          "Professional degree",
          "I prefer not to answer",
          "No formal education past high school"
         ],
         "y": [
          53,
          39,
          8,
          8,
          6,
          2,
          1
         ]
        },
        {
         "name": "Manager",
         "text": [
          "Master’s degree",
          "Bachelor’s degree",
          "Doctoral degree",
          "Some college/university study without earning a bachelor’s degree",
          "Professional degree",
          "I prefer not to answer",
          "No formal education past high school"
         ],
         "type": "bar",
         "uid": "dc3d3833-0c65-4e80-884a-2255d56d1cea",
         "x": [
          "Master’s degree",
          "Bachelor’s degree",
          "Doctoral degree",
          "Some college/university study without earning a bachelor’s degree",
          "Professional degree",
          "I prefer not to answer",
          "No formal education past high school"
         ],
         "y": [
          320,
          138,
          79,
          21,
          20,
          10,
          2
         ]
        },
        {
         "name": "Marketing Analyst",
         "text": [
          "Master’s degree",
          "Bachelor’s degree",
          "Doctoral degree",
          "Professional degree",
          "No formal education past high school",
          "Some college/university study without earning a bachelor’s degree",
          "I prefer not to answer"
         ],
         "type": "bar",
         "uid": "a8a61abb-d107-43f0-8290-d0e19949b92f",
         "x": [
          "Master’s degree",
          "Bachelor’s degree",
          "Doctoral degree",
          "Professional degree",
          "No formal education past high school",
          "Some college/university study without earning a bachelor’s degree",
          "I prefer not to answer"
         ],
         "y": [
          59,
          34,
          7,
          5,
          4,
          4,
          2
         ]
        },
        {
         "name": "Not employed",
         "text": [
          "Master’s degree",
          "Bachelor’s degree",
          "Doctoral degree",
          "Some college/university study without earning a bachelor’s degree",
          "I prefer not to answer",
          "Professional degree",
          "No formal education past high school"
         ],
         "type": "bar",
         "uid": "de381e50-1c29-4cf5-8f9d-7ca9cde7132e",
         "x": [
          "Master’s degree",
          "Bachelor’s degree",
          "Doctoral degree",
          "Some college/university study without earning a bachelor’s degree",
          "I prefer not to answer",
          "Professional degree",
          "No formal education past high school"
         ],
         "y": [
          361,
          314,
          69,
          35,
          24,
          22,
          17
         ]
        },
        {
         "name": "Other",
         "text": [
          "Master’s degree",
          "Bachelor’s degree",
          "Doctoral degree",
          "Some college/university study without earning a bachelor’s degree",
          "Professional degree",
          "I prefer not to answer",
          "No formal education past high school"
         ],
         "type": "bar",
         "uid": "a3caa18b-1a43-41e5-9480-eb1f0675eb53",
         "x": [
          "Master’s degree",
          "Bachelor’s degree",
          "Doctoral degree",
          "Some college/university study without earning a bachelor’s degree",
          "Professional degree",
          "I prefer not to answer",
          "No formal education past high school"
         ],
         "y": [
          592,
          365,
          221,
          56,
          55,
          21,
          12
         ]
        },
        {
         "name": "Principal Investigator",
         "text": [
          "Doctoral degree",
          "Master’s degree",
          "Professional degree",
          "I prefer not to answer",
          "Bachelor’s degree",
          "No formal education past high school",
          "Some college/university study without earning a bachelor’s degree"
         ],
         "type": "bar",
         "uid": "b1b27512-0ea0-4b93-a2ff-bb86d645e801",
         "x": [
          "Doctoral degree",
          "Master’s degree",
          "Professional degree",
          "I prefer not to answer",
          "Bachelor’s degree",
          "No formal education past high school",
          "Some college/university study without earning a bachelor’s degree"
         ],
         "y": [
          73,
          12,
          5,
          3,
          2,
          1,
          1
         ]
        },
        {
         "name": "Product/Project Manager",
         "text": [
          "Master’s degree",
          "Bachelor’s degree",
          "Doctoral degree",
          "Professional degree",
          "I prefer not to answer",
          "Some college/university study without earning a bachelor’s degree",
          "No formal education past high school"
         ],
         "type": "bar",
         "uid": "170136b8-b0c5-4182-9f9c-85cf19383b58",
         "x": [
          "Master’s degree",
          "Bachelor’s degree",
          "Doctoral degree",
          "Professional degree",
          "I prefer not to answer",
          "Some college/university study without earning a bachelor’s degree",
          "No formal education past high school"
         ],
         "y": [
          224,
          116,
          37,
          27,
          13,
          8,
          3
         ]
        },
        {
         "name": "Research Assistant",
         "text": [
          "Master’s degree",
          "Doctoral degree",
          "Bachelor’s degree",
          "Some college/university study without earning a bachelor’s degree",
          "Professional degree",
          "I prefer not to answer"
         ],
         "type": "bar",
         "uid": "af72dce7-6732-485b-8c24-6ed4e3cc96a0",
         "x": [
          "Master’s degree",
          "Doctoral degree",
          "Bachelor’s degree",
          "Some college/university study without earning a bachelor’s degree",
          "Professional degree",
          "I prefer not to answer"
         ],
         "y": [
          253,
          215,
          105,
          15,
          9,
          3
         ]
        },
        {
         "name": "Research Scientist",
         "text": [
          "Doctoral degree",
          "Master’s degree",
          "Bachelor’s degree",
          "Professional degree",
          "I prefer not to answer",
          "No formal education past high school",
          "Some college/university study without earning a bachelor’s degree"
         ],
         "type": "bar",
         "uid": "aba1d256-cd84-4649-afe9-0fc1e559b806",
         "x": [
          "Doctoral degree",
          "Master’s degree",
          "Bachelor’s degree",
          "Professional degree",
          "I prefer not to answer",
          "No formal education past high school",
          "Some college/university study without earning a bachelor’s degree"
         ],
         "y": [
          748,
          293,
          69,
          48,
          15,
          9,
          7
         ]
        },
        {
         "name": "Salesperson",
         "text": [
          "Master’s degree",
          "Bachelor’s degree",
          "Some college/university study without earning a bachelor’s degree",
          "Professional degree",
          "No formal education past high school",
          "Doctoral degree",
          "I prefer not to answer"
         ],
         "type": "bar",
         "uid": "a9f7263a-c0ff-43d0-a058-7c1786f58dda",
         "x": [
          "Master’s degree",
          "Bachelor’s degree",
          "Some college/university study without earning a bachelor’s degree",
          "Professional degree",
          "No formal education past high school",
          "Doctoral degree",
          "I prefer not to answer"
         ],
         "y": [
          44,
          36,
          9,
          7,
          3,
          2,
          1
         ]
        },
        {
         "name": "Software Engineer",
         "text": [
          "Master’s degree",
          "Bachelor’s degree",
          "Doctoral degree",
          "Some college/university study without earning a bachelor’s degree",
          "Professional degree",
          "I prefer not to answer",
          "No formal education past high school"
         ],
         "type": "bar",
         "uid": "6c9d51d1-3b00-45bf-b28d-b10af7ef47bb",
         "x": [
          "Master’s degree",
          "Bachelor’s degree",
          "Doctoral degree",
          "Some college/university study without earning a bachelor’s degree",
          "Professional degree",
          "I prefer not to answer",
          "No formal education past high school"
         ],
         "y": [
          1370,
          1236,
          185,
          137,
          86,
          67,
          49
         ]
        },
        {
         "name": "Statistician",
         "text": [
          "Master’s degree",
          "Doctoral degree",
          "Bachelor’s degree",
          "Professional degree",
          "Some college/university study without earning a bachelor’s degree",
          "I prefer not to answer",
          "No formal education past high school"
         ],
         "type": "bar",
         "uid": "7786ddfe-84c1-4bc6-97dd-30b1db0ac6c8",
         "x": [
          "Master’s degree",
          "Doctoral degree",
          "Bachelor’s degree",
          "Professional degree",
          "Some college/university study without earning a bachelor’s degree",
          "I prefer not to answer",
          "No formal education past high school"
         ],
         "y": [
          110,
          70,
          39,
          10,
          4,
          3,
          1
         ]
        },
        {
         "name": "Student",
         "text": [
          "Master’s degree",
          "Bachelor’s degree",
          "Doctoral degree",
          "Some college/university study without earning a bachelor’s degree",
          "Professional degree",
          "I prefer not to answer",
          "No formal education past high school"
         ],
         "type": "bar",
         "uid": "a3b824b8-0f0f-4730-8102-27b1f27905cd",
         "x": [
          "Master’s degree",
          "Bachelor’s degree",
          "Doctoral degree",
          "Some college/university study without earning a bachelor’s degree",
          "Professional degree",
          "I prefer not to answer",
          "No formal education past high school"
         ],
         "y": [
          2185,
          2127,
          426,
          377,
          51,
          44,
          43
         ]
        }
       ],
       "layout": {
        "hovermode": "closest",
        "title": "Number of respondents by Current title and Highest level of education",
        "xaxis": {
         "showticklabels": true,
         "tickangle": 15,
         "tickfont": {
          "color": "black",
          "size": 9
         },
         "title": "Current title"
        },
        "yaxis": {
         "title": "Number of respondents"
        }
       }
      },
      "text/html": [
       "<div id=\"ec3c343e-af98-48e5-b233-e2f7373c684c\" style=\"height: 525px; width: 100%;\" class=\"plotly-graph-div\"></div><script type=\"text/javascript\">require([\"plotly\"], function(Plotly) { window.PLOTLYENV=window.PLOTLYENV || {};window.PLOTLYENV.BASE_URL=\"https://plot.ly\";Plotly.newPlot(\"ec3c343e-af98-48e5-b233-e2f7373c684c\", [{\"name\": \"Business Analyst\", \"text\": [\"Master\\u2019s degree\", \"Bachelor\\u2019s degree\", \"Professional degree\", \"Doctoral degree\", \"Some college/university study without earning a bachelor\\u2019s degree\", \"No formal education past high school\", \"I prefer not to answer\"], \"x\": [\"Master\\u2019s degree\", \"Bachelor\\u2019s degree\", \"Professional degree\", \"Doctoral degree\", \"Some college/university study without earning a bachelor\\u2019s degree\", \"No formal education past high school\", \"I prefer not to answer\"], \"y\": [414, 252, 29, 27, 26, 15, 9], \"type\": \"bar\", \"uid\": \"92763fa0-bdf2-43db-930f-06a4da9a582a\"}, {\"name\": \"Chief Officer\", \"text\": [\"Master\\u2019s degree\", \"Bachelor\\u2019s degree\", \"Doctoral degree\", \"Professional degree\", \"Some college/university study without earning a bachelor\\u2019s degree\", \"No formal education past high school\", \"I prefer not to answer\"], \"x\": [\"Master\\u2019s degree\", \"Bachelor\\u2019s degree\", \"Doctoral degree\", \"Professional degree\", \"Some college/university study without earning a bachelor\\u2019s degree\", \"No formal education past high school\", \"I prefer not to answer\"], \"y\": [183, 73, 65, 15, 14, 8, 2], \"type\": \"bar\", \"uid\": \"f4058883-8128-4a14-bbfe-14599a04bf34\"}, {\"name\": \"Consultant\", \"text\": [\"Master\\u2019s degree\", \"Bachelor\\u2019s degree\", \"Doctoral degree\", \"Professional degree\", \"Some college/university study without earning a bachelor\\u2019s degree\", \"I prefer not to answer\", \"No formal education past high school\"], \"x\": [\"Master\\u2019s degree\", \"Bachelor\\u2019s degree\", \"Doctoral degree\", \"Professional degree\", \"Some college/university study without earning a bachelor\\u2019s degree\", \"I prefer not to answer\", \"No formal education past high school\"], \"y\": [404, 212, 96, 30, 26, 11, 6], \"type\": \"bar\", \"uid\": \"71f49441-c3bd-472a-883b-422f5863b922\"}, {\"name\": \"DBA/Database Engineer\", \"text\": [\"Bachelor\\u2019s degree\", \"Master\\u2019s degree\", \"Some college/university study without earning a bachelor\\u2019s degree\", \"Doctoral degree\", \"Professional degree\", \"I prefer not to answer\", \"No formal education past high school\"], \"x\": [\"Bachelor\\u2019s degree\", \"Master\\u2019s degree\", \"Some college/university study without earning a bachelor\\u2019s degree\", \"Doctoral degree\", \"Professional degree\", \"I prefer not to answer\", \"No formal education past high school\"], \"y\": [56, 56, 10, 9, 7, 4, 3], \"type\": \"bar\", \"uid\": \"129d2895-10c5-43c8-bf65-fc8edaeb068d\"}, {\"name\": \"Data Analyst\", \"text\": [\"Master\\u2019s degree\", \"Bachelor\\u2019s degree\", \"Doctoral degree\", \"Some college/university study without earning a bachelor\\u2019s degree\", \"Professional degree\", \"I prefer not to answer\", \"No formal education past high school\"], \"x\": [\"Master\\u2019s degree\", \"Bachelor\\u2019s degree\", \"Doctoral degree\", \"Some college/university study without earning a bachelor\\u2019s degree\", \"Professional degree\", \"I prefer not to answer\", \"No formal education past high school\"], \"y\": [991, 650, 125, 67, 47, 25, 17], \"type\": \"bar\", \"uid\": \"de3c7846-eb2b-40dc-8d2e-c3f5932f7e38\"}, {\"name\": \"Data Engineer\", \"text\": [\"Master\\u2019s degree\", \"Bachelor\\u2019s degree\", \"Doctoral degree\", \"Professional degree\", \"Some college/university study without earning a bachelor\\u2019s degree\", \"I prefer not to answer\", \"No formal education past high school\"], \"x\": [\"Master\\u2019s degree\", \"Bachelor\\u2019s degree\", \"Doctoral degree\", \"Professional degree\", \"Some college/university study without earning a bachelor\\u2019s degree\", \"I prefer not to answer\", \"No formal education past high school\"], \"y\": [411, 218, 54, 18, 17, 13, 6], \"type\": \"bar\", \"uid\": \"da59e338-eb41-492e-8e1d-5dba2a16cdca\"}, {\"name\": \"Data Journalist\", \"text\": [\"Bachelor\\u2019s degree\", \"Master\\u2019s degree\", \"Doctoral degree\", \"I prefer not to answer\", \"Professional degree\"], \"x\": [\"Bachelor\\u2019s degree\", \"Master\\u2019s degree\", \"Doctoral degree\", \"I prefer not to answer\", \"Professional degree\"], \"y\": [10, 7, 1, 1, 1], \"type\": \"bar\", \"uid\": \"8ef9d40d-a95f-4bdd-a0ed-a8cfeb5b9967\"}, {\"name\": \"Data Scientist\", \"text\": [\"Master\\u2019s degree\", \"Bachelor\\u2019s degree\", \"Doctoral degree\", \"Some college/university study without earning a bachelor\\u2019s degree\", \"Professional degree\", \"I prefer not to answer\", \"No formal education past high school\"], \"x\": [\"Master\\u2019s degree\", \"Bachelor\\u2019s degree\", \"Doctoral degree\", \"Some college/university study without earning a bachelor\\u2019s degree\", \"Professional degree\", \"I prefer not to answer\", \"No formal education past high school\"], \"y\": [2296, 835, 778, 91, 80, 35, 22], \"type\": \"bar\", \"uid\": \"4cc41b6d-2f17-4a29-b6ee-5e217c844102\"}, {\"name\": \"Developer Advocate\", \"text\": [\"Bachelor\\u2019s degree\", \"Master\\u2019s degree\", \"Doctoral degree\", \"Some college/university study without earning a bachelor\\u2019s degree\", \"Professional degree\", \"I prefer not to answer\", \"No formal education past high school\"], \"x\": [\"Bachelor\\u2019s degree\", \"Master\\u2019s degree\", \"Doctoral degree\", \"Some college/university study without earning a bachelor\\u2019s degree\", \"Professional degree\", \"I prefer not to answer\", \"No formal education past high school\"], \"y\": [53, 39, 8, 8, 6, 2, 1], \"type\": \"bar\", \"uid\": \"7e86d7c1-3545-4b20-b53e-b03ad69821fd\"}, {\"name\": \"Manager\", \"text\": [\"Master\\u2019s degree\", \"Bachelor\\u2019s degree\", \"Doctoral degree\", \"Some college/university study without earning a bachelor\\u2019s degree\", \"Professional degree\", \"I prefer not to answer\", \"No formal education past high school\"], \"x\": [\"Master\\u2019s degree\", \"Bachelor\\u2019s degree\", \"Doctoral degree\", \"Some college/university study without earning a bachelor\\u2019s degree\", \"Professional degree\", \"I prefer not to answer\", \"No formal education past high school\"], \"y\": [320, 138, 79, 21, 20, 10, 2], \"type\": \"bar\", \"uid\": \"a80f34bb-276d-478a-92a0-44798c83390b\"}, {\"name\": \"Marketing Analyst\", \"text\": [\"Master\\u2019s degree\", \"Bachelor\\u2019s degree\", \"Doctoral degree\", \"Professional degree\", \"No formal education past high school\", \"Some college/university study without earning a bachelor\\u2019s degree\", \"I prefer not to answer\"], \"x\": [\"Master\\u2019s degree\", \"Bachelor\\u2019s degree\", \"Doctoral degree\", \"Professional degree\", \"No formal education past high school\", \"Some college/university study without earning a bachelor\\u2019s degree\", \"I prefer not to answer\"], \"y\": [59, 34, 7, 5, 4, 4, 2], \"type\": \"bar\", \"uid\": \"797ff38c-68f6-4530-8430-b6a37c637656\"}, {\"name\": \"Not employed\", \"text\": [\"Master\\u2019s degree\", \"Bachelor\\u2019s degree\", \"Doctoral degree\", \"Some college/university study without earning a bachelor\\u2019s degree\", \"I prefer not to answer\", \"Professional degree\", \"No formal education past high school\"], \"x\": [\"Master\\u2019s degree\", \"Bachelor\\u2019s degree\", \"Doctoral degree\", \"Some college/university study without earning a bachelor\\u2019s degree\", \"I prefer not to answer\", \"Professional degree\", \"No formal education past high school\"], \"y\": [361, 314, 69, 35, 24, 22, 17], \"type\": \"bar\", \"uid\": \"174e2491-e9d8-4bf0-92f3-a9b3568ebc4c\"}, {\"name\": \"Other\", \"text\": [\"Master\\u2019s degree\", \"Bachelor\\u2019s degree\", \"Doctoral degree\", \"Some college/university study without earning a bachelor\\u2019s degree\", \"Professional degree\", \"I prefer not to answer\", \"No formal education past high school\"], \"x\": [\"Master\\u2019s degree\", \"Bachelor\\u2019s degree\", \"Doctoral degree\", \"Some college/university study without earning a bachelor\\u2019s degree\", \"Professional degree\", \"I prefer not to answer\", \"No formal education past high school\"], \"y\": [592, 365, 221, 56, 55, 21, 12], \"type\": \"bar\", \"uid\": \"54c88bd0-fe61-45ea-81aa-1c5a2e970df6\"}, {\"name\": \"Principal Investigator\", \"text\": [\"Doctoral degree\", \"Master\\u2019s degree\", \"Professional degree\", \"I prefer not to answer\", \"Bachelor\\u2019s degree\", \"No formal education past high school\", \"Some college/university study without earning a bachelor\\u2019s degree\"], \"x\": [\"Doctoral degree\", \"Master\\u2019s degree\", \"Professional degree\", \"I prefer not to answer\", \"Bachelor\\u2019s degree\", \"No formal education past high school\", \"Some college/university study without earning a bachelor\\u2019s degree\"], \"y\": [73, 12, 5, 3, 2, 1, 1], \"type\": \"bar\", \"uid\": \"fe5aa32e-3be9-412d-a99d-52c9eee9cc20\"}, {\"name\": \"Product/Project Manager\", \"text\": [\"Master\\u2019s degree\", \"Bachelor\\u2019s degree\", \"Doctoral degree\", \"Professional degree\", \"I prefer not to answer\", \"Some college/university study without earning a bachelor\\u2019s degree\", \"No formal education past high school\"], \"x\": [\"Master\\u2019s degree\", \"Bachelor\\u2019s degree\", \"Doctoral degree\", \"Professional degree\", \"I prefer not to answer\", \"Some college/university study without earning a bachelor\\u2019s degree\", \"No formal education past high school\"], \"y\": [224, 116, 37, 27, 13, 8, 3], \"type\": \"bar\", \"uid\": \"3803870e-1bc7-4e66-9c86-86b5c34670e7\"}, {\"name\": \"Research Assistant\", \"text\": [\"Master\\u2019s degree\", \"Doctoral degree\", \"Bachelor\\u2019s degree\", \"Some college/university study without earning a bachelor\\u2019s degree\", \"Professional degree\", \"I prefer not to answer\"], \"x\": [\"Master\\u2019s degree\", \"Doctoral degree\", \"Bachelor\\u2019s degree\", \"Some college/university study without earning a bachelor\\u2019s degree\", \"Professional degree\", \"I prefer not to answer\"], \"y\": [253, 215, 105, 15, 9, 3], \"type\": \"bar\", \"uid\": \"2dbe6ef7-2780-482b-b6f3-c99160fcca52\"}, {\"name\": \"Research Scientist\", \"text\": [\"Doctoral degree\", \"Master\\u2019s degree\", \"Bachelor\\u2019s degree\", \"Professional degree\", \"I prefer not to answer\", \"No formal education past high school\", \"Some college/university study without earning a bachelor\\u2019s degree\"], \"x\": [\"Doctoral degree\", \"Master\\u2019s degree\", \"Bachelor\\u2019s degree\", \"Professional degree\", \"I prefer not to answer\", \"No formal education past high school\", \"Some college/university study without earning a bachelor\\u2019s degree\"], \"y\": [748, 293, 69, 48, 15, 9, 7], \"type\": \"bar\", \"uid\": \"a3f97595-f448-4c04-8576-1ffbe61d8317\"}, {\"name\": \"Salesperson\", \"text\": [\"Master\\u2019s degree\", \"Bachelor\\u2019s degree\", \"Some college/university study without earning a bachelor\\u2019s degree\", \"Professional degree\", \"No formal education past high school\", \"Doctoral degree\", \"I prefer not to answer\"], \"x\": [\"Master\\u2019s degree\", \"Bachelor\\u2019s degree\", \"Some college/university study without earning a bachelor\\u2019s degree\", \"Professional degree\", \"No formal education past high school\", \"Doctoral degree\", \"I prefer not to answer\"], \"y\": [44, 36, 9, 7, 3, 2, 1], \"type\": \"bar\", \"uid\": \"eff7e33a-cc4a-48b3-ac5f-e4600277a3b0\"}, {\"name\": \"Software Engineer\", \"text\": [\"Master\\u2019s degree\", \"Bachelor\\u2019s degree\", \"Doctoral degree\", \"Some college/university study without earning a bachelor\\u2019s degree\", \"Professional degree\", \"I prefer not to answer\", \"No formal education past high school\"], \"x\": [\"Master\\u2019s degree\", \"Bachelor\\u2019s degree\", \"Doctoral degree\", \"Some college/university study without earning a bachelor\\u2019s degree\", \"Professional degree\", \"I prefer not to answer\", \"No formal education past high school\"], \"y\": [1370, 1236, 185, 137, 86, 67, 49], \"type\": \"bar\", \"uid\": \"78ed2449-99e2-40e6-82db-3ece11dc3e44\"}, {\"name\": \"Statistician\", \"text\": [\"Master\\u2019s degree\", \"Doctoral degree\", \"Bachelor\\u2019s degree\", \"Professional degree\", \"Some college/university study without earning a bachelor\\u2019s degree\", \"I prefer not to answer\", \"No formal education past high school\"], \"x\": [\"Master\\u2019s degree\", \"Doctoral degree\", \"Bachelor\\u2019s degree\", \"Professional degree\", \"Some college/university study without earning a bachelor\\u2019s degree\", \"I prefer not to answer\", \"No formal education past high school\"], \"y\": [110, 70, 39, 10, 4, 3, 1], \"type\": \"bar\", \"uid\": \"37c03ba1-718e-4de6-bc6e-a7b7d58005f6\"}, {\"name\": \"Student\", \"text\": [\"Master\\u2019s degree\", \"Bachelor\\u2019s degree\", \"Doctoral degree\", \"Some college/university study without earning a bachelor\\u2019s degree\", \"Professional degree\", \"I prefer not to answer\", \"No formal education past high school\"], \"x\": [\"Master\\u2019s degree\", \"Bachelor\\u2019s degree\", \"Doctoral degree\", \"Some college/university study without earning a bachelor\\u2019s degree\", \"Professional degree\", \"I prefer not to answer\", \"No formal education past high school\"], \"y\": [2185, 2127, 426, 377, 51, 44, 43], \"type\": \"bar\", \"uid\": \"bc27b655-558f-41cf-9dd3-02645352f399\"}], {\"hovermode\": \"closest\", \"title\": \"Number of respondents by Current title and Highest level of education\", \"xaxis\": {\"showticklabels\": true, \"tickangle\": 15, \"tickfont\": {\"color\": \"black\", \"size\": 9}, \"title\": \"Current title\"}, \"yaxis\": {\"title\": \"Number of respondents\"}}, {\"showLink\": true, \"linkText\": \"Export to plot.ly\", \"plotlyServerURL\": \"https://plot.ly\"})});</script><script type=\"text/javascript\">window.addEventListener(\"resize\", function(){window._Plotly.Plots.resize(document.getElementById(\"ec3c343e-af98-48e5-b233-e2f7373c684c\"));});</script>"
      ],
      "text/vnd.plotly.v1+html": [
       "<div id=\"ec3c343e-af98-48e5-b233-e2f7373c684c\" style=\"height: 525px; width: 100%;\" class=\"plotly-graph-div\"></div><script type=\"text/javascript\">require([\"plotly\"], function(Plotly) { window.PLOTLYENV=window.PLOTLYENV || {};window.PLOTLYENV.BASE_URL=\"https://plot.ly\";Plotly.newPlot(\"ec3c343e-af98-48e5-b233-e2f7373c684c\", [{\"name\": \"Business Analyst\", \"text\": [\"Master\\u2019s degree\", \"Bachelor\\u2019s degree\", \"Professional degree\", \"Doctoral degree\", \"Some college/university study without earning a bachelor\\u2019s degree\", \"No formal education past high school\", \"I prefer not to answer\"], \"x\": [\"Master\\u2019s degree\", \"Bachelor\\u2019s degree\", \"Professional degree\", \"Doctoral degree\", \"Some college/university study without earning a bachelor\\u2019s degree\", \"No formal education past high school\", \"I prefer not to answer\"], \"y\": [414, 252, 29, 27, 26, 15, 9], \"type\": \"bar\", \"uid\": \"92763fa0-bdf2-43db-930f-06a4da9a582a\"}, {\"name\": \"Chief Officer\", \"text\": [\"Master\\u2019s degree\", \"Bachelor\\u2019s degree\", \"Doctoral degree\", \"Professional degree\", \"Some college/university study without earning a bachelor\\u2019s degree\", \"No formal education past high school\", \"I prefer not to answer\"], \"x\": [\"Master\\u2019s degree\", \"Bachelor\\u2019s degree\", \"Doctoral degree\", \"Professional degree\", \"Some college/university study without earning a bachelor\\u2019s degree\", \"No formal education past high school\", \"I prefer not to answer\"], \"y\": [183, 73, 65, 15, 14, 8, 2], \"type\": \"bar\", \"uid\": \"f4058883-8128-4a14-bbfe-14599a04bf34\"}, {\"name\": \"Consultant\", \"text\": [\"Master\\u2019s degree\", \"Bachelor\\u2019s degree\", \"Doctoral degree\", \"Professional degree\", \"Some college/university study without earning a bachelor\\u2019s degree\", \"I prefer not to answer\", \"No formal education past high school\"], \"x\": [\"Master\\u2019s degree\", \"Bachelor\\u2019s degree\", \"Doctoral degree\", \"Professional degree\", \"Some college/university study without earning a bachelor\\u2019s degree\", \"I prefer not to answer\", \"No formal education past high school\"], \"y\": [404, 212, 96, 30, 26, 11, 6], \"type\": \"bar\", \"uid\": \"71f49441-c3bd-472a-883b-422f5863b922\"}, {\"name\": \"DBA/Database Engineer\", \"text\": [\"Bachelor\\u2019s degree\", \"Master\\u2019s degree\", \"Some college/university study without earning a bachelor\\u2019s degree\", \"Doctoral degree\", \"Professional degree\", \"I prefer not to answer\", \"No formal education past high school\"], \"x\": [\"Bachelor\\u2019s degree\", \"Master\\u2019s degree\", \"Some college/university study without earning a bachelor\\u2019s degree\", \"Doctoral degree\", \"Professional degree\", \"I prefer not to answer\", \"No formal education past high school\"], \"y\": [56, 56, 10, 9, 7, 4, 3], \"type\": \"bar\", \"uid\": \"129d2895-10c5-43c8-bf65-fc8edaeb068d\"}, {\"name\": \"Data Analyst\", \"text\": [\"Master\\u2019s degree\", \"Bachelor\\u2019s degree\", \"Doctoral degree\", \"Some college/university study without earning a bachelor\\u2019s degree\", \"Professional degree\", \"I prefer not to answer\", \"No formal education past high school\"], \"x\": [\"Master\\u2019s degree\", \"Bachelor\\u2019s degree\", \"Doctoral degree\", \"Some college/university study without earning a bachelor\\u2019s degree\", \"Professional degree\", \"I prefer not to answer\", \"No formal education past high school\"], \"y\": [991, 650, 125, 67, 47, 25, 17], \"type\": \"bar\", \"uid\": \"de3c7846-eb2b-40dc-8d2e-c3f5932f7e38\"}, {\"name\": \"Data Engineer\", \"text\": [\"Master\\u2019s degree\", \"Bachelor\\u2019s degree\", \"Doctoral degree\", \"Professional degree\", \"Some college/university study without earning a bachelor\\u2019s degree\", \"I prefer not to answer\", \"No formal education past high school\"], \"x\": [\"Master\\u2019s degree\", \"Bachelor\\u2019s degree\", \"Doctoral degree\", \"Professional degree\", \"Some college/university study without earning a bachelor\\u2019s degree\", \"I prefer not to answer\", \"No formal education past high school\"], \"y\": [411, 218, 54, 18, 17, 13, 6], \"type\": \"bar\", \"uid\": \"da59e338-eb41-492e-8e1d-5dba2a16cdca\"}, {\"name\": \"Data Journalist\", \"text\": [\"Bachelor\\u2019s degree\", \"Master\\u2019s degree\", \"Doctoral degree\", \"I prefer not to answer\", \"Professional degree\"], \"x\": [\"Bachelor\\u2019s degree\", \"Master\\u2019s degree\", \"Doctoral degree\", \"I prefer not to answer\", \"Professional degree\"], \"y\": [10, 7, 1, 1, 1], \"type\": \"bar\", \"uid\": \"8ef9d40d-a95f-4bdd-a0ed-a8cfeb5b9967\"}, {\"name\": \"Data Scientist\", \"text\": [\"Master\\u2019s degree\", \"Bachelor\\u2019s degree\", \"Doctoral degree\", \"Some college/university study without earning a bachelor\\u2019s degree\", \"Professional degree\", \"I prefer not to answer\", \"No formal education past high school\"], \"x\": [\"Master\\u2019s degree\", \"Bachelor\\u2019s degree\", \"Doctoral degree\", \"Some college/university study without earning a bachelor\\u2019s degree\", \"Professional degree\", \"I prefer not to answer\", \"No formal education past high school\"], \"y\": [2296, 835, 778, 91, 80, 35, 22], \"type\": \"bar\", \"uid\": \"4cc41b6d-2f17-4a29-b6ee-5e217c844102\"}, {\"name\": \"Developer Advocate\", \"text\": [\"Bachelor\\u2019s degree\", \"Master\\u2019s degree\", \"Doctoral degree\", \"Some college/university study without earning a bachelor\\u2019s degree\", \"Professional degree\", \"I prefer not to answer\", \"No formal education past high school\"], \"x\": [\"Bachelor\\u2019s degree\", \"Master\\u2019s degree\", \"Doctoral degree\", \"Some college/university study without earning a bachelor\\u2019s degree\", \"Professional degree\", \"I prefer not to answer\", \"No formal education past high school\"], \"y\": [53, 39, 8, 8, 6, 2, 1], \"type\": \"bar\", \"uid\": \"7e86d7c1-3545-4b20-b53e-b03ad69821fd\"}, {\"name\": \"Manager\", \"text\": [\"Master\\u2019s degree\", \"Bachelor\\u2019s degree\", \"Doctoral degree\", \"Some college/university study without earning a bachelor\\u2019s degree\", \"Professional degree\", \"I prefer not to answer\", \"No formal education past high school\"], \"x\": [\"Master\\u2019s degree\", \"Bachelor\\u2019s degree\", \"Doctoral degree\", \"Some college/university study without earning a bachelor\\u2019s degree\", \"Professional degree\", \"I prefer not to answer\", \"No formal education past high school\"], \"y\": [320, 138, 79, 21, 20, 10, 2], \"type\": \"bar\", \"uid\": \"a80f34bb-276d-478a-92a0-44798c83390b\"}, {\"name\": \"Marketing Analyst\", \"text\": [\"Master\\u2019s degree\", \"Bachelor\\u2019s degree\", \"Doctoral degree\", \"Professional degree\", \"No formal education past high school\", \"Some college/university study without earning a bachelor\\u2019s degree\", \"I prefer not to answer\"], \"x\": [\"Master\\u2019s degree\", \"Bachelor\\u2019s degree\", \"Doctoral degree\", \"Professional degree\", \"No formal education past high school\", \"Some college/university study without earning a bachelor\\u2019s degree\", \"I prefer not to answer\"], \"y\": [59, 34, 7, 5, 4, 4, 2], \"type\": \"bar\", \"uid\": \"797ff38c-68f6-4530-8430-b6a37c637656\"}, {\"name\": \"Not employed\", \"text\": [\"Master\\u2019s degree\", \"Bachelor\\u2019s degree\", \"Doctoral degree\", \"Some college/university study without earning a bachelor\\u2019s degree\", \"I prefer not to answer\", \"Professional degree\", \"No formal education past high school\"], \"x\": [\"Master\\u2019s degree\", \"Bachelor\\u2019s degree\", \"Doctoral degree\", \"Some college/university study without earning a bachelor\\u2019s degree\", \"I prefer not to answer\", \"Professional degree\", \"No formal education past high school\"], \"y\": [361, 314, 69, 35, 24, 22, 17], \"type\": \"bar\", \"uid\": \"174e2491-e9d8-4bf0-92f3-a9b3568ebc4c\"}, {\"name\": \"Other\", \"text\": [\"Master\\u2019s degree\", \"Bachelor\\u2019s degree\", \"Doctoral degree\", \"Some college/university study without earning a bachelor\\u2019s degree\", \"Professional degree\", \"I prefer not to answer\", \"No formal education past high school\"], \"x\": [\"Master\\u2019s degree\", \"Bachelor\\u2019s degree\", \"Doctoral degree\", \"Some college/university study without earning a bachelor\\u2019s degree\", \"Professional degree\", \"I prefer not to answer\", \"No formal education past high school\"], \"y\": [592, 365, 221, 56, 55, 21, 12], \"type\": \"bar\", \"uid\": \"54c88bd0-fe61-45ea-81aa-1c5a2e970df6\"}, {\"name\": \"Principal Investigator\", \"text\": [\"Doctoral degree\", \"Master\\u2019s degree\", \"Professional degree\", \"I prefer not to answer\", \"Bachelor\\u2019s degree\", \"No formal education past high school\", \"Some college/university study without earning a bachelor\\u2019s degree\"], \"x\": [\"Doctoral degree\", \"Master\\u2019s degree\", \"Professional degree\", \"I prefer not to answer\", \"Bachelor\\u2019s degree\", \"No formal education past high school\", \"Some college/university study without earning a bachelor\\u2019s degree\"], \"y\": [73, 12, 5, 3, 2, 1, 1], \"type\": \"bar\", \"uid\": \"fe5aa32e-3be9-412d-a99d-52c9eee9cc20\"}, {\"name\": \"Product/Project Manager\", \"text\": [\"Master\\u2019s degree\", \"Bachelor\\u2019s degree\", \"Doctoral degree\", \"Professional degree\", \"I prefer not to answer\", \"Some college/university study without earning a bachelor\\u2019s degree\", \"No formal education past high school\"], \"x\": [\"Master\\u2019s degree\", \"Bachelor\\u2019s degree\", \"Doctoral degree\", \"Professional degree\", \"I prefer not to answer\", \"Some college/university study without earning a bachelor\\u2019s degree\", \"No formal education past high school\"], \"y\": [224, 116, 37, 27, 13, 8, 3], \"type\": \"bar\", \"uid\": \"3803870e-1bc7-4e66-9c86-86b5c34670e7\"}, {\"name\": \"Research Assistant\", \"text\": [\"Master\\u2019s degree\", \"Doctoral degree\", \"Bachelor\\u2019s degree\", \"Some college/university study without earning a bachelor\\u2019s degree\", \"Professional degree\", \"I prefer not to answer\"], \"x\": [\"Master\\u2019s degree\", \"Doctoral degree\", \"Bachelor\\u2019s degree\", \"Some college/university study without earning a bachelor\\u2019s degree\", \"Professional degree\", \"I prefer not to answer\"], \"y\": [253, 215, 105, 15, 9, 3], \"type\": \"bar\", \"uid\": \"2dbe6ef7-2780-482b-b6f3-c99160fcca52\"}, {\"name\": \"Research Scientist\", \"text\": [\"Doctoral degree\", \"Master\\u2019s degree\", \"Bachelor\\u2019s degree\", \"Professional degree\", \"I prefer not to answer\", \"No formal education past high school\", \"Some college/university study without earning a bachelor\\u2019s degree\"], \"x\": [\"Doctoral degree\", \"Master\\u2019s degree\", \"Bachelor\\u2019s degree\", \"Professional degree\", \"I prefer not to answer\", \"No formal education past high school\", \"Some college/university study without earning a bachelor\\u2019s degree\"], \"y\": [748, 293, 69, 48, 15, 9, 7], \"type\": \"bar\", \"uid\": \"a3f97595-f448-4c04-8576-1ffbe61d8317\"}, {\"name\": \"Salesperson\", \"text\": [\"Master\\u2019s degree\", \"Bachelor\\u2019s degree\", \"Some college/university study without earning a bachelor\\u2019s degree\", \"Professional degree\", \"No formal education past high school\", \"Doctoral degree\", \"I prefer not to answer\"], \"x\": [\"Master\\u2019s degree\", \"Bachelor\\u2019s degree\", \"Some college/university study without earning a bachelor\\u2019s degree\", \"Professional degree\", \"No formal education past high school\", \"Doctoral degree\", \"I prefer not to answer\"], \"y\": [44, 36, 9, 7, 3, 2, 1], \"type\": \"bar\", \"uid\": \"eff7e33a-cc4a-48b3-ac5f-e4600277a3b0\"}, {\"name\": \"Software Engineer\", \"text\": [\"Master\\u2019s degree\", \"Bachelor\\u2019s degree\", \"Doctoral degree\", \"Some college/university study without earning a bachelor\\u2019s degree\", \"Professional degree\", \"I prefer not to answer\", \"No formal education past high school\"], \"x\": [\"Master\\u2019s degree\", \"Bachelor\\u2019s degree\", \"Doctoral degree\", \"Some college/university study without earning a bachelor\\u2019s degree\", \"Professional degree\", \"I prefer not to answer\", \"No formal education past high school\"], \"y\": [1370, 1236, 185, 137, 86, 67, 49], \"type\": \"bar\", \"uid\": \"78ed2449-99e2-40e6-82db-3ece11dc3e44\"}, {\"name\": \"Statistician\", \"text\": [\"Master\\u2019s degree\", \"Doctoral degree\", \"Bachelor\\u2019s degree\", \"Professional degree\", \"Some college/university study without earning a bachelor\\u2019s degree\", \"I prefer not to answer\", \"No formal education past high school\"], \"x\": [\"Master\\u2019s degree\", \"Doctoral degree\", \"Bachelor\\u2019s degree\", \"Professional degree\", \"Some college/university study without earning a bachelor\\u2019s degree\", \"I prefer not to answer\", \"No formal education past high school\"], \"y\": [110, 70, 39, 10, 4, 3, 1], \"type\": \"bar\", \"uid\": \"37c03ba1-718e-4de6-bc6e-a7b7d58005f6\"}, {\"name\": \"Student\", \"text\": [\"Master\\u2019s degree\", \"Bachelor\\u2019s degree\", \"Doctoral degree\", \"Some college/university study without earning a bachelor\\u2019s degree\", \"Professional degree\", \"I prefer not to answer\", \"No formal education past high school\"], \"x\": [\"Master\\u2019s degree\", \"Bachelor\\u2019s degree\", \"Doctoral degree\", \"Some college/university study without earning a bachelor\\u2019s degree\", \"Professional degree\", \"I prefer not to answer\", \"No formal education past high school\"], \"y\": [2185, 2127, 426, 377, 51, 44, 43], \"type\": \"bar\", \"uid\": \"bc27b655-558f-41cf-9dd3-02645352f399\"}], {\"hovermode\": \"closest\", \"title\": \"Number of respondents by Current title and Highest level of education\", \"xaxis\": {\"showticklabels\": true, \"tickangle\": 15, \"tickfont\": {\"color\": \"black\", \"size\": 9}, \"title\": \"Current title\"}, \"yaxis\": {\"title\": \"Number of respondents\"}}, {\"showLink\": true, \"linkText\": \"Export to plot.ly\", \"plotlyServerURL\": \"https://plot.ly\"})});</script><script type=\"text/javascript\">window.addEventListener(\"resize\", function(){window._Plotly.Plots.resize(document.getElementById(\"ec3c343e-af98-48e5-b233-e2f7373c684c\"));});</script>"
      ]
     },
     "metadata": {},
     "output_type": "display_data"
    }
   ],
   "source": [
    "df = get_categories_group(multiple_df, 'Q6', 'Q4')\n",
    "draw_trace_group_bar(df, 'Q6', 'Q4', 'Number of respondents by Current title and Highest level of education', 'Current title', 'Number of respondents')"
   ]
  }
 ],
 "metadata": {
  "kernelspec": {
   "display_name": "Python 3",
   "language": "python",
   "name": "python3"
  },
  "language_info": {
   "codemirror_mode": {
    "name": "ipython",
    "version": 3
   },
   "file_extension": ".py",
   "mimetype": "text/x-python",
   "name": "python",
   "nbconvert_exporter": "python",
   "pygments_lexer": "ipython3",
   "version": "3.6.4"
  }
 },
 "nbformat": 4,
 "nbformat_minor": 4
}
